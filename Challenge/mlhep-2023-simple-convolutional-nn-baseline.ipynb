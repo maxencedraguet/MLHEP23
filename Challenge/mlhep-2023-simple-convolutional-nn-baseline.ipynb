{
 "cells": [
  {
   "cell_type": "markdown",
   "id": "f17ebc29",
   "metadata": {
    "papermill": {
     "duration": 0.010443,
     "end_time": "2023-04-03T04:00:42.661763",
     "exception": false,
     "start_time": "2023-04-03T04:00:42.651320",
     "status": "completed"
    },
    "tags": []
   },
   "source": [
    "# HelloWorld: IceCube - Neutrinos in Deep Ice"
   ]
  },
  {
   "cell_type": "markdown",
   "id": "de0727ae",
   "metadata": {
    "papermill": {
     "duration": 0.008882,
     "end_time": "2023-04-03T04:00:42.680428",
     "exception": false,
     "start_time": "2023-04-03T04:00:42.671546",
     "status": "completed"
    },
    "tags": []
   },
   "source": [
    "## Splitting large metadata file in chunks\n",
    "\n",
    "The input detector response files are split into batches, but metadata is stored in a single file of almost 4GB. We want to avoid holding that in memory all the time, so the code below splits this metadata into batches.\n",
    "\n",
    "In Jupyter you can write files using the `%%file` magic, and then run them with python using a command `!python FILENAME ARGS` within a cell."
   ]
  },
  {
   "cell_type": "code",
   "execution_count": 1,
   "id": "a3579a30",
   "metadata": {
    "execution": {
     "iopub.execute_input": "2023-04-03T04:00:42.700516Z",
     "iopub.status.busy": "2023-04-03T04:00:42.699987Z",
     "iopub.status.idle": "2023-04-03T04:00:42.715717Z",
     "shell.execute_reply": "2023-04-03T04:00:42.714189Z"
    },
    "papermill": {
     "duration": 0.028431,
     "end_time": "2023-04-03T04:00:42.717867",
     "exception": false,
     "start_time": "2023-04-03T04:00:42.689436",
     "status": "completed"
    },
    "tags": []
   },
   "outputs": [
    {
     "name": "stdout",
     "output_type": "stream",
     "text": [
      "Writing partition_meta.py\n"
     ]
    }
   ],
   "source": [
    "%%file partition_meta.py\n",
    "\"\"\"\n",
    "Script that partitions large metadata file into smaller files\n",
    "- separate file per each batch.\n",
    "\n",
    "Usage:\n",
    "    python partition_meta.py SPLIT\n",
    "where SPLIT is either `train` or `test`\n",
    "\"\"\"\n",
    "\n",
    "from pathlib import Path\n",
    "import sys, gc\n",
    "\n",
    "import polars as pl\n",
    "import pyarrow.parquet as pq\n",
    "from tqdm import trange\n",
    "\n",
    "# base path with input data\n",
    "bp = Path(\"/kaggle/input/icecube-neutrinos-in-deep-ice\")\n",
    "\n",
    "def iter_through_meta(folder, chunk_size=100):\n",
    "    \"\"\"\n",
    "    Read the large metadata file in chunks of batches.\n",
    "    \n",
    "    Parameters\n",
    "    ----------\n",
    "    folder : str\n",
    "        Which part of the data to process. Should be either \"train\" or \"test\".\n",
    "\n",
    "    Returns\n",
    "    -------\n",
    "    generator\n",
    "        A generator of chunks of batches in pyarrow.Table format.\n",
    "    \"\"\"\n",
    "    assert folder in [\"train\", \"test\"], \"Argument `folder` should either be 'train' or 'test'\"\n",
    "    src_file = bp / f\"{folder}_meta.parquet\"\n",
    "    all_batch_ids = pl.read_parquet(src_file, columns=[\"batch_id\"]).unique().sort(\"batch_id\")\n",
    "    for chunk_first in trange(0, len(all_batch_ids), chunk_size):\n",
    "        selection = all_batch_ids[chunk_first: chunk_first + chunk_size][\"batch_id\"]\n",
    "        first, last = selection.min(), selection.max()\n",
    "        yield pq.read_table(src_file, filters=[\n",
    "            (\"batch_id\", \">=\", first),\n",
    "            (\"batch_id\", \"<=\", last),\n",
    "        ])\n",
    "        gc.collect()\n",
    "\n",
    "def write_meta_batches(meta, folder):\n",
    "    \"\"\"\n",
    "    Take a chunk of metadata info and write it to disk with separate file per batch.\n",
    "\n",
    "    Parameters\n",
    "    ----------\n",
    "    meta : pyarrow.Table\n",
    "        A table with a chunk of batches with metadata.\n",
    "    folder : str\n",
    "        Which to write into. Should be either \"train\" or \"test\".\n",
    "    \"\"\"\n",
    "    folder.mkdir(exist_ok=True)\n",
    "    pq.write_to_dataset(meta, root_path=folder, partition_cols=['batch_id'], flavor='spark')\n",
    "\n",
    "def main(folder):\n",
    "    \"\"\"\n",
    "    Read metatdata in chunks and save separate files per batch.\n",
    "    \n",
    "    Parameters\n",
    "    ----------\n",
    "    folder : str\n",
    "        Which part of the data to process. Should be either \"train\" or \"test\".\n",
    "    \"\"\"\n",
    "    print(f\"Working on {folder}\")\n",
    "    for table in iter_through_meta(folder):\n",
    "        write_meta_batches(table, Path(folder))\n",
    "    print(f\"Done ({folder})\")\n",
    "    \n",
    "if __name__ == \"__main__\":\n",
    "    try:\n",
    "        _, folder = sys.argv\n",
    "    except ValueError:\n",
    "        print('Usage: \"python partition_meta.py SPLIT\", where SPLIT = \"train\" or \"test\"')\n",
    "        exit(0)\n",
    "    main(folder)"
   ]
  },
  {
   "cell_type": "markdown",
   "id": "0db56c9a",
   "metadata": {
    "papermill": {
     "duration": 0.009942,
     "end_time": "2023-04-03T04:00:42.737093",
     "exception": false,
     "start_time": "2023-04-03T04:00:42.727151",
     "status": "completed"
    },
    "tags": []
   },
   "source": [
    "Run the partitioning code (only if needed, which we check by the existence of the resulting folders):"
   ]
  },
  {
   "cell_type": "code",
   "execution_count": 2,
   "id": "9a46de2b",
   "metadata": {
    "execution": {
     "iopub.execute_input": "2023-04-03T04:00:42.757358Z",
     "iopub.status.busy": "2023-04-03T04:00:42.756994Z",
     "iopub.status.idle": "2023-04-03T04:03:29.926223Z",
     "shell.execute_reply": "2023-04-03T04:03:29.924984Z"
    },
    "papermill": {
     "duration": 167.1826,
     "end_time": "2023-04-03T04:03:29.928898",
     "exception": false,
     "start_time": "2023-04-03T04:00:42.746298",
     "status": "completed"
    },
    "tags": []
   },
   "outputs": [
    {
     "name": "stdout",
     "output_type": "stream",
     "text": [
      "Working on train\r\n",
      "100%|█████████████████████████████████████████████| 7/7 [02:39<00:00, 22.73s/it]\r\n",
      "Done (train)\r\n",
      "Working on test\r\n",
      "100%|█████████████████████████████████████████████| 1/1 [00:00<00:00,  2.26it/s]\r\n",
      "Done (test)\r\n"
     ]
    }
   ],
   "source": [
    "from pathlib import Path\n",
    "\n",
    "if not Path(\"train\").exists():\n",
    "    !python partition_meta.py train\n",
    "if not Path(\"test\").exists():\n",
    "    !python partition_meta.py test"
   ]
  },
  {
   "cell_type": "markdown",
   "id": "2ae78359",
   "metadata": {
    "papermill": {
     "duration": 0.010309,
     "end_time": "2023-04-03T04:03:29.950152",
     "exception": false,
     "start_time": "2023-04-03T04:03:29.939843",
     "status": "completed"
    },
    "tags": []
   },
   "source": [
    "Kaggle has weird indicators for used memory: they seem to partially be including the cache. A more detailed info may be obtained lie this:"
   ]
  },
  {
   "cell_type": "code",
   "execution_count": 3,
   "id": "cb13e634",
   "metadata": {
    "execution": {
     "iopub.execute_input": "2023-04-03T04:03:29.973016Z",
     "iopub.status.busy": "2023-04-03T04:03:29.972023Z",
     "iopub.status.idle": "2023-04-03T04:03:31.183068Z",
     "shell.execute_reply": "2023-04-03T04:03:31.181138Z"
    },
    "papermill": {
     "duration": 1.225957,
     "end_time": "2023-04-03T04:03:31.186210",
     "exception": false,
     "start_time": "2023-04-03T04:03:29.960253",
     "status": "completed"
    },
    "tags": []
   },
   "outputs": [
    {
     "name": "stdout",
     "output_type": "stream",
     "text": [
      "top - 04:03:31 up 6 min,  0 users,  load average: 2.02, 1.17, 0.51\r\n",
      "Tasks:   4 total,   1 running,   3 sleeping,   0 stopped,   0 zombie\r\n",
      "%Cpu(s):  0.0 us,  0.0 sy,  0.0 ni,  0.0 id,100.0 wa,  0.0 hi,  0.0 si,  0.0 st\r\n",
      "MiB Mem :  16006.7 total,   6365.5 free,    589.4 used,   9051.8 buff/cache\r\n",
      "MiB Swap:      0.0 total,      0.0 free,      0.0 used.  15086.7 avail Mem \r\n",
      "\r\n",
      "    PID USER      PR  NI    VIRT    RES    SHR S  %CPU  %MEM     TIME+ COMMAND\r\n",
      "     25 root      20   0 1170660 209244  51672 S   0.0   1.3   0:10.12 python\r\n",
      "     10 root      20   0  674208 126828  36096 S   0.0   0.8   0:03.58 python\r\n",
      "   1507 root      20   0    7816   3520   3068 R   0.0   0.0   0:00.84 top\r\n",
      "      1 root      20   0    5656   2748   2460 S   0.0   0.0   0:00.29 bash\r\n",
      "(our pid: 25)\n"
     ]
    }
   ],
   "source": [
    "# Check how many resources we actually take\n",
    "!top -bn1 -o '%MEM'\n",
    "\n",
    "import os\n",
    "print(f\"(our pid: {os.getpid()})\")"
   ]
  },
  {
   "cell_type": "markdown",
   "id": "3ac6445b",
   "metadata": {
    "papermill": {
     "duration": 0.010503,
     "end_time": "2023-04-03T04:03:31.207306",
     "exception": false,
     "start_time": "2023-04-03T04:03:31.196803",
     "status": "completed"
    },
    "tags": []
   },
   "source": [
    "Finally, let's check that the number of metadata files we created is the same as the number of pulse files:"
   ]
  },
  {
   "cell_type": "code",
   "execution_count": 4,
   "id": "47ff4c59",
   "metadata": {
    "execution": {
     "iopub.execute_input": "2023-04-03T04:03:31.230857Z",
     "iopub.status.busy": "2023-04-03T04:03:31.230103Z",
     "iopub.status.idle": "2023-04-03T04:03:31.376989Z",
     "shell.execute_reply": "2023-04-03T04:03:31.375274Z"
    },
    "papermill": {
     "duration": 0.161764,
     "end_time": "2023-04-03T04:03:31.379597",
     "exception": false,
     "start_time": "2023-04-03T04:03:31.217833",
     "status": "completed"
    },
    "tags": []
   },
   "outputs": [
    {
     "name": "stdout",
     "output_type": "stream",
     "text": [
      "Check ok (train)\n",
      "Check ok (test)\n"
     ]
    }
   ],
   "source": [
    "# base path\n",
    "bp = Path(\"/kaggle/input/icecube-neutrinos-in-deep-ice\")\n",
    "\n",
    "def check_num_batches(split):\n",
    "    num_actual = len(list(Path(split).glob(\"batch_id=*\")))\n",
    "    num_expected = len(list((bp / split).glob(\"batch_*.parquet\")))\n",
    "\n",
    "    if num_actual != num_expected:\n",
    "        print(\n",
    "            f\"WARNING!!! Found {num_actual} batch files when expected {num_expected} for \"\n",
    "            f'split \"{split}\". Check that partitioning code ran ok.'\n",
    "        )\n",
    "    else:\n",
    "        print(f\"Check ok ({split})\")\n",
    "\n",
    "for split in [\"train\", \"test\"]:\n",
    "    check_num_batches(split)"
   ]
  },
  {
   "cell_type": "markdown",
   "id": "e25950ba",
   "metadata": {
    "papermill": {
     "duration": 0.010596,
     "end_time": "2023-04-03T04:03:31.401036",
     "exception": false,
     "start_time": "2023-04-03T04:03:31.390440",
     "status": "completed"
    },
    "tags": []
   },
   "source": [
    "## Imports\n",
    "\n",
    "(making all the necessary imports in a single cell)"
   ]
  },
  {
   "cell_type": "code",
   "execution_count": 5,
   "id": "a6f7648d",
   "metadata": {
    "execution": {
     "iopub.execute_input": "2023-04-03T04:03:31.424958Z",
     "iopub.status.busy": "2023-04-03T04:03:31.423527Z",
     "iopub.status.idle": "2023-04-03T04:03:47.960969Z",
     "shell.execute_reply": "2023-04-03T04:03:47.959824Z"
    },
    "papermill": {
     "duration": 16.552176,
     "end_time": "2023-04-03T04:03:47.963998",
     "exception": false,
     "start_time": "2023-04-03T04:03:31.411822",
     "status": "completed"
    },
    "tags": []
   },
   "outputs": [
    {
     "data": {
      "text/html": [
       "        <script type=\"text/javascript\">\n",
       "        window.PlotlyConfig = {MathJaxConfig: 'local'};\n",
       "        if (window.MathJax && window.MathJax.Hub && window.MathJax.Hub.Config) {window.MathJax.Hub.Config({SVG: {font: \"STIX-Web\"}});}\n",
       "        if (typeof require !== 'undefined') {\n",
       "        require.undef(\"plotly\");\n",
       "        requirejs.config({\n",
       "            paths: {\n",
       "                'plotly': ['https://cdn.plot.ly/plotly-2.18.0.min']\n",
       "            }\n",
       "        });\n",
       "        require(['plotly'], function(Plotly) {\n",
       "            window._Plotly = Plotly;\n",
       "        });\n",
       "        }\n",
       "        </script>\n",
       "        "
      ]
     },
     "metadata": {},
     "output_type": "display_data"
    }
   ],
   "source": [
    "from pathlib import Path\n",
    "import gc\n",
    "import os\n",
    "from functools import lru_cache\n",
    "\n",
    "import polars as pl\n",
    "import pandas as pd\n",
    "import numpy as np\n",
    "from IPython.display import display, HTML\n",
    "import matplotlib.pyplot as plt\n",
    "from plotly.offline import iplot, init_notebook_mode\n",
    "init_notebook_mode(connected=True) # https://stackoverflow.com/questions/67419817/uncaught-error-script-error-for-plotly-http-requirejs-org-docs-errors-html\n",
    "import plotly.graph_objects as go\n",
    "import plotly.express as px\n",
    "import torch\n",
    "import pytorch_lightning as ptl\n",
    "from tensorboard.backend.event_processing import event_accumulator"
   ]
  },
  {
   "cell_type": "markdown",
   "id": "e4e4606b",
   "metadata": {
    "papermill": {
     "duration": 0.010225,
     "end_time": "2023-04-03T04:03:47.984962",
     "exception": false,
     "start_time": "2023-04-03T04:03:47.974737",
     "status": "completed"
    },
    "tags": []
   },
   "source": [
    "## Having a look at our data"
   ]
  },
  {
   "cell_type": "markdown",
   "id": "08f44f78",
   "metadata": {
    "papermill": {
     "duration": 0.010017,
     "end_time": "2023-04-03T04:03:48.005255",
     "exception": false,
     "start_time": "2023-04-03T04:03:47.995238",
     "status": "completed"
    },
    "tags": []
   },
   "source": [
    "There's a special file describing the geometry of the detector. Here we read it and convert its `sensor_id` column to the same dtype as we'll see in the pulse files."
   ]
  },
  {
   "cell_type": "code",
   "execution_count": 6,
   "id": "39cf2c37",
   "metadata": {
    "execution": {
     "iopub.execute_input": "2023-04-03T04:03:48.027805Z",
     "iopub.status.busy": "2023-04-03T04:03:48.027402Z",
     "iopub.status.idle": "2023-04-03T04:03:48.075596Z",
     "shell.execute_reply": "2023-04-03T04:03:48.074588Z"
    },
    "papermill": {
     "duration": 0.062422,
     "end_time": "2023-04-03T04:03:48.077839",
     "exception": false,
     "start_time": "2023-04-03T04:03:48.015417",
     "status": "completed"
    },
    "tags": []
   },
   "outputs": [
    {
     "name": "stdout",
     "output_type": "stream",
     "text": [
      "sesnsors shape (5160, 4)\n"
     ]
    }
   ],
   "source": [
    "sensors_df = pl.read_csv(bp / \"sensor_geometry.csv\").with_columns(pl.col(\"sensor_id\").cast(pl.Int16))\n",
    "\n",
    "print(\"sesnsors shape\", sensors_df.shape)"
   ]
  },
  {
   "cell_type": "markdown",
   "id": "ddb0aea8",
   "metadata": {
    "papermill": {
     "duration": 0.00987,
     "end_time": "2023-04-03T04:03:48.098209",
     "exception": false,
     "start_time": "2023-04-03T04:03:48.088339",
     "status": "completed"
    },
    "tags": []
   },
   "source": [
    "Here's a function to read a single batch of pulses:"
   ]
  },
  {
   "cell_type": "code",
   "execution_count": 7,
   "id": "1258d5df",
   "metadata": {
    "execution": {
     "iopub.execute_input": "2023-04-03T04:03:48.119741Z",
     "iopub.status.busy": "2023-04-03T04:03:48.119400Z",
     "iopub.status.idle": "2023-04-03T04:03:48.126057Z",
     "shell.execute_reply": "2023-04-03T04:03:48.124980Z"
    },
    "papermill": {
     "duration": 0.01987,
     "end_time": "2023-04-03T04:03:48.128127",
     "exception": false,
     "start_time": "2023-04-03T04:03:48.108257",
     "status": "completed"
    },
    "tags": []
   },
   "outputs": [],
   "source": [
    "def load_batch(folder, b_id):\n",
    "    \"\"\"\n",
    "    Load a single batch of pulses.\n",
    "    \n",
    "    Parameters\n",
    "    ----------\n",
    "    folder : str\n",
    "        Which part of the data to process. Should be either \"train\" or \"test\".\n",
    "    b_id : int\n",
    "        Index of the batch (as in the `batch_id` column).\n",
    "\n",
    "    Returns\n",
    "    -------\n",
    "    polars.DataFrame\n",
    "        Data frame with the loaded pulses.\n",
    "    polars.DataFrame\n",
    "        Data frame with corresponding metadata.\n",
    "    \"\"\"\n",
    "    pulses = pl.read_parquet(bp / folder / f\"batch_{b_id}.parquet\")\n",
    "    pulses = pulses.join(sensors_df, on=\"sensor_id\").drop(\"sensor_id\")\n",
    "\n",
    "    meta = pl.read_parquet(f\"{folder}/batch_id={b_id}/*.parquet\")\n",
    "\n",
    "    return pulses, meta\n",
    "\n",
    "# Let's create an in-memory cache version of this function to avoid repeatedly\n",
    "# loading the same batch when we examine various events from it. We'll delete this function\n",
    "# later to free the memory taken by cache.\n",
    "load_batch_c = lru_cache(maxsize=1)(load_batch)"
   ]
  },
  {
   "cell_type": "markdown",
   "id": "10d0c954",
   "metadata": {
    "papermill": {
     "duration": 0.010065,
     "end_time": "2023-04-03T04:03:48.148447",
     "exception": false,
     "start_time": "2023-04-03T04:03:48.138382",
     "status": "completed"
    },
    "tags": []
   },
   "source": [
    "Let's collect all the train and test `batch_id`s for easier positional indexing later on:"
   ]
  },
  {
   "cell_type": "code",
   "execution_count": 8,
   "id": "104b5b8f",
   "metadata": {
    "execution": {
     "iopub.execute_input": "2023-04-03T04:03:48.171072Z",
     "iopub.status.busy": "2023-04-03T04:03:48.170370Z",
     "iopub.status.idle": "2023-04-03T04:03:48.181780Z",
     "shell.execute_reply": "2023-04-03T04:03:48.180819Z"
    },
    "papermill": {
     "duration": 0.025222,
     "end_time": "2023-04-03T04:03:48.183869",
     "exception": false,
     "start_time": "2023-04-03T04:03:48.158647",
     "status": "completed"
    },
    "tags": []
   },
   "outputs": [],
   "source": [
    "def get_batch_ids_from_folder(folder):\n",
    "    fnames = [x.stem for x in (bp / folder).glob(\"*.parquet\")]\n",
    "    assert all(x.startswith(\"batch_\") for x in fnames)\n",
    "    return np.sort(np.array([int(x[6:]) for x in fnames]))\n",
    "\n",
    "TRAIN_BIDS = get_batch_ids_from_folder(\"train\")\n",
    "TEST_BIDS = get_batch_ids_from_folder(\"test\")"
   ]
  },
  {
   "cell_type": "markdown",
   "id": "66294090",
   "metadata": {
    "papermill": {
     "duration": 0.010003,
     "end_time": "2023-04-03T04:03:48.204583",
     "exception": false,
     "start_time": "2023-04-03T04:03:48.194580",
     "status": "completed"
    },
    "tags": []
   },
   "source": [
    "Now we want to see what our data tables look like. We're doing it inside of a function to avoid creating globals taking up memory later on."
   ]
  },
  {
   "cell_type": "code",
   "execution_count": 9,
   "id": "83927bd9",
   "metadata": {
    "execution": {
     "iopub.execute_input": "2023-04-03T04:03:48.226517Z",
     "iopub.status.busy": "2023-04-03T04:03:48.226122Z",
     "iopub.status.idle": "2023-04-03T04:03:53.103993Z",
     "shell.execute_reply": "2023-04-03T04:03:53.102827Z"
    },
    "papermill": {
     "duration": 4.891602,
     "end_time": "2023-04-03T04:03:53.106302",
     "exception": false,
     "start_time": "2023-04-03T04:03:48.214700",
     "status": "completed"
    },
    "tags": []
   },
   "outputs": [
    {
     "data": {
      "text/html": [
       "<H1>Train meta:"
      ],
      "text/plain": [
       "<IPython.core.display.HTML object>"
      ]
     },
     "metadata": {},
     "output_type": "display_data"
    },
    {
     "data": {
      "text/html": [
       "<div>\n",
       "<style>\n",
       ".pl-dataframe > thead > tr > th {\n",
       "  text-align: right;\n",
       "}\n",
       "</style>\n",
       "\n",
       "<table border=\"1\" class=\"dataframe pl-dataframe\">\n",
       "<small>shape: (5, 5)</small>\n",
       "<thead>\n",
       "<tr>\n",
       "<th>\n",
       "event_id\n",
       "</th>\n",
       "<th>\n",
       "first_pulse_index\n",
       "</th>\n",
       "<th>\n",
       "last_pulse_index\n",
       "</th>\n",
       "<th>\n",
       "azimuth\n",
       "</th>\n",
       "<th>\n",
       "zenith\n",
       "</th>\n",
       "</tr>\n",
       "<tr>\n",
       "<td>\n",
       "i64\n",
       "</td>\n",
       "<td>\n",
       "i64\n",
       "</td>\n",
       "<td>\n",
       "i64\n",
       "</td>\n",
       "<td>\n",
       "f64\n",
       "</td>\n",
       "<td>\n",
       "f64\n",
       "</td>\n",
       "</tr>\n",
       "</thead>\n",
       "<tbody>\n",
       "<tr>\n",
       "<td>\n",
       "24\n",
       "</td>\n",
       "<td>\n",
       "0\n",
       "</td>\n",
       "<td>\n",
       "60\n",
       "</td>\n",
       "<td>\n",
       "5.029555\n",
       "</td>\n",
       "<td>\n",
       "2.087498\n",
       "</td>\n",
       "</tr>\n",
       "<tr>\n",
       "<td>\n",
       "41\n",
       "</td>\n",
       "<td>\n",
       "61\n",
       "</td>\n",
       "<td>\n",
       "111\n",
       "</td>\n",
       "<td>\n",
       "0.417742\n",
       "</td>\n",
       "<td>\n",
       "1.549686\n",
       "</td>\n",
       "</tr>\n",
       "<tr>\n",
       "<td>\n",
       "59\n",
       "</td>\n",
       "<td>\n",
       "112\n",
       "</td>\n",
       "<td>\n",
       "147\n",
       "</td>\n",
       "<td>\n",
       "1.160466\n",
       "</td>\n",
       "<td>\n",
       "2.401942\n",
       "</td>\n",
       "</tr>\n",
       "<tr>\n",
       "<td>\n",
       "67\n",
       "</td>\n",
       "<td>\n",
       "148\n",
       "</td>\n",
       "<td>\n",
       "289\n",
       "</td>\n",
       "<td>\n",
       "5.845952\n",
       "</td>\n",
       "<td>\n",
       "0.759054\n",
       "</td>\n",
       "</tr>\n",
       "<tr>\n",
       "<td>\n",
       "72\n",
       "</td>\n",
       "<td>\n",
       "290\n",
       "</td>\n",
       "<td>\n",
       "351\n",
       "</td>\n",
       "<td>\n",
       "0.653719\n",
       "</td>\n",
       "<td>\n",
       "0.939117\n",
       "</td>\n",
       "</tr>\n",
       "</tbody>\n",
       "</table>\n",
       "</div>"
      ],
      "text/plain": [
       "shape: (5, 5)\n",
       "┌──────────┬───────────────────┬──────────────────┬──────────┬──────────┐\n",
       "│ event_id ┆ first_pulse_index ┆ last_pulse_index ┆ azimuth  ┆ zenith   │\n",
       "│ ---      ┆ ---               ┆ ---              ┆ ---      ┆ ---      │\n",
       "│ i64      ┆ i64               ┆ i64              ┆ f64      ┆ f64      │\n",
       "╞══════════╪═══════════════════╪══════════════════╪══════════╪══════════╡\n",
       "│ 24       ┆ 0                 ┆ 60               ┆ 5.029555 ┆ 2.087498 │\n",
       "│ 41       ┆ 61                ┆ 111              ┆ 0.417742 ┆ 1.549686 │\n",
       "│ 59       ┆ 112               ┆ 147              ┆ 1.160466 ┆ 2.401942 │\n",
       "│ 67       ┆ 148               ┆ 289              ┆ 5.845952 ┆ 0.759054 │\n",
       "│ 72       ┆ 290               ┆ 351              ┆ 0.653719 ┆ 0.939117 │\n",
       "└──────────┴───────────────────┴──────────────────┴──────────┴──────────┘"
      ]
     },
     "metadata": {},
     "output_type": "display_data"
    },
    {
     "data": {
      "text/html": [
       "<hr><H1>Test meta:"
      ],
      "text/plain": [
       "<IPython.core.display.HTML object>"
      ]
     },
     "metadata": {},
     "output_type": "display_data"
    },
    {
     "data": {
      "text/html": [
       "<div>\n",
       "<style>\n",
       ".pl-dataframe > thead > tr > th {\n",
       "  text-align: right;\n",
       "}\n",
       "</style>\n",
       "\n",
       "<table border=\"1\" class=\"dataframe pl-dataframe\">\n",
       "<small>shape: (3, 3)</small>\n",
       "<thead>\n",
       "<tr>\n",
       "<th>\n",
       "event_id\n",
       "</th>\n",
       "<th>\n",
       "first_pulse_index\n",
       "</th>\n",
       "<th>\n",
       "last_pulse_index\n",
       "</th>\n",
       "</tr>\n",
       "<tr>\n",
       "<td>\n",
       "i64\n",
       "</td>\n",
       "<td>\n",
       "i64\n",
       "</td>\n",
       "<td>\n",
       "i64\n",
       "</td>\n",
       "</tr>\n",
       "</thead>\n",
       "<tbody>\n",
       "<tr>\n",
       "<td>\n",
       "2092\n",
       "</td>\n",
       "<td>\n",
       "0\n",
       "</td>\n",
       "<td>\n",
       "298\n",
       "</td>\n",
       "</tr>\n",
       "<tr>\n",
       "<td>\n",
       "7344\n",
       "</td>\n",
       "<td>\n",
       "299\n",
       "</td>\n",
       "<td>\n",
       "334\n",
       "</td>\n",
       "</tr>\n",
       "<tr>\n",
       "<td>\n",
       "9482\n",
       "</td>\n",
       "<td>\n",
       "335\n",
       "</td>\n",
       "<td>\n",
       "377\n",
       "</td>\n",
       "</tr>\n",
       "</tbody>\n",
       "</table>\n",
       "</div>"
      ],
      "text/plain": [
       "shape: (3, 3)\n",
       "┌──────────┬───────────────────┬──────────────────┐\n",
       "│ event_id ┆ first_pulse_index ┆ last_pulse_index │\n",
       "│ ---      ┆ ---               ┆ ---              │\n",
       "│ i64      ┆ i64               ┆ i64              │\n",
       "╞══════════╪═══════════════════╪══════════════════╡\n",
       "│ 2092     ┆ 0                 ┆ 298              │\n",
       "│ 7344     ┆ 299               ┆ 334              │\n",
       "│ 9482     ┆ 335               ┆ 377              │\n",
       "└──────────┴───────────────────┴──────────────────┘"
      ]
     },
     "metadata": {},
     "output_type": "display_data"
    },
    {
     "data": {
      "text/html": [
       "<hr><H1>Sensors:"
      ],
      "text/plain": [
       "<IPython.core.display.HTML object>"
      ]
     },
     "metadata": {},
     "output_type": "display_data"
    },
    {
     "data": {
      "text/html": [
       "<div>\n",
       "<style>\n",
       ".pl-dataframe > thead > tr > th {\n",
       "  text-align: right;\n",
       "}\n",
       "</style>\n",
       "\n",
       "<table border=\"1\" class=\"dataframe pl-dataframe\">\n",
       "<small>shape: (5, 4)</small>\n",
       "<thead>\n",
       "<tr>\n",
       "<th>\n",
       "sensor_id\n",
       "</th>\n",
       "<th>\n",
       "x\n",
       "</th>\n",
       "<th>\n",
       "y\n",
       "</th>\n",
       "<th>\n",
       "z\n",
       "</th>\n",
       "</tr>\n",
       "<tr>\n",
       "<td>\n",
       "i16\n",
       "</td>\n",
       "<td>\n",
       "f64\n",
       "</td>\n",
       "<td>\n",
       "f64\n",
       "</td>\n",
       "<td>\n",
       "f64\n",
       "</td>\n",
       "</tr>\n",
       "</thead>\n",
       "<tbody>\n",
       "<tr>\n",
       "<td>\n",
       "0\n",
       "</td>\n",
       "<td>\n",
       "-256.14\n",
       "</td>\n",
       "<td>\n",
       "-521.08\n",
       "</td>\n",
       "<td>\n",
       "496.03\n",
       "</td>\n",
       "</tr>\n",
       "<tr>\n",
       "<td>\n",
       "1\n",
       "</td>\n",
       "<td>\n",
       "-256.14\n",
       "</td>\n",
       "<td>\n",
       "-521.08\n",
       "</td>\n",
       "<td>\n",
       "479.01\n",
       "</td>\n",
       "</tr>\n",
       "<tr>\n",
       "<td>\n",
       "2\n",
       "</td>\n",
       "<td>\n",
       "-256.14\n",
       "</td>\n",
       "<td>\n",
       "-521.08\n",
       "</td>\n",
       "<td>\n",
       "461.99\n",
       "</td>\n",
       "</tr>\n",
       "<tr>\n",
       "<td>\n",
       "3\n",
       "</td>\n",
       "<td>\n",
       "-256.14\n",
       "</td>\n",
       "<td>\n",
       "-521.08\n",
       "</td>\n",
       "<td>\n",
       "444.97\n",
       "</td>\n",
       "</tr>\n",
       "<tr>\n",
       "<td>\n",
       "4\n",
       "</td>\n",
       "<td>\n",
       "-256.14\n",
       "</td>\n",
       "<td>\n",
       "-521.08\n",
       "</td>\n",
       "<td>\n",
       "427.95\n",
       "</td>\n",
       "</tr>\n",
       "</tbody>\n",
       "</table>\n",
       "</div>"
      ],
      "text/plain": [
       "shape: (5, 4)\n",
       "┌───────────┬─────────┬─────────┬────────┐\n",
       "│ sensor_id ┆ x       ┆ y       ┆ z      │\n",
       "│ ---       ┆ ---     ┆ ---     ┆ ---    │\n",
       "│ i16       ┆ f64     ┆ f64     ┆ f64    │\n",
       "╞═══════════╪═════════╪═════════╪════════╡\n",
       "│ 0         ┆ -256.14 ┆ -521.08 ┆ 496.03 │\n",
       "│ 1         ┆ -256.14 ┆ -521.08 ┆ 479.01 │\n",
       "│ 2         ┆ -256.14 ┆ -521.08 ┆ 461.99 │\n",
       "│ 3         ┆ -256.14 ┆ -521.08 ┆ 444.97 │\n",
       "│ 4         ┆ -256.14 ┆ -521.08 ┆ 427.95 │\n",
       "└───────────┴─────────┴─────────┴────────┘"
      ]
     },
     "metadata": {},
     "output_type": "display_data"
    },
    {
     "data": {
      "text/html": [
       "<hr><H1>Pulses batch train:"
      ],
      "text/plain": [
       "<IPython.core.display.HTML object>"
      ]
     },
     "metadata": {},
     "output_type": "display_data"
    },
    {
     "data": {
      "text/html": [
       "<div>\n",
       "<style>\n",
       ".pl-dataframe > thead > tr > th {\n",
       "  text-align: right;\n",
       "}\n",
       "</style>\n",
       "\n",
       "<table border=\"1\" class=\"dataframe pl-dataframe\">\n",
       "<small>shape: (5, 7)</small>\n",
       "<thead>\n",
       "<tr>\n",
       "<th>\n",
       "time\n",
       "</th>\n",
       "<th>\n",
       "charge\n",
       "</th>\n",
       "<th>\n",
       "auxiliary\n",
       "</th>\n",
       "<th>\n",
       "event_id\n",
       "</th>\n",
       "<th>\n",
       "x\n",
       "</th>\n",
       "<th>\n",
       "y\n",
       "</th>\n",
       "<th>\n",
       "z\n",
       "</th>\n",
       "</tr>\n",
       "<tr>\n",
       "<td>\n",
       "i64\n",
       "</td>\n",
       "<td>\n",
       "f64\n",
       "</td>\n",
       "<td>\n",
       "bool\n",
       "</td>\n",
       "<td>\n",
       "i64\n",
       "</td>\n",
       "<td>\n",
       "f64\n",
       "</td>\n",
       "<td>\n",
       "f64\n",
       "</td>\n",
       "<td>\n",
       "f64\n",
       "</td>\n",
       "</tr>\n",
       "</thead>\n",
       "<tbody>\n",
       "<tr>\n",
       "<td>\n",
       "5928\n",
       "</td>\n",
       "<td>\n",
       "1.325\n",
       "</td>\n",
       "<td>\n",
       "true\n",
       "</td>\n",
       "<td>\n",
       "24\n",
       "</td>\n",
       "<td>\n",
       "303.41\n",
       "</td>\n",
       "<td>\n",
       "335.64\n",
       "</td>\n",
       "<td>\n",
       "206.58\n",
       "</td>\n",
       "</tr>\n",
       "<tr>\n",
       "<td>\n",
       "6115\n",
       "</td>\n",
       "<td>\n",
       "1.175\n",
       "</td>\n",
       "<td>\n",
       "true\n",
       "</td>\n",
       "<td>\n",
       "24\n",
       "</td>\n",
       "<td>\n",
       "-145.45\n",
       "</td>\n",
       "<td>\n",
       "374.24\n",
       "</td>\n",
       "<td>\n",
       "212.73\n",
       "</td>\n",
       "</tr>\n",
       "<tr>\n",
       "<td>\n",
       "6492\n",
       "</td>\n",
       "<td>\n",
       "0.925\n",
       "</td>\n",
       "<td>\n",
       "true\n",
       "</td>\n",
       "<td>\n",
       "24\n",
       "</td>\n",
       "<td>\n",
       "505.27\n",
       "</td>\n",
       "<td>\n",
       "257.88\n",
       "</td>\n",
       "<td>\n",
       "-174.6\n",
       "</td>\n",
       "</tr>\n",
       "<tr>\n",
       "<td>\n",
       "6665\n",
       "</td>\n",
       "<td>\n",
       "0.225\n",
       "</td>\n",
       "<td>\n",
       "true\n",
       "</td>\n",
       "<td>\n",
       "24\n",
       "</td>\n",
       "<td>\n",
       "-9.68\n",
       "</td>\n",
       "<td>\n",
       "-79.5\n",
       "</td>\n",
       "<td>\n",
       "181.0\n",
       "</td>\n",
       "</tr>\n",
       "<tr>\n",
       "<td>\n",
       "8054\n",
       "</td>\n",
       "<td>\n",
       "1.575\n",
       "</td>\n",
       "<td>\n",
       "true\n",
       "</td>\n",
       "<td>\n",
       "24\n",
       "</td>\n",
       "<td>\n",
       "576.37\n",
       "</td>\n",
       "<td>\n",
       "170.92\n",
       "</td>\n",
       "<td>\n",
       "357.88\n",
       "</td>\n",
       "</tr>\n",
       "</tbody>\n",
       "</table>\n",
       "</div>"
      ],
      "text/plain": [
       "shape: (5, 7)\n",
       "┌──────┬────────┬───────────┬──────────┬─────────┬────────┬────────┐\n",
       "│ time ┆ charge ┆ auxiliary ┆ event_id ┆ x       ┆ y      ┆ z      │\n",
       "│ ---  ┆ ---    ┆ ---       ┆ ---      ┆ ---     ┆ ---    ┆ ---    │\n",
       "│ i64  ┆ f64    ┆ bool      ┆ i64      ┆ f64     ┆ f64    ┆ f64    │\n",
       "╞══════╪════════╪═══════════╪══════════╪═════════╪════════╪════════╡\n",
       "│ 5928 ┆ 1.325  ┆ true      ┆ 24       ┆ 303.41  ┆ 335.64 ┆ 206.58 │\n",
       "│ 6115 ┆ 1.175  ┆ true      ┆ 24       ┆ -145.45 ┆ 374.24 ┆ 212.73 │\n",
       "│ 6492 ┆ 0.925  ┆ true      ┆ 24       ┆ 505.27  ┆ 257.88 ┆ -174.6 │\n",
       "│ 6665 ┆ 0.225  ┆ true      ┆ 24       ┆ -9.68   ┆ -79.5  ┆ 181.0  │\n",
       "│ 8054 ┆ 1.575  ┆ true      ┆ 24       ┆ 576.37  ┆ 170.92 ┆ 357.88 │\n",
       "└──────┴────────┴───────────┴──────────┴─────────┴────────┴────────┘"
      ]
     },
     "metadata": {},
     "output_type": "display_data"
    },
    {
     "data": {
      "text/html": [
       "<hr><H1>Pulses batch test:"
      ],
      "text/plain": [
       "<IPython.core.display.HTML object>"
      ]
     },
     "metadata": {},
     "output_type": "display_data"
    },
    {
     "data": {
      "text/html": [
       "<div>\n",
       "<style>\n",
       ".pl-dataframe > thead > tr > th {\n",
       "  text-align: right;\n",
       "}\n",
       "</style>\n",
       "\n",
       "<table border=\"1\" class=\"dataframe pl-dataframe\">\n",
       "<small>shape: (5, 7)</small>\n",
       "<thead>\n",
       "<tr>\n",
       "<th>\n",
       "time\n",
       "</th>\n",
       "<th>\n",
       "charge\n",
       "</th>\n",
       "<th>\n",
       "auxiliary\n",
       "</th>\n",
       "<th>\n",
       "event_id\n",
       "</th>\n",
       "<th>\n",
       "x\n",
       "</th>\n",
       "<th>\n",
       "y\n",
       "</th>\n",
       "<th>\n",
       "z\n",
       "</th>\n",
       "</tr>\n",
       "<tr>\n",
       "<td>\n",
       "i64\n",
       "</td>\n",
       "<td>\n",
       "f64\n",
       "</td>\n",
       "<td>\n",
       "bool\n",
       "</td>\n",
       "<td>\n",
       "i64\n",
       "</td>\n",
       "<td>\n",
       "f64\n",
       "</td>\n",
       "<td>\n",
       "f64\n",
       "</td>\n",
       "<td>\n",
       "f64\n",
       "</td>\n",
       "</tr>\n",
       "</thead>\n",
       "<tbody>\n",
       "<tr>\n",
       "<td>\n",
       "12507\n",
       "</td>\n",
       "<td>\n",
       "1.625\n",
       "</td>\n",
       "<td>\n",
       "false\n",
       "</td>\n",
       "<td>\n",
       "2092\n",
       "</td>\n",
       "<td>\n",
       "-256.14\n",
       "</td>\n",
       "<td>\n",
       "-521.08\n",
       "</td>\n",
       "<td>\n",
       "-286.92\n",
       "</td>\n",
       "</tr>\n",
       "<tr>\n",
       "<td>\n",
       "13453\n",
       "</td>\n",
       "<td>\n",
       "1.275\n",
       "</td>\n",
       "<td>\n",
       "false\n",
       "</td>\n",
       "<td>\n",
       "2092\n",
       "</td>\n",
       "<td>\n",
       "-256.14\n",
       "</td>\n",
       "<td>\n",
       "-521.08\n",
       "</td>\n",
       "<td>\n",
       "-320.97\n",
       "</td>\n",
       "</tr>\n",
       "<tr>\n",
       "<td>\n",
       "11593\n",
       "</td>\n",
       "<td>\n",
       "1.425\n",
       "</td>\n",
       "<td>\n",
       "false\n",
       "</td>\n",
       "<td>\n",
       "2092\n",
       "</td>\n",
       "<td>\n",
       "-256.14\n",
       "</td>\n",
       "<td>\n",
       "-521.08\n",
       "</td>\n",
       "<td>\n",
       "-355.01\n",
       "</td>\n",
       "</tr>\n",
       "<tr>\n",
       "<td>\n",
       "11944\n",
       "</td>\n",
       "<td>\n",
       "0.925\n",
       "</td>\n",
       "<td>\n",
       "false\n",
       "</td>\n",
       "<td>\n",
       "2092\n",
       "</td>\n",
       "<td>\n",
       "-256.14\n",
       "</td>\n",
       "<td>\n",
       "-521.08\n",
       "</td>\n",
       "<td>\n",
       "-372.03\n",
       "</td>\n",
       "</tr>\n",
       "<tr>\n",
       "<td>\n",
       "13880\n",
       "</td>\n",
       "<td>\n",
       "1.275\n",
       "</td>\n",
       "<td>\n",
       "false\n",
       "</td>\n",
       "<td>\n",
       "2092\n",
       "</td>\n",
       "<td>\n",
       "-256.14\n",
       "</td>\n",
       "<td>\n",
       "-521.08\n",
       "</td>\n",
       "<td>\n",
       "-372.03\n",
       "</td>\n",
       "</tr>\n",
       "</tbody>\n",
       "</table>\n",
       "</div>"
      ],
      "text/plain": [
       "shape: (5, 7)\n",
       "┌───────┬────────┬───────────┬──────────┬─────────┬─────────┬─────────┐\n",
       "│ time  ┆ charge ┆ auxiliary ┆ event_id ┆ x       ┆ y       ┆ z       │\n",
       "│ ---   ┆ ---    ┆ ---       ┆ ---      ┆ ---     ┆ ---     ┆ ---     │\n",
       "│ i64   ┆ f64    ┆ bool      ┆ i64      ┆ f64     ┆ f64     ┆ f64     │\n",
       "╞═══════╪════════╪═══════════╪══════════╪═════════╪═════════╪═════════╡\n",
       "│ 12507 ┆ 1.625  ┆ false     ┆ 2092     ┆ -256.14 ┆ -521.08 ┆ -286.92 │\n",
       "│ 13453 ┆ 1.275  ┆ false     ┆ 2092     ┆ -256.14 ┆ -521.08 ┆ -320.97 │\n",
       "│ 11593 ┆ 1.425  ┆ false     ┆ 2092     ┆ -256.14 ┆ -521.08 ┆ -355.01 │\n",
       "│ 11944 ┆ 0.925  ┆ false     ┆ 2092     ┆ -256.14 ┆ -521.08 ┆ -372.03 │\n",
       "│ 13880 ┆ 1.275  ┆ false     ┆ 2092     ┆ -256.14 ┆ -521.08 ┆ -372.03 │\n",
       "└───────┴────────┴───────────┴──────────┴─────────┴─────────┴─────────┘"
      ]
     },
     "metadata": {},
     "output_type": "display_data"
    },
    {
     "data": {
      "text/html": [
       "<hr><H1>Sample submission:"
      ],
      "text/plain": [
       "<IPython.core.display.HTML object>"
      ]
     },
     "metadata": {},
     "output_type": "display_data"
    },
    {
     "data": {
      "text/html": [
       "<div>\n",
       "<style>\n",
       ".pl-dataframe > thead > tr > th {\n",
       "  text-align: right;\n",
       "}\n",
       "</style>\n",
       "\n",
       "<table border=\"1\" class=\"dataframe pl-dataframe\">\n",
       "<small>shape: (3, 3)</small>\n",
       "<thead>\n",
       "<tr>\n",
       "<th>\n",
       "event_id\n",
       "</th>\n",
       "<th>\n",
       "azimuth\n",
       "</th>\n",
       "<th>\n",
       "zenith\n",
       "</th>\n",
       "</tr>\n",
       "<tr>\n",
       "<td>\n",
       "i64\n",
       "</td>\n",
       "<td>\n",
       "i64\n",
       "</td>\n",
       "<td>\n",
       "i64\n",
       "</td>\n",
       "</tr>\n",
       "</thead>\n",
       "<tbody>\n",
       "<tr>\n",
       "<td>\n",
       "2092\n",
       "</td>\n",
       "<td>\n",
       "1\n",
       "</td>\n",
       "<td>\n",
       "1\n",
       "</td>\n",
       "</tr>\n",
       "<tr>\n",
       "<td>\n",
       "7344\n",
       "</td>\n",
       "<td>\n",
       "1\n",
       "</td>\n",
       "<td>\n",
       "1\n",
       "</td>\n",
       "</tr>\n",
       "<tr>\n",
       "<td>\n",
       "9482\n",
       "</td>\n",
       "<td>\n",
       "1\n",
       "</td>\n",
       "<td>\n",
       "1\n",
       "</td>\n",
       "</tr>\n",
       "</tbody>\n",
       "</table>\n",
       "</div>"
      ],
      "text/plain": [
       "shape: (3, 3)\n",
       "┌──────────┬─────────┬────────┐\n",
       "│ event_id ┆ azimuth ┆ zenith │\n",
       "│ ---      ┆ ---     ┆ ---    │\n",
       "│ i64      ┆ i64     ┆ i64    │\n",
       "╞══════════╪═════════╪════════╡\n",
       "│ 2092     ┆ 1       ┆ 1      │\n",
       "│ 7344     ┆ 1       ┆ 1      │\n",
       "│ 9482     ┆ 1       ┆ 1      │\n",
       "└──────────┴─────────┴────────┘"
      ]
     },
     "metadata": {},
     "output_type": "display_data"
    }
   ],
   "source": [
    "def preview_data():\n",
    "    b_pulses_train, b_meta_train = load_batch_c(\"train\", TRAIN_BIDS[0])\n",
    "    b_pulses_test, b_meta_test = load_batch(\"test\", TEST_BIDS[0])\n",
    "\n",
    "    display(HTML(\"<H1>Train meta:\"))\n",
    "    display(b_meta_train.head())\n",
    "\n",
    "    display(HTML(\"<hr><H1>Test meta:\"))\n",
    "    display(b_meta_test.head())\n",
    "\n",
    "    display(HTML(\"<hr><H1>Sensors:\"))\n",
    "    display(sensors_df.head())\n",
    "\n",
    "    display(HTML(\"<hr><H1>Pulses batch train:\"))\n",
    "    display(b_pulses_train.head())\n",
    "\n",
    "    display(HTML(\"<hr><H1>Pulses batch test:\"))\n",
    "    display(b_pulses_test.head())\n",
    "\n",
    "    display(HTML(\"<hr><H1>Sample submission:\"))\n",
    "    display(pl.read_parquet(bp / \"sample_submission.parquet\").head())\n",
    "\n",
    "preview_data()"
   ]
  },
  {
   "cell_type": "markdown",
   "id": "b62e0b89",
   "metadata": {
    "papermill": {
     "duration": 0.011829,
     "end_time": "2023-04-03T04:03:53.130416",
     "exception": false,
     "start_time": "2023-04-03T04:03:53.118587",
     "status": "completed"
    },
    "tags": []
   },
   "source": [
    "Here's a helper function to load data only for a single event."
   ]
  },
  {
   "cell_type": "code",
   "execution_count": 10,
   "id": "e1e0d414",
   "metadata": {
    "execution": {
     "iopub.execute_input": "2023-04-03T04:03:53.156453Z",
     "iopub.status.busy": "2023-04-03T04:03:53.155427Z",
     "iopub.status.idle": "2023-04-03T04:03:53.163976Z",
     "shell.execute_reply": "2023-04-03T04:03:53.162960Z"
    },
    "papermill": {
     "duration": 0.023973,
     "end_time": "2023-04-03T04:03:53.166313",
     "exception": false,
     "start_time": "2023-04-03T04:03:53.142340",
     "status": "completed"
    },
    "tags": []
   },
   "outputs": [],
   "source": [
    "def load_single_event(folder, i_batch, i_evt, ignore_aux=True):\n",
    "    \"\"\"\n",
    "    Load a single event (using positional indexing).\n",
    "\n",
    "    Parameters\n",
    "    ----------\n",
    "    folder : str\n",
    "        Which part of the data to process. Should be either \"train\" or \"test\".\n",
    "    i_batch : int\n",
    "        Positional index of the batch. Should be in a range from 0 (inclusive)\n",
    "        to the number of batches in `folder` (exclusive).\n",
    "    i_evt : int\n",
    "        Positional index of the event within the batch.\n",
    "    ignore_aux : bool\n",
    "        Whether to exclude auxiliary pulses.\n",
    "\n",
    "    Returns\n",
    "    -------\n",
    "    int\n",
    "        The id of the read event (as in `event_id` column).\n",
    "    polars.DataFrame\n",
    "        Table with pulses.\n",
    "    Tuple[float, float] | None\n",
    "        Azimuth and zenith (if `folder` is 'train') or `None` (if `folder` is 'test').\n",
    "    \"\"\"\n",
    "    bids = dict(train=TRAIN_BIDS, test=TEST_BIDS)[folder]\n",
    "    pulses, meta = load_batch_c(folder, bids[i_batch])\n",
    "\n",
    "    meta_event = meta[i_evt]\n",
    "    (event_id,) = meta_event[\"event_id\"]\n",
    "\n",
    "    event_pulses = pulses.filter(pl.col(\"event_id\") == event_id)\n",
    "    if ignore_aux:\n",
    "        event_pulses = event_pulses.filter(~pl.col(\"auxiliary\")).drop(\"auxiliary\")\n",
    "\n",
    "    target = None\n",
    "    if \"azimuth\" in meta.columns:\n",
    "        (azimuth,) = meta_event[\"azimuth\"]\n",
    "        (zenith,) = meta_event[\"zenith\"]\n",
    "        target = (azimuth, zenith)\n",
    "\n",
    "    return event_id, event_pulses, target"
   ]
  },
  {
   "cell_type": "markdown",
   "id": "bf4b1227",
   "metadata": {
    "papermill": {
     "duration": 0.011817,
     "end_time": "2023-04-03T04:03:53.190230",
     "exception": false,
     "start_time": "2023-04-03T04:03:53.178413",
     "status": "completed"
    },
    "tags": []
   },
   "source": [
    "And a function to make a 3D plot of an event. The input arguments are aligned with the outputs from the `load_single_event` function above."
   ]
  },
  {
   "cell_type": "code",
   "execution_count": 11,
   "id": "70dfe31b",
   "metadata": {
    "execution": {
     "iopub.execute_input": "2023-04-03T04:03:53.216675Z",
     "iopub.status.busy": "2023-04-03T04:03:53.215664Z",
     "iopub.status.idle": "2023-04-03T04:03:53.226732Z",
     "shell.execute_reply": "2023-04-03T04:03:53.225779Z"
    },
    "papermill": {
     "duration": 0.026322,
     "end_time": "2023-04-03T04:03:53.228936",
     "exception": false,
     "start_time": "2023-04-03T04:03:53.202614",
     "status": "completed"
    },
    "tags": []
   },
   "outputs": [],
   "source": [
    "def plot_event(event_id, event_pulses, y=None):\n",
    "    fig = px.scatter_3d(\n",
    "        x=event_pulses[\"x\"],\n",
    "        y=event_pulses[\"y\"],\n",
    "        z=event_pulses[\"z\"],\n",
    "        color=event_pulses[\"time\"],\n",
    "        size=event_pulses[\"charge\"],\n",
    "    )\n",
    "\n",
    "    if y is not None:\n",
    "        (azimuth, zenith) = y\n",
    "        xyz = event_pulses[['x', 'y', 'z']]\n",
    "        xyz_mean = xyz.mean(axis=0)\n",
    "        r = 1200\n",
    "\n",
    "        (x0,) = xyz_mean['x']\n",
    "        (y0,) = xyz_mean['y']\n",
    "        (z0,) = xyz_mean['z']\n",
    "        (x1,) = xyz_mean['x'] + r * np.cos(azimuth) * np.sin(zenith)\n",
    "        (y1,) = xyz_mean['y'] + r * np.sin(azimuth) * np.sin(zenith)\n",
    "        (z1,) = xyz_mean['z'] + r * np.cos(zenith)\n",
    "\n",
    "        fig.add_trace(\n",
    "            go.Scatter3d(\n",
    "                x=np.linspace(x0, x1, 100),\n",
    "                y=np.linspace(y0, y1, 100),\n",
    "                z=np.linspace(z0, z1, 100),\n",
    "                marker=go.scatter3d.Marker(size=0.001)\n",
    "            )\n",
    "        )\n",
    "    fig.update_layout(\n",
    "        scene=dict(\n",
    "            xaxis=dict(range=[-600,600],),\n",
    "            yaxis=dict(range=[-600,600],),\n",
    "            zaxis=dict(range=[-600,600],),\n",
    "        ),\n",
    "        scene_aspectmode='cube',\n",
    "        title=dict(text=f\"evt #{event_id}\")\n",
    "    )\n",
    "\n",
    "    return fig"
   ]
  },
  {
   "cell_type": "markdown",
   "id": "d7e1d9c2",
   "metadata": {
    "papermill": {
     "duration": 0.011717,
     "end_time": "2023-04-03T04:03:53.252564",
     "exception": false,
     "start_time": "2023-04-03T04:03:53.240847",
     "status": "completed"
    },
    "tags": []
   },
   "source": [
    "OK, now let's finally make some plots! Here's an event:"
   ]
  },
  {
   "cell_type": "code",
   "execution_count": 12,
   "id": "50d6412e",
   "metadata": {
    "execution": {
     "iopub.execute_input": "2023-04-03T04:03:53.278540Z",
     "iopub.status.busy": "2023-04-03T04:03:53.277829Z",
     "iopub.status.idle": "2023-04-03T04:03:55.003611Z",
     "shell.execute_reply": "2023-04-03T04:03:55.002435Z"
    },
    "papermill": {
     "duration": 1.74152,
     "end_time": "2023-04-03T04:03:55.006086",
     "exception": false,
     "start_time": "2023-04-03T04:03:53.264566",
     "status": "completed"
    },
    "tags": []
   },
   "outputs": [
    {
     "data": {
      "application/vnd.plotly.v1+json": {
       "config": {
        "linkText": "Export to plot.ly",
        "plotlyServerURL": "https://plot.ly",
        "showLink": false
       },
       "data": [
        {
         "hovertemplate": "x=%{x}<br>y=%{y}<br>z=%{z}<br>size=%{marker.size}<br>color=%{marker.color}<extra></extra>",
         "legendgroup": "",
         "marker": {
          "color": [
           9895,
           9908,
           9912,
           10005,
           10240,
           10428,
           10430,
           10435,
           10435,
           10446,
           10460,
           10479,
           10545,
           10551,
           10597,
           10698,
           10735,
           10740,
           10915,
           11038,
           11098,
           11136,
           11256,
           11308,
           11599,
           12346,
           12363,
           12588,
           12815,
           12824,
           12827,
           12834,
           12838,
           12844,
           12847,
           12854,
           12855,
           12862,
           12874,
           12878,
           12885,
           12901,
           12911,
           12934,
           13081,
           14704
          ],
          "coloraxis": "coloraxis",
          "size": [
           2.2249999046325684,
           3.174999952316284,
           1.4249999523162842,
           1.225000023841858,
           0.7250000238418579,
           1.8250000476837158,
           0.2750000059604645,
           0.925000011920929,
           0.4749999940395355,
           1.4249999523162842,
           1.274999976158142,
           0.824999988079071,
           1.0750000476837158,
           1.125,
           1.1749999523162842,
           0.4749999940395355,
           1.024999976158142,
           0.4749999940395355,
           0.7250000238418579,
           1.125,
           0.675000011920929,
           0.7250000238418579,
           0.925000011920929,
           0.22499999403953552,
           0.9750000238418579,
           0.2750000059604645,
           0.875,
           1.1749999523162842,
           1.475000023841858,
           1.225000023841858,
           0.7250000238418579,
           1.5750000476837158,
           0.5249999761581421,
           1.4249999523162842,
           0.7749999761581421,
           0.625,
           0.22499999403953552,
           0.574999988079071,
           1.125,
           0.675000011920929,
           0.9750000238418579,
           1.274999976158142,
           0.22499999403953552,
           1.125,
           1.225000023841858,
           1.3250000476837158
          ],
          "sizemode": "area",
          "sizeref": 0.00793749988079071,
          "symbol": "circle"
         },
         "mode": "markers",
         "name": "",
         "scene": "scene",
         "showlegend": false,
         "type": "scatter3d",
         "x": [
          303.41,
          303.41,
          303.41,
          303.41,
          303.41,
          303.41,
          174.47,
          174.47,
          174.47,
          174.47,
          174.47,
          174.47,
          174.47,
          174.47,
          303.41,
          174.47,
          174.47,
          174.47,
          174.47,
          174.47,
          174.47,
          54.26,
          54.26,
          54.26,
          54.26,
          -268.9,
          -268.9,
          -268.9,
          -392.38,
          -392.38,
          -392.38,
          -392.38,
          -392.38,
          -392.38,
          -392.38,
          -392.38,
          -392.38,
          -392.38,
          -392.38,
          -392.38,
          -392.38,
          -392.38,
          -392.38,
          -392.38,
          -392.38,
          -392.38
         ],
         "y": [
          335.64,
          335.64,
          335.64,
          335.64,
          335.64,
          335.64,
          315.54,
          315.54,
          315.54,
          315.54,
          315.54,
          315.54,
          315.54,
          315.54,
          335.64,
          315.54,
          315.54,
          315.54,
          315.54,
          315.54,
          315.54,
          292.97,
          292.97,
          292.97,
          292.97,
          354.24,
          354.24,
          354.24,
          334.24,
          334.24,
          334.24,
          334.24,
          334.24,
          334.24,
          334.24,
          334.24,
          334.24,
          334.24,
          334.24,
          334.24,
          334.24,
          334.24,
          334.24,
          334.24,
          334.24,
          334.24
         ],
         "z": [
          512.95,
          512.95,
          512.95,
          512.95,
          478.91,
          512.95,
          444.66,
          444.66,
          410.62,
          427.64,
          410.62,
          410.62,
          444.66,
          410.62,
          461.89,
          393.6,
          444.66,
          461.68,
          461.68,
          393.6,
          359.56,
          303.29,
          320.31,
          337.33,
          337.33,
          76.02,
          93.04,
          59.0,
          -24.85,
          -7.83,
          -24.85,
          -24.85,
          -7.83,
          -7.83,
          -24.85,
          -24.85,
          -41.87,
          -24.85,
          -41.87,
          -24.85,
          -7.83,
          -41.87,
          -41.87,
          -41.87,
          -7.83,
          -24.85
         ]
        },
        {
         "marker": {
          "size": 0.001
         },
         "type": "scatter3d",
         "x": [
          -67.08804347826087,
          -57.51706796247919,
          -47.946092446697506,
          -38.37511693091582,
          -28.80414141513414,
          -19.233165899352457,
          -9.662190383570774,
          -0.09121486778909116,
          9.479760647992592,
          19.050736163774275,
          28.621711679555958,
          38.19268719533764,
          47.76366271111932,
          57.334638226901006,
          66.90561374268269,
          76.47658925846436,
          86.04756477424606,
          95.61854029002775,
          105.18951580580942,
          114.76049132159109,
          124.33146683737279,
          133.90244235315447,
          143.47341786893617,
          153.0443933847178,
          162.6153689004995,
          172.1863444162812,
          181.7573199320629,
          191.32829544784454,
          200.89927096362624,
          210.47024647940793,
          220.04122199518957,
          229.61219751097127,
          239.18317302675297,
          248.75414854253467,
          258.32512405831636,
          267.896099574098,
          277.4670750898797,
          287.0380506056614,
          296.60902612144304,
          306.18000163722473,
          315.75097715300643,
          325.32195266878813,
          334.8929281845698,
          344.46390370035147,
          354.03487921613316,
          363.60585473191486,
          373.1768302476965,
          382.7478057634782,
          392.3187812792599,
          401.8897567950416,
          411.4607323108233,
          421.03170782660493,
          430.6026833423866,
          440.1736588581683,
          449.74463437394996,
          459.31560988973166,
          468.88658540551336,
          478.45756092129506,
          488.02853643707675,
          497.59951195285845,
          507.17048746864003,
          516.7414629844218,
          526.3124385002035,
          535.8834140159852,
          545.4543895317669,
          555.0253650475486,
          564.5963405633303,
          574.167316079112,
          583.7382915948937,
          593.3092671106753,
          602.880242626457,
          612.4512181422386,
          622.0221936580203,
          631.593169173802,
          641.1641446895837,
          650.7351202053654,
          660.306095721147,
          669.8770712369287,
          679.4480467527104,
          689.0190222684921,
          698.5899977842738,
          708.1609733000555,
          717.7319488158372,
          727.3029243316189,
          736.8738998474006,
          746.4448753631822,
          756.0158508789639,
          765.5868263947456,
          775.1578019105273,
          784.728777426309,
          794.2997529420907,
          803.8707284578724,
          813.441703973654,
          823.0126794894356,
          832.5836550052173,
          842.154630520999,
          851.7256060367807,
          861.2965815525624,
          870.8675570683441,
          880.4385325841258
         ],
         "y": [
          326.47739130434786,
          326.2671876373885,
          326.0569839704291,
          325.8467803034697,
          325.6365766365103,
          325.4263729695509,
          325.21616930259154,
          325.00596563563215,
          324.79576196867276,
          324.5855583017134,
          324.375354634754,
          324.1651509677946,
          323.9549473008352,
          323.7447436338759,
          323.5345399669165,
          323.3243362999571,
          323.1141326329977,
          322.90392896603834,
          322.69372529907895,
          322.48352163211956,
          322.2733179651602,
          322.0631142982008,
          321.8529106312414,
          321.642706964282,
          321.4325032973226,
          321.22229963036324,
          321.01209596340385,
          320.80189229644446,
          320.5916886294851,
          320.3814849625257,
          320.1712812955663,
          319.9610776286069,
          319.7508739616475,
          319.54067029468814,
          319.33046662772875,
          319.12026296076937,
          318.91005929381,
          318.69985562685065,
          318.48965195989126,
          318.2794482929319,
          318.0692446259725,
          317.8590409590131,
          317.6488372920537,
          317.4386336250943,
          317.22842995813494,
          317.01822629117555,
          316.80802262421616,
          316.5978189572568,
          316.3876152902974,
          316.177411623338,
          315.9672079563786,
          315.7570042894192,
          315.54680062245984,
          315.33659695550045,
          315.12639328854107,
          314.9161896215817,
          314.7059859546223,
          314.4957822876629,
          314.2855786207035,
          314.07537495374413,
          313.86517128678474,
          313.65496761982536,
          313.44476395286597,
          313.23456028590664,
          313.02435661894725,
          312.81415295198786,
          312.6039492850285,
          312.3937456180691,
          312.1835419511097,
          311.9733382841503,
          311.76313461719093,
          311.55293095023154,
          311.34272728327215,
          311.13252361631277,
          310.9223199493534,
          310.712116282394,
          310.5019126154346,
          310.2917089484752,
          310.08150528151583,
          309.87130161455644,
          309.66109794759706,
          309.45089428063767,
          309.2406906136783,
          309.0304869467189,
          308.8202832797595,
          308.6100796128001,
          308.3998759458408,
          308.1896722788814,
          307.979468611922,
          307.76926494496263,
          307.55906127800324,
          307.34885761104385,
          307.13865394408447,
          306.9284502771251,
          306.7182466101657,
          306.5080429432063,
          306.2978392762469,
          306.08763560928753,
          305.87743194232814,
          305.66722827536876
         ],
         "z": [
          228.33586956521737,
          235.7706543894153,
          243.20543921361326,
          250.6402240378112,
          258.07500886200916,
          265.5097936862071,
          272.944578510405,
          280.37936333460294,
          287.8141481588009,
          295.24893298299884,
          302.6837178071968,
          310.11850263139473,
          317.5532874555927,
          324.98807227979063,
          332.4228571039886,
          339.85764192818647,
          347.2924267523845,
          354.72721157658236,
          362.16199640078037,
          369.59678122497826,
          377.0315660491762,
          384.46635087337415,
          391.9011356975721,
          399.33592052177005,
          406.770705345968,
          414.20549017016594,
          421.64027499436384,
          429.07505981856184,
          436.50984464275973,
          443.94462946695774,
          451.3794142911556,
          458.8141991153536,
          466.2489839395515,
          473.68376876374947,
          481.1185535879474,
          488.55333841214537,
          495.9881232363433,
          503.42290806054126,
          510.85769288473915,
          518.2924777089371,
          525.727262533135,
          533.162047357333,
          540.596832181531,
          548.0316170057289,
          555.4664018299268,
          562.9011866541248,
          570.3359714783228,
          577.7707563025207,
          585.2055411267186,
          592.6403259509166,
          600.0751107751145,
          607.5098955993124,
          614.9446804235104,
          622.3794652477084,
          629.8142500719063,
          637.2490348961041,
          644.6838197203022,
          652.1186045445002,
          659.553389368698,
          666.9881741928959,
          674.422959017094,
          681.8577438412918,
          689.2925286654897,
          696.7273134896877,
          704.1620983138857,
          711.5968831380836,
          719.0316679622815,
          726.4664527864795,
          733.9012376106775,
          741.3360224348753,
          748.7708072590733,
          756.2055920832713,
          763.6403769074693,
          771.0751617316671,
          778.5099465558651,
          785.9447313800631,
          793.3795162042609,
          800.8143010284589,
          808.2490858526569,
          815.6838706768549,
          823.1186555010527,
          830.5534403252507,
          837.9882251494487,
          845.4230099736467,
          852.8577947978445,
          860.2925796220425,
          867.7273644462405,
          875.1621492704382,
          882.5969340946363,
          890.0317189188343,
          897.4665037430323,
          904.90128856723,
          912.336073391428,
          919.770858215626,
          927.205643039824,
          934.6404278640218,
          942.0752126882198,
          949.5099975124178,
          956.9447823366156,
          964.3795671608136
         ]
        }
       ],
       "layout": {
        "coloraxis": {
         "colorbar": {
          "title": {
           "text": "color"
          }
         },
         "colorscale": [
          [
           0.0,
           "#0d0887"
          ],
          [
           0.1111111111111111,
           "#46039f"
          ],
          [
           0.2222222222222222,
           "#7201a8"
          ],
          [
           0.3333333333333333,
           "#9c179e"
          ],
          [
           0.4444444444444444,
           "#bd3786"
          ],
          [
           0.5555555555555556,
           "#d8576b"
          ],
          [
           0.6666666666666666,
           "#ed7953"
          ],
          [
           0.7777777777777778,
           "#fb9f3a"
          ],
          [
           0.8888888888888888,
           "#fdca26"
          ],
          [
           1.0,
           "#f0f921"
          ]
         ]
        },
        "legend": {
         "itemsizing": "constant",
         "tracegroupgap": 0
        },
        "margin": {
         "t": 60
        },
        "scene": {
         "aspectmode": "cube",
         "domain": {
          "x": [
           0.0,
           1.0
          ],
          "y": [
           0.0,
           1.0
          ]
         },
         "xaxis": {
          "range": [
           -600,
           600
          ],
          "title": {
           "text": "x"
          }
         },
         "yaxis": {
          "range": [
           -600,
           600
          ],
          "title": {
           "text": "y"
          }
         },
         "zaxis": {
          "range": [
           -600,
           600
          ],
          "title": {
           "text": "z"
          }
         }
        },
        "template": {
         "data": {
          "bar": [
           {
            "error_x": {
             "color": "#2a3f5f"
            },
            "error_y": {
             "color": "#2a3f5f"
            },
            "marker": {
             "line": {
              "color": "#E5ECF6",
              "width": 0.5
             },
             "pattern": {
              "fillmode": "overlay",
              "size": 10,
              "solidity": 0.2
             }
            },
            "type": "bar"
           }
          ],
          "barpolar": [
           {
            "marker": {
             "line": {
              "color": "#E5ECF6",
              "width": 0.5
             },
             "pattern": {
              "fillmode": "overlay",
              "size": 10,
              "solidity": 0.2
             }
            },
            "type": "barpolar"
           }
          ],
          "carpet": [
           {
            "aaxis": {
             "endlinecolor": "#2a3f5f",
             "gridcolor": "white",
             "linecolor": "white",
             "minorgridcolor": "white",
             "startlinecolor": "#2a3f5f"
            },
            "baxis": {
             "endlinecolor": "#2a3f5f",
             "gridcolor": "white",
             "linecolor": "white",
             "minorgridcolor": "white",
             "startlinecolor": "#2a3f5f"
            },
            "type": "carpet"
           }
          ],
          "choropleth": [
           {
            "colorbar": {
             "outlinewidth": 0,
             "ticks": ""
            },
            "type": "choropleth"
           }
          ],
          "contour": [
           {
            "colorbar": {
             "outlinewidth": 0,
             "ticks": ""
            },
            "colorscale": [
             [
              0.0,
              "#0d0887"
             ],
             [
              0.1111111111111111,
              "#46039f"
             ],
             [
              0.2222222222222222,
              "#7201a8"
             ],
             [
              0.3333333333333333,
              "#9c179e"
             ],
             [
              0.4444444444444444,
              "#bd3786"
             ],
             [
              0.5555555555555556,
              "#d8576b"
             ],
             [
              0.6666666666666666,
              "#ed7953"
             ],
             [
              0.7777777777777778,
              "#fb9f3a"
             ],
             [
              0.8888888888888888,
              "#fdca26"
             ],
             [
              1.0,
              "#f0f921"
             ]
            ],
            "type": "contour"
           }
          ],
          "contourcarpet": [
           {
            "colorbar": {
             "outlinewidth": 0,
             "ticks": ""
            },
            "type": "contourcarpet"
           }
          ],
          "heatmap": [
           {
            "colorbar": {
             "outlinewidth": 0,
             "ticks": ""
            },
            "colorscale": [
             [
              0.0,
              "#0d0887"
             ],
             [
              0.1111111111111111,
              "#46039f"
             ],
             [
              0.2222222222222222,
              "#7201a8"
             ],
             [
              0.3333333333333333,
              "#9c179e"
             ],
             [
              0.4444444444444444,
              "#bd3786"
             ],
             [
              0.5555555555555556,
              "#d8576b"
             ],
             [
              0.6666666666666666,
              "#ed7953"
             ],
             [
              0.7777777777777778,
              "#fb9f3a"
             ],
             [
              0.8888888888888888,
              "#fdca26"
             ],
             [
              1.0,
              "#f0f921"
             ]
            ],
            "type": "heatmap"
           }
          ],
          "heatmapgl": [
           {
            "colorbar": {
             "outlinewidth": 0,
             "ticks": ""
            },
            "colorscale": [
             [
              0.0,
              "#0d0887"
             ],
             [
              0.1111111111111111,
              "#46039f"
             ],
             [
              0.2222222222222222,
              "#7201a8"
             ],
             [
              0.3333333333333333,
              "#9c179e"
             ],
             [
              0.4444444444444444,
              "#bd3786"
             ],
             [
              0.5555555555555556,
              "#d8576b"
             ],
             [
              0.6666666666666666,
              "#ed7953"
             ],
             [
              0.7777777777777778,
              "#fb9f3a"
             ],
             [
              0.8888888888888888,
              "#fdca26"
             ],
             [
              1.0,
              "#f0f921"
             ]
            ],
            "type": "heatmapgl"
           }
          ],
          "histogram": [
           {
            "marker": {
             "pattern": {
              "fillmode": "overlay",
              "size": 10,
              "solidity": 0.2
             }
            },
            "type": "histogram"
           }
          ],
          "histogram2d": [
           {
            "colorbar": {
             "outlinewidth": 0,
             "ticks": ""
            },
            "colorscale": [
             [
              0.0,
              "#0d0887"
             ],
             [
              0.1111111111111111,
              "#46039f"
             ],
             [
              0.2222222222222222,
              "#7201a8"
             ],
             [
              0.3333333333333333,
              "#9c179e"
             ],
             [
              0.4444444444444444,
              "#bd3786"
             ],
             [
              0.5555555555555556,
              "#d8576b"
             ],
             [
              0.6666666666666666,
              "#ed7953"
             ],
             [
              0.7777777777777778,
              "#fb9f3a"
             ],
             [
              0.8888888888888888,
              "#fdca26"
             ],
             [
              1.0,
              "#f0f921"
             ]
            ],
            "type": "histogram2d"
           }
          ],
          "histogram2dcontour": [
           {
            "colorbar": {
             "outlinewidth": 0,
             "ticks": ""
            },
            "colorscale": [
             [
              0.0,
              "#0d0887"
             ],
             [
              0.1111111111111111,
              "#46039f"
             ],
             [
              0.2222222222222222,
              "#7201a8"
             ],
             [
              0.3333333333333333,
              "#9c179e"
             ],
             [
              0.4444444444444444,
              "#bd3786"
             ],
             [
              0.5555555555555556,
              "#d8576b"
             ],
             [
              0.6666666666666666,
              "#ed7953"
             ],
             [
              0.7777777777777778,
              "#fb9f3a"
             ],
             [
              0.8888888888888888,
              "#fdca26"
             ],
             [
              1.0,
              "#f0f921"
             ]
            ],
            "type": "histogram2dcontour"
           }
          ],
          "mesh3d": [
           {
            "colorbar": {
             "outlinewidth": 0,
             "ticks": ""
            },
            "type": "mesh3d"
           }
          ],
          "parcoords": [
           {
            "line": {
             "colorbar": {
              "outlinewidth": 0,
              "ticks": ""
             }
            },
            "type": "parcoords"
           }
          ],
          "pie": [
           {
            "automargin": true,
            "type": "pie"
           }
          ],
          "scatter": [
           {
            "fillpattern": {
             "fillmode": "overlay",
             "size": 10,
             "solidity": 0.2
            },
            "type": "scatter"
           }
          ],
          "scatter3d": [
           {
            "line": {
             "colorbar": {
              "outlinewidth": 0,
              "ticks": ""
             }
            },
            "marker": {
             "colorbar": {
              "outlinewidth": 0,
              "ticks": ""
             }
            },
            "type": "scatter3d"
           }
          ],
          "scattercarpet": [
           {
            "marker": {
             "colorbar": {
              "outlinewidth": 0,
              "ticks": ""
             }
            },
            "type": "scattercarpet"
           }
          ],
          "scattergeo": [
           {
            "marker": {
             "colorbar": {
              "outlinewidth": 0,
              "ticks": ""
             }
            },
            "type": "scattergeo"
           }
          ],
          "scattergl": [
           {
            "marker": {
             "colorbar": {
              "outlinewidth": 0,
              "ticks": ""
             }
            },
            "type": "scattergl"
           }
          ],
          "scattermapbox": [
           {
            "marker": {
             "colorbar": {
              "outlinewidth": 0,
              "ticks": ""
             }
            },
            "type": "scattermapbox"
           }
          ],
          "scatterpolar": [
           {
            "marker": {
             "colorbar": {
              "outlinewidth": 0,
              "ticks": ""
             }
            },
            "type": "scatterpolar"
           }
          ],
          "scatterpolargl": [
           {
            "marker": {
             "colorbar": {
              "outlinewidth": 0,
              "ticks": ""
             }
            },
            "type": "scatterpolargl"
           }
          ],
          "scatterternary": [
           {
            "marker": {
             "colorbar": {
              "outlinewidth": 0,
              "ticks": ""
             }
            },
            "type": "scatterternary"
           }
          ],
          "surface": [
           {
            "colorbar": {
             "outlinewidth": 0,
             "ticks": ""
            },
            "colorscale": [
             [
              0.0,
              "#0d0887"
             ],
             [
              0.1111111111111111,
              "#46039f"
             ],
             [
              0.2222222222222222,
              "#7201a8"
             ],
             [
              0.3333333333333333,
              "#9c179e"
             ],
             [
              0.4444444444444444,
              "#bd3786"
             ],
             [
              0.5555555555555556,
              "#d8576b"
             ],
             [
              0.6666666666666666,
              "#ed7953"
             ],
             [
              0.7777777777777778,
              "#fb9f3a"
             ],
             [
              0.8888888888888888,
              "#fdca26"
             ],
             [
              1.0,
              "#f0f921"
             ]
            ],
            "type": "surface"
           }
          ],
          "table": [
           {
            "cells": {
             "fill": {
              "color": "#EBF0F8"
             },
             "line": {
              "color": "white"
             }
            },
            "header": {
             "fill": {
              "color": "#C8D4E3"
             },
             "line": {
              "color": "white"
             }
            },
            "type": "table"
           }
          ]
         },
         "layout": {
          "annotationdefaults": {
           "arrowcolor": "#2a3f5f",
           "arrowhead": 0,
           "arrowwidth": 1
          },
          "autotypenumbers": "strict",
          "coloraxis": {
           "colorbar": {
            "outlinewidth": 0,
            "ticks": ""
           }
          },
          "colorscale": {
           "diverging": [
            [
             0,
             "#8e0152"
            ],
            [
             0.1,
             "#c51b7d"
            ],
            [
             0.2,
             "#de77ae"
            ],
            [
             0.3,
             "#f1b6da"
            ],
            [
             0.4,
             "#fde0ef"
            ],
            [
             0.5,
             "#f7f7f7"
            ],
            [
             0.6,
             "#e6f5d0"
            ],
            [
             0.7,
             "#b8e186"
            ],
            [
             0.8,
             "#7fbc41"
            ],
            [
             0.9,
             "#4d9221"
            ],
            [
             1,
             "#276419"
            ]
           ],
           "sequential": [
            [
             0.0,
             "#0d0887"
            ],
            [
             0.1111111111111111,
             "#46039f"
            ],
            [
             0.2222222222222222,
             "#7201a8"
            ],
            [
             0.3333333333333333,
             "#9c179e"
            ],
            [
             0.4444444444444444,
             "#bd3786"
            ],
            [
             0.5555555555555556,
             "#d8576b"
            ],
            [
             0.6666666666666666,
             "#ed7953"
            ],
            [
             0.7777777777777778,
             "#fb9f3a"
            ],
            [
             0.8888888888888888,
             "#fdca26"
            ],
            [
             1.0,
             "#f0f921"
            ]
           ],
           "sequentialminus": [
            [
             0.0,
             "#0d0887"
            ],
            [
             0.1111111111111111,
             "#46039f"
            ],
            [
             0.2222222222222222,
             "#7201a8"
            ],
            [
             0.3333333333333333,
             "#9c179e"
            ],
            [
             0.4444444444444444,
             "#bd3786"
            ],
            [
             0.5555555555555556,
             "#d8576b"
            ],
            [
             0.6666666666666666,
             "#ed7953"
            ],
            [
             0.7777777777777778,
             "#fb9f3a"
            ],
            [
             0.8888888888888888,
             "#fdca26"
            ],
            [
             1.0,
             "#f0f921"
            ]
           ]
          },
          "colorway": [
           "#636efa",
           "#EF553B",
           "#00cc96",
           "#ab63fa",
           "#FFA15A",
           "#19d3f3",
           "#FF6692",
           "#B6E880",
           "#FF97FF",
           "#FECB52"
          ],
          "font": {
           "color": "#2a3f5f"
          },
          "geo": {
           "bgcolor": "white",
           "lakecolor": "white",
           "landcolor": "#E5ECF6",
           "showlakes": true,
           "showland": true,
           "subunitcolor": "white"
          },
          "hoverlabel": {
           "align": "left"
          },
          "hovermode": "closest",
          "mapbox": {
           "style": "light"
          },
          "paper_bgcolor": "white",
          "plot_bgcolor": "#E5ECF6",
          "polar": {
           "angularaxis": {
            "gridcolor": "white",
            "linecolor": "white",
            "ticks": ""
           },
           "bgcolor": "#E5ECF6",
           "radialaxis": {
            "gridcolor": "white",
            "linecolor": "white",
            "ticks": ""
           }
          },
          "scene": {
           "xaxis": {
            "backgroundcolor": "#E5ECF6",
            "gridcolor": "white",
            "gridwidth": 2,
            "linecolor": "white",
            "showbackground": true,
            "ticks": "",
            "zerolinecolor": "white"
           },
           "yaxis": {
            "backgroundcolor": "#E5ECF6",
            "gridcolor": "white",
            "gridwidth": 2,
            "linecolor": "white",
            "showbackground": true,
            "ticks": "",
            "zerolinecolor": "white"
           },
           "zaxis": {
            "backgroundcolor": "#E5ECF6",
            "gridcolor": "white",
            "gridwidth": 2,
            "linecolor": "white",
            "showbackground": true,
            "ticks": "",
            "zerolinecolor": "white"
           }
          },
          "shapedefaults": {
           "line": {
            "color": "#2a3f5f"
           }
          },
          "ternary": {
           "aaxis": {
            "gridcolor": "white",
            "linecolor": "white",
            "ticks": ""
           },
           "baxis": {
            "gridcolor": "white",
            "linecolor": "white",
            "ticks": ""
           },
           "bgcolor": "#E5ECF6",
           "caxis": {
            "gridcolor": "white",
            "linecolor": "white",
            "ticks": ""
           }
          },
          "title": {
           "x": 0.05
          },
          "xaxis": {
           "automargin": true,
           "gridcolor": "white",
           "linecolor": "white",
           "ticks": "",
           "title": {
            "standoff": 15
           },
           "zerolinecolor": "white",
           "zerolinewidth": 2
          },
          "yaxis": {
           "automargin": true,
           "gridcolor": "white",
           "linecolor": "white",
           "ticks": "",
           "title": {
            "standoff": 15
           },
           "zerolinecolor": "white",
           "zerolinewidth": 2
          }
         }
        },
        "title": {
         "text": "evt #406"
        }
       }
      },
      "text/html": [
       "<div>                            <div id=\"0260f77e-45d8-44a4-af55-91d628c3820e\" class=\"plotly-graph-div\" style=\"height:525px; width:100%;\"></div>            <script type=\"text/javascript\">                require([\"plotly\"], function(Plotly) {                    window.PLOTLYENV=window.PLOTLYENV || {};                                    if (document.getElementById(\"0260f77e-45d8-44a4-af55-91d628c3820e\")) {                    Plotly.newPlot(                        \"0260f77e-45d8-44a4-af55-91d628c3820e\",                        [{\"hovertemplate\":\"x=%{x}<br>y=%{y}<br>z=%{z}<br>size=%{marker.size}<br>color=%{marker.color}<extra></extra>\",\"legendgroup\":\"\",\"marker\":{\"color\":[9895,9908,9912,10005,10240,10428,10430,10435,10435,10446,10460,10479,10545,10551,10597,10698,10735,10740,10915,11038,11098,11136,11256,11308,11599,12346,12363,12588,12815,12824,12827,12834,12838,12844,12847,12854,12855,12862,12874,12878,12885,12901,12911,12934,13081,14704],\"coloraxis\":\"coloraxis\",\"size\":[2.2249999046325684,3.174999952316284,1.4249999523162842,1.225000023841858,0.7250000238418579,1.8250000476837158,0.2750000059604645,0.925000011920929,0.4749999940395355,1.4249999523162842,1.274999976158142,0.824999988079071,1.0750000476837158,1.125,1.1749999523162842,0.4749999940395355,1.024999976158142,0.4749999940395355,0.7250000238418579,1.125,0.675000011920929,0.7250000238418579,0.925000011920929,0.22499999403953552,0.9750000238418579,0.2750000059604645,0.875,1.1749999523162842,1.475000023841858,1.225000023841858,0.7250000238418579,1.5750000476837158,0.5249999761581421,1.4249999523162842,0.7749999761581421,0.625,0.22499999403953552,0.574999988079071,1.125,0.675000011920929,0.9750000238418579,1.274999976158142,0.22499999403953552,1.125,1.225000023841858,1.3250000476837158],\"sizemode\":\"area\",\"sizeref\":0.00793749988079071,\"symbol\":\"circle\"},\"mode\":\"markers\",\"name\":\"\",\"scene\":\"scene\",\"showlegend\":false,\"x\":[303.41,303.41,303.41,303.41,303.41,303.41,174.47,174.47,174.47,174.47,174.47,174.47,174.47,174.47,303.41,174.47,174.47,174.47,174.47,174.47,174.47,54.26,54.26,54.26,54.26,-268.9,-268.9,-268.9,-392.38,-392.38,-392.38,-392.38,-392.38,-392.38,-392.38,-392.38,-392.38,-392.38,-392.38,-392.38,-392.38,-392.38,-392.38,-392.38,-392.38,-392.38],\"y\":[335.64,335.64,335.64,335.64,335.64,335.64,315.54,315.54,315.54,315.54,315.54,315.54,315.54,315.54,335.64,315.54,315.54,315.54,315.54,315.54,315.54,292.97,292.97,292.97,292.97,354.24,354.24,354.24,334.24,334.24,334.24,334.24,334.24,334.24,334.24,334.24,334.24,334.24,334.24,334.24,334.24,334.24,334.24,334.24,334.24,334.24],\"z\":[512.95,512.95,512.95,512.95,478.91,512.95,444.66,444.66,410.62,427.64,410.62,410.62,444.66,410.62,461.89,393.6,444.66,461.68,461.68,393.6,359.56,303.29,320.31,337.33,337.33,76.02,93.04,59.0,-24.85,-7.83,-24.85,-24.85,-7.83,-7.83,-24.85,-24.85,-41.87,-24.85,-41.87,-24.85,-7.83,-41.87,-41.87,-41.87,-7.83,-24.85],\"type\":\"scatter3d\"},{\"marker\":{\"size\":0.001},\"x\":[-67.08804347826087,-57.51706796247919,-47.946092446697506,-38.37511693091582,-28.80414141513414,-19.233165899352457,-9.662190383570774,-0.09121486778909116,9.479760647992592,19.050736163774275,28.621711679555958,38.19268719533764,47.76366271111932,57.334638226901006,66.90561374268269,76.47658925846436,86.04756477424606,95.61854029002775,105.18951580580942,114.76049132159109,124.33146683737279,133.90244235315447,143.47341786893617,153.0443933847178,162.6153689004995,172.1863444162812,181.7573199320629,191.32829544784454,200.89927096362624,210.47024647940793,220.04122199518957,229.61219751097127,239.18317302675297,248.75414854253467,258.32512405831636,267.896099574098,277.4670750898797,287.0380506056614,296.60902612144304,306.18000163722473,315.75097715300643,325.32195266878813,334.8929281845698,344.46390370035147,354.03487921613316,363.60585473191486,373.1768302476965,382.7478057634782,392.3187812792599,401.8897567950416,411.4607323108233,421.03170782660493,430.6026833423866,440.1736588581683,449.74463437394996,459.31560988973166,468.88658540551336,478.45756092129506,488.02853643707675,497.59951195285845,507.17048746864003,516.7414629844218,526.3124385002035,535.8834140159852,545.4543895317669,555.0253650475486,564.5963405633303,574.167316079112,583.7382915948937,593.3092671106753,602.880242626457,612.4512181422386,622.0221936580203,631.593169173802,641.1641446895837,650.7351202053654,660.306095721147,669.8770712369287,679.4480467527104,689.0190222684921,698.5899977842738,708.1609733000555,717.7319488158372,727.3029243316189,736.8738998474006,746.4448753631822,756.0158508789639,765.5868263947456,775.1578019105273,784.728777426309,794.2997529420907,803.8707284578724,813.441703973654,823.0126794894356,832.5836550052173,842.154630520999,851.7256060367807,861.2965815525624,870.8675570683441,880.4385325841258],\"y\":[326.47739130434786,326.2671876373885,326.0569839704291,325.8467803034697,325.6365766365103,325.4263729695509,325.21616930259154,325.00596563563215,324.79576196867276,324.5855583017134,324.375354634754,324.1651509677946,323.9549473008352,323.7447436338759,323.5345399669165,323.3243362999571,323.1141326329977,322.90392896603834,322.69372529907895,322.48352163211956,322.2733179651602,322.0631142982008,321.8529106312414,321.642706964282,321.4325032973226,321.22229963036324,321.01209596340385,320.80189229644446,320.5916886294851,320.3814849625257,320.1712812955663,319.9610776286069,319.7508739616475,319.54067029468814,319.33046662772875,319.12026296076937,318.91005929381,318.69985562685065,318.48965195989126,318.2794482929319,318.0692446259725,317.8590409590131,317.6488372920537,317.4386336250943,317.22842995813494,317.01822629117555,316.80802262421616,316.5978189572568,316.3876152902974,316.177411623338,315.9672079563786,315.7570042894192,315.54680062245984,315.33659695550045,315.12639328854107,314.9161896215817,314.7059859546223,314.4957822876629,314.2855786207035,314.07537495374413,313.86517128678474,313.65496761982536,313.44476395286597,313.23456028590664,313.02435661894725,312.81415295198786,312.6039492850285,312.3937456180691,312.1835419511097,311.9733382841503,311.76313461719093,311.55293095023154,311.34272728327215,311.13252361631277,310.9223199493534,310.712116282394,310.5019126154346,310.2917089484752,310.08150528151583,309.87130161455644,309.66109794759706,309.45089428063767,309.2406906136783,309.0304869467189,308.8202832797595,308.6100796128001,308.3998759458408,308.1896722788814,307.979468611922,307.76926494496263,307.55906127800324,307.34885761104385,307.13865394408447,306.9284502771251,306.7182466101657,306.5080429432063,306.2978392762469,306.08763560928753,305.87743194232814,305.66722827536876],\"z\":[228.33586956521737,235.7706543894153,243.20543921361326,250.6402240378112,258.07500886200916,265.5097936862071,272.944578510405,280.37936333460294,287.8141481588009,295.24893298299884,302.6837178071968,310.11850263139473,317.5532874555927,324.98807227979063,332.4228571039886,339.85764192818647,347.2924267523845,354.72721157658236,362.16199640078037,369.59678122497826,377.0315660491762,384.46635087337415,391.9011356975721,399.33592052177005,406.770705345968,414.20549017016594,421.64027499436384,429.07505981856184,436.50984464275973,443.94462946695774,451.3794142911556,458.8141991153536,466.2489839395515,473.68376876374947,481.1185535879474,488.55333841214537,495.9881232363433,503.42290806054126,510.85769288473915,518.2924777089371,525.727262533135,533.162047357333,540.596832181531,548.0316170057289,555.4664018299268,562.9011866541248,570.3359714783228,577.7707563025207,585.2055411267186,592.6403259509166,600.0751107751145,607.5098955993124,614.9446804235104,622.3794652477084,629.8142500719063,637.2490348961041,644.6838197203022,652.1186045445002,659.553389368698,666.9881741928959,674.422959017094,681.8577438412918,689.2925286654897,696.7273134896877,704.1620983138857,711.5968831380836,719.0316679622815,726.4664527864795,733.9012376106775,741.3360224348753,748.7708072590733,756.2055920832713,763.6403769074693,771.0751617316671,778.5099465558651,785.9447313800631,793.3795162042609,800.8143010284589,808.2490858526569,815.6838706768549,823.1186555010527,830.5534403252507,837.9882251494487,845.4230099736467,852.8577947978445,860.2925796220425,867.7273644462405,875.1621492704382,882.5969340946363,890.0317189188343,897.4665037430323,904.90128856723,912.336073391428,919.770858215626,927.205643039824,934.6404278640218,942.0752126882198,949.5099975124178,956.9447823366156,964.3795671608136],\"type\":\"scatter3d\"}],                        {\"coloraxis\":{\"colorbar\":{\"title\":{\"text\":\"color\"}},\"colorscale\":[[0.0,\"#0d0887\"],[0.1111111111111111,\"#46039f\"],[0.2222222222222222,\"#7201a8\"],[0.3333333333333333,\"#9c179e\"],[0.4444444444444444,\"#bd3786\"],[0.5555555555555556,\"#d8576b\"],[0.6666666666666666,\"#ed7953\"],[0.7777777777777778,\"#fb9f3a\"],[0.8888888888888888,\"#fdca26\"],[1.0,\"#f0f921\"]]},\"legend\":{\"itemsizing\":\"constant\",\"tracegroupgap\":0},\"margin\":{\"t\":60},\"scene\":{\"aspectmode\":\"cube\",\"domain\":{\"x\":[0.0,1.0],\"y\":[0.0,1.0]},\"xaxis\":{\"range\":[-600,600],\"title\":{\"text\":\"x\"}},\"yaxis\":{\"range\":[-600,600],\"title\":{\"text\":\"y\"}},\"zaxis\":{\"range\":[-600,600],\"title\":{\"text\":\"z\"}}},\"template\":{\"data\":{\"barpolar\":[{\"marker\":{\"line\":{\"color\":\"#E5ECF6\",\"width\":0.5},\"pattern\":{\"fillmode\":\"overlay\",\"size\":10,\"solidity\":0.2}},\"type\":\"barpolar\"}],\"bar\":[{\"error_x\":{\"color\":\"#2a3f5f\"},\"error_y\":{\"color\":\"#2a3f5f\"},\"marker\":{\"line\":{\"color\":\"#E5ECF6\",\"width\":0.5},\"pattern\":{\"fillmode\":\"overlay\",\"size\":10,\"solidity\":0.2}},\"type\":\"bar\"}],\"carpet\":[{\"aaxis\":{\"endlinecolor\":\"#2a3f5f\",\"gridcolor\":\"white\",\"linecolor\":\"white\",\"minorgridcolor\":\"white\",\"startlinecolor\":\"#2a3f5f\"},\"baxis\":{\"endlinecolor\":\"#2a3f5f\",\"gridcolor\":\"white\",\"linecolor\":\"white\",\"minorgridcolor\":\"white\",\"startlinecolor\":\"#2a3f5f\"},\"type\":\"carpet\"}],\"choropleth\":[{\"colorbar\":{\"outlinewidth\":0,\"ticks\":\"\"},\"type\":\"choropleth\"}],\"contourcarpet\":[{\"colorbar\":{\"outlinewidth\":0,\"ticks\":\"\"},\"type\":\"contourcarpet\"}],\"contour\":[{\"colorbar\":{\"outlinewidth\":0,\"ticks\":\"\"},\"colorscale\":[[0.0,\"#0d0887\"],[0.1111111111111111,\"#46039f\"],[0.2222222222222222,\"#7201a8\"],[0.3333333333333333,\"#9c179e\"],[0.4444444444444444,\"#bd3786\"],[0.5555555555555556,\"#d8576b\"],[0.6666666666666666,\"#ed7953\"],[0.7777777777777778,\"#fb9f3a\"],[0.8888888888888888,\"#fdca26\"],[1.0,\"#f0f921\"]],\"type\":\"contour\"}],\"heatmapgl\":[{\"colorbar\":{\"outlinewidth\":0,\"ticks\":\"\"},\"colorscale\":[[0.0,\"#0d0887\"],[0.1111111111111111,\"#46039f\"],[0.2222222222222222,\"#7201a8\"],[0.3333333333333333,\"#9c179e\"],[0.4444444444444444,\"#bd3786\"],[0.5555555555555556,\"#d8576b\"],[0.6666666666666666,\"#ed7953\"],[0.7777777777777778,\"#fb9f3a\"],[0.8888888888888888,\"#fdca26\"],[1.0,\"#f0f921\"]],\"type\":\"heatmapgl\"}],\"heatmap\":[{\"colorbar\":{\"outlinewidth\":0,\"ticks\":\"\"},\"colorscale\":[[0.0,\"#0d0887\"],[0.1111111111111111,\"#46039f\"],[0.2222222222222222,\"#7201a8\"],[0.3333333333333333,\"#9c179e\"],[0.4444444444444444,\"#bd3786\"],[0.5555555555555556,\"#d8576b\"],[0.6666666666666666,\"#ed7953\"],[0.7777777777777778,\"#fb9f3a\"],[0.8888888888888888,\"#fdca26\"],[1.0,\"#f0f921\"]],\"type\":\"heatmap\"}],\"histogram2dcontour\":[{\"colorbar\":{\"outlinewidth\":0,\"ticks\":\"\"},\"colorscale\":[[0.0,\"#0d0887\"],[0.1111111111111111,\"#46039f\"],[0.2222222222222222,\"#7201a8\"],[0.3333333333333333,\"#9c179e\"],[0.4444444444444444,\"#bd3786\"],[0.5555555555555556,\"#d8576b\"],[0.6666666666666666,\"#ed7953\"],[0.7777777777777778,\"#fb9f3a\"],[0.8888888888888888,\"#fdca26\"],[1.0,\"#f0f921\"]],\"type\":\"histogram2dcontour\"}],\"histogram2d\":[{\"colorbar\":{\"outlinewidth\":0,\"ticks\":\"\"},\"colorscale\":[[0.0,\"#0d0887\"],[0.1111111111111111,\"#46039f\"],[0.2222222222222222,\"#7201a8\"],[0.3333333333333333,\"#9c179e\"],[0.4444444444444444,\"#bd3786\"],[0.5555555555555556,\"#d8576b\"],[0.6666666666666666,\"#ed7953\"],[0.7777777777777778,\"#fb9f3a\"],[0.8888888888888888,\"#fdca26\"],[1.0,\"#f0f921\"]],\"type\":\"histogram2d\"}],\"histogram\":[{\"marker\":{\"pattern\":{\"fillmode\":\"overlay\",\"size\":10,\"solidity\":0.2}},\"type\":\"histogram\"}],\"mesh3d\":[{\"colorbar\":{\"outlinewidth\":0,\"ticks\":\"\"},\"type\":\"mesh3d\"}],\"parcoords\":[{\"line\":{\"colorbar\":{\"outlinewidth\":0,\"ticks\":\"\"}},\"type\":\"parcoords\"}],\"pie\":[{\"automargin\":true,\"type\":\"pie\"}],\"scatter3d\":[{\"line\":{\"colorbar\":{\"outlinewidth\":0,\"ticks\":\"\"}},\"marker\":{\"colorbar\":{\"outlinewidth\":0,\"ticks\":\"\"}},\"type\":\"scatter3d\"}],\"scattercarpet\":[{\"marker\":{\"colorbar\":{\"outlinewidth\":0,\"ticks\":\"\"}},\"type\":\"scattercarpet\"}],\"scattergeo\":[{\"marker\":{\"colorbar\":{\"outlinewidth\":0,\"ticks\":\"\"}},\"type\":\"scattergeo\"}],\"scattergl\":[{\"marker\":{\"colorbar\":{\"outlinewidth\":0,\"ticks\":\"\"}},\"type\":\"scattergl\"}],\"scattermapbox\":[{\"marker\":{\"colorbar\":{\"outlinewidth\":0,\"ticks\":\"\"}},\"type\":\"scattermapbox\"}],\"scatterpolargl\":[{\"marker\":{\"colorbar\":{\"outlinewidth\":0,\"ticks\":\"\"}},\"type\":\"scatterpolargl\"}],\"scatterpolar\":[{\"marker\":{\"colorbar\":{\"outlinewidth\":0,\"ticks\":\"\"}},\"type\":\"scatterpolar\"}],\"scatter\":[{\"fillpattern\":{\"fillmode\":\"overlay\",\"size\":10,\"solidity\":0.2},\"type\":\"scatter\"}],\"scatterternary\":[{\"marker\":{\"colorbar\":{\"outlinewidth\":0,\"ticks\":\"\"}},\"type\":\"scatterternary\"}],\"surface\":[{\"colorbar\":{\"outlinewidth\":0,\"ticks\":\"\"},\"colorscale\":[[0.0,\"#0d0887\"],[0.1111111111111111,\"#46039f\"],[0.2222222222222222,\"#7201a8\"],[0.3333333333333333,\"#9c179e\"],[0.4444444444444444,\"#bd3786\"],[0.5555555555555556,\"#d8576b\"],[0.6666666666666666,\"#ed7953\"],[0.7777777777777778,\"#fb9f3a\"],[0.8888888888888888,\"#fdca26\"],[1.0,\"#f0f921\"]],\"type\":\"surface\"}],\"table\":[{\"cells\":{\"fill\":{\"color\":\"#EBF0F8\"},\"line\":{\"color\":\"white\"}},\"header\":{\"fill\":{\"color\":\"#C8D4E3\"},\"line\":{\"color\":\"white\"}},\"type\":\"table\"}]},\"layout\":{\"annotationdefaults\":{\"arrowcolor\":\"#2a3f5f\",\"arrowhead\":0,\"arrowwidth\":1},\"autotypenumbers\":\"strict\",\"coloraxis\":{\"colorbar\":{\"outlinewidth\":0,\"ticks\":\"\"}},\"colorscale\":{\"diverging\":[[0,\"#8e0152\"],[0.1,\"#c51b7d\"],[0.2,\"#de77ae\"],[0.3,\"#f1b6da\"],[0.4,\"#fde0ef\"],[0.5,\"#f7f7f7\"],[0.6,\"#e6f5d0\"],[0.7,\"#b8e186\"],[0.8,\"#7fbc41\"],[0.9,\"#4d9221\"],[1,\"#276419\"]],\"sequential\":[[0.0,\"#0d0887\"],[0.1111111111111111,\"#46039f\"],[0.2222222222222222,\"#7201a8\"],[0.3333333333333333,\"#9c179e\"],[0.4444444444444444,\"#bd3786\"],[0.5555555555555556,\"#d8576b\"],[0.6666666666666666,\"#ed7953\"],[0.7777777777777778,\"#fb9f3a\"],[0.8888888888888888,\"#fdca26\"],[1.0,\"#f0f921\"]],\"sequentialminus\":[[0.0,\"#0d0887\"],[0.1111111111111111,\"#46039f\"],[0.2222222222222222,\"#7201a8\"],[0.3333333333333333,\"#9c179e\"],[0.4444444444444444,\"#bd3786\"],[0.5555555555555556,\"#d8576b\"],[0.6666666666666666,\"#ed7953\"],[0.7777777777777778,\"#fb9f3a\"],[0.8888888888888888,\"#fdca26\"],[1.0,\"#f0f921\"]]},\"colorway\":[\"#636efa\",\"#EF553B\",\"#00cc96\",\"#ab63fa\",\"#FFA15A\",\"#19d3f3\",\"#FF6692\",\"#B6E880\",\"#FF97FF\",\"#FECB52\"],\"font\":{\"color\":\"#2a3f5f\"},\"geo\":{\"bgcolor\":\"white\",\"lakecolor\":\"white\",\"landcolor\":\"#E5ECF6\",\"showlakes\":true,\"showland\":true,\"subunitcolor\":\"white\"},\"hoverlabel\":{\"align\":\"left\"},\"hovermode\":\"closest\",\"mapbox\":{\"style\":\"light\"},\"paper_bgcolor\":\"white\",\"plot_bgcolor\":\"#E5ECF6\",\"polar\":{\"angularaxis\":{\"gridcolor\":\"white\",\"linecolor\":\"white\",\"ticks\":\"\"},\"bgcolor\":\"#E5ECF6\",\"radialaxis\":{\"gridcolor\":\"white\",\"linecolor\":\"white\",\"ticks\":\"\"}},\"scene\":{\"xaxis\":{\"backgroundcolor\":\"#E5ECF6\",\"gridcolor\":\"white\",\"gridwidth\":2,\"linecolor\":\"white\",\"showbackground\":true,\"ticks\":\"\",\"zerolinecolor\":\"white\"},\"yaxis\":{\"backgroundcolor\":\"#E5ECF6\",\"gridcolor\":\"white\",\"gridwidth\":2,\"linecolor\":\"white\",\"showbackground\":true,\"ticks\":\"\",\"zerolinecolor\":\"white\"},\"zaxis\":{\"backgroundcolor\":\"#E5ECF6\",\"gridcolor\":\"white\",\"gridwidth\":2,\"linecolor\":\"white\",\"showbackground\":true,\"ticks\":\"\",\"zerolinecolor\":\"white\"}},\"shapedefaults\":{\"line\":{\"color\":\"#2a3f5f\"}},\"ternary\":{\"aaxis\":{\"gridcolor\":\"white\",\"linecolor\":\"white\",\"ticks\":\"\"},\"baxis\":{\"gridcolor\":\"white\",\"linecolor\":\"white\",\"ticks\":\"\"},\"bgcolor\":\"#E5ECF6\",\"caxis\":{\"gridcolor\":\"white\",\"linecolor\":\"white\",\"ticks\":\"\"}},\"title\":{\"x\":0.05},\"xaxis\":{\"automargin\":true,\"gridcolor\":\"white\",\"linecolor\":\"white\",\"ticks\":\"\",\"title\":{\"standoff\":15},\"zerolinecolor\":\"white\",\"zerolinewidth\":2},\"yaxis\":{\"automargin\":true,\"gridcolor\":\"white\",\"linecolor\":\"white\",\"ticks\":\"\",\"title\":{\"standoff\":15},\"zerolinecolor\":\"white\",\"zerolinewidth\":2}}},\"title\":{\"text\":\"evt #406\"}},                        {\"responsive\": true}                    ).then(function(){\n",
       "                            \n",
       "var gd = document.getElementById('0260f77e-45d8-44a4-af55-91d628c3820e');\n",
       "var x = new MutationObserver(function (mutations, observer) {{\n",
       "        var display = window.getComputedStyle(gd).display;\n",
       "        if (!display || display === 'none') {{\n",
       "            console.log([gd, 'removed!']);\n",
       "            Plotly.purge(gd);\n",
       "            observer.disconnect();\n",
       "        }}\n",
       "}});\n",
       "\n",
       "// Listen for the removal of the full notebook cells\n",
       "var notebookContainer = gd.closest('#notebook-container');\n",
       "if (notebookContainer) {{\n",
       "    x.observe(notebookContainer, {childList: true});\n",
       "}}\n",
       "\n",
       "// Listen for the clearing of the current output cell\n",
       "var outputEl = gd.closest('.output');\n",
       "if (outputEl) {{\n",
       "    x.observe(outputEl, {childList: true});\n",
       "}}\n",
       "\n",
       "                        })                };                });            </script>        </div>"
      ]
     },
     "metadata": {},
     "output_type": "display_data"
    }
   ],
   "source": [
    "iplot(plot_event(*load_single_event(\"train\", 0, 18)))"
   ]
  },
  {
   "cell_type": "markdown",
   "id": "cf045fdb",
   "metadata": {
    "papermill": {
     "duration": 0.017767,
     "end_time": "2023-04-03T04:03:55.042846",
     "exception": false,
     "start_time": "2023-04-03T04:03:55.025079",
     "status": "completed"
    },
    "tags": []
   },
   "source": [
    "Not all events have the direction this nicely aligned with the pulses trail. E.g., check out this one:"
   ]
  },
  {
   "cell_type": "code",
   "execution_count": 13,
   "id": "cbee00e5",
   "metadata": {
    "execution": {
     "iopub.execute_input": "2023-04-03T04:03:55.080653Z",
     "iopub.status.busy": "2023-04-03T04:03:55.080262Z",
     "iopub.status.idle": "2023-04-03T04:03:55.201364Z",
     "shell.execute_reply": "2023-04-03T04:03:55.200385Z"
    },
    "papermill": {
     "duration": 0.144334,
     "end_time": "2023-04-03T04:03:55.205236",
     "exception": false,
     "start_time": "2023-04-03T04:03:55.060902",
     "status": "completed"
    },
    "tags": []
   },
   "outputs": [
    {
     "data": {
      "application/vnd.plotly.v1+json": {
       "config": {
        "linkText": "Export to plot.ly",
        "plotlyServerURL": "https://plot.ly",
        "showLink": false
       },
       "data": [
        {
         "hovertemplate": "x=%{x}<br>y=%{y}<br>z=%{z}<br>size=%{marker.size}<br>color=%{marker.color}<extra></extra>",
         "legendgroup": "",
         "marker": {
          "color": [
           9860,
           9872,
           9903,
           9994,
           10127,
           10323,
           11208,
           11212,
           11228,
           11263,
           11352,
           11357,
           11368,
           11577,
           11733,
           11899,
           11970,
           12604,
           12620,
           13122,
           13190,
           13847,
           13853,
           15095
          ],
          "coloraxis": "coloraxis",
          "size": [
           0.875,
           1.0750000476837158,
           0.32499998807907104,
           0.5249999761581421,
           1.0750000476837158,
           1.3250000476837158,
           0.2750000059604645,
           0.2750000059604645,
           0.675000011920929,
           1.1749999523162842,
           0.17499999701976776,
           0.7749999761581421,
           0.875,
           1.0750000476837158,
           0.5249999761581421,
           0.574999988079071,
           1.1749999523162842,
           0.625,
           0.875,
           0.875,
           0.7250000238418579,
           1.225000023841858,
           0.7749999761581421,
           1.4249999523162842
          ],
          "sizemode": "area",
          "sizeref": 0.0035624998807907106,
          "symbol": "circle"
         },
         "mode": "markers",
         "name": "",
         "scene": "scene",
         "showlegend": false,
         "type": "scatter3d",
         "x": [
          544.07,
          544.07,
          544.07,
          544.07,
          544.07,
          544.07,
          330.03,
          330.03,
          330.03,
          330.03,
          330.03,
          330.03,
          330.03,
          330.03,
          330.03,
          330.03,
          330.03,
          132.03,
          132.03,
          54.26,
          54.26,
          54.26,
          54.26,
          330.03
         ],
         "y": [
          55.89,
          55.89,
          55.89,
          55.89,
          55.89,
          55.89,
          127.2,
          127.2,
          127.2,
          127.2,
          127.2,
          127.2,
          127.2,
          127.2,
          127.2,
          127.2,
          127.2,
          202.98,
          202.98,
          292.97,
          292.97,
          292.97,
          292.97,
          127.2
         ],
         "z": [
          502.79,
          502.79,
          468.74,
          451.72,
          468.74,
          417.68,
          143.43,
          160.45,
          211.51,
          126.41,
          160.45,
          109.39,
          109.39,
          126.41,
          109.39,
          245.56,
          160.45,
          -195.12,
          -178.09,
          -292.44,
          -326.48,
          -292.44,
          -343.5,
          211.51
         ]
        },
        {
         "marker": {
          "size": 0.001
         },
         "type": "scatter3d",
         "x": [
          321.0783333333333,
          311.7448966430411,
          302.4114599527489,
          293.07802326245667,
          283.74458657216445,
          274.41114988187223,
          265.07771319158,
          255.74427650128783,
          246.4108398109956,
          237.0774031207034,
          227.74396643041118,
          218.410529740119,
          209.07709304982677,
          199.74365635953455,
          190.41021966924234,
          181.07678297895012,
          171.7433462886579,
          162.4099095983657,
          153.07647290807347,
          143.74303621778125,
          134.40959952748904,
          125.07616283719685,
          115.74272614690463,
          106.40928945661241,
          97.0758527663202,
          87.74241607602798,
          78.40897938573576,
          69.07554269544354,
          59.742106005151356,
          50.40866931485914,
          41.07523262456692,
          31.741795934274705,
          22.40835924398249,
          13.074922553690271,
          3.7414858633980543,
          -5.591950826894163,
          -14.92538751718638,
          -24.258824207478597,
          -33.592260897770814,
          -42.92569758806303,
          -52.25913427835525,
          -61.59257096864741,
          -70.92600765893962,
          -80.25944434923184,
          -89.59288103952406,
          -98.92631772981628,
          -108.2597544201085,
          -117.59319111040071,
          -126.92662780069293,
          -136.26006449098514,
          -145.59350118127736,
          -154.92693787156958,
          -164.2603745618618,
          -173.593811252154,
          -182.92724794244623,
          -192.26068463273845,
          -201.5941213230306,
          -210.92755801332288,
          -220.26099470361504,
          -229.5944313939073,
          -238.92786808419947,
          -248.26130477449175,
          -257.5947414647839,
          -266.9281781550762,
          -276.26161484536834,
          -285.5950515356605,
          -294.9284882259528,
          -304.26192491624494,
          -313.5953616065372,
          -322.92879829682937,
          -332.26223498712164,
          -341.5956716774138,
          -350.9291083677061,
          -360.26254505799824,
          -369.5959817482905,
          -378.9294184385827,
          -388.26285512887495,
          -397.5962918191671,
          -406.9297285094594,
          -416.26316519975154,
          -425.5966018900438,
          -434.930038580336,
          -444.26347527062813,
          -453.5969119609204,
          -462.93034865121257,
          -472.26378534150484,
          -481.597222031797,
          -490.9306587220893,
          -500.26409541238144,
          -509.5975321026737,
          -518.9309687929658,
          -528.2644054832581,
          -537.5978421735504,
          -546.9312788638426,
          -556.2647155541347,
          -565.598152244427,
          -574.9315889347192,
          -584.2650256250113,
          -593.5984623153035,
          -602.9318990055958
         ],
         "y": [
          143.31583333333333,
          151.04470971053524,
          158.77358608773713,
          166.50246246493904,
          174.23133884214093,
          181.96021521934284,
          189.68909159654476,
          197.41796797374664,
          205.14684435094856,
          212.87572072815044,
          220.60459710535235,
          228.33347348255427,
          236.06234985975615,
          243.79122623695804,
          251.52010261415995,
          259.24897899136187,
          266.9778553685638,
          274.70673174576564,
          282.43560812296755,
          290.16448450016946,
          297.8933608773714,
          305.6222372545733,
          313.3511136317752,
          321.0799900089771,
          328.808866386179,
          336.5377427633809,
          344.26661914058275,
          351.99549551778466,
          359.7243718949866,
          367.4532482721885,
          375.1821246493904,
          382.9110010265923,
          390.63987740379423,
          398.36875378099614,
          406.097630158198,
          413.8265065353999,
          421.55538291260183,
          429.2842592898037,
          437.0131356670056,
          444.7420120442075,
          452.4708884214094,
          460.19976479861134,
          467.9286411758132,
          475.6575175530151,
          483.386393930217,
          491.11527030741894,
          498.84414668462085,
          506.5730230618227,
          514.3018994390246,
          522.0307758162265,
          529.7596521934285,
          537.4885285706304,
          545.2174049478322,
          552.9462813250341,
          560.675157702236,
          568.4040340794379,
          576.1329104566398,
          583.8617868338417,
          591.5906632110436,
          599.3195395882456,
          607.0484159654475,
          614.7772923426494,
          622.5061687198513,
          630.2350450970532,
          637.9639214742551,
          645.692797851457,
          653.421674228659,
          661.1505506058608,
          668.8794269830627,
          676.6083033602646,
          684.3371797374665,
          692.0660561146684,
          699.7949324918703,
          707.5238088690722,
          715.252685246274,
          722.981561623476,
          730.7104380006779,
          738.4393143778798,
          746.1681907550817,
          753.8970671322836,
          761.6259435094855,
          769.3548198866874,
          777.0836962638894,
          784.8125726410913,
          792.5414490182931,
          800.270325395495,
          807.9992017726969,
          815.7280781498988,
          823.4569545271007,
          831.1858309043026,
          838.9147072815045,
          846.6435836587065,
          854.3724600359084,
          862.1013364131103,
          869.8302127903121,
          877.559089167514,
          885.2879655447159,
          893.0168419219178,
          900.7457182991197,
          908.4745946763217
         ],
         "z": [
          127.4475,
          127.72174948797985,
          127.9959989759597,
          128.27024846393954,
          128.5444979519194,
          128.81874743989923,
          129.09299692787908,
          129.36724641585892,
          129.64149590383877,
          129.9157453918186,
          130.18999487979846,
          130.4642443677783,
          130.73849385575815,
          131.012743343738,
          131.28699283171784,
          131.5612423196977,
          131.83549180767753,
          132.1097412956574,
          132.38399078363722,
          132.65824027161707,
          132.9324897595969,
          133.20673924757676,
          133.4809887355566,
          133.75523822353645,
          134.0294877115163,
          134.30373719949614,
          134.577986687476,
          134.85223617545583,
          135.1264856634357,
          135.40073515141552,
          135.67498463939538,
          135.9492341273752,
          136.22348361535506,
          136.4977331033349,
          136.77198259131475,
          137.04623207929458,
          137.32048156727444,
          137.59473105525427,
          137.86898054323413,
          138.143230031214,
          138.41747951919382,
          138.69172900717368,
          138.9659784951535,
          139.24022798313337,
          139.5144774711132,
          139.78872695909305,
          140.06297644707288,
          140.33722593505274,
          140.61147542303257,
          140.88572491101243,
          141.1599743989923,
          141.43422388697212,
          141.70847337495198,
          141.9827228629318,
          142.25697235091167,
          142.5312218388915,
          142.80547132687136,
          143.07972081485119,
          143.35397030283104,
          143.62821979081087,
          143.90246927879073,
          144.1767187667706,
          144.45096825475042,
          144.72521774273028,
          144.9994672307101,
          145.27371671868997,
          145.5479662066698,
          145.82221569464966,
          146.0964651826295,
          146.37071467060935,
          146.64496415858918,
          146.91921364656903,
          147.1934631345489,
          147.46771262252872,
          147.74196211050855,
          148.0162115984884,
          148.29046108646827,
          148.5647105744481,
          148.83896006242796,
          149.1132095504078,
          149.38745903838765,
          149.66170852636748,
          149.93595801434734,
          150.21020750232717,
          150.48445699030702,
          150.75870647828685,
          151.0329559662667,
          151.30720545424657,
          151.5814549422264,
          151.85570443020626,
          152.1299539181861,
          152.40420340616595,
          152.67845289414578,
          152.95270238212564,
          153.22695187010547,
          153.50120135808532,
          153.77545084606516,
          154.049700334045,
          154.32394982202487,
          154.5981993100047
         ]
        }
       ],
       "layout": {
        "coloraxis": {
         "colorbar": {
          "title": {
           "text": "color"
          }
         },
         "colorscale": [
          [
           0.0,
           "#0d0887"
          ],
          [
           0.1111111111111111,
           "#46039f"
          ],
          [
           0.2222222222222222,
           "#7201a8"
          ],
          [
           0.3333333333333333,
           "#9c179e"
          ],
          [
           0.4444444444444444,
           "#bd3786"
          ],
          [
           0.5555555555555556,
           "#d8576b"
          ],
          [
           0.6666666666666666,
           "#ed7953"
          ],
          [
           0.7777777777777778,
           "#fb9f3a"
          ],
          [
           0.8888888888888888,
           "#fdca26"
          ],
          [
           1.0,
           "#f0f921"
          ]
         ]
        },
        "legend": {
         "itemsizing": "constant",
         "tracegroupgap": 0
        },
        "margin": {
         "t": 60
        },
        "scene": {
         "aspectmode": "cube",
         "domain": {
          "x": [
           0.0,
           1.0
          ],
          "y": [
           0.0,
           1.0
          ]
         },
         "xaxis": {
          "range": [
           -600,
           600
          ],
          "title": {
           "text": "x"
          }
         },
         "yaxis": {
          "range": [
           -600,
           600
          ],
          "title": {
           "text": "y"
          }
         },
         "zaxis": {
          "range": [
           -600,
           600
          ],
          "title": {
           "text": "z"
          }
         }
        },
        "template": {
         "data": {
          "bar": [
           {
            "error_x": {
             "color": "#2a3f5f"
            },
            "error_y": {
             "color": "#2a3f5f"
            },
            "marker": {
             "line": {
              "color": "#E5ECF6",
              "width": 0.5
             },
             "pattern": {
              "fillmode": "overlay",
              "size": 10,
              "solidity": 0.2
             }
            },
            "type": "bar"
           }
          ],
          "barpolar": [
           {
            "marker": {
             "line": {
              "color": "#E5ECF6",
              "width": 0.5
             },
             "pattern": {
              "fillmode": "overlay",
              "size": 10,
              "solidity": 0.2
             }
            },
            "type": "barpolar"
           }
          ],
          "carpet": [
           {
            "aaxis": {
             "endlinecolor": "#2a3f5f",
             "gridcolor": "white",
             "linecolor": "white",
             "minorgridcolor": "white",
             "startlinecolor": "#2a3f5f"
            },
            "baxis": {
             "endlinecolor": "#2a3f5f",
             "gridcolor": "white",
             "linecolor": "white",
             "minorgridcolor": "white",
             "startlinecolor": "#2a3f5f"
            },
            "type": "carpet"
           }
          ],
          "choropleth": [
           {
            "colorbar": {
             "outlinewidth": 0,
             "ticks": ""
            },
            "type": "choropleth"
           }
          ],
          "contour": [
           {
            "colorbar": {
             "outlinewidth": 0,
             "ticks": ""
            },
            "colorscale": [
             [
              0.0,
              "#0d0887"
             ],
             [
              0.1111111111111111,
              "#46039f"
             ],
             [
              0.2222222222222222,
              "#7201a8"
             ],
             [
              0.3333333333333333,
              "#9c179e"
             ],
             [
              0.4444444444444444,
              "#bd3786"
             ],
             [
              0.5555555555555556,
              "#d8576b"
             ],
             [
              0.6666666666666666,
              "#ed7953"
             ],
             [
              0.7777777777777778,
              "#fb9f3a"
             ],
             [
              0.8888888888888888,
              "#fdca26"
             ],
             [
              1.0,
              "#f0f921"
             ]
            ],
            "type": "contour"
           }
          ],
          "contourcarpet": [
           {
            "colorbar": {
             "outlinewidth": 0,
             "ticks": ""
            },
            "type": "contourcarpet"
           }
          ],
          "heatmap": [
           {
            "colorbar": {
             "outlinewidth": 0,
             "ticks": ""
            },
            "colorscale": [
             [
              0.0,
              "#0d0887"
             ],
             [
              0.1111111111111111,
              "#46039f"
             ],
             [
              0.2222222222222222,
              "#7201a8"
             ],
             [
              0.3333333333333333,
              "#9c179e"
             ],
             [
              0.4444444444444444,
              "#bd3786"
             ],
             [
              0.5555555555555556,
              "#d8576b"
             ],
             [
              0.6666666666666666,
              "#ed7953"
             ],
             [
              0.7777777777777778,
              "#fb9f3a"
             ],
             [
              0.8888888888888888,
              "#fdca26"
             ],
             [
              1.0,
              "#f0f921"
             ]
            ],
            "type": "heatmap"
           }
          ],
          "heatmapgl": [
           {
            "colorbar": {
             "outlinewidth": 0,
             "ticks": ""
            },
            "colorscale": [
             [
              0.0,
              "#0d0887"
             ],
             [
              0.1111111111111111,
              "#46039f"
             ],
             [
              0.2222222222222222,
              "#7201a8"
             ],
             [
              0.3333333333333333,
              "#9c179e"
             ],
             [
              0.4444444444444444,
              "#bd3786"
             ],
             [
              0.5555555555555556,
              "#d8576b"
             ],
             [
              0.6666666666666666,
              "#ed7953"
             ],
             [
              0.7777777777777778,
              "#fb9f3a"
             ],
             [
              0.8888888888888888,
              "#fdca26"
             ],
             [
              1.0,
              "#f0f921"
             ]
            ],
            "type": "heatmapgl"
           }
          ],
          "histogram": [
           {
            "marker": {
             "pattern": {
              "fillmode": "overlay",
              "size": 10,
              "solidity": 0.2
             }
            },
            "type": "histogram"
           }
          ],
          "histogram2d": [
           {
            "colorbar": {
             "outlinewidth": 0,
             "ticks": ""
            },
            "colorscale": [
             [
              0.0,
              "#0d0887"
             ],
             [
              0.1111111111111111,
              "#46039f"
             ],
             [
              0.2222222222222222,
              "#7201a8"
             ],
             [
              0.3333333333333333,
              "#9c179e"
             ],
             [
              0.4444444444444444,
              "#bd3786"
             ],
             [
              0.5555555555555556,
              "#d8576b"
             ],
             [
              0.6666666666666666,
              "#ed7953"
             ],
             [
              0.7777777777777778,
              "#fb9f3a"
             ],
             [
              0.8888888888888888,
              "#fdca26"
             ],
             [
              1.0,
              "#f0f921"
             ]
            ],
            "type": "histogram2d"
           }
          ],
          "histogram2dcontour": [
           {
            "colorbar": {
             "outlinewidth": 0,
             "ticks": ""
            },
            "colorscale": [
             [
              0.0,
              "#0d0887"
             ],
             [
              0.1111111111111111,
              "#46039f"
             ],
             [
              0.2222222222222222,
              "#7201a8"
             ],
             [
              0.3333333333333333,
              "#9c179e"
             ],
             [
              0.4444444444444444,
              "#bd3786"
             ],
             [
              0.5555555555555556,
              "#d8576b"
             ],
             [
              0.6666666666666666,
              "#ed7953"
             ],
             [
              0.7777777777777778,
              "#fb9f3a"
             ],
             [
              0.8888888888888888,
              "#fdca26"
             ],
             [
              1.0,
              "#f0f921"
             ]
            ],
            "type": "histogram2dcontour"
           }
          ],
          "mesh3d": [
           {
            "colorbar": {
             "outlinewidth": 0,
             "ticks": ""
            },
            "type": "mesh3d"
           }
          ],
          "parcoords": [
           {
            "line": {
             "colorbar": {
              "outlinewidth": 0,
              "ticks": ""
             }
            },
            "type": "parcoords"
           }
          ],
          "pie": [
           {
            "automargin": true,
            "type": "pie"
           }
          ],
          "scatter": [
           {
            "fillpattern": {
             "fillmode": "overlay",
             "size": 10,
             "solidity": 0.2
            },
            "type": "scatter"
           }
          ],
          "scatter3d": [
           {
            "line": {
             "colorbar": {
              "outlinewidth": 0,
              "ticks": ""
             }
            },
            "marker": {
             "colorbar": {
              "outlinewidth": 0,
              "ticks": ""
             }
            },
            "type": "scatter3d"
           }
          ],
          "scattercarpet": [
           {
            "marker": {
             "colorbar": {
              "outlinewidth": 0,
              "ticks": ""
             }
            },
            "type": "scattercarpet"
           }
          ],
          "scattergeo": [
           {
            "marker": {
             "colorbar": {
              "outlinewidth": 0,
              "ticks": ""
             }
            },
            "type": "scattergeo"
           }
          ],
          "scattergl": [
           {
            "marker": {
             "colorbar": {
              "outlinewidth": 0,
              "ticks": ""
             }
            },
            "type": "scattergl"
           }
          ],
          "scattermapbox": [
           {
            "marker": {
             "colorbar": {
              "outlinewidth": 0,
              "ticks": ""
             }
            },
            "type": "scattermapbox"
           }
          ],
          "scatterpolar": [
           {
            "marker": {
             "colorbar": {
              "outlinewidth": 0,
              "ticks": ""
             }
            },
            "type": "scatterpolar"
           }
          ],
          "scatterpolargl": [
           {
            "marker": {
             "colorbar": {
              "outlinewidth": 0,
              "ticks": ""
             }
            },
            "type": "scatterpolargl"
           }
          ],
          "scatterternary": [
           {
            "marker": {
             "colorbar": {
              "outlinewidth": 0,
              "ticks": ""
             }
            },
            "type": "scatterternary"
           }
          ],
          "surface": [
           {
            "colorbar": {
             "outlinewidth": 0,
             "ticks": ""
            },
            "colorscale": [
             [
              0.0,
              "#0d0887"
             ],
             [
              0.1111111111111111,
              "#46039f"
             ],
             [
              0.2222222222222222,
              "#7201a8"
             ],
             [
              0.3333333333333333,
              "#9c179e"
             ],
             [
              0.4444444444444444,
              "#bd3786"
             ],
             [
              0.5555555555555556,
              "#d8576b"
             ],
             [
              0.6666666666666666,
              "#ed7953"
             ],
             [
              0.7777777777777778,
              "#fb9f3a"
             ],
             [
              0.8888888888888888,
              "#fdca26"
             ],
             [
              1.0,
              "#f0f921"
             ]
            ],
            "type": "surface"
           }
          ],
          "table": [
           {
            "cells": {
             "fill": {
              "color": "#EBF0F8"
             },
             "line": {
              "color": "white"
             }
            },
            "header": {
             "fill": {
              "color": "#C8D4E3"
             },
             "line": {
              "color": "white"
             }
            },
            "type": "table"
           }
          ]
         },
         "layout": {
          "annotationdefaults": {
           "arrowcolor": "#2a3f5f",
           "arrowhead": 0,
           "arrowwidth": 1
          },
          "autotypenumbers": "strict",
          "coloraxis": {
           "colorbar": {
            "outlinewidth": 0,
            "ticks": ""
           }
          },
          "colorscale": {
           "diverging": [
            [
             0,
             "#8e0152"
            ],
            [
             0.1,
             "#c51b7d"
            ],
            [
             0.2,
             "#de77ae"
            ],
            [
             0.3,
             "#f1b6da"
            ],
            [
             0.4,
             "#fde0ef"
            ],
            [
             0.5,
             "#f7f7f7"
            ],
            [
             0.6,
             "#e6f5d0"
            ],
            [
             0.7,
             "#b8e186"
            ],
            [
             0.8,
             "#7fbc41"
            ],
            [
             0.9,
             "#4d9221"
            ],
            [
             1,
             "#276419"
            ]
           ],
           "sequential": [
            [
             0.0,
             "#0d0887"
            ],
            [
             0.1111111111111111,
             "#46039f"
            ],
            [
             0.2222222222222222,
             "#7201a8"
            ],
            [
             0.3333333333333333,
             "#9c179e"
            ],
            [
             0.4444444444444444,
             "#bd3786"
            ],
            [
             0.5555555555555556,
             "#d8576b"
            ],
            [
             0.6666666666666666,
             "#ed7953"
            ],
            [
             0.7777777777777778,
             "#fb9f3a"
            ],
            [
             0.8888888888888888,
             "#fdca26"
            ],
            [
             1.0,
             "#f0f921"
            ]
           ],
           "sequentialminus": [
            [
             0.0,
             "#0d0887"
            ],
            [
             0.1111111111111111,
             "#46039f"
            ],
            [
             0.2222222222222222,
             "#7201a8"
            ],
            [
             0.3333333333333333,
             "#9c179e"
            ],
            [
             0.4444444444444444,
             "#bd3786"
            ],
            [
             0.5555555555555556,
             "#d8576b"
            ],
            [
             0.6666666666666666,
             "#ed7953"
            ],
            [
             0.7777777777777778,
             "#fb9f3a"
            ],
            [
             0.8888888888888888,
             "#fdca26"
            ],
            [
             1.0,
             "#f0f921"
            ]
           ]
          },
          "colorway": [
           "#636efa",
           "#EF553B",
           "#00cc96",
           "#ab63fa",
           "#FFA15A",
           "#19d3f3",
           "#FF6692",
           "#B6E880",
           "#FF97FF",
           "#FECB52"
          ],
          "font": {
           "color": "#2a3f5f"
          },
          "geo": {
           "bgcolor": "white",
           "lakecolor": "white",
           "landcolor": "#E5ECF6",
           "showlakes": true,
           "showland": true,
           "subunitcolor": "white"
          },
          "hoverlabel": {
           "align": "left"
          },
          "hovermode": "closest",
          "mapbox": {
           "style": "light"
          },
          "paper_bgcolor": "white",
          "plot_bgcolor": "#E5ECF6",
          "polar": {
           "angularaxis": {
            "gridcolor": "white",
            "linecolor": "white",
            "ticks": ""
           },
           "bgcolor": "#E5ECF6",
           "radialaxis": {
            "gridcolor": "white",
            "linecolor": "white",
            "ticks": ""
           }
          },
          "scene": {
           "xaxis": {
            "backgroundcolor": "#E5ECF6",
            "gridcolor": "white",
            "gridwidth": 2,
            "linecolor": "white",
            "showbackground": true,
            "ticks": "",
            "zerolinecolor": "white"
           },
           "yaxis": {
            "backgroundcolor": "#E5ECF6",
            "gridcolor": "white",
            "gridwidth": 2,
            "linecolor": "white",
            "showbackground": true,
            "ticks": "",
            "zerolinecolor": "white"
           },
           "zaxis": {
            "backgroundcolor": "#E5ECF6",
            "gridcolor": "white",
            "gridwidth": 2,
            "linecolor": "white",
            "showbackground": true,
            "ticks": "",
            "zerolinecolor": "white"
           }
          },
          "shapedefaults": {
           "line": {
            "color": "#2a3f5f"
           }
          },
          "ternary": {
           "aaxis": {
            "gridcolor": "white",
            "linecolor": "white",
            "ticks": ""
           },
           "baxis": {
            "gridcolor": "white",
            "linecolor": "white",
            "ticks": ""
           },
           "bgcolor": "#E5ECF6",
           "caxis": {
            "gridcolor": "white",
            "linecolor": "white",
            "ticks": ""
           }
          },
          "title": {
           "x": 0.05
          },
          "xaxis": {
           "automargin": true,
           "gridcolor": "white",
           "linecolor": "white",
           "ticks": "",
           "title": {
            "standoff": 15
           },
           "zerolinecolor": "white",
           "zerolinewidth": 2
          },
          "yaxis": {
           "automargin": true,
           "gridcolor": "white",
           "linecolor": "white",
           "ticks": "",
           "title": {
            "standoff": 15
           },
           "zerolinecolor": "white",
           "zerolinewidth": 2
          }
         }
        },
        "title": {
         "text": "evt #435"
        }
       }
      },
      "text/html": [
       "<div>                            <div id=\"461f4b49-fb0e-4f63-b47d-49e92783f2b6\" class=\"plotly-graph-div\" style=\"height:525px; width:100%;\"></div>            <script type=\"text/javascript\">                require([\"plotly\"], function(Plotly) {                    window.PLOTLYENV=window.PLOTLYENV || {};                                    if (document.getElementById(\"461f4b49-fb0e-4f63-b47d-49e92783f2b6\")) {                    Plotly.newPlot(                        \"461f4b49-fb0e-4f63-b47d-49e92783f2b6\",                        [{\"hovertemplate\":\"x=%{x}<br>y=%{y}<br>z=%{z}<br>size=%{marker.size}<br>color=%{marker.color}<extra></extra>\",\"legendgroup\":\"\",\"marker\":{\"color\":[9860,9872,9903,9994,10127,10323,11208,11212,11228,11263,11352,11357,11368,11577,11733,11899,11970,12604,12620,13122,13190,13847,13853,15095],\"coloraxis\":\"coloraxis\",\"size\":[0.875,1.0750000476837158,0.32499998807907104,0.5249999761581421,1.0750000476837158,1.3250000476837158,0.2750000059604645,0.2750000059604645,0.675000011920929,1.1749999523162842,0.17499999701976776,0.7749999761581421,0.875,1.0750000476837158,0.5249999761581421,0.574999988079071,1.1749999523162842,0.625,0.875,0.875,0.7250000238418579,1.225000023841858,0.7749999761581421,1.4249999523162842],\"sizemode\":\"area\",\"sizeref\":0.0035624998807907106,\"symbol\":\"circle\"},\"mode\":\"markers\",\"name\":\"\",\"scene\":\"scene\",\"showlegend\":false,\"x\":[544.07,544.07,544.07,544.07,544.07,544.07,330.03,330.03,330.03,330.03,330.03,330.03,330.03,330.03,330.03,330.03,330.03,132.03,132.03,54.26,54.26,54.26,54.26,330.03],\"y\":[55.89,55.89,55.89,55.89,55.89,55.89,127.2,127.2,127.2,127.2,127.2,127.2,127.2,127.2,127.2,127.2,127.2,202.98,202.98,292.97,292.97,292.97,292.97,127.2],\"z\":[502.79,502.79,468.74,451.72,468.74,417.68,143.43,160.45,211.51,126.41,160.45,109.39,109.39,126.41,109.39,245.56,160.45,-195.12,-178.09,-292.44,-326.48,-292.44,-343.5,211.51],\"type\":\"scatter3d\"},{\"marker\":{\"size\":0.001},\"x\":[321.0783333333333,311.7448966430411,302.4114599527489,293.07802326245667,283.74458657216445,274.41114988187223,265.07771319158,255.74427650128783,246.4108398109956,237.0774031207034,227.74396643041118,218.410529740119,209.07709304982677,199.74365635953455,190.41021966924234,181.07678297895012,171.7433462886579,162.4099095983657,153.07647290807347,143.74303621778125,134.40959952748904,125.07616283719685,115.74272614690463,106.40928945661241,97.0758527663202,87.74241607602798,78.40897938573576,69.07554269544354,59.742106005151356,50.40866931485914,41.07523262456692,31.741795934274705,22.40835924398249,13.074922553690271,3.7414858633980543,-5.591950826894163,-14.92538751718638,-24.258824207478597,-33.592260897770814,-42.92569758806303,-52.25913427835525,-61.59257096864741,-70.92600765893962,-80.25944434923184,-89.59288103952406,-98.92631772981628,-108.2597544201085,-117.59319111040071,-126.92662780069293,-136.26006449098514,-145.59350118127736,-154.92693787156958,-164.2603745618618,-173.593811252154,-182.92724794244623,-192.26068463273845,-201.5941213230306,-210.92755801332288,-220.26099470361504,-229.5944313939073,-238.92786808419947,-248.26130477449175,-257.5947414647839,-266.9281781550762,-276.26161484536834,-285.5950515356605,-294.9284882259528,-304.26192491624494,-313.5953616065372,-322.92879829682937,-332.26223498712164,-341.5956716774138,-350.9291083677061,-360.26254505799824,-369.5959817482905,-378.9294184385827,-388.26285512887495,-397.5962918191671,-406.9297285094594,-416.26316519975154,-425.5966018900438,-434.930038580336,-444.26347527062813,-453.5969119609204,-462.93034865121257,-472.26378534150484,-481.597222031797,-490.9306587220893,-500.26409541238144,-509.5975321026737,-518.9309687929658,-528.2644054832581,-537.5978421735504,-546.9312788638426,-556.2647155541347,-565.598152244427,-574.9315889347192,-584.2650256250113,-593.5984623153035,-602.9318990055958],\"y\":[143.31583333333333,151.04470971053524,158.77358608773713,166.50246246493904,174.23133884214093,181.96021521934284,189.68909159654476,197.41796797374664,205.14684435094856,212.87572072815044,220.60459710535235,228.33347348255427,236.06234985975615,243.79122623695804,251.52010261415995,259.24897899136187,266.9778553685638,274.70673174576564,282.43560812296755,290.16448450016946,297.8933608773714,305.6222372545733,313.3511136317752,321.0799900089771,328.808866386179,336.5377427633809,344.26661914058275,351.99549551778466,359.7243718949866,367.4532482721885,375.1821246493904,382.9110010265923,390.63987740379423,398.36875378099614,406.097630158198,413.8265065353999,421.55538291260183,429.2842592898037,437.0131356670056,444.7420120442075,452.4708884214094,460.19976479861134,467.9286411758132,475.6575175530151,483.386393930217,491.11527030741894,498.84414668462085,506.5730230618227,514.3018994390246,522.0307758162265,529.7596521934285,537.4885285706304,545.2174049478322,552.9462813250341,560.675157702236,568.4040340794379,576.1329104566398,583.8617868338417,591.5906632110436,599.3195395882456,607.0484159654475,614.7772923426494,622.5061687198513,630.2350450970532,637.9639214742551,645.692797851457,653.421674228659,661.1505506058608,668.8794269830627,676.6083033602646,684.3371797374665,692.0660561146684,699.7949324918703,707.5238088690722,715.252685246274,722.981561623476,730.7104380006779,738.4393143778798,746.1681907550817,753.8970671322836,761.6259435094855,769.3548198866874,777.0836962638894,784.8125726410913,792.5414490182931,800.270325395495,807.9992017726969,815.7280781498988,823.4569545271007,831.1858309043026,838.9147072815045,846.6435836587065,854.3724600359084,862.1013364131103,869.8302127903121,877.559089167514,885.2879655447159,893.0168419219178,900.7457182991197,908.4745946763217],\"z\":[127.4475,127.72174948797985,127.9959989759597,128.27024846393954,128.5444979519194,128.81874743989923,129.09299692787908,129.36724641585892,129.64149590383877,129.9157453918186,130.18999487979846,130.4642443677783,130.73849385575815,131.012743343738,131.28699283171784,131.5612423196977,131.83549180767753,132.1097412956574,132.38399078363722,132.65824027161707,132.9324897595969,133.20673924757676,133.4809887355566,133.75523822353645,134.0294877115163,134.30373719949614,134.577986687476,134.85223617545583,135.1264856634357,135.40073515141552,135.67498463939538,135.9492341273752,136.22348361535506,136.4977331033349,136.77198259131475,137.04623207929458,137.32048156727444,137.59473105525427,137.86898054323413,138.143230031214,138.41747951919382,138.69172900717368,138.9659784951535,139.24022798313337,139.5144774711132,139.78872695909305,140.06297644707288,140.33722593505274,140.61147542303257,140.88572491101243,141.1599743989923,141.43422388697212,141.70847337495198,141.9827228629318,142.25697235091167,142.5312218388915,142.80547132687136,143.07972081485119,143.35397030283104,143.62821979081087,143.90246927879073,144.1767187667706,144.45096825475042,144.72521774273028,144.9994672307101,145.27371671868997,145.5479662066698,145.82221569464966,146.0964651826295,146.37071467060935,146.64496415858918,146.91921364656903,147.1934631345489,147.46771262252872,147.74196211050855,148.0162115984884,148.29046108646827,148.5647105744481,148.83896006242796,149.1132095504078,149.38745903838765,149.66170852636748,149.93595801434734,150.21020750232717,150.48445699030702,150.75870647828685,151.0329559662667,151.30720545424657,151.5814549422264,151.85570443020626,152.1299539181861,152.40420340616595,152.67845289414578,152.95270238212564,153.22695187010547,153.50120135808532,153.77545084606516,154.049700334045,154.32394982202487,154.5981993100047],\"type\":\"scatter3d\"}],                        {\"coloraxis\":{\"colorbar\":{\"title\":{\"text\":\"color\"}},\"colorscale\":[[0.0,\"#0d0887\"],[0.1111111111111111,\"#46039f\"],[0.2222222222222222,\"#7201a8\"],[0.3333333333333333,\"#9c179e\"],[0.4444444444444444,\"#bd3786\"],[0.5555555555555556,\"#d8576b\"],[0.6666666666666666,\"#ed7953\"],[0.7777777777777778,\"#fb9f3a\"],[0.8888888888888888,\"#fdca26\"],[1.0,\"#f0f921\"]]},\"legend\":{\"itemsizing\":\"constant\",\"tracegroupgap\":0},\"margin\":{\"t\":60},\"scene\":{\"aspectmode\":\"cube\",\"domain\":{\"x\":[0.0,1.0],\"y\":[0.0,1.0]},\"xaxis\":{\"range\":[-600,600],\"title\":{\"text\":\"x\"}},\"yaxis\":{\"range\":[-600,600],\"title\":{\"text\":\"y\"}},\"zaxis\":{\"range\":[-600,600],\"title\":{\"text\":\"z\"}}},\"template\":{\"data\":{\"barpolar\":[{\"marker\":{\"line\":{\"color\":\"#E5ECF6\",\"width\":0.5},\"pattern\":{\"fillmode\":\"overlay\",\"size\":10,\"solidity\":0.2}},\"type\":\"barpolar\"}],\"bar\":[{\"error_x\":{\"color\":\"#2a3f5f\"},\"error_y\":{\"color\":\"#2a3f5f\"},\"marker\":{\"line\":{\"color\":\"#E5ECF6\",\"width\":0.5},\"pattern\":{\"fillmode\":\"overlay\",\"size\":10,\"solidity\":0.2}},\"type\":\"bar\"}],\"carpet\":[{\"aaxis\":{\"endlinecolor\":\"#2a3f5f\",\"gridcolor\":\"white\",\"linecolor\":\"white\",\"minorgridcolor\":\"white\",\"startlinecolor\":\"#2a3f5f\"},\"baxis\":{\"endlinecolor\":\"#2a3f5f\",\"gridcolor\":\"white\",\"linecolor\":\"white\",\"minorgridcolor\":\"white\",\"startlinecolor\":\"#2a3f5f\"},\"type\":\"carpet\"}],\"choropleth\":[{\"colorbar\":{\"outlinewidth\":0,\"ticks\":\"\"},\"type\":\"choropleth\"}],\"contourcarpet\":[{\"colorbar\":{\"outlinewidth\":0,\"ticks\":\"\"},\"type\":\"contourcarpet\"}],\"contour\":[{\"colorbar\":{\"outlinewidth\":0,\"ticks\":\"\"},\"colorscale\":[[0.0,\"#0d0887\"],[0.1111111111111111,\"#46039f\"],[0.2222222222222222,\"#7201a8\"],[0.3333333333333333,\"#9c179e\"],[0.4444444444444444,\"#bd3786\"],[0.5555555555555556,\"#d8576b\"],[0.6666666666666666,\"#ed7953\"],[0.7777777777777778,\"#fb9f3a\"],[0.8888888888888888,\"#fdca26\"],[1.0,\"#f0f921\"]],\"type\":\"contour\"}],\"heatmapgl\":[{\"colorbar\":{\"outlinewidth\":0,\"ticks\":\"\"},\"colorscale\":[[0.0,\"#0d0887\"],[0.1111111111111111,\"#46039f\"],[0.2222222222222222,\"#7201a8\"],[0.3333333333333333,\"#9c179e\"],[0.4444444444444444,\"#bd3786\"],[0.5555555555555556,\"#d8576b\"],[0.6666666666666666,\"#ed7953\"],[0.7777777777777778,\"#fb9f3a\"],[0.8888888888888888,\"#fdca26\"],[1.0,\"#f0f921\"]],\"type\":\"heatmapgl\"}],\"heatmap\":[{\"colorbar\":{\"outlinewidth\":0,\"ticks\":\"\"},\"colorscale\":[[0.0,\"#0d0887\"],[0.1111111111111111,\"#46039f\"],[0.2222222222222222,\"#7201a8\"],[0.3333333333333333,\"#9c179e\"],[0.4444444444444444,\"#bd3786\"],[0.5555555555555556,\"#d8576b\"],[0.6666666666666666,\"#ed7953\"],[0.7777777777777778,\"#fb9f3a\"],[0.8888888888888888,\"#fdca26\"],[1.0,\"#f0f921\"]],\"type\":\"heatmap\"}],\"histogram2dcontour\":[{\"colorbar\":{\"outlinewidth\":0,\"ticks\":\"\"},\"colorscale\":[[0.0,\"#0d0887\"],[0.1111111111111111,\"#46039f\"],[0.2222222222222222,\"#7201a8\"],[0.3333333333333333,\"#9c179e\"],[0.4444444444444444,\"#bd3786\"],[0.5555555555555556,\"#d8576b\"],[0.6666666666666666,\"#ed7953\"],[0.7777777777777778,\"#fb9f3a\"],[0.8888888888888888,\"#fdca26\"],[1.0,\"#f0f921\"]],\"type\":\"histogram2dcontour\"}],\"histogram2d\":[{\"colorbar\":{\"outlinewidth\":0,\"ticks\":\"\"},\"colorscale\":[[0.0,\"#0d0887\"],[0.1111111111111111,\"#46039f\"],[0.2222222222222222,\"#7201a8\"],[0.3333333333333333,\"#9c179e\"],[0.4444444444444444,\"#bd3786\"],[0.5555555555555556,\"#d8576b\"],[0.6666666666666666,\"#ed7953\"],[0.7777777777777778,\"#fb9f3a\"],[0.8888888888888888,\"#fdca26\"],[1.0,\"#f0f921\"]],\"type\":\"histogram2d\"}],\"histogram\":[{\"marker\":{\"pattern\":{\"fillmode\":\"overlay\",\"size\":10,\"solidity\":0.2}},\"type\":\"histogram\"}],\"mesh3d\":[{\"colorbar\":{\"outlinewidth\":0,\"ticks\":\"\"},\"type\":\"mesh3d\"}],\"parcoords\":[{\"line\":{\"colorbar\":{\"outlinewidth\":0,\"ticks\":\"\"}},\"type\":\"parcoords\"}],\"pie\":[{\"automargin\":true,\"type\":\"pie\"}],\"scatter3d\":[{\"line\":{\"colorbar\":{\"outlinewidth\":0,\"ticks\":\"\"}},\"marker\":{\"colorbar\":{\"outlinewidth\":0,\"ticks\":\"\"}},\"type\":\"scatter3d\"}],\"scattercarpet\":[{\"marker\":{\"colorbar\":{\"outlinewidth\":0,\"ticks\":\"\"}},\"type\":\"scattercarpet\"}],\"scattergeo\":[{\"marker\":{\"colorbar\":{\"outlinewidth\":0,\"ticks\":\"\"}},\"type\":\"scattergeo\"}],\"scattergl\":[{\"marker\":{\"colorbar\":{\"outlinewidth\":0,\"ticks\":\"\"}},\"type\":\"scattergl\"}],\"scattermapbox\":[{\"marker\":{\"colorbar\":{\"outlinewidth\":0,\"ticks\":\"\"}},\"type\":\"scattermapbox\"}],\"scatterpolargl\":[{\"marker\":{\"colorbar\":{\"outlinewidth\":0,\"ticks\":\"\"}},\"type\":\"scatterpolargl\"}],\"scatterpolar\":[{\"marker\":{\"colorbar\":{\"outlinewidth\":0,\"ticks\":\"\"}},\"type\":\"scatterpolar\"}],\"scatter\":[{\"fillpattern\":{\"fillmode\":\"overlay\",\"size\":10,\"solidity\":0.2},\"type\":\"scatter\"}],\"scatterternary\":[{\"marker\":{\"colorbar\":{\"outlinewidth\":0,\"ticks\":\"\"}},\"type\":\"scatterternary\"}],\"surface\":[{\"colorbar\":{\"outlinewidth\":0,\"ticks\":\"\"},\"colorscale\":[[0.0,\"#0d0887\"],[0.1111111111111111,\"#46039f\"],[0.2222222222222222,\"#7201a8\"],[0.3333333333333333,\"#9c179e\"],[0.4444444444444444,\"#bd3786\"],[0.5555555555555556,\"#d8576b\"],[0.6666666666666666,\"#ed7953\"],[0.7777777777777778,\"#fb9f3a\"],[0.8888888888888888,\"#fdca26\"],[1.0,\"#f0f921\"]],\"type\":\"surface\"}],\"table\":[{\"cells\":{\"fill\":{\"color\":\"#EBF0F8\"},\"line\":{\"color\":\"white\"}},\"header\":{\"fill\":{\"color\":\"#C8D4E3\"},\"line\":{\"color\":\"white\"}},\"type\":\"table\"}]},\"layout\":{\"annotationdefaults\":{\"arrowcolor\":\"#2a3f5f\",\"arrowhead\":0,\"arrowwidth\":1},\"autotypenumbers\":\"strict\",\"coloraxis\":{\"colorbar\":{\"outlinewidth\":0,\"ticks\":\"\"}},\"colorscale\":{\"diverging\":[[0,\"#8e0152\"],[0.1,\"#c51b7d\"],[0.2,\"#de77ae\"],[0.3,\"#f1b6da\"],[0.4,\"#fde0ef\"],[0.5,\"#f7f7f7\"],[0.6,\"#e6f5d0\"],[0.7,\"#b8e186\"],[0.8,\"#7fbc41\"],[0.9,\"#4d9221\"],[1,\"#276419\"]],\"sequential\":[[0.0,\"#0d0887\"],[0.1111111111111111,\"#46039f\"],[0.2222222222222222,\"#7201a8\"],[0.3333333333333333,\"#9c179e\"],[0.4444444444444444,\"#bd3786\"],[0.5555555555555556,\"#d8576b\"],[0.6666666666666666,\"#ed7953\"],[0.7777777777777778,\"#fb9f3a\"],[0.8888888888888888,\"#fdca26\"],[1.0,\"#f0f921\"]],\"sequentialminus\":[[0.0,\"#0d0887\"],[0.1111111111111111,\"#46039f\"],[0.2222222222222222,\"#7201a8\"],[0.3333333333333333,\"#9c179e\"],[0.4444444444444444,\"#bd3786\"],[0.5555555555555556,\"#d8576b\"],[0.6666666666666666,\"#ed7953\"],[0.7777777777777778,\"#fb9f3a\"],[0.8888888888888888,\"#fdca26\"],[1.0,\"#f0f921\"]]},\"colorway\":[\"#636efa\",\"#EF553B\",\"#00cc96\",\"#ab63fa\",\"#FFA15A\",\"#19d3f3\",\"#FF6692\",\"#B6E880\",\"#FF97FF\",\"#FECB52\"],\"font\":{\"color\":\"#2a3f5f\"},\"geo\":{\"bgcolor\":\"white\",\"lakecolor\":\"white\",\"landcolor\":\"#E5ECF6\",\"showlakes\":true,\"showland\":true,\"subunitcolor\":\"white\"},\"hoverlabel\":{\"align\":\"left\"},\"hovermode\":\"closest\",\"mapbox\":{\"style\":\"light\"},\"paper_bgcolor\":\"white\",\"plot_bgcolor\":\"#E5ECF6\",\"polar\":{\"angularaxis\":{\"gridcolor\":\"white\",\"linecolor\":\"white\",\"ticks\":\"\"},\"bgcolor\":\"#E5ECF6\",\"radialaxis\":{\"gridcolor\":\"white\",\"linecolor\":\"white\",\"ticks\":\"\"}},\"scene\":{\"xaxis\":{\"backgroundcolor\":\"#E5ECF6\",\"gridcolor\":\"white\",\"gridwidth\":2,\"linecolor\":\"white\",\"showbackground\":true,\"ticks\":\"\",\"zerolinecolor\":\"white\"},\"yaxis\":{\"backgroundcolor\":\"#E5ECF6\",\"gridcolor\":\"white\",\"gridwidth\":2,\"linecolor\":\"white\",\"showbackground\":true,\"ticks\":\"\",\"zerolinecolor\":\"white\"},\"zaxis\":{\"backgroundcolor\":\"#E5ECF6\",\"gridcolor\":\"white\",\"gridwidth\":2,\"linecolor\":\"white\",\"showbackground\":true,\"ticks\":\"\",\"zerolinecolor\":\"white\"}},\"shapedefaults\":{\"line\":{\"color\":\"#2a3f5f\"}},\"ternary\":{\"aaxis\":{\"gridcolor\":\"white\",\"linecolor\":\"white\",\"ticks\":\"\"},\"baxis\":{\"gridcolor\":\"white\",\"linecolor\":\"white\",\"ticks\":\"\"},\"bgcolor\":\"#E5ECF6\",\"caxis\":{\"gridcolor\":\"white\",\"linecolor\":\"white\",\"ticks\":\"\"}},\"title\":{\"x\":0.05},\"xaxis\":{\"automargin\":true,\"gridcolor\":\"white\",\"linecolor\":\"white\",\"ticks\":\"\",\"title\":{\"standoff\":15},\"zerolinecolor\":\"white\",\"zerolinewidth\":2},\"yaxis\":{\"automargin\":true,\"gridcolor\":\"white\",\"linecolor\":\"white\",\"ticks\":\"\",\"title\":{\"standoff\":15},\"zerolinecolor\":\"white\",\"zerolinewidth\":2}}},\"title\":{\"text\":\"evt #435\"}},                        {\"responsive\": true}                    ).then(function(){\n",
       "                            \n",
       "var gd = document.getElementById('461f4b49-fb0e-4f63-b47d-49e92783f2b6');\n",
       "var x = new MutationObserver(function (mutations, observer) {{\n",
       "        var display = window.getComputedStyle(gd).display;\n",
       "        if (!display || display === 'none') {{\n",
       "            console.log([gd, 'removed!']);\n",
       "            Plotly.purge(gd);\n",
       "            observer.disconnect();\n",
       "        }}\n",
       "}});\n",
       "\n",
       "// Listen for the removal of the full notebook cells\n",
       "var notebookContainer = gd.closest('#notebook-container');\n",
       "if (notebookContainer) {{\n",
       "    x.observe(notebookContainer, {childList: true});\n",
       "}}\n",
       "\n",
       "// Listen for the clearing of the current output cell\n",
       "var outputEl = gd.closest('.output');\n",
       "if (outputEl) {{\n",
       "    x.observe(outputEl, {childList: true});\n",
       "}}\n",
       "\n",
       "                        })                };                });            </script>        </div>"
      ]
     },
     "metadata": {},
     "output_type": "display_data"
    }
   ],
   "source": [
    "iplot(plot_event(*load_single_event(\"train\", 0, 21)))"
   ]
  },
  {
   "cell_type": "markdown",
   "id": "49a891e1",
   "metadata": {
    "papermill": {
     "duration": 0.023514,
     "end_time": "2023-04-03T04:03:55.252816",
     "exception": false,
     "start_time": "2023-04-03T04:03:55.229302",
     "status": "completed"
    },
    "tags": []
   },
   "source": [
    "To the best of my understanding, here the trail is likely left by a background particle (like a cosmic muon). If so, the neutrino direction information (if any) for such events should be found in the auxiliary pulses. Here's how the organizers of the competition describe the `auxiliary` flag:\n",
    "> `auxiliary` (`bool`): If `True`, the pulse was not fully digitized, is of lower quality, and was more likely to originate from noise. If `False`, then this pulse was contributed to the trigger decision and the pulse was fully digitized.\n",
    "\n",
    "We can check what the same event looks like if we plot both regular and aux pulses:"
   ]
  },
  {
   "cell_type": "code",
   "execution_count": 14,
   "id": "5d570ff4",
   "metadata": {
    "execution": {
     "iopub.execute_input": "2023-04-03T04:03:55.302955Z",
     "iopub.status.busy": "2023-04-03T04:03:55.301971Z",
     "iopub.status.idle": "2023-04-03T04:03:55.426233Z",
     "shell.execute_reply": "2023-04-03T04:03:55.425237Z"
    },
    "papermill": {
     "duration": 0.152921,
     "end_time": "2023-04-03T04:03:55.429726",
     "exception": false,
     "start_time": "2023-04-03T04:03:55.276805",
     "status": "completed"
    },
    "tags": []
   },
   "outputs": [
    {
     "data": {
      "application/vnd.plotly.v1+json": {
       "config": {
        "linkText": "Export to plot.ly",
        "plotlyServerURL": "https://plot.ly",
        "showLink": false
       },
       "data": [
        {
         "hovertemplate": "x=%{x}<br>y=%{y}<br>z=%{z}<br>size=%{marker.size}<br>color=%{marker.color}<extra></extra>",
         "legendgroup": "",
         "marker": {
          "color": [
           6167,
           6751,
           7503,
           7743,
           7938,
           8293,
           9860,
           9872,
           9903,
           9994,
           9994,
           10127,
           10323,
           10389,
           10884,
           10896,
           11208,
           11212,
           11228,
           11263,
           11310,
           11352,
           11357,
           11367,
           11368,
           11553,
           11577,
           11733,
           11781,
           11899,
           11970,
           12006,
           12207,
           12604,
           12620,
           12770,
           12803,
           12906,
           12993,
           13087,
           13122,
           13170,
           13190,
           13450,
           13503,
           13615,
           13631,
           13813,
           13842,
           13847,
           13853,
           13883,
           13897,
           13945,
           14284,
           14824,
           14855,
           15016,
           15095,
           15118,
           15141,
           15323,
           15631,
           16057,
           16446,
           16990,
           17522,
           17937,
           18428,
           18750,
           19240,
           19561
          ],
          "coloraxis": "coloraxis",
          "size": [
           1.125,
           0.5249999761581421,
           0.925000011920929,
           0.574999988079071,
           0.32499998807907104,
           0.7749999761581421,
           0.875,
           1.0750000476837158,
           0.32499998807907104,
           0.925000011920929,
           0.5249999761581421,
           1.0750000476837158,
           1.3250000476837158,
           0.625,
           0.7250000238418579,
           0.574999988079071,
           0.2750000059604645,
           0.2750000059604645,
           0.675000011920929,
           1.1749999523162842,
           0.925000011920929,
           0.17499999701976776,
           0.7749999761581421,
           0.875,
           0.875,
           0.7749999761581421,
           1.0750000476837158,
           0.5249999761581421,
           0.824999988079071,
           0.574999988079071,
           1.1749999523162842,
           0.675000011920929,
           0.574999988079071,
           0.625,
           0.875,
           0.7749999761581421,
           0.9750000238418579,
           0.625,
           2.424999952316284,
           1.024999976158142,
           0.875,
           0.2750000059604645,
           0.7250000238418579,
           0.7749999761581421,
           0.875,
           0.375,
           0.7749999761581421,
           0.824999988079071,
           0.7749999761581421,
           1.225000023841858,
           0.7749999761581421,
           0.4749999940395355,
           0.9750000238418579,
           1.3250000476837158,
           0.875,
           0.625,
           0.7749999761581421,
           0.574999988079071,
           1.4249999523162842,
           0.7250000238418579,
           1.375,
           0.574999988079071,
           0.9750000238418579,
           0.9750000238418579,
           0.675000011920929,
           0.9750000238418579,
           1.475000023841858,
           2.575000047683716,
           0.925000011920929,
           0.574999988079071,
           0.7250000238418579,
           1.125
          ],
          "sizemode": "area",
          "sizeref": 0.00643750011920929,
          "symbol": "circle"
         },
         "mode": "markers",
         "name": "",
         "scene": "scene",
         "showlegend": false,
         "type": "scatter3d",
         "x": [
          -121.77,
          -10.97,
          -245.65,
          41.6,
          -279.53,
          411.81,
          544.07,
          544.07,
          544.07,
          -570.9,
          544.07,
          544.07,
          544.07,
          -290.66,
          472.05,
          411.81,
          330.03,
          330.03,
          330.03,
          330.03,
          472.05,
          330.03,
          330.03,
          544.07,
          330.03,
          11.87,
          330.03,
          330.03,
          330.03,
          330.03,
          330.03,
          257.31,
          -368.93,
          132.03,
          132.03,
          -10.97,
          174.47,
          132.03,
          31.25,
          -101.06,
          54.26,
          57.2,
          54.26,
          90.49,
          106.94,
          11.87,
          -224.09,
          -200.55,
          31.25,
          54.26,
          54.26,
          -66.7,
          -66.7,
          -101.06,
          41.6,
          411.81,
          -189.98,
          174.47,
          330.03,
          338.44,
          443.84,
          -145.45,
          31.25,
          -88.05,
          -156.23,
          405.83,
          224.58,
          224.58,
          124.97,
          405.83,
          303.41,
          330.03
         ],
         "y": [
          -171.03,
          6.72,
          -190.49,
          35.49,
          23.17,
          13.0,
          55.89,
          55.89,
          55.89,
          -125.14,
          55.89,
          55.89,
          55.89,
          -307.38,
          127.9,
          13.0,
          127.2,
          127.2,
          127.2,
          127.2,
          127.9,
          127.2,
          127.2,
          55.89,
          127.2,
          179.19,
          127.2,
          127.2,
          127.2,
          127.2,
          127.2,
          211.66,
          -210.23,
          202.98,
          202.98,
          6.72,
          315.54,
          202.98,
          -72.93,
          490.22,
          292.97,
          -105.52,
          292.97,
          82.35,
          27.09,
          179.19,
          470.86,
          -74.03,
          -72.93,
          292.97,
          292.97,
          276.92,
          276.92,
          490.22,
          35.49,
          13.0,
          257.42,
          315.54,
          127.2,
          463.72,
          -194.31,
          374.24,
          -72.93,
          -384.3,
          43.37,
          -306.38,
          432.35,
          432.35,
          -131.25,
          -306.38,
          335.64,
          127.2
         ],
         "z": [
          -501.56,
          -458.37,
          127.03,
          179.51,
          -365.45,
          -213.14,
          502.79,
          502.79,
          468.74,
          -198.25,
          451.72,
          468.74,
          417.68,
          -108.6,
          265.98,
          348.55,
          143.43,
          160.45,
          211.51,
          126.41,
          283.0,
          160.45,
          109.39,
          315.56,
          109.39,
          -467.34,
          126.41,
          109.39,
          41.31,
          245.56,
          160.45,
          -23.22,
          75.02,
          -195.12,
          -178.09,
          -458.37,
          19.14,
          -246.18,
          -503.42,
          -366.57,
          -292.44,
          -462.77,
          -326.48,
          -162.14,
          -342.98,
          -331.67,
          -42.24,
          200.03,
          -180.16,
          -292.44,
          -343.5,
          -506.4,
          -421.3,
          348.3,
          -298.07,
          -213.14,
          -434.79,
          -236.17,
          211.51,
          250.41,
          261.36,
          -503.14,
          -503.42,
          431.93,
          -401.26,
          103.66,
          71.55,
          428.98,
          272.38,
          154.72,
          189.56,
          126.41
         ]
        },
        {
         "marker": {
          "size": 0.001
         },
         "type": "scatter3d",
         "x": [
          159.93569444444447,
          150.60225775415225,
          141.26882106386003,
          131.9353843735678,
          122.60194768327561,
          113.2685109929834,
          103.93507430269119,
          94.60163761239897,
          85.26820092210676,
          75.93476423181454,
          66.60132754152232,
          57.26789085123012,
          47.934454160937904,
          38.60101747064569,
          29.267580780353484,
          19.934144090061267,
          10.60070739976905,
          1.2672707094768327,
          -8.066165980815384,
          -17.3996026711076,
          -26.73303936139982,
          -36.06647605169201,
          -45.399912741984224,
          -54.73334943227644,
          -64.06678612256866,
          -73.40022281286087,
          -82.73365950315309,
          -92.06709619344531,
          -101.4005328837375,
          -110.73396957402971,
          -120.06740626432193,
          -129.40084295461415,
          -138.73427964490637,
          -148.06771633519858,
          -157.4011530254908,
          -166.73458971578302,
          -176.06802640607523,
          -185.40146309636745,
          -194.73489978665967,
          -204.06833647695188,
          -213.4017731672441,
          -222.73520985753626,
          -232.06864654782848,
          -241.4020832381207,
          -250.7355199284129,
          -260.0689566187051,
          -269.4023933089974,
          -278.73582999928954,
          -288.0692666895818,
          -297.40270337987397,
          -306.73614007016624,
          -316.0695767604584,
          -325.4030134507507,
          -334.73645014104284,
          -344.0698868313351,
          -353.40332352162727,
          -362.73676021191943,
          -372.0701969022117,
          -381.40363359250387,
          -390.73707028279614,
          -400.0705069730883,
          -409.4039436633806,
          -418.73738035367273,
          -428.070817043965,
          -437.40425373425717,
          -446.7376904245493,
          -456.0711271148416,
          -465.40456380513376,
          -474.73800049542604,
          -484.0714371857182,
          -493.40487387601047,
          -502.73831056630263,
          -512.0717472565949,
          -521.4051839468871,
          -530.7386206371793,
          -540.0720573274715,
          -549.4054940177638,
          -558.7389307080559,
          -568.0723673983482,
          -577.4058040886404,
          -586.7392407789326,
          -596.0726774692248,
          -605.406114159517,
          -614.7395508498092,
          -624.0729875401014,
          -633.4064242303937,
          -642.7398609206858,
          -652.0732976109781,
          -661.4067343012703,
          -670.7401709915625,
          -680.0736076818547,
          -689.407044372147,
          -698.7404810624391,
          -708.0739177527314,
          -717.4073544430236,
          -726.7407911333158,
          -736.074227823608,
          -745.4076645139002,
          -754.7411012041924,
          -764.0745378944847
         ],
         "y": [
          101.17777777777778,
          108.90665415497968,
          116.63553053218158,
          124.36440690938349,
          132.09328328658538,
          139.8221596637873,
          147.55103604098917,
          155.2799124181911,
          163.008788795393,
          170.73766517259492,
          178.4665415497968,
          186.1954179269987,
          193.9242943042006,
          201.65317068140251,
          209.38204705860443,
          217.1109234358063,
          224.8397998130082,
          232.5686761902101,
          240.29755256741203,
          248.0264289446139,
          255.75530532181583,
          263.4841816990177,
          271.2130580762196,
          278.94193445342154,
          286.6708108306234,
          294.3996872078253,
          302.1285635850272,
          309.85743996222914,
          317.58631633943105,
          325.31519271663296,
          333.0440690938349,
          340.77294547103673,
          348.50182184823865,
          356.23069822544056,
          363.9595746026424,
          371.68845097984433,
          379.41732735704625,
          387.14620373424816,
          394.8750801114501,
          402.603956488652,
          410.3328328658539,
          418.0617092430558,
          425.7905856202576,
          433.51946199745953,
          441.24833837466144,
          448.97721475186336,
          456.70609112906527,
          464.4349675062672,
          472.1638438834691,
          479.892720260671,
          487.6215966378729,
          495.35047301507484,
          503.07934939227664,
          510.80822576947855,
          518.5371021466805,
          526.2659785238824,
          533.9948549010843,
          541.7237312782862,
          549.4526076554881,
          557.18148403269,
          564.910360409892,
          572.6392367870939,
          580.3681131642957,
          588.0969895414976,
          595.8258659186995,
          603.5547422959014,
          611.2836186731033,
          619.0124950503052,
          626.7413714275071,
          634.4702478047091,
          642.199124181911,
          649.9280005591129,
          657.6568769363148,
          665.3857533135167,
          673.1146296907185,
          680.8435060679204,
          688.5723824451223,
          696.3012588223243,
          704.0301351995262,
          711.7590115767281,
          719.48788795393,
          727.2167643311319,
          734.9456407083338,
          742.6745170855357,
          750.4033934627375,
          758.1322698399395,
          765.8611462171414,
          773.5900225943433,
          781.3188989715452,
          789.0477753487471,
          796.776651725949,
          804.5055281031509,
          812.2344044803529,
          819.9632808575548,
          827.6921572347566,
          835.4210336119585,
          843.1499099891604,
          850.8787863663623,
          858.6076627435642,
          866.3365391207661
         ],
         "z": [
          -19.40263888888889,
          -19.128389400909047,
          -18.8541399129292,
          -18.579890424949355,
          -18.30564093696951,
          -18.031391448989663,
          -17.75714196100982,
          -17.48289247302997,
          -17.208642985050126,
          -16.934393497070282,
          -16.660144009090434,
          -16.38589452111059,
          -16.111645033130745,
          -15.8373955451509,
          -15.563146057171053,
          -15.288896569191207,
          -15.014647081211361,
          -14.740397593231517,
          -14.466148105251671,
          -14.191898617271825,
          -13.91764912929198,
          -13.643399641312135,
          -13.369150153332289,
          -13.094900665352444,
          -12.820651177372598,
          -12.546401689392752,
          -12.272152201412908,
          -11.99790271343306,
          -11.723653225453216,
          -11.44940373747337,
          -11.175154249493524,
          -10.90090476151368,
          -10.626655273533833,
          -10.352405785553987,
          -10.078156297574143,
          -9.803906809594297,
          -9.529657321614451,
          -9.255407833634605,
          -8.98115834565476,
          -8.706908857674915,
          -8.432659369695068,
          -8.158409881715224,
          -7.884160393735378,
          -7.609910905755532,
          -7.335661417775686,
          -7.061411929795842,
          -6.787162441815996,
          -6.51291295383615,
          -6.238663465856305,
          -5.964413977876459,
          -5.690164489896613,
          -5.415915001916767,
          -5.141665513936923,
          -4.867416025957077,
          -4.593166537977231,
          -4.318917049997385,
          -4.0446675620175405,
          -3.7704180740376945,
          -3.4961685860578484,
          -3.221919098078004,
          -2.9476696100981563,
          -2.673420122118312,
          -2.3991706341384678,
          -2.12492114615862,
          -1.8506716581787757,
          -1.5764221701989314,
          -1.3021726822190836,
          -1.0279231942392393,
          -0.753673706259395,
          -0.4794242182795472,
          -0.2051747302997029,
          0.06907475768014493,
          0.3433242456599892,
          0.6175737336398335,
          0.8918232216196813,
          1.1660727095995256,
          1.4403221975793699,
          1.7145716855592177,
          1.988821173539062,
          2.2630706615189062,
          2.537320149498754,
          2.8115696374785983,
          3.0858191254584426,
          3.3600686134382904,
          3.6343181014181347,
          3.9085675893979825,
          4.182817077377827,
          4.457066565357671,
          4.731316053337519,
          5.005565541317363,
          5.2798150292972075,
          5.554064517277055,
          5.8283140052569,
          6.102563493236744,
          6.376812981216592,
          6.651062469196436,
          6.92531195717628,
          7.199561445156128,
          7.473810933135972,
          7.748060421115817
         ]
        }
       ],
       "layout": {
        "coloraxis": {
         "colorbar": {
          "title": {
           "text": "color"
          }
         },
         "colorscale": [
          [
           0.0,
           "#0d0887"
          ],
          [
           0.1111111111111111,
           "#46039f"
          ],
          [
           0.2222222222222222,
           "#7201a8"
          ],
          [
           0.3333333333333333,
           "#9c179e"
          ],
          [
           0.4444444444444444,
           "#bd3786"
          ],
          [
           0.5555555555555556,
           "#d8576b"
          ],
          [
           0.6666666666666666,
           "#ed7953"
          ],
          [
           0.7777777777777778,
           "#fb9f3a"
          ],
          [
           0.8888888888888888,
           "#fdca26"
          ],
          [
           1.0,
           "#f0f921"
          ]
         ]
        },
        "legend": {
         "itemsizing": "constant",
         "tracegroupgap": 0
        },
        "margin": {
         "t": 60
        },
        "scene": {
         "aspectmode": "cube",
         "domain": {
          "x": [
           0.0,
           1.0
          ],
          "y": [
           0.0,
           1.0
          ]
         },
         "xaxis": {
          "range": [
           -600,
           600
          ],
          "title": {
           "text": "x"
          }
         },
         "yaxis": {
          "range": [
           -600,
           600
          ],
          "title": {
           "text": "y"
          }
         },
         "zaxis": {
          "range": [
           -600,
           600
          ],
          "title": {
           "text": "z"
          }
         }
        },
        "template": {
         "data": {
          "bar": [
           {
            "error_x": {
             "color": "#2a3f5f"
            },
            "error_y": {
             "color": "#2a3f5f"
            },
            "marker": {
             "line": {
              "color": "#E5ECF6",
              "width": 0.5
             },
             "pattern": {
              "fillmode": "overlay",
              "size": 10,
              "solidity": 0.2
             }
            },
            "type": "bar"
           }
          ],
          "barpolar": [
           {
            "marker": {
             "line": {
              "color": "#E5ECF6",
              "width": 0.5
             },
             "pattern": {
              "fillmode": "overlay",
              "size": 10,
              "solidity": 0.2
             }
            },
            "type": "barpolar"
           }
          ],
          "carpet": [
           {
            "aaxis": {
             "endlinecolor": "#2a3f5f",
             "gridcolor": "white",
             "linecolor": "white",
             "minorgridcolor": "white",
             "startlinecolor": "#2a3f5f"
            },
            "baxis": {
             "endlinecolor": "#2a3f5f",
             "gridcolor": "white",
             "linecolor": "white",
             "minorgridcolor": "white",
             "startlinecolor": "#2a3f5f"
            },
            "type": "carpet"
           }
          ],
          "choropleth": [
           {
            "colorbar": {
             "outlinewidth": 0,
             "ticks": ""
            },
            "type": "choropleth"
           }
          ],
          "contour": [
           {
            "colorbar": {
             "outlinewidth": 0,
             "ticks": ""
            },
            "colorscale": [
             [
              0.0,
              "#0d0887"
             ],
             [
              0.1111111111111111,
              "#46039f"
             ],
             [
              0.2222222222222222,
              "#7201a8"
             ],
             [
              0.3333333333333333,
              "#9c179e"
             ],
             [
              0.4444444444444444,
              "#bd3786"
             ],
             [
              0.5555555555555556,
              "#d8576b"
             ],
             [
              0.6666666666666666,
              "#ed7953"
             ],
             [
              0.7777777777777778,
              "#fb9f3a"
             ],
             [
              0.8888888888888888,
              "#fdca26"
             ],
             [
              1.0,
              "#f0f921"
             ]
            ],
            "type": "contour"
           }
          ],
          "contourcarpet": [
           {
            "colorbar": {
             "outlinewidth": 0,
             "ticks": ""
            },
            "type": "contourcarpet"
           }
          ],
          "heatmap": [
           {
            "colorbar": {
             "outlinewidth": 0,
             "ticks": ""
            },
            "colorscale": [
             [
              0.0,
              "#0d0887"
             ],
             [
              0.1111111111111111,
              "#46039f"
             ],
             [
              0.2222222222222222,
              "#7201a8"
             ],
             [
              0.3333333333333333,
              "#9c179e"
             ],
             [
              0.4444444444444444,
              "#bd3786"
             ],
             [
              0.5555555555555556,
              "#d8576b"
             ],
             [
              0.6666666666666666,
              "#ed7953"
             ],
             [
              0.7777777777777778,
              "#fb9f3a"
             ],
             [
              0.8888888888888888,
              "#fdca26"
             ],
             [
              1.0,
              "#f0f921"
             ]
            ],
            "type": "heatmap"
           }
          ],
          "heatmapgl": [
           {
            "colorbar": {
             "outlinewidth": 0,
             "ticks": ""
            },
            "colorscale": [
             [
              0.0,
              "#0d0887"
             ],
             [
              0.1111111111111111,
              "#46039f"
             ],
             [
              0.2222222222222222,
              "#7201a8"
             ],
             [
              0.3333333333333333,
              "#9c179e"
             ],
             [
              0.4444444444444444,
              "#bd3786"
             ],
             [
              0.5555555555555556,
              "#d8576b"
             ],
             [
              0.6666666666666666,
              "#ed7953"
             ],
             [
              0.7777777777777778,
              "#fb9f3a"
             ],
             [
              0.8888888888888888,
              "#fdca26"
             ],
             [
              1.0,
              "#f0f921"
             ]
            ],
            "type": "heatmapgl"
           }
          ],
          "histogram": [
           {
            "marker": {
             "pattern": {
              "fillmode": "overlay",
              "size": 10,
              "solidity": 0.2
             }
            },
            "type": "histogram"
           }
          ],
          "histogram2d": [
           {
            "colorbar": {
             "outlinewidth": 0,
             "ticks": ""
            },
            "colorscale": [
             [
              0.0,
              "#0d0887"
             ],
             [
              0.1111111111111111,
              "#46039f"
             ],
             [
              0.2222222222222222,
              "#7201a8"
             ],
             [
              0.3333333333333333,
              "#9c179e"
             ],
             [
              0.4444444444444444,
              "#bd3786"
             ],
             [
              0.5555555555555556,
              "#d8576b"
             ],
             [
              0.6666666666666666,
              "#ed7953"
             ],
             [
              0.7777777777777778,
              "#fb9f3a"
             ],
             [
              0.8888888888888888,
              "#fdca26"
             ],
             [
              1.0,
              "#f0f921"
             ]
            ],
            "type": "histogram2d"
           }
          ],
          "histogram2dcontour": [
           {
            "colorbar": {
             "outlinewidth": 0,
             "ticks": ""
            },
            "colorscale": [
             [
              0.0,
              "#0d0887"
             ],
             [
              0.1111111111111111,
              "#46039f"
             ],
             [
              0.2222222222222222,
              "#7201a8"
             ],
             [
              0.3333333333333333,
              "#9c179e"
             ],
             [
              0.4444444444444444,
              "#bd3786"
             ],
             [
              0.5555555555555556,
              "#d8576b"
             ],
             [
              0.6666666666666666,
              "#ed7953"
             ],
             [
              0.7777777777777778,
              "#fb9f3a"
             ],
             [
              0.8888888888888888,
              "#fdca26"
             ],
             [
              1.0,
              "#f0f921"
             ]
            ],
            "type": "histogram2dcontour"
           }
          ],
          "mesh3d": [
           {
            "colorbar": {
             "outlinewidth": 0,
             "ticks": ""
            },
            "type": "mesh3d"
           }
          ],
          "parcoords": [
           {
            "line": {
             "colorbar": {
              "outlinewidth": 0,
              "ticks": ""
             }
            },
            "type": "parcoords"
           }
          ],
          "pie": [
           {
            "automargin": true,
            "type": "pie"
           }
          ],
          "scatter": [
           {
            "fillpattern": {
             "fillmode": "overlay",
             "size": 10,
             "solidity": 0.2
            },
            "type": "scatter"
           }
          ],
          "scatter3d": [
           {
            "line": {
             "colorbar": {
              "outlinewidth": 0,
              "ticks": ""
             }
            },
            "marker": {
             "colorbar": {
              "outlinewidth": 0,
              "ticks": ""
             }
            },
            "type": "scatter3d"
           }
          ],
          "scattercarpet": [
           {
            "marker": {
             "colorbar": {
              "outlinewidth": 0,
              "ticks": ""
             }
            },
            "type": "scattercarpet"
           }
          ],
          "scattergeo": [
           {
            "marker": {
             "colorbar": {
              "outlinewidth": 0,
              "ticks": ""
             }
            },
            "type": "scattergeo"
           }
          ],
          "scattergl": [
           {
            "marker": {
             "colorbar": {
              "outlinewidth": 0,
              "ticks": ""
             }
            },
            "type": "scattergl"
           }
          ],
          "scattermapbox": [
           {
            "marker": {
             "colorbar": {
              "outlinewidth": 0,
              "ticks": ""
             }
            },
            "type": "scattermapbox"
           }
          ],
          "scatterpolar": [
           {
            "marker": {
             "colorbar": {
              "outlinewidth": 0,
              "ticks": ""
             }
            },
            "type": "scatterpolar"
           }
          ],
          "scatterpolargl": [
           {
            "marker": {
             "colorbar": {
              "outlinewidth": 0,
              "ticks": ""
             }
            },
            "type": "scatterpolargl"
           }
          ],
          "scatterternary": [
           {
            "marker": {
             "colorbar": {
              "outlinewidth": 0,
              "ticks": ""
             }
            },
            "type": "scatterternary"
           }
          ],
          "surface": [
           {
            "colorbar": {
             "outlinewidth": 0,
             "ticks": ""
            },
            "colorscale": [
             [
              0.0,
              "#0d0887"
             ],
             [
              0.1111111111111111,
              "#46039f"
             ],
             [
              0.2222222222222222,
              "#7201a8"
             ],
             [
              0.3333333333333333,
              "#9c179e"
             ],
             [
              0.4444444444444444,
              "#bd3786"
             ],
             [
              0.5555555555555556,
              "#d8576b"
             ],
             [
              0.6666666666666666,
              "#ed7953"
             ],
             [
              0.7777777777777778,
              "#fb9f3a"
             ],
             [
              0.8888888888888888,
              "#fdca26"
             ],
             [
              1.0,
              "#f0f921"
             ]
            ],
            "type": "surface"
           }
          ],
          "table": [
           {
            "cells": {
             "fill": {
              "color": "#EBF0F8"
             },
             "line": {
              "color": "white"
             }
            },
            "header": {
             "fill": {
              "color": "#C8D4E3"
             },
             "line": {
              "color": "white"
             }
            },
            "type": "table"
           }
          ]
         },
         "layout": {
          "annotationdefaults": {
           "arrowcolor": "#2a3f5f",
           "arrowhead": 0,
           "arrowwidth": 1
          },
          "autotypenumbers": "strict",
          "coloraxis": {
           "colorbar": {
            "outlinewidth": 0,
            "ticks": ""
           }
          },
          "colorscale": {
           "diverging": [
            [
             0,
             "#8e0152"
            ],
            [
             0.1,
             "#c51b7d"
            ],
            [
             0.2,
             "#de77ae"
            ],
            [
             0.3,
             "#f1b6da"
            ],
            [
             0.4,
             "#fde0ef"
            ],
            [
             0.5,
             "#f7f7f7"
            ],
            [
             0.6,
             "#e6f5d0"
            ],
            [
             0.7,
             "#b8e186"
            ],
            [
             0.8,
             "#7fbc41"
            ],
            [
             0.9,
             "#4d9221"
            ],
            [
             1,
             "#276419"
            ]
           ],
           "sequential": [
            [
             0.0,
             "#0d0887"
            ],
            [
             0.1111111111111111,
             "#46039f"
            ],
            [
             0.2222222222222222,
             "#7201a8"
            ],
            [
             0.3333333333333333,
             "#9c179e"
            ],
            [
             0.4444444444444444,
             "#bd3786"
            ],
            [
             0.5555555555555556,
             "#d8576b"
            ],
            [
             0.6666666666666666,
             "#ed7953"
            ],
            [
             0.7777777777777778,
             "#fb9f3a"
            ],
            [
             0.8888888888888888,
             "#fdca26"
            ],
            [
             1.0,
             "#f0f921"
            ]
           ],
           "sequentialminus": [
            [
             0.0,
             "#0d0887"
            ],
            [
             0.1111111111111111,
             "#46039f"
            ],
            [
             0.2222222222222222,
             "#7201a8"
            ],
            [
             0.3333333333333333,
             "#9c179e"
            ],
            [
             0.4444444444444444,
             "#bd3786"
            ],
            [
             0.5555555555555556,
             "#d8576b"
            ],
            [
             0.6666666666666666,
             "#ed7953"
            ],
            [
             0.7777777777777778,
             "#fb9f3a"
            ],
            [
             0.8888888888888888,
             "#fdca26"
            ],
            [
             1.0,
             "#f0f921"
            ]
           ]
          },
          "colorway": [
           "#636efa",
           "#EF553B",
           "#00cc96",
           "#ab63fa",
           "#FFA15A",
           "#19d3f3",
           "#FF6692",
           "#B6E880",
           "#FF97FF",
           "#FECB52"
          ],
          "font": {
           "color": "#2a3f5f"
          },
          "geo": {
           "bgcolor": "white",
           "lakecolor": "white",
           "landcolor": "#E5ECF6",
           "showlakes": true,
           "showland": true,
           "subunitcolor": "white"
          },
          "hoverlabel": {
           "align": "left"
          },
          "hovermode": "closest",
          "mapbox": {
           "style": "light"
          },
          "paper_bgcolor": "white",
          "plot_bgcolor": "#E5ECF6",
          "polar": {
           "angularaxis": {
            "gridcolor": "white",
            "linecolor": "white",
            "ticks": ""
           },
           "bgcolor": "#E5ECF6",
           "radialaxis": {
            "gridcolor": "white",
            "linecolor": "white",
            "ticks": ""
           }
          },
          "scene": {
           "xaxis": {
            "backgroundcolor": "#E5ECF6",
            "gridcolor": "white",
            "gridwidth": 2,
            "linecolor": "white",
            "showbackground": true,
            "ticks": "",
            "zerolinecolor": "white"
           },
           "yaxis": {
            "backgroundcolor": "#E5ECF6",
            "gridcolor": "white",
            "gridwidth": 2,
            "linecolor": "white",
            "showbackground": true,
            "ticks": "",
            "zerolinecolor": "white"
           },
           "zaxis": {
            "backgroundcolor": "#E5ECF6",
            "gridcolor": "white",
            "gridwidth": 2,
            "linecolor": "white",
            "showbackground": true,
            "ticks": "",
            "zerolinecolor": "white"
           }
          },
          "shapedefaults": {
           "line": {
            "color": "#2a3f5f"
           }
          },
          "ternary": {
           "aaxis": {
            "gridcolor": "white",
            "linecolor": "white",
            "ticks": ""
           },
           "baxis": {
            "gridcolor": "white",
            "linecolor": "white",
            "ticks": ""
           },
           "bgcolor": "#E5ECF6",
           "caxis": {
            "gridcolor": "white",
            "linecolor": "white",
            "ticks": ""
           }
          },
          "title": {
           "x": 0.05
          },
          "xaxis": {
           "automargin": true,
           "gridcolor": "white",
           "linecolor": "white",
           "ticks": "",
           "title": {
            "standoff": 15
           },
           "zerolinecolor": "white",
           "zerolinewidth": 2
          },
          "yaxis": {
           "automargin": true,
           "gridcolor": "white",
           "linecolor": "white",
           "ticks": "",
           "title": {
            "standoff": 15
           },
           "zerolinecolor": "white",
           "zerolinewidth": 2
          }
         }
        },
        "title": {
         "text": "evt #435"
        }
       }
      },
      "text/html": [
       "<div>                            <div id=\"36a2c292-d845-4ebe-99cc-f4e4f9433da8\" class=\"plotly-graph-div\" style=\"height:525px; width:100%;\"></div>            <script type=\"text/javascript\">                require([\"plotly\"], function(Plotly) {                    window.PLOTLYENV=window.PLOTLYENV || {};                                    if (document.getElementById(\"36a2c292-d845-4ebe-99cc-f4e4f9433da8\")) {                    Plotly.newPlot(                        \"36a2c292-d845-4ebe-99cc-f4e4f9433da8\",                        [{\"hovertemplate\":\"x=%{x}<br>y=%{y}<br>z=%{z}<br>size=%{marker.size}<br>color=%{marker.color}<extra></extra>\",\"legendgroup\":\"\",\"marker\":{\"color\":[6167,6751,7503,7743,7938,8293,9860,9872,9903,9994,9994,10127,10323,10389,10884,10896,11208,11212,11228,11263,11310,11352,11357,11367,11368,11553,11577,11733,11781,11899,11970,12006,12207,12604,12620,12770,12803,12906,12993,13087,13122,13170,13190,13450,13503,13615,13631,13813,13842,13847,13853,13883,13897,13945,14284,14824,14855,15016,15095,15118,15141,15323,15631,16057,16446,16990,17522,17937,18428,18750,19240,19561],\"coloraxis\":\"coloraxis\",\"size\":[1.125,0.5249999761581421,0.925000011920929,0.574999988079071,0.32499998807907104,0.7749999761581421,0.875,1.0750000476837158,0.32499998807907104,0.925000011920929,0.5249999761581421,1.0750000476837158,1.3250000476837158,0.625,0.7250000238418579,0.574999988079071,0.2750000059604645,0.2750000059604645,0.675000011920929,1.1749999523162842,0.925000011920929,0.17499999701976776,0.7749999761581421,0.875,0.875,0.7749999761581421,1.0750000476837158,0.5249999761581421,0.824999988079071,0.574999988079071,1.1749999523162842,0.675000011920929,0.574999988079071,0.625,0.875,0.7749999761581421,0.9750000238418579,0.625,2.424999952316284,1.024999976158142,0.875,0.2750000059604645,0.7250000238418579,0.7749999761581421,0.875,0.375,0.7749999761581421,0.824999988079071,0.7749999761581421,1.225000023841858,0.7749999761581421,0.4749999940395355,0.9750000238418579,1.3250000476837158,0.875,0.625,0.7749999761581421,0.574999988079071,1.4249999523162842,0.7250000238418579,1.375,0.574999988079071,0.9750000238418579,0.9750000238418579,0.675000011920929,0.9750000238418579,1.475000023841858,2.575000047683716,0.925000011920929,0.574999988079071,0.7250000238418579,1.125],\"sizemode\":\"area\",\"sizeref\":0.00643750011920929,\"symbol\":\"circle\"},\"mode\":\"markers\",\"name\":\"\",\"scene\":\"scene\",\"showlegend\":false,\"x\":[-121.77,-10.97,-245.65,41.6,-279.53,411.81,544.07,544.07,544.07,-570.9,544.07,544.07,544.07,-290.66,472.05,411.81,330.03,330.03,330.03,330.03,472.05,330.03,330.03,544.07,330.03,11.87,330.03,330.03,330.03,330.03,330.03,257.31,-368.93,132.03,132.03,-10.97,174.47,132.03,31.25,-101.06,54.26,57.2,54.26,90.49,106.94,11.87,-224.09,-200.55,31.25,54.26,54.26,-66.7,-66.7,-101.06,41.6,411.81,-189.98,174.47,330.03,338.44,443.84,-145.45,31.25,-88.05,-156.23,405.83,224.58,224.58,124.97,405.83,303.41,330.03],\"y\":[-171.03,6.72,-190.49,35.49,23.17,13.0,55.89,55.89,55.89,-125.14,55.89,55.89,55.89,-307.38,127.9,13.0,127.2,127.2,127.2,127.2,127.9,127.2,127.2,55.89,127.2,179.19,127.2,127.2,127.2,127.2,127.2,211.66,-210.23,202.98,202.98,6.72,315.54,202.98,-72.93,490.22,292.97,-105.52,292.97,82.35,27.09,179.19,470.86,-74.03,-72.93,292.97,292.97,276.92,276.92,490.22,35.49,13.0,257.42,315.54,127.2,463.72,-194.31,374.24,-72.93,-384.3,43.37,-306.38,432.35,432.35,-131.25,-306.38,335.64,127.2],\"z\":[-501.56,-458.37,127.03,179.51,-365.45,-213.14,502.79,502.79,468.74,-198.25,451.72,468.74,417.68,-108.6,265.98,348.55,143.43,160.45,211.51,126.41,283.0,160.45,109.39,315.56,109.39,-467.34,126.41,109.39,41.31,245.56,160.45,-23.22,75.02,-195.12,-178.09,-458.37,19.14,-246.18,-503.42,-366.57,-292.44,-462.77,-326.48,-162.14,-342.98,-331.67,-42.24,200.03,-180.16,-292.44,-343.5,-506.4,-421.3,348.3,-298.07,-213.14,-434.79,-236.17,211.51,250.41,261.36,-503.14,-503.42,431.93,-401.26,103.66,71.55,428.98,272.38,154.72,189.56,126.41],\"type\":\"scatter3d\"},{\"marker\":{\"size\":0.001},\"x\":[159.93569444444447,150.60225775415225,141.26882106386003,131.9353843735678,122.60194768327561,113.2685109929834,103.93507430269119,94.60163761239897,85.26820092210676,75.93476423181454,66.60132754152232,57.26789085123012,47.934454160937904,38.60101747064569,29.267580780353484,19.934144090061267,10.60070739976905,1.2672707094768327,-8.066165980815384,-17.3996026711076,-26.73303936139982,-36.06647605169201,-45.399912741984224,-54.73334943227644,-64.06678612256866,-73.40022281286087,-82.73365950315309,-92.06709619344531,-101.4005328837375,-110.73396957402971,-120.06740626432193,-129.40084295461415,-138.73427964490637,-148.06771633519858,-157.4011530254908,-166.73458971578302,-176.06802640607523,-185.40146309636745,-194.73489978665967,-204.06833647695188,-213.4017731672441,-222.73520985753626,-232.06864654782848,-241.4020832381207,-250.7355199284129,-260.0689566187051,-269.4023933089974,-278.73582999928954,-288.0692666895818,-297.40270337987397,-306.73614007016624,-316.0695767604584,-325.4030134507507,-334.73645014104284,-344.0698868313351,-353.40332352162727,-362.73676021191943,-372.0701969022117,-381.40363359250387,-390.73707028279614,-400.0705069730883,-409.4039436633806,-418.73738035367273,-428.070817043965,-437.40425373425717,-446.7376904245493,-456.0711271148416,-465.40456380513376,-474.73800049542604,-484.0714371857182,-493.40487387601047,-502.73831056630263,-512.0717472565949,-521.4051839468871,-530.7386206371793,-540.0720573274715,-549.4054940177638,-558.7389307080559,-568.0723673983482,-577.4058040886404,-586.7392407789326,-596.0726774692248,-605.406114159517,-614.7395508498092,-624.0729875401014,-633.4064242303937,-642.7398609206858,-652.0732976109781,-661.4067343012703,-670.7401709915625,-680.0736076818547,-689.407044372147,-698.7404810624391,-708.0739177527314,-717.4073544430236,-726.7407911333158,-736.074227823608,-745.4076645139002,-754.7411012041924,-764.0745378944847],\"y\":[101.17777777777778,108.90665415497968,116.63553053218158,124.36440690938349,132.09328328658538,139.8221596637873,147.55103604098917,155.2799124181911,163.008788795393,170.73766517259492,178.4665415497968,186.1954179269987,193.9242943042006,201.65317068140251,209.38204705860443,217.1109234358063,224.8397998130082,232.5686761902101,240.29755256741203,248.0264289446139,255.75530532181583,263.4841816990177,271.2130580762196,278.94193445342154,286.6708108306234,294.3996872078253,302.1285635850272,309.85743996222914,317.58631633943105,325.31519271663296,333.0440690938349,340.77294547103673,348.50182184823865,356.23069822544056,363.9595746026424,371.68845097984433,379.41732735704625,387.14620373424816,394.8750801114501,402.603956488652,410.3328328658539,418.0617092430558,425.7905856202576,433.51946199745953,441.24833837466144,448.97721475186336,456.70609112906527,464.4349675062672,472.1638438834691,479.892720260671,487.6215966378729,495.35047301507484,503.07934939227664,510.80822576947855,518.5371021466805,526.2659785238824,533.9948549010843,541.7237312782862,549.4526076554881,557.18148403269,564.910360409892,572.6392367870939,580.3681131642957,588.0969895414976,595.8258659186995,603.5547422959014,611.2836186731033,619.0124950503052,626.7413714275071,634.4702478047091,642.199124181911,649.9280005591129,657.6568769363148,665.3857533135167,673.1146296907185,680.8435060679204,688.5723824451223,696.3012588223243,704.0301351995262,711.7590115767281,719.48788795393,727.2167643311319,734.9456407083338,742.6745170855357,750.4033934627375,758.1322698399395,765.8611462171414,773.5900225943433,781.3188989715452,789.0477753487471,796.776651725949,804.5055281031509,812.2344044803529,819.9632808575548,827.6921572347566,835.4210336119585,843.1499099891604,850.8787863663623,858.6076627435642,866.3365391207661],\"z\":[-19.40263888888889,-19.128389400909047,-18.8541399129292,-18.579890424949355,-18.30564093696951,-18.031391448989663,-17.75714196100982,-17.48289247302997,-17.208642985050126,-16.934393497070282,-16.660144009090434,-16.38589452111059,-16.111645033130745,-15.8373955451509,-15.563146057171053,-15.288896569191207,-15.014647081211361,-14.740397593231517,-14.466148105251671,-14.191898617271825,-13.91764912929198,-13.643399641312135,-13.369150153332289,-13.094900665352444,-12.820651177372598,-12.546401689392752,-12.272152201412908,-11.99790271343306,-11.723653225453216,-11.44940373747337,-11.175154249493524,-10.90090476151368,-10.626655273533833,-10.352405785553987,-10.078156297574143,-9.803906809594297,-9.529657321614451,-9.255407833634605,-8.98115834565476,-8.706908857674915,-8.432659369695068,-8.158409881715224,-7.884160393735378,-7.609910905755532,-7.335661417775686,-7.061411929795842,-6.787162441815996,-6.51291295383615,-6.238663465856305,-5.964413977876459,-5.690164489896613,-5.415915001916767,-5.141665513936923,-4.867416025957077,-4.593166537977231,-4.318917049997385,-4.0446675620175405,-3.7704180740376945,-3.4961685860578484,-3.221919098078004,-2.9476696100981563,-2.673420122118312,-2.3991706341384678,-2.12492114615862,-1.8506716581787757,-1.5764221701989314,-1.3021726822190836,-1.0279231942392393,-0.753673706259395,-0.4794242182795472,-0.2051747302997029,0.06907475768014493,0.3433242456599892,0.6175737336398335,0.8918232216196813,1.1660727095995256,1.4403221975793699,1.7145716855592177,1.988821173539062,2.2630706615189062,2.537320149498754,2.8115696374785983,3.0858191254584426,3.3600686134382904,3.6343181014181347,3.9085675893979825,4.182817077377827,4.457066565357671,4.731316053337519,5.005565541317363,5.2798150292972075,5.554064517277055,5.8283140052569,6.102563493236744,6.376812981216592,6.651062469196436,6.92531195717628,7.199561445156128,7.473810933135972,7.748060421115817],\"type\":\"scatter3d\"}],                        {\"coloraxis\":{\"colorbar\":{\"title\":{\"text\":\"color\"}},\"colorscale\":[[0.0,\"#0d0887\"],[0.1111111111111111,\"#46039f\"],[0.2222222222222222,\"#7201a8\"],[0.3333333333333333,\"#9c179e\"],[0.4444444444444444,\"#bd3786\"],[0.5555555555555556,\"#d8576b\"],[0.6666666666666666,\"#ed7953\"],[0.7777777777777778,\"#fb9f3a\"],[0.8888888888888888,\"#fdca26\"],[1.0,\"#f0f921\"]]},\"legend\":{\"itemsizing\":\"constant\",\"tracegroupgap\":0},\"margin\":{\"t\":60},\"scene\":{\"aspectmode\":\"cube\",\"domain\":{\"x\":[0.0,1.0],\"y\":[0.0,1.0]},\"xaxis\":{\"range\":[-600,600],\"title\":{\"text\":\"x\"}},\"yaxis\":{\"range\":[-600,600],\"title\":{\"text\":\"y\"}},\"zaxis\":{\"range\":[-600,600],\"title\":{\"text\":\"z\"}}},\"template\":{\"data\":{\"barpolar\":[{\"marker\":{\"line\":{\"color\":\"#E5ECF6\",\"width\":0.5},\"pattern\":{\"fillmode\":\"overlay\",\"size\":10,\"solidity\":0.2}},\"type\":\"barpolar\"}],\"bar\":[{\"error_x\":{\"color\":\"#2a3f5f\"},\"error_y\":{\"color\":\"#2a3f5f\"},\"marker\":{\"line\":{\"color\":\"#E5ECF6\",\"width\":0.5},\"pattern\":{\"fillmode\":\"overlay\",\"size\":10,\"solidity\":0.2}},\"type\":\"bar\"}],\"carpet\":[{\"aaxis\":{\"endlinecolor\":\"#2a3f5f\",\"gridcolor\":\"white\",\"linecolor\":\"white\",\"minorgridcolor\":\"white\",\"startlinecolor\":\"#2a3f5f\"},\"baxis\":{\"endlinecolor\":\"#2a3f5f\",\"gridcolor\":\"white\",\"linecolor\":\"white\",\"minorgridcolor\":\"white\",\"startlinecolor\":\"#2a3f5f\"},\"type\":\"carpet\"}],\"choropleth\":[{\"colorbar\":{\"outlinewidth\":0,\"ticks\":\"\"},\"type\":\"choropleth\"}],\"contourcarpet\":[{\"colorbar\":{\"outlinewidth\":0,\"ticks\":\"\"},\"type\":\"contourcarpet\"}],\"contour\":[{\"colorbar\":{\"outlinewidth\":0,\"ticks\":\"\"},\"colorscale\":[[0.0,\"#0d0887\"],[0.1111111111111111,\"#46039f\"],[0.2222222222222222,\"#7201a8\"],[0.3333333333333333,\"#9c179e\"],[0.4444444444444444,\"#bd3786\"],[0.5555555555555556,\"#d8576b\"],[0.6666666666666666,\"#ed7953\"],[0.7777777777777778,\"#fb9f3a\"],[0.8888888888888888,\"#fdca26\"],[1.0,\"#f0f921\"]],\"type\":\"contour\"}],\"heatmapgl\":[{\"colorbar\":{\"outlinewidth\":0,\"ticks\":\"\"},\"colorscale\":[[0.0,\"#0d0887\"],[0.1111111111111111,\"#46039f\"],[0.2222222222222222,\"#7201a8\"],[0.3333333333333333,\"#9c179e\"],[0.4444444444444444,\"#bd3786\"],[0.5555555555555556,\"#d8576b\"],[0.6666666666666666,\"#ed7953\"],[0.7777777777777778,\"#fb9f3a\"],[0.8888888888888888,\"#fdca26\"],[1.0,\"#f0f921\"]],\"type\":\"heatmapgl\"}],\"heatmap\":[{\"colorbar\":{\"outlinewidth\":0,\"ticks\":\"\"},\"colorscale\":[[0.0,\"#0d0887\"],[0.1111111111111111,\"#46039f\"],[0.2222222222222222,\"#7201a8\"],[0.3333333333333333,\"#9c179e\"],[0.4444444444444444,\"#bd3786\"],[0.5555555555555556,\"#d8576b\"],[0.6666666666666666,\"#ed7953\"],[0.7777777777777778,\"#fb9f3a\"],[0.8888888888888888,\"#fdca26\"],[1.0,\"#f0f921\"]],\"type\":\"heatmap\"}],\"histogram2dcontour\":[{\"colorbar\":{\"outlinewidth\":0,\"ticks\":\"\"},\"colorscale\":[[0.0,\"#0d0887\"],[0.1111111111111111,\"#46039f\"],[0.2222222222222222,\"#7201a8\"],[0.3333333333333333,\"#9c179e\"],[0.4444444444444444,\"#bd3786\"],[0.5555555555555556,\"#d8576b\"],[0.6666666666666666,\"#ed7953\"],[0.7777777777777778,\"#fb9f3a\"],[0.8888888888888888,\"#fdca26\"],[1.0,\"#f0f921\"]],\"type\":\"histogram2dcontour\"}],\"histogram2d\":[{\"colorbar\":{\"outlinewidth\":0,\"ticks\":\"\"},\"colorscale\":[[0.0,\"#0d0887\"],[0.1111111111111111,\"#46039f\"],[0.2222222222222222,\"#7201a8\"],[0.3333333333333333,\"#9c179e\"],[0.4444444444444444,\"#bd3786\"],[0.5555555555555556,\"#d8576b\"],[0.6666666666666666,\"#ed7953\"],[0.7777777777777778,\"#fb9f3a\"],[0.8888888888888888,\"#fdca26\"],[1.0,\"#f0f921\"]],\"type\":\"histogram2d\"}],\"histogram\":[{\"marker\":{\"pattern\":{\"fillmode\":\"overlay\",\"size\":10,\"solidity\":0.2}},\"type\":\"histogram\"}],\"mesh3d\":[{\"colorbar\":{\"outlinewidth\":0,\"ticks\":\"\"},\"type\":\"mesh3d\"}],\"parcoords\":[{\"line\":{\"colorbar\":{\"outlinewidth\":0,\"ticks\":\"\"}},\"type\":\"parcoords\"}],\"pie\":[{\"automargin\":true,\"type\":\"pie\"}],\"scatter3d\":[{\"line\":{\"colorbar\":{\"outlinewidth\":0,\"ticks\":\"\"}},\"marker\":{\"colorbar\":{\"outlinewidth\":0,\"ticks\":\"\"}},\"type\":\"scatter3d\"}],\"scattercarpet\":[{\"marker\":{\"colorbar\":{\"outlinewidth\":0,\"ticks\":\"\"}},\"type\":\"scattercarpet\"}],\"scattergeo\":[{\"marker\":{\"colorbar\":{\"outlinewidth\":0,\"ticks\":\"\"}},\"type\":\"scattergeo\"}],\"scattergl\":[{\"marker\":{\"colorbar\":{\"outlinewidth\":0,\"ticks\":\"\"}},\"type\":\"scattergl\"}],\"scattermapbox\":[{\"marker\":{\"colorbar\":{\"outlinewidth\":0,\"ticks\":\"\"}},\"type\":\"scattermapbox\"}],\"scatterpolargl\":[{\"marker\":{\"colorbar\":{\"outlinewidth\":0,\"ticks\":\"\"}},\"type\":\"scatterpolargl\"}],\"scatterpolar\":[{\"marker\":{\"colorbar\":{\"outlinewidth\":0,\"ticks\":\"\"}},\"type\":\"scatterpolar\"}],\"scatter\":[{\"fillpattern\":{\"fillmode\":\"overlay\",\"size\":10,\"solidity\":0.2},\"type\":\"scatter\"}],\"scatterternary\":[{\"marker\":{\"colorbar\":{\"outlinewidth\":0,\"ticks\":\"\"}},\"type\":\"scatterternary\"}],\"surface\":[{\"colorbar\":{\"outlinewidth\":0,\"ticks\":\"\"},\"colorscale\":[[0.0,\"#0d0887\"],[0.1111111111111111,\"#46039f\"],[0.2222222222222222,\"#7201a8\"],[0.3333333333333333,\"#9c179e\"],[0.4444444444444444,\"#bd3786\"],[0.5555555555555556,\"#d8576b\"],[0.6666666666666666,\"#ed7953\"],[0.7777777777777778,\"#fb9f3a\"],[0.8888888888888888,\"#fdca26\"],[1.0,\"#f0f921\"]],\"type\":\"surface\"}],\"table\":[{\"cells\":{\"fill\":{\"color\":\"#EBF0F8\"},\"line\":{\"color\":\"white\"}},\"header\":{\"fill\":{\"color\":\"#C8D4E3\"},\"line\":{\"color\":\"white\"}},\"type\":\"table\"}]},\"layout\":{\"annotationdefaults\":{\"arrowcolor\":\"#2a3f5f\",\"arrowhead\":0,\"arrowwidth\":1},\"autotypenumbers\":\"strict\",\"coloraxis\":{\"colorbar\":{\"outlinewidth\":0,\"ticks\":\"\"}},\"colorscale\":{\"diverging\":[[0,\"#8e0152\"],[0.1,\"#c51b7d\"],[0.2,\"#de77ae\"],[0.3,\"#f1b6da\"],[0.4,\"#fde0ef\"],[0.5,\"#f7f7f7\"],[0.6,\"#e6f5d0\"],[0.7,\"#b8e186\"],[0.8,\"#7fbc41\"],[0.9,\"#4d9221\"],[1,\"#276419\"]],\"sequential\":[[0.0,\"#0d0887\"],[0.1111111111111111,\"#46039f\"],[0.2222222222222222,\"#7201a8\"],[0.3333333333333333,\"#9c179e\"],[0.4444444444444444,\"#bd3786\"],[0.5555555555555556,\"#d8576b\"],[0.6666666666666666,\"#ed7953\"],[0.7777777777777778,\"#fb9f3a\"],[0.8888888888888888,\"#fdca26\"],[1.0,\"#f0f921\"]],\"sequentialminus\":[[0.0,\"#0d0887\"],[0.1111111111111111,\"#46039f\"],[0.2222222222222222,\"#7201a8\"],[0.3333333333333333,\"#9c179e\"],[0.4444444444444444,\"#bd3786\"],[0.5555555555555556,\"#d8576b\"],[0.6666666666666666,\"#ed7953\"],[0.7777777777777778,\"#fb9f3a\"],[0.8888888888888888,\"#fdca26\"],[1.0,\"#f0f921\"]]},\"colorway\":[\"#636efa\",\"#EF553B\",\"#00cc96\",\"#ab63fa\",\"#FFA15A\",\"#19d3f3\",\"#FF6692\",\"#B6E880\",\"#FF97FF\",\"#FECB52\"],\"font\":{\"color\":\"#2a3f5f\"},\"geo\":{\"bgcolor\":\"white\",\"lakecolor\":\"white\",\"landcolor\":\"#E5ECF6\",\"showlakes\":true,\"showland\":true,\"subunitcolor\":\"white\"},\"hoverlabel\":{\"align\":\"left\"},\"hovermode\":\"closest\",\"mapbox\":{\"style\":\"light\"},\"paper_bgcolor\":\"white\",\"plot_bgcolor\":\"#E5ECF6\",\"polar\":{\"angularaxis\":{\"gridcolor\":\"white\",\"linecolor\":\"white\",\"ticks\":\"\"},\"bgcolor\":\"#E5ECF6\",\"radialaxis\":{\"gridcolor\":\"white\",\"linecolor\":\"white\",\"ticks\":\"\"}},\"scene\":{\"xaxis\":{\"backgroundcolor\":\"#E5ECF6\",\"gridcolor\":\"white\",\"gridwidth\":2,\"linecolor\":\"white\",\"showbackground\":true,\"ticks\":\"\",\"zerolinecolor\":\"white\"},\"yaxis\":{\"backgroundcolor\":\"#E5ECF6\",\"gridcolor\":\"white\",\"gridwidth\":2,\"linecolor\":\"white\",\"showbackground\":true,\"ticks\":\"\",\"zerolinecolor\":\"white\"},\"zaxis\":{\"backgroundcolor\":\"#E5ECF6\",\"gridcolor\":\"white\",\"gridwidth\":2,\"linecolor\":\"white\",\"showbackground\":true,\"ticks\":\"\",\"zerolinecolor\":\"white\"}},\"shapedefaults\":{\"line\":{\"color\":\"#2a3f5f\"}},\"ternary\":{\"aaxis\":{\"gridcolor\":\"white\",\"linecolor\":\"white\",\"ticks\":\"\"},\"baxis\":{\"gridcolor\":\"white\",\"linecolor\":\"white\",\"ticks\":\"\"},\"bgcolor\":\"#E5ECF6\",\"caxis\":{\"gridcolor\":\"white\",\"linecolor\":\"white\",\"ticks\":\"\"}},\"title\":{\"x\":0.05},\"xaxis\":{\"automargin\":true,\"gridcolor\":\"white\",\"linecolor\":\"white\",\"ticks\":\"\",\"title\":{\"standoff\":15},\"zerolinecolor\":\"white\",\"zerolinewidth\":2},\"yaxis\":{\"automargin\":true,\"gridcolor\":\"white\",\"linecolor\":\"white\",\"ticks\":\"\",\"title\":{\"standoff\":15},\"zerolinecolor\":\"white\",\"zerolinewidth\":2}}},\"title\":{\"text\":\"evt #435\"}},                        {\"responsive\": true}                    ).then(function(){\n",
       "                            \n",
       "var gd = document.getElementById('36a2c292-d845-4ebe-99cc-f4e4f9433da8');\n",
       "var x = new MutationObserver(function (mutations, observer) {{\n",
       "        var display = window.getComputedStyle(gd).display;\n",
       "        if (!display || display === 'none') {{\n",
       "            console.log([gd, 'removed!']);\n",
       "            Plotly.purge(gd);\n",
       "            observer.disconnect();\n",
       "        }}\n",
       "}});\n",
       "\n",
       "// Listen for the removal of the full notebook cells\n",
       "var notebookContainer = gd.closest('#notebook-container');\n",
       "if (notebookContainer) {{\n",
       "    x.observe(notebookContainer, {childList: true});\n",
       "}}\n",
       "\n",
       "// Listen for the clearing of the current output cell\n",
       "var outputEl = gd.closest('.output');\n",
       "if (outputEl) {{\n",
       "    x.observe(outputEl, {childList: true});\n",
       "}}\n",
       "\n",
       "                        })                };                });            </script>        </div>"
      ]
     },
     "metadata": {},
     "output_type": "display_data"
    }
   ],
   "source": [
    "iplot(plot_event(*load_single_event(\"train\", 0, 21, ignore_aux=False)))"
   ]
  },
  {
   "cell_type": "markdown",
   "id": "234083ea",
   "metadata": {
    "papermill": {
     "duration": 0.029653,
     "end_time": "2023-04-03T04:03:55.489832",
     "exception": false,
     "start_time": "2023-04-03T04:03:55.460179",
     "status": "completed"
    },
    "tags": []
   },
   "source": [
    "## Data preprocessing\n",
    "\n",
    "In this example notebook, we are building a very simple convolutional neural network to predict the neutrino direction. What we'll actually do is we'll discretize our pulses into a fixed shape matrix. Moreover, to avoid large sparse 4D matrices (X, Y, Z, time), we'll calculate time-coordinate 2D projections (TX, TY, TZ). We'll also shift all the pulse timings by the median time in an event. **The particular binning chosen here is very likely not optimal (as well as this binning approach in general).**"
   ]
  },
  {
   "cell_type": "code",
   "execution_count": 15,
   "id": "7d9dd224",
   "metadata": {
    "execution": {
     "iopub.execute_input": "2023-04-03T04:03:55.551978Z",
     "iopub.status.busy": "2023-04-03T04:03:55.551258Z",
     "iopub.status.idle": "2023-04-03T04:03:56.402536Z",
     "shell.execute_reply": "2023-04-03T04:03:56.401520Z"
    },
    "papermill": {
     "duration": 0.884941,
     "end_time": "2023-04-03T04:03:56.404867",
     "exception": false,
     "start_time": "2023-04-03T04:03:55.519926",
     "status": "completed"
    },
    "tags": []
   },
   "outputs": [
    {
     "name": "stdout",
     "output_type": "stream",
     "text": [
      "Preprocessed batch shape: (1, 301)\n"
     ]
    },
    {
     "data": {
      "image/png": "[encoded data removed]",
      "text/plain": [
       "<Figure size 1400x400 with 2 Axes>"
      ]
     },
     "metadata": {},
     "output_type": "display_data"
    }
   ],
   "source": [
    "def normalize_time(df):\n",
    "    g = df[[\"event_id\", \"time\"]].groupby(\"event_id\")\n",
    "    times = g.quantile(0.5).rename(dict(time=\"t_mid\")).with_columns(pl.col(\"t_mid\").cast(pl.Int64))\n",
    "    return df.join(times, on=\"event_id\").with_columns((pl.col(\"time\") - pl.col(\"t_mid\")).alias(\"time_norm\"))\n",
    "\n",
    "NBINS_T = 10\n",
    "NBINS_S = 10\n",
    "\n",
    "def preprocess_batch(batch_df):\n",
    "    # Time bins:\n",
    "    tbins = np.linspace(-5000, 10000, NBINS_T + 1)\n",
    "    tbin_width = tbins[1] - tbins[0]\n",
    "    tbin_centers = (tbins[:-1] + tbins[1:]) / 2\n",
    "\n",
    "    # Spacial bins:\n",
    "    sbins = np.linspace(-600, 600, NBINS_S + 1)\n",
    "    sbin_width = sbins[1] - sbins[0]\n",
    "    sbin_centers = (sbins[:-1] + sbins[1:]) / 2\n",
    "\n",
    "    # Normalize time and calculate a gaussian-like contribution of each pulse to each bin.\n",
    "    # We group all the data by `event_id` and then aggregate each group with the code below.\n",
    "    return normalize_time(batch_df).groupby(\"event_id\").agg([\n",
    "        ((\n",
    "            np.exp(-(                                           #\n",
    "                ((pl.col(\"time_norm\") - tmid) / tbin_width)**2  #  <== Calculate the gaussian-smoothed\n",
    "                + ((pl.col(ax) - smid) / sbin_width)**2         #  <== contribution of each pulse to each bin\n",
    "            ))\n",
    "        # Then weight by charge, calculate per bin sum and rename (we'll get a separate column per each bin):\n",
    "        ) * pl.col(\"charge\")).sum().alias(f\"t_{int(tmid)}_{ax}_{int(smid)}\".replace('-', \"m\"))\n",
    "        for ax in [\"x\", \"y\", \"z\"]                          #  <== Iterate over axes\n",
    "        for tmid in tbin_centers for smid in sbin_centers  #  <== Iterate over bins\n",
    "    ])\n",
    "\n",
    "# Here's a function to check what a preprocessed event looks like.\n",
    "# Note that we are plotting log(1 + amplitude).\n",
    "def plot_example(i_batch=0, i_event=4):\n",
    "    b_pulses, _ = load_batch_c(\"train\", TRAIN_BIDS[i_batch])\n",
    "    e_id = b_pulses[\"event_id\"].unique().sort()[i_event]\n",
    "    prep_batch = preprocess_batch(b_pulses.filter(pl.col(\"event_id\") == e_id))\n",
    "    print(\"Preprocessed batch shape:\", prep_batch.shape)\n",
    "    img = prep_batch.drop(\"event_id\").to_numpy().reshape(3, NBINS_T, NBINS_S)  # 3 images (TX, TY, TZ) of NBINS_T by NBINS_S\n",
    "\n",
    "    plt.figure(figsize=(14, 4))\n",
    "    plt.imshow(np.concatenate([np.pad(np.log1p(x), 1, constant_values=np.nan) for x in img], axis=-1))\n",
    "    plt.colorbar();\n",
    "\n",
    "plot_example()"
   ]
  },
  {
   "cell_type": "markdown",
   "id": "4cc27385",
   "metadata": {
    "papermill": {
     "duration": 0.03009,
     "end_time": "2023-04-03T04:03:56.465526",
     "exception": false,
     "start_time": "2023-04-03T04:03:56.435436",
     "status": "completed"
    },
    "tags": []
   },
   "source": [
    "In the example above we ran preprocessing over just a single event. Running on an entire batch may take a considerable amount of time. In order to avoid repeatedly preprocessing our data, we'll make use of on-disk cache with `joblib.Memory`. This approach does not work very healthily when caching a function defined in an interactive Jupyter session (it may result in repeated calculations). Therefore, we'll use the `%%file` magic again to create and import such a function:"
   ]
  },
  {
   "cell_type": "code",
   "execution_count": 16,
   "id": "1d88eec5",
   "metadata": {
    "execution": {
     "iopub.execute_input": "2023-04-03T04:03:56.528515Z",
     "iopub.status.busy": "2023-04-03T04:03:56.527673Z",
     "iopub.status.idle": "2023-04-03T04:03:56.535054Z",
     "shell.execute_reply": "2023-04-03T04:03:56.534004Z"
    },
    "papermill": {
     "duration": 0.041238,
     "end_time": "2023-04-03T04:03:56.537219",
     "exception": false,
     "start_time": "2023-04-03T04:03:56.495981",
     "status": "completed"
    },
    "tags": []
   },
   "outputs": [
    {
     "name": "stdout",
     "output_type": "stream",
     "text": [
      "Writing preprocessing_cache.py\n"
     ]
    }
   ],
   "source": [
    "%%file preprocessing_cache.py\n",
    "\n",
    "import numpy as np\n",
    "import polars as pl\n",
    "from joblib import Memory\n",
    "memory = Memory(\"cache/\")\n",
    "\n",
    "@memory.cache(ignore=[\"load_batch\", \"preprocess_batch\"])\n",
    "def load_and_preprocess_batch(\n",
    "    folder, batch_id, load_batch, preprocess_batch, num_subsample=None\n",
    "):\n",
    "    \"\"\"\n",
    "    Load and preprocess a batch, possibly taking only a subsample of a batch.\n",
    "    \n",
    "    Parameters\n",
    "    ----------\n",
    "    folder : str\n",
    "        Which part of the data to process. Should be either \"train\" or \"test\".\n",
    "    batch_id : int\n",
    "        Index of the batch (as in the `batch_id` column).\n",
    "    load_batch : Callable\n",
    "        Function loading a batch (to pass the interactively defined `load_batch` function).\n",
    "    preprocess_batch : Callable\n",
    "        Function preprocessing a batch (to pass the interactively defined `preprocess_batch`\n",
    "        function).\n",
    "    num_subsample : int | None\n",
    "        If provided, only preprocess a random subsample of this size from the batch.\n",
    "\n",
    "    Returns\n",
    "    -------\n",
    "    polars.DataFrame\n",
    "        Preprocessed pulses.\n",
    "    polars.DataFrame\n",
    "        Corresponding meta info.\n",
    "    \"\"\"\n",
    "    batch_pulses, batch_meta = load_batch(folder, batch_id)\n",
    "    if num_subsample is not None:\n",
    "        ids = batch_pulses[\"event_id\"].unique()\n",
    "        ids = np.random.choice(ids, num_subsample, replace=False)\n",
    "        batch_pulses = batch_pulses.filter(pl.col(\"event_id\").is_in(ids.tolist()))\n",
    "        batch_meta = batch_meta.filter(pl.col(\"event_id\").is_in(ids.tolist()))\n",
    "    batch_pulses = preprocess_batch(batch_pulses).sort(by=\"event_id\")\n",
    "    batch_meta = batch_meta.sort(by=\"event_id\")\n",
    "\n",
    "    assert batch_pulses[\"event_id\"].series_equal(batch_meta[\"event_id\"])\n",
    "    return batch_pulses, batch_meta"
   ]
  },
  {
   "cell_type": "markdown",
   "id": "9d1b4c02",
   "metadata": {
    "papermill": {
     "duration": 0.03008,
     "end_time": "2023-04-03T04:03:56.597849",
     "exception": false,
     "start_time": "2023-04-03T04:03:56.567769",
     "status": "completed"
    },
    "tags": []
   },
   "source": [
    "Here's a simple wrapper around the above defined function:"
   ]
  },
  {
   "cell_type": "code",
   "execution_count": 17,
   "id": "4de84360",
   "metadata": {
    "execution": {
     "iopub.execute_input": "2023-04-03T04:03:56.660602Z",
     "iopub.status.busy": "2023-04-03T04:03:56.660201Z",
     "iopub.status.idle": "2023-04-03T04:03:56.710987Z",
     "shell.execute_reply": "2023-04-03T04:03:56.709921Z"
    },
    "papermill": {
     "duration": 0.085325,
     "end_time": "2023-04-03T04:03:56.713688",
     "exception": false,
     "start_time": "2023-04-03T04:03:56.628363",
     "status": "completed"
    },
    "tags": []
   },
   "outputs": [],
   "source": [
    "import preprocessing_cache\n",
    "\n",
    "def load_and_preprocess_batch(folder, i_batch, num_subsample=None):\n",
    "    bids = dict(train=TRAIN_BIDS, test=TEST_BIDS)[folder]\n",
    "    return preprocessing_cache.load_and_preprocess_batch(\n",
    "        folder, bids[i_batch], load_batch, preprocess_batch, num_subsample\n",
    "    )"
   ]
  },
  {
   "cell_type": "markdown",
   "id": "9b5c66c8",
   "metadata": {
    "papermill": {
     "duration": 0.029919,
     "end_time": "2023-04-03T04:03:56.774853",
     "exception": false,
     "start_time": "2023-04-03T04:03:56.744934",
     "status": "completed"
    },
    "tags": []
   },
   "source": [
    "Since we're done with examining single events, we can delete the in-memory cached function to free some RAM:"
   ]
  },
  {
   "cell_type": "code",
   "execution_count": 18,
   "id": "eac9e08d",
   "metadata": {
    "execution": {
     "iopub.execute_input": "2023-04-03T04:03:56.838484Z",
     "iopub.status.busy": "2023-04-03T04:03:56.837439Z",
     "iopub.status.idle": "2023-04-03T04:03:57.233623Z",
     "shell.execute_reply": "2023-04-03T04:03:57.232543Z"
    },
    "papermill": {
     "duration": 0.430664,
     "end_time": "2023-04-03T04:03:57.236046",
     "exception": false,
     "start_time": "2023-04-03T04:03:56.805382",
     "status": "completed"
    },
    "tags": []
   },
   "outputs": [
    {
     "data": {
      "text/plain": [
       "8865"
      ]
     },
     "execution_count": 18,
     "metadata": {},
     "output_type": "execute_result"
    }
   ],
   "source": [
    "# Free the memory taken by the cached version of the loader function as we don't need it any more.\n",
    "\n",
    "del load_batch_c\n",
    "gc.collect()"
   ]
  },
  {
   "cell_type": "markdown",
   "id": "72a917ce",
   "metadata": {
    "papermill": {
     "duration": 0.030515,
     "end_time": "2023-04-03T04:03:57.297243",
     "exception": false,
     "start_time": "2023-04-03T04:03:57.266728",
     "status": "completed"
    },
    "tags": []
   },
   "source": [
    "## Defining the dataset, model and running a training loop"
   ]
  },
  {
   "cell_type": "markdown",
   "id": "e8ea535f",
   "metadata": {
    "papermill": {
     "duration": 0.030346,
     "end_time": "2023-04-03T04:03:57.357920",
     "exception": false,
     "start_time": "2023-04-03T04:03:57.327574",
     "status": "completed"
    },
    "tags": []
   },
   "source": [
    "First, we define our dataset as a subclass of `torch.utils.data.IterableDataset`:"
   ]
  },
  {
   "cell_type": "code",
   "execution_count": 19,
   "id": "b7adbacb",
   "metadata": {
    "execution": {
     "iopub.execute_input": "2023-04-03T04:03:57.421559Z",
     "iopub.status.busy": "2023-04-03T04:03:57.420502Z",
     "iopub.status.idle": "2023-04-03T04:03:57.433066Z",
     "shell.execute_reply": "2023-04-03T04:03:57.432054Z"
    },
    "papermill": {
     "duration": 0.047048,
     "end_time": "2023-04-03T04:03:57.435339",
     "exception": false,
     "start_time": "2023-04-03T04:03:57.388291",
     "status": "completed"
    },
    "tags": []
   },
   "outputs": [],
   "source": [
    "class Dataset(torch.utils.data.IterableDataset):\n",
    "    def __init__(self, folder, file_ids, batch_size, drop_each_last=True, num_subsample=None, with_evt_id=False):\n",
    "        \"\"\"\n",
    "        Parameters\n",
    "        ----------\n",
    "        folder : str\n",
    "            Which part of the data to process. Should be either \"train\" or \"test\".\n",
    "        file_ids : Sequence[int]\n",
    "            A collection of batch-file indices (positional) to use.\n",
    "        batch_size : int\n",
    "            Size of the output batches (not to be confused with the batches in which the pulses\n",
    "            are provided by the competition).\n",
    "        drop_each_last : bool\n",
    "            Whether to avoid batches of size smaller than `batch_size`\n",
    "        num_subsample : int | None\n",
    "            Take this many elements from each file (`None` = take all).\n",
    "        with_evt_id : bool\n",
    "            Output event ids (useful for making and submitting the prediction).\n",
    "        \"\"\"\n",
    "        super().__init__()\n",
    "        self.folder = folder\n",
    "        self.file_ids = file_ids\n",
    "        self.batch_size = batch_size\n",
    "        self.drop_each_last = drop_each_last\n",
    "        self.num_subsample = num_subsample\n",
    "        self.with_evt_id = with_evt_id\n",
    "\n",
    "    def __iter__(self):\n",
    "        for i in np.random.choice(len(self.file_ids), len(self.file_ids), replace=False):\n",
    "            gc.collect()\n",
    "            batch_x, batch_y = load_and_preprocess_batch(\n",
    "                self.folder, self.file_ids[i], num_subsample=self.num_subsample\n",
    "            )\n",
    "            if \"azimuth\" in batch_y.columns:\n",
    "                batch_y = batch_y[[\"azimuth\", \"zenith\"]]\n",
    "            else:\n",
    "                batch_y = None\n",
    "\n",
    "            evt_ids = batch_x[\"event_id\"]\n",
    "            batch_x = batch_x.drop(\"event_id\")\n",
    "\n",
    "            if self.num_subsample is not None:\n",
    "                assert len(batch_x) == self.num_subsample\n",
    "\n",
    "            for i_evt in range(0, len(batch_x), self.batch_size):\n",
    "                minibatch_x = batch_x[i_evt: i_evt + self.batch_size]\n",
    "                if self.drop_each_last and len(minibatch_x) < self.batch_size:\n",
    "                    continue\n",
    "\n",
    "                minibatch_x = torch.from_numpy(\n",
    "                    minibatch_x.to_numpy().astype(np.float32).reshape(-1, 3, NBINS_T, NBINS_S)\n",
    "                )\n",
    "                minibatch_y = None if batch_y is None else (\n",
    "                    torch.from_numpy(\n",
    "                        batch_y[i_evt: i_evt + self.batch_size].to_numpy().astype(np.float32)\n",
    "                    )\n",
    "                )\n",
    "                if self.with_evt_id:\n",
    "                    yield minibatch_x, minibatch_y, evt_ids[i_evt: i_evt + self.batch_size]\n",
    "                else:\n",
    "                    yield minibatch_x, minibatch_y"
   ]
  },
  {
   "cell_type": "markdown",
   "id": "124ace30",
   "metadata": {
    "papermill": {
     "duration": 0.030417,
     "end_time": "2023-04-03T04:03:57.496377",
     "exception": false,
     "start_time": "2023-04-03T04:03:57.465960",
     "status": "completed"
    },
    "tags": []
   },
   "source": [
    "Now the model.\n",
    "\n",
    "**The architecture** is quite simple: process each of the 3 projections by a downsampling convolutional network, then proecss the result with a fully-connected network. The output will be a vector with 3 components from which we'll determine the angles later.\n",
    "\n",
    "**The loss** will be calculated in the output vector representation. I.e., we'll take the target angles, convert them to a directional unit vector and calculate the MSE between this vector and our prediction.\n",
    "\n",
    "**For monitoring**, we'll overwite a `on_epoch_end` lightning method, in which we'll create/update a plot of loss values."
   ]
  },
  {
   "cell_type": "code",
   "execution_count": 20,
   "id": "1e30e1d1",
   "metadata": {
    "execution": {
     "iopub.execute_input": "2023-04-03T04:03:57.559688Z",
     "iopub.status.busy": "2023-04-03T04:03:57.559301Z",
     "iopub.status.idle": "2023-04-03T04:03:57.608320Z",
     "shell.execute_reply": "2023-04-03T04:03:57.607294Z"
    },
    "papermill": {
     "duration": 0.083719,
     "end_time": "2023-04-03T04:03:57.610807",
     "exception": false,
     "start_time": "2023-04-03T04:03:57.527088",
     "status": "completed"
    },
    "tags": []
   },
   "outputs": [],
   "source": [
    "assert NBINS_T == 10 and NBINS_S == 10, \"Our model expects 10x10 representation\"\n",
    "\n",
    "class ConvPredictor(torch.nn.Module):\n",
    "    def __init__(self, activation=torch.nn.ELU()):\n",
    "        super().__init__()\n",
    "        (self.model_tx, self.model_ty, self.model_tz) = [\n",
    "            torch.nn.Sequential(\n",
    "                torch.nn.Conv2d(1, 32, 3), activation, # 1x10 -> 32x8\n",
    "                torch.nn.Conv2d(32, 64, 3), activation, # -> 64x6\n",
    "                torch.nn.Conv2d(64, 128, 3), activation, # -> 128x4\n",
    "                torch.nn.Conv2d(128, 256, 3), activation, # -> 256x2\n",
    "            ) for _ in range(3)\n",
    "        ]\n",
    "        self.head = torch.nn.Sequential(\n",
    "            torch.nn.Linear(3 * 256 * 2 * 2, 32), activation,\n",
    "            torch.nn.Linear(32, 3)\n",
    "        )\n",
    "\n",
    "    def forward(self, x):\n",
    "        # x shape is (BATCH, 3, 10, 10)\n",
    "        x = torch.log(1.0 + x)\n",
    "        tx, ty, tz = x[:, 0: 1], x[:, 1: 2], x[:, 2: 3]\n",
    "        tx = self.model_tx(tx).view(x.shape[0], 256 * 4)\n",
    "        ty = self.model_tx(ty).view(x.shape[0], 256 * 4)\n",
    "        tz = self.model_tx(tz).view(x.shape[0], 256 * 4)\n",
    "        pred = self.head(torch.cat([tx, ty, tz], axis=1))\n",
    "        return pred\n",
    "\n",
    "class LitModel(ptl.LightningModule):\n",
    "    def __init__(self, model):\n",
    "        super().__init__()\n",
    "        self.model = model\n",
    "\n",
    "    def calculate_loss(self, batch):\n",
    "        (X,), (Y,) = batch\n",
    "        (azimuth, zenith) = Y.T\n",
    "        vx = torch.cos(azimuth) * torch.sin(zenith)\n",
    "        vy = torch.sin(azimuth) * torch.sin(zenith)\n",
    "        vz = torch.cos(zenith)\n",
    "        v = torch.stack([vx, vy, vz], axis=1)\n",
    "\n",
    "        pred_v = self.model(X)\n",
    "        return torch.nn.functional.mse_loss(pred_v, v)\n",
    "\n",
    "    def training_step(self, batch, batch_idx):\n",
    "        loss = self.calculate_loss(batch)\n",
    "        self.log(\"train_loss\", loss, prog_bar=True)\n",
    "        return loss\n",
    "\n",
    "    def validation_step(self, batch, batch_idx):\n",
    "        loss = self.calculate_loss(batch)\n",
    "        self.log(\"val_loss\", loss, prog_bar=True)\n",
    "\n",
    "    def configure_optimizers(self):\n",
    "        opt = torch.optim.Adam(self.parameters(), lr=1e-4)\n",
    "        return opt\n",
    "\n",
    "    def on_validation_end(self):\n",
    "        super().on_validation_end()\n",
    "\n",
    "        self.logger.experiment.flush()\n",
    "        if not hasattr(self, \"tb_reader\"):\n",
    "            self.tb_reader = event_accumulator.EventAccumulator(self.logger.log_dir)\n",
    "            self.hdisplay = display(\"\", display_id=True)\n",
    "        ea = self.tb_reader\n",
    "        ea.Reload()\n",
    "\n",
    "        try:\n",
    "            train_values = [(x.step, x.value) for x in ea.Scalars(\"train_loss\")]\n",
    "            val_values = [(x.step, x.value) for x in ea.Scalars(\"val_loss\")]\n",
    "\n",
    "            if hasattr(self, \"last_fig\"):\n",
    "                plt.close(self.last_fig)\n",
    "\n",
    "            self.last_fig = plt.figure()\n",
    "            plt.plot(*zip(*train_values), label=\"Train\")\n",
    "            plt.plot(*zip(*val_values), label=\"Validation\");\n",
    "            plt.xlabel(\"Step\")\n",
    "            plt.ylabel(\"Loss\")\n",
    "            plt.legend()\n",
    "            self.hdisplay.update(self.last_fig)\n",
    "        except KeyError:\n",
    "            pass\n",
    "\n",
    "\n",
    "model = ConvPredictor()\n",
    "lit_model = LitModel(model)"
   ]
  },
  {
   "cell_type": "markdown",
   "id": "c5c8aa6f",
   "metadata": {
    "papermill": {
     "duration": 0.030631,
     "end_time": "2023-04-03T04:03:57.672296",
     "exception": false,
     "start_time": "2023-04-03T04:03:57.641665",
     "status": "completed"
    },
    "tags": []
   },
   "source": [
    "OK, it's time to train our model. For this example, we'll use a small subset of data, and only run training for a few epochs."
   ]
  },
  {
   "cell_type": "code",
   "execution_count": 21,
   "id": "32f35bce",
   "metadata": {
    "execution": {
     "iopub.execute_input": "2023-04-03T04:03:57.736147Z",
     "iopub.status.busy": "2023-04-03T04:03:57.734964Z",
     "iopub.status.idle": "2023-04-03T05:41:50.752962Z",
     "shell.execute_reply": "2023-04-03T05:41:50.751974Z"
    },
    "papermill": {
     "duration": 5873.052285,
     "end_time": "2023-04-03T05:41:50.755197",
     "exception": false,
     "start_time": "2023-04-03T04:03:57.702912",
     "status": "completed"
    },
    "tags": []
   },
   "outputs": [
    {
     "name": "stdout",
     "output_type": "stream",
     "text": [
      "Train file ids: [629 499 135 480  90 456 304 235  72 532]\n",
      "Validation file ids: [165]\n"
     ]
    },
    {
     "data": {
      "application/vnd.jupyter.widget-view+json": {
       "model_id": "872b96c97bab429393ec58f644f67383",
       "version_major": 2,
       "version_minor": 0
      },
      "text/plain": [
       "Sanity Checking: 0it [00:00, ?it/s]"
      ]
     },
     "metadata": {},
     "output_type": "display_data"
    },
    {
     "name": "stdout",
     "output_type": "stream",
     "text": [
      "________________________________________________________________________________\n",
      "[Memory] Calling preprocessing_cache.load_and_preprocess_batch...\n",
      "load_and_preprocess_batch('train', 166, <function load_batch at 0x7f14c4ec3050>, <function preprocess_batch at 0x7f14b71e7d40>, 5000)\n",
      "_______________________________________load_and_preprocess_batch - 13.2s, 0.2min\n"
     ]
    },
    {
     "data": {
      "image/png": "[encoded data removed]",
      "text/plain": [
       "<Figure size 640x480 with 1 Axes>"
      ]
     },
     "metadata": {},
     "output_type": "display_data"
    },
    {
     "data": {
      "application/vnd.jupyter.widget-view+json": {
       "model_id": "930bfb36d87d4a0bb5829e958a26929d",
       "version_major": 2,
       "version_minor": 0
      },
      "text/plain": [
       "Training: 0it [00:00, ?it/s]"
      ]
     },
     "metadata": {},
     "output_type": "display_data"
    },
    {
     "name": "stdout",
     "output_type": "stream",
     "text": [
      "________________________________________________________________________________\n",
      "[Memory] Calling preprocessing_cache.load_and_preprocess_batch...\n",
      "load_and_preprocess_batch('train', 136, <function load_batch at 0x7f14c4ec3050>, <function preprocess_batch at 0x7f14b71e7d40>, 50000)\n",
      "______________________________________load_and_preprocess_batch - 112.1s, 1.9min\n",
      "________________________________________________________________________________\n",
      "[Memory] Calling preprocessing_cache.load_and_preprocess_batch...\n",
      "load_and_preprocess_batch('train', 500, <function load_batch at 0x7f14c4ec3050>, <function preprocess_batch at 0x7f14b71e7d40>, 50000)\n",
      "______________________________________load_and_preprocess_batch - 125.5s, 2.1min\n",
      "________________________________________________________________________________\n",
      "[Memory] Calling preprocessing_cache.load_and_preprocess_batch...\n",
      "load_and_preprocess_batch('train', 533, <function load_batch at 0x7f14c4ec3050>, <function preprocess_batch at 0x7f14b71e7d40>, 50000)\n",
      "______________________________________load_and_preprocess_batch - 112.9s, 1.9min\n",
      "________________________________________________________________________________\n",
      "[Memory] Calling preprocessing_cache.load_and_preprocess_batch...\n",
      "load_and_preprocess_batch('train', 91, <function load_batch at 0x7f14c4ec3050>, <function preprocess_batch at 0x7f14b71e7d40>, 50000)\n",
      "______________________________________load_and_preprocess_batch - 124.6s, 2.1min\n",
      "________________________________________________________________________________\n",
      "[Memory] Calling preprocessing_cache.load_and_preprocess_batch...\n",
      "load_and_preprocess_batch('train', 73, <function load_batch at 0x7f14c4ec3050>, <function preprocess_batch at 0x7f14b71e7d40>, 50000)\n",
      "______________________________________load_and_preprocess_batch - 118.8s, 2.0min\n",
      "________________________________________________________________________________\n",
      "[Memory] Calling preprocessing_cache.load_and_preprocess_batch...\n",
      "load_and_preprocess_batch('train', 236, <function load_batch at 0x7f14c4ec3050>, <function preprocess_batch at 0x7f14b71e7d40>, 50000)\n",
      "______________________________________load_and_preprocess_batch - 108.8s, 1.8min\n",
      "________________________________________________________________________________\n",
      "[Memory] Calling preprocessing_cache.load_and_preprocess_batch...\n",
      "load_and_preprocess_batch('train', 630, <function load_batch at 0x7f14c4ec3050>, <function preprocess_batch at 0x7f14b71e7d40>, 50000)\n",
      "______________________________________load_and_preprocess_batch - 112.2s, 1.9min\n",
      "________________________________________________________________________________\n",
      "[Memory] Calling preprocessing_cache.load_and_preprocess_batch...\n",
      "load_and_preprocess_batch('train', 305, <function load_batch at 0x7f14c4ec3050>, <function preprocess_batch at 0x7f14b71e7d40>, 50000)\n",
      "______________________________________load_and_preprocess_batch - 113.4s, 1.9min\n",
      "________________________________________________________________________________\n",
      "[Memory] Calling preprocessing_cache.load_and_preprocess_batch...\n",
      "load_and_preprocess_batch('train', 457, <function load_batch at 0x7f14c4ec3050>, <function preprocess_batch at 0x7f14b71e7d40>, 50000)\n",
      "______________________________________load_and_preprocess_batch - 111.3s, 1.9min\n",
      "________________________________________________________________________________\n",
      "[Memory] Calling preprocessing_cache.load_and_preprocess_batch...\n",
      "load_and_preprocess_batch('train', 481, <function load_batch at 0x7f14c4ec3050>, <function preprocess_batch at 0x7f14b71e7d40>, 50000)\n",
      "______________________________________load_and_preprocess_batch - 108.4s, 1.8min\n"
     ]
    },
    {
     "data": {
      "application/vnd.jupyter.widget-view+json": {
       "model_id": "ee4869cdbb474e0fa36406d3e2733d52",
       "version_major": 2,
       "version_minor": 0
      },
      "text/plain": [
       "Validation: 0it [00:00, ?it/s]"
      ]
     },
     "metadata": {},
     "output_type": "display_data"
    },
    {
     "data": {
      "application/vnd.jupyter.widget-view+json": {
       "model_id": "8cb71b17766f45898b3de1eb08723c97",
       "version_major": 2,
       "version_minor": 0
      },
      "text/plain": [
       "Validation: 0it [00:00, ?it/s]"
      ]
     },
     "metadata": {},
     "output_type": "display_data"
    },
    {
     "data": {
      "application/vnd.jupyter.widget-view+json": {
       "model_id": "c604d09995c04079a9de9278d0765f88",
       "version_major": 2,
       "version_minor": 0
      },
      "text/plain": [
       "Validation: 0it [00:00, ?it/s]"
      ]
     },
     "metadata": {},
     "output_type": "display_data"
    },
    {
     "data": {
      "application/vnd.jupyter.widget-view+json": {
       "model_id": "0d069d57408c49f9b3fdf7c3c42f6710",
       "version_major": 2,
       "version_minor": 0
      },
      "text/plain": [
       "Validation: 0it [00:00, ?it/s]"
      ]
     },
     "metadata": {},
     "output_type": "display_data"
    },
    {
     "data": {
      "application/vnd.jupyter.widget-view+json": {
       "model_id": "70f25b1d593c4a39a402e28deb0af58a",
       "version_major": 2,
       "version_minor": 0
      },
      "text/plain": [
       "Validation: 0it [00:00, ?it/s]"
      ]
     },
     "metadata": {},
     "output_type": "display_data"
    },
    {
     "data": {
      "application/vnd.jupyter.widget-view+json": {
       "model_id": "88266a29137b4dbf967f34adf729da31",
       "version_major": 2,
       "version_minor": 0
      },
      "text/plain": [
       "Validation: 0it [00:00, ?it/s]"
      ]
     },
     "metadata": {},
     "output_type": "display_data"
    },
    {
     "data": {
      "application/vnd.jupyter.widget-view+json": {
       "model_id": "be62a044fb854ddc997adbe7391e2ffd",
       "version_major": 2,
       "version_minor": 0
      },
      "text/plain": [
       "Validation: 0it [00:00, ?it/s]"
      ]
     },
     "metadata": {},
     "output_type": "display_data"
    },
    {
     "data": {
      "application/vnd.jupyter.widget-view+json": {
       "model_id": "fe073b34a26244e4b0973af8163e2043",
       "version_major": 2,
       "version_minor": 0
      },
      "text/plain": [
       "Validation: 0it [00:00, ?it/s]"
      ]
     },
     "metadata": {},
     "output_type": "display_data"
    },
    {
     "data": {
      "application/vnd.jupyter.widget-view+json": {
       "model_id": "d5a824781bab44aa9fc014be0622cd52",
       "version_major": 2,
       "version_minor": 0
      },
      "text/plain": [
       "Validation: 0it [00:00, ?it/s]"
      ]
     },
     "metadata": {},
     "output_type": "display_data"
    },
    {
     "data": {
      "application/vnd.jupyter.widget-view+json": {
       "model_id": "85993ee86c2c4ba3b7b07e892020790d",
       "version_major": 2,
       "version_minor": 0
      },
      "text/plain": [
       "Validation: 0it [00:00, ?it/s]"
      ]
     },
     "metadata": {},
     "output_type": "display_data"
    },
    {
     "data": {
      "application/vnd.jupyter.widget-view+json": {
       "model_id": "bf4844f74dd94554a6e1e679a6b095a2",
       "version_major": 2,
       "version_minor": 0
      },
      "text/plain": [
       "Validation: 0it [00:00, ?it/s]"
      ]
     },
     "metadata": {},
     "output_type": "display_data"
    },
    {
     "data": {
      "application/vnd.jupyter.widget-view+json": {
       "model_id": "ee91d2f6356042c4a34a191278f0ab71",
       "version_major": 2,
       "version_minor": 0
      },
      "text/plain": [
       "Validation: 0it [00:00, ?it/s]"
      ]
     },
     "metadata": {},
     "output_type": "display_data"
    },
    {
     "data": {
      "application/vnd.jupyter.widget-view+json": {
       "model_id": "926da40d0fe4415782271caf6680de95",
       "version_major": 2,
       "version_minor": 0
      },
      "text/plain": [
       "Validation: 0it [00:00, ?it/s]"
      ]
     },
     "metadata": {},
     "output_type": "display_data"
    },
    {
     "data": {
      "application/vnd.jupyter.widget-view+json": {
       "model_id": "ad76e48be9534b5f9af07dde52c96c79",
       "version_major": 2,
       "version_minor": 0
      },
      "text/plain": [
       "Validation: 0it [00:00, ?it/s]"
      ]
     },
     "metadata": {},
     "output_type": "display_data"
    },
    {
     "data": {
      "application/vnd.jupyter.widget-view+json": {
       "model_id": "24764cc114cc4cdaadaec393e9e9ba8c",
       "version_major": 2,
       "version_minor": 0
      },
      "text/plain": [
       "Validation: 0it [00:00, ?it/s]"
      ]
     },
     "metadata": {},
     "output_type": "display_data"
    },
    {
     "data": {
      "application/vnd.jupyter.widget-view+json": {
       "model_id": "83ea9ad4509847699008cb5166092ab4",
       "version_major": 2,
       "version_minor": 0
      },
      "text/plain": [
       "Validation: 0it [00:00, ?it/s]"
      ]
     },
     "metadata": {},
     "output_type": "display_data"
    },
    {
     "data": {
      "application/vnd.jupyter.widget-view+json": {
       "model_id": "8db08ba9fc20418fb8efbffaa4e70449",
       "version_major": 2,
       "version_minor": 0
      },
      "text/plain": [
       "Validation: 0it [00:00, ?it/s]"
      ]
     },
     "metadata": {},
     "output_type": "display_data"
    },
    {
     "data": {
      "application/vnd.jupyter.widget-view+json": {
       "model_id": "a79334bfc50a48b8ab183c03ef540056",
       "version_major": 2,
       "version_minor": 0
      },
      "text/plain": [
       "Validation: 0it [00:00, ?it/s]"
      ]
     },
     "metadata": {},
     "output_type": "display_data"
    },
    {
     "data": {
      "application/vnd.jupyter.widget-view+json": {
       "model_id": "284e8daf8eda418ea659c3433a3db284",
       "version_major": 2,
       "version_minor": 0
      },
      "text/plain": [
       "Validation: 0it [00:00, ?it/s]"
      ]
     },
     "metadata": {},
     "output_type": "display_data"
    },
    {
     "data": {
      "application/vnd.jupyter.widget-view+json": {
       "model_id": "68afe79663b74828a94fd8f4a7e481f3",
       "version_major": 2,
       "version_minor": 0
      },
      "text/plain": [
       "Validation: 0it [00:00, ?it/s]"
      ]
     },
     "metadata": {},
     "output_type": "display_data"
    },
    {
     "data": {
      "application/vnd.jupyter.widget-view+json": {
       "model_id": "b31c13db1fbc4bd0a4cf82e6e5d022ff",
       "version_major": 2,
       "version_minor": 0
      },
      "text/plain": [
       "Validation: 0it [00:00, ?it/s]"
      ]
     },
     "metadata": {},
     "output_type": "display_data"
    },
    {
     "data": {
      "application/vnd.jupyter.widget-view+json": {
       "model_id": "b5bead593dac475aa6c029ff83f76ff4",
       "version_major": 2,
       "version_minor": 0
      },
      "text/plain": [
       "Validation: 0it [00:00, ?it/s]"
      ]
     },
     "metadata": {},
     "output_type": "display_data"
    },
    {
     "data": {
      "application/vnd.jupyter.widget-view+json": {
       "model_id": "be10f497efc549908cbdca233868ecb0",
       "version_major": 2,
       "version_minor": 0
      },
      "text/plain": [
       "Validation: 0it [00:00, ?it/s]"
      ]
     },
     "metadata": {},
     "output_type": "display_data"
    },
    {
     "data": {
      "application/vnd.jupyter.widget-view+json": {
       "model_id": "94769bc60a5948a69e8144a330fb9518",
       "version_major": 2,
       "version_minor": 0
      },
      "text/plain": [
       "Validation: 0it [00:00, ?it/s]"
      ]
     },
     "metadata": {},
     "output_type": "display_data"
    },
    {
     "data": {
      "application/vnd.jupyter.widget-view+json": {
       "model_id": "a548d9ee6b8147fbabb8ab91d9ea9c85",
       "version_major": 2,
       "version_minor": 0
      },
      "text/plain": [
       "Validation: 0it [00:00, ?it/s]"
      ]
     },
     "metadata": {},
     "output_type": "display_data"
    },
    {
     "data": {
      "image/png": "[encoded data removed]",
      "text/plain": [
       "<Figure size 640x480 with 1 Axes>"
      ]
     },
     "metadata": {},
     "output_type": "display_data"
    }
   ],
   "source": [
    "gc.collect()\n",
    "\n",
    "np.random.seed(42)\n",
    "use_n_files = 10\n",
    "chosen_file_ids = np.random.choice(len(TRAIN_BIDS), use_n_files + 1, replace=False)\n",
    "train_file_ids = chosen_file_ids[:-1]\n",
    "val_file_ids = chosen_file_ids[-1:]\n",
    "print(\"Train file ids:\", train_file_ids)\n",
    "print(\"Validation file ids:\", val_file_ids)\n",
    "\n",
    "train_dataset = Dataset(\n",
    "    folder=\"train\",\n",
    "    file_ids=train_file_ids,\n",
    "    batch_size=32,\n",
    "    drop_each_last=True,\n",
    "    num_subsample=50000,\n",
    ")\n",
    "val_dataset = Dataset(\n",
    "    folder=\"train\",\n",
    "    file_ids=val_file_ids,\n",
    "    batch_size=500,\n",
    "    num_subsample=5000,\n",
    ")\n",
    "train_dataloader = torch.utils.data.DataLoader(train_dataset)\n",
    "val_dataloader = torch.utils.data.DataLoader(val_dataset)\n",
    "\n",
    "trainer = ptl.Trainer(\n",
    "    max_epochs=25,\n",
    "    callbacks=ptl.callbacks.ModelCheckpoint(monitor=\"val_loss\"),\n",
    "    accelerator='gpu', devices=1,\n",
    ")\n",
    "trainer.fit(model=lit_model, train_dataloaders=train_dataloader, val_dataloaders=val_dataloader)"
   ]
  },
  {
   "cell_type": "code",
   "execution_count": 22,
   "id": "db950912",
   "metadata": {
    "execution": {
     "iopub.execute_input": "2023-04-03T05:41:50.830519Z",
     "iopub.status.busy": "2023-04-03T05:41:50.830176Z",
     "iopub.status.idle": "2023-04-03T05:41:50.837034Z",
     "shell.execute_reply": "2023-04-03T05:41:50.836056Z"
    },
    "papermill": {
     "duration": 0.04679,
     "end_time": "2023-04-03T05:41:50.839240",
     "exception": false,
     "start_time": "2023-04-03T05:41:50.792450",
     "status": "completed"
    },
    "tags": []
   },
   "outputs": [
    {
     "name": "stdout",
     "output_type": "stream",
     "text": [
      "0.28190333\n",
      "/kaggle/working/lightning_logs/version_0/checkpoints/epoch=11-step=187440.ckpt\n"
     ]
    }
   ],
   "source": [
    "print(trainer.checkpoint_callback.best_model_score.detach().cpu().numpy())\n",
    "print(trainer.checkpoint_callback.best_model_path)"
   ]
  },
  {
   "cell_type": "markdown",
   "id": "c4b34ebb",
   "metadata": {
    "papermill": {
     "duration": 0.035823,
     "end_time": "2023-04-03T05:41:50.910985",
     "exception": false,
     "start_time": "2023-04-03T05:41:50.875162",
     "status": "completed"
    },
    "tags": []
   },
   "source": [
    "Let's restore the checkpoint with best score:"
   ]
  },
  {
   "cell_type": "code",
   "execution_count": 23,
   "id": "656eb0da",
   "metadata": {
    "execution": {
     "iopub.execute_input": "2023-04-03T05:41:50.983602Z",
     "iopub.status.busy": "2023-04-03T05:41:50.983287Z",
     "iopub.status.idle": "2023-04-03T05:41:51.015307Z",
     "shell.execute_reply": "2023-04-03T05:41:51.014209Z"
    },
    "papermill": {
     "duration": 0.070825,
     "end_time": "2023-04-03T05:41:51.017487",
     "exception": false,
     "start_time": "2023-04-03T05:41:50.946662",
     "status": "completed"
    },
    "tags": []
   },
   "outputs": [
    {
     "data": {
      "text/plain": [
       "<All keys matched successfully>"
      ]
     },
     "execution_count": 23,
     "metadata": {},
     "output_type": "execute_result"
    }
   ],
   "source": [
    "checkpoint = torch.load(trainer.checkpoint_callback.best_model_path)\n",
    "lit_model.load_state_dict(checkpoint[\"state_dict\"])"
   ]
  },
  {
   "cell_type": "code",
   "execution_count": 24,
   "id": "26fcf3be",
   "metadata": {
    "execution": {
     "iopub.execute_input": "2023-04-03T05:41:51.150718Z",
     "iopub.status.busy": "2023-04-03T05:41:51.149862Z",
     "iopub.status.idle": "2023-04-03T05:41:52.238038Z",
     "shell.execute_reply": "2023-04-03T05:41:52.237065Z"
    },
    "papermill": {
     "duration": 1.186737,
     "end_time": "2023-04-03T05:41:52.240272",
     "exception": false,
     "start_time": "2023-04-03T05:41:51.053535",
     "status": "completed"
    },
    "tags": []
   },
   "outputs": [
    {
     "data": {
      "application/vnd.jupyter.widget-view+json": {
       "model_id": "e9b9cf9b3cac4b48abf94874d4693187",
       "version_major": 2,
       "version_minor": 0
      },
      "text/plain": [
       "Validation: 0it [00:00, ?it/s]"
      ]
     },
     "metadata": {},
     "output_type": "display_data"
    },
    {
     "data": {
      "text/html": [
       "<pre style=\"white-space:pre;overflow-x:auto;line-height:normal;font-family:Menlo,'DejaVu Sans Mono',consolas,'Courier New',monospace\">┏━━━━━━━━━━━━━━━━━━━━━━━━━━━┳━━━━━━━━━━━━━━━━━━━━━━━━━━━┓\n",
       "┃<span style=\"font-weight: bold\">      Validate metric      </span>┃<span style=\"font-weight: bold\">       DataLoader 0        </span>┃\n",
       "┡━━━━━━━━━━━━━━━━━━━━━━━━━━━╇━━━━━━━━━━━━━━━━━━━━━━━━━━━┩\n",
       "│<span style=\"color: #008080; text-decoration-color: #008080\">         val_loss          </span>│<span style=\"color: #800080; text-decoration-color: #800080\">    0.28190332651138306    </span>│\n",
       "└───────────────────────────┴───────────────────────────┘\n",
       "</pre>\n"
      ],
      "text/plain": [
       "┏━━━━━━━━━━━━━━━━━━━━━━━━━━━┳━━━━━━━━━━━━━━━━━━━━━━━━━━━┓\n",
       "┃\u001b[1m \u001b[0m\u001b[1m     Validate metric     \u001b[0m\u001b[1m \u001b[0m┃\u001b[1m \u001b[0m\u001b[1m      DataLoader 0       \u001b[0m\u001b[1m \u001b[0m┃\n",
       "┡━━━━━━━━━━━━━━━━━━━━━━━━━━━╇━━━━━━━━━━━━━━━━━━━━━━━━━━━┩\n",
       "│\u001b[36m \u001b[0m\u001b[36m        val_loss         \u001b[0m\u001b[36m \u001b[0m│\u001b[35m \u001b[0m\u001b[35m   0.28190332651138306   \u001b[0m\u001b[35m \u001b[0m│\n",
       "└───────────────────────────┴───────────────────────────┘\n"
      ]
     },
     "metadata": {},
     "output_type": "display_data"
    },
    {
     "data": {
      "text/plain": [
       "[{'val_loss': 0.28190332651138306}]"
      ]
     },
     "execution_count": 24,
     "metadata": {},
     "output_type": "execute_result"
    },
    {
     "data": {
      "image/png": "[encoded data removed]",
      "text/plain": [
       "<Figure size 640x480 with 1 Axes>"
      ]
     },
     "metadata": {},
     "output_type": "display_data"
    }
   ],
   "source": [
    "trainer.validate(lit_model, val_dataloader)"
   ]
  },
  {
   "cell_type": "markdown",
   "id": "50d412ac",
   "metadata": {
    "papermill": {
     "duration": 0.036914,
     "end_time": "2023-04-03T05:41:52.315346",
     "exception": false,
     "start_time": "2023-04-03T05:41:52.278432",
     "status": "completed"
    },
    "tags": []
   },
   "source": [
    "## Predicting on test and saving submission file"
   ]
  },
  {
   "cell_type": "code",
   "execution_count": 25,
   "id": "b94a232c",
   "metadata": {
    "execution": {
     "iopub.execute_input": "2023-04-03T05:41:52.391377Z",
     "iopub.status.busy": "2023-04-03T05:41:52.390434Z",
     "iopub.status.idle": "2023-04-03T05:41:52.678837Z",
     "shell.execute_reply": "2023-04-03T05:41:52.677676Z"
    },
    "papermill": {
     "duration": 0.329268,
     "end_time": "2023-04-03T05:41:52.681578",
     "exception": false,
     "start_time": "2023-04-03T05:41:52.352310",
     "status": "completed"
    },
    "tags": []
   },
   "outputs": [
    {
     "data": {
      "text/plain": [
       "4210"
      ]
     },
     "execution_count": 25,
     "metadata": {},
     "output_type": "execute_result"
    }
   ],
   "source": [
    "del trainer, train_dataset, val_dataset, train_dataloader, val_dataloader\n",
    "gc.collect()"
   ]
  },
  {
   "cell_type": "code",
   "execution_count": 26,
   "id": "71fe4cf0",
   "metadata": {
    "execution": {
     "iopub.execute_input": "2023-04-03T05:41:52.758315Z",
     "iopub.status.busy": "2023-04-03T05:41:52.757979Z",
     "iopub.status.idle": "2023-04-03T05:41:52.765130Z",
     "shell.execute_reply": "2023-04-03T05:41:52.763987Z"
    },
    "papermill": {
     "duration": 0.047217,
     "end_time": "2023-04-03T05:41:52.767210",
     "exception": false,
     "start_time": "2023-04-03T05:41:52.719993",
     "status": "completed"
    },
    "tags": []
   },
   "outputs": [],
   "source": [
    "def angles2vec(azimuth, zenith):\n",
    "    x = torch.cos(azimuth) * torch.sin(zenith)\n",
    "    y = torch.sin(azimuth) * torch.sin(zenith)\n",
    "    z = torch.cos(zenith)\n",
    "    return torch.stack([x, y, z], axis=1)\n",
    "\n",
    "def vec2angles(vec):\n",
    "    norm = ((vec**2).sum(axis=1)**0.5)[:, None]\n",
    "    vec = vec / norm\n",
    "    zenith = torch.acos(vec[:, 2])\n",
    "    sin_zenith = torch.sin(zenith)\n",
    "    cos_azimuth = vec[:, 0] / sin_zenith\n",
    "    sin_azimuth = vec[:, 1] / sin_zenith\n",
    "    azimuth = torch.atan2(sin_azimuth, cos_azimuth)\n",
    "    return azimuth, zenith"
   ]
  },
  {
   "cell_type": "code",
   "execution_count": 27,
   "id": "a42b1ca3",
   "metadata": {
    "execution": {
     "iopub.execute_input": "2023-04-03T05:41:52.842883Z",
     "iopub.status.busy": "2023-04-03T05:41:52.842058Z",
     "iopub.status.idle": "2023-04-03T05:41:53.363242Z",
     "shell.execute_reply": "2023-04-03T05:41:53.362225Z"
    },
    "papermill": {
     "duration": 0.56165,
     "end_time": "2023-04-03T05:41:53.365822",
     "exception": false,
     "start_time": "2023-04-03T05:41:52.804172",
     "status": "completed"
    },
    "tags": []
   },
   "outputs": [
    {
     "name": "stdout",
     "output_type": "stream",
     "text": [
      "________________________________________________________________________________\n",
      "[Memory] Calling preprocessing_cache.load_and_preprocess_batch...\n",
      "load_and_preprocess_batch('test', 661, <function load_batch at 0x7f14c4ec3050>, <function preprocess_batch at 0x7f14b71e7d40>, None)\n",
      "________________________________________load_and_preprocess_batch - 0.1s, 0.0min\n"
     ]
    }
   ],
   "source": [
    "test_ds = Dataset(\"test\", list(range(len(TEST_BIDS))), batch_size=1000, drop_each_last=False, with_evt_id=True)\n",
    "\n",
    "def torch2numpy(x):\n",
    "    if isinstance(x, torch.Tensor):\n",
    "        x = x.cpu().numpy()\n",
    "    return x\n",
    "with torch.no_grad():\n",
    "    predictions_df = pd.concat([\n",
    "        pd.DataFrame({\n",
    "            name: torch2numpy(value) for name, value in zip(\n",
    "                [\"event_id\", \"azimuth\", \"zenith\"],\n",
    "                (eids.to_numpy(),) + vec2angles(model(X))\n",
    "            )\n",
    "        }) for X, _, eids in test_ds\n",
    "    ]).sort_values(by=\"event_id\")\n",
    "\n",
    "predictions_df.to_csv(\"submission.csv\", index=False)"
   ]
  },
  {
   "cell_type": "code",
   "execution_count": 28,
   "id": "55d81d21",
   "metadata": {
    "execution": {
     "iopub.execute_input": "2023-04-03T05:41:53.442328Z",
     "iopub.status.busy": "2023-04-03T05:41:53.441440Z",
     "iopub.status.idle": "2023-04-03T05:41:54.475392Z",
     "shell.execute_reply": "2023-04-03T05:41:54.474207Z"
    },
    "papermill": {
     "duration": 1.074654,
     "end_time": "2023-04-03T05:41:54.478198",
     "exception": false,
     "start_time": "2023-04-03T05:41:53.403544",
     "status": "completed"
    },
    "tags": []
   },
   "outputs": [
    {
     "name": "stdout",
     "output_type": "stream",
     "text": [
      "event_id,azimuth,zenith\r\n",
      "2092,0.6090121,0.35576466\r\n",
      "7344,0.8820102,0.44702137\r\n",
      "9482,1.3383188,1.886106\r\n"
     ]
    }
   ],
   "source": [
    "!head submission.csv"
   ]
  }
 ],
 "metadata": {
  "kernelspec": {
   "display_name": "Python 3",
   "language": "python",
   "name": "python3"
  },
  "language_info": {
   "codemirror_mode": {
    "name": "ipython",
    "version": 3
   },
   "file_extension": ".py",
   "mimetype": "text/x-python",
   "name": "python",
   "nbconvert_exporter": "python",
   "pygments_lexer": "ipython3",
   "version": "3.7.12"
  },
  "papermill": {
   "default_parameters": {},
   "duration": 6084.462376,
   "end_time": "2023-04-03T05:41:57.720653",
   "environment_variables": {},
   "exception": null,
   "input_path": "__notebook__.ipynb",
   "output_path": "__notebook__.ipynb",
   "parameters": {},
   "start_time": "2023-04-03T04:00:33.258277",
   "version": "2.4.0"
  },
  "widgets": {
   "application/vnd.jupyter.widget-state+json": {
    "state": {
     "0065b0b04d5a4fd9b407ac3e8dceaff4": {
      "model_module": "@jupyter-widgets/base",
      "model_module_version": "1.2.0",
      "model_name": "LayoutModel",
      "state": {
       "_model_module": "@jupyter-widgets/base",
       "_model_module_version": "1.2.0",
       "_model_name": "LayoutModel",
       "_view_count": null,
       "_view_module": "@jupyter-widgets/base",
       "_view_module_version": "1.2.0",
       "_view_name": "LayoutView",
       "align_content": null,
       "align_items": null,
       "align_self": null,
       "border": null,
       "bottom": null,
       "display": null,
       "flex": "2",
       "flex_flow": null,
       "grid_area": null,
       "grid_auto_columns": null,
       "grid_auto_flow": null,
       "grid_auto_rows": null,
       "grid_column": null,
       "grid_gap": null,
       "grid_row": null,
       "grid_template_areas": null,
       "grid_template_columns": null,
       "grid_template_rows": null,
       "height": null,
       "justify_content": null,
       "justify_items": null,
       "left": null,
       "margin": null,
       "max_height": null,
       "max_width": null,
       "min_height": null,
       "min_width": null,
       "object_fit": null,
       "object_position": null,
       "order": null,
       "overflow": null,
       "overflow_x": null,
       "overflow_y": null,
       "padding": null,
       "right": null,
       "top": null,
       "visibility": null,
       "width": null
      }
     },
     "03096c3f7071499fbf5385e49563c40e": {
      "model_module": "@jupyter-widgets/base",
      "model_module_version": "1.2.0",
      "model_name": "LayoutModel",
      "state": {
       "_model_module": "@jupyter-widgets/base",
       "_model_module_version": "1.2.0",
       "_model_name": "LayoutModel",
       "_view_count": null,
       "_view_module": "@jupyter-widgets/base",
       "_view_module_version": "1.2.0",
       "_view_name": "LayoutView",
       "align_content": null,
       "align_items": null,
       "align_self": null,
       "border": null,
       "bottom": null,
       "display": null,
       "flex": null,
       "flex_flow": null,
       "grid_area": null,
       "grid_auto_columns": null,
       "grid_auto_flow": null,
       "grid_auto_rows": null,
       "grid_column": null,
       "grid_gap": null,
       "grid_row": null,
       "grid_template_areas": null,
       "grid_template_columns": null,
       "grid_template_rows": null,
       "height": null,
       "justify_content": null,
       "justify_items": null,
       "left": null,
       "margin": null,
       "max_height": null,
       "max_width": null,
       "min_height": null,
       "min_width": null,
       "object_fit": null,
       "object_position": null,
       "order": null,
       "overflow": null,
       "overflow_x": null,
       "overflow_y": null,
       "padding": null,
       "right": null,
       "top": null,
       "visibility": null,
       "width": null
      }
     },
     "038bbdca18ed44928509f2d08bfc996a": {
      "model_module": "@jupyter-widgets/base",
      "model_module_version": "1.2.0",
      "model_name": "LayoutModel",
      "state": {
       "_model_module": "@jupyter-widgets/base",
       "_model_module_version": "1.2.0",
       "_model_name": "LayoutModel",
       "_view_count": null,
       "_view_module": "@jupyter-widgets/base",
       "_view_module_version": "1.2.0",
       "_view_name": "LayoutView",
       "align_content": null,
       "align_items": null,
       "align_self": null,
       "border": null,
       "bottom": null,
       "display": null,
       "flex": null,
       "flex_flow": null,
       "grid_area": null,
       "grid_auto_columns": null,
       "grid_auto_flow": null,
       "grid_auto_rows": null,
       "grid_column": null,
       "grid_gap": null,
       "grid_row": null,
       "grid_template_areas": null,
       "grid_template_columns": null,
       "grid_template_rows": null,
       "height": null,
       "justify_content": null,
       "justify_items": null,
       "left": null,
       "margin": null,
       "max_height": null,
       "max_width": null,
       "min_height": null,
       "min_width": null,
       "object_fit": null,
       "object_position": null,
       "order": null,
       "overflow": null,
       "overflow_x": null,
       "overflow_y": null,
       "padding": null,
       "right": null,
       "top": null,
       "visibility": null,
       "width": null
      }
     },
     "03f33cf773ba411d925248fdde29f5a3": {
      "model_module": "@jupyter-widgets/controls",
      "model_module_version": "1.5.0",
      "model_name": "DescriptionStyleModel",
      "state": {
       "_model_module": "@jupyter-widgets/controls",
       "_model_module_version": "1.5.0",
       "_model_name": "DescriptionStyleModel",
       "_view_count": null,
       "_view_module": "@jupyter-widgets/base",
       "_view_module_version": "1.2.0",
       "_view_name": "StyleView",
       "description_width": ""
      }
     },
     "0484f245a1e844928c2982e8e0587b9a": {
      "model_module": "@jupyter-widgets/base",
      "model_module_version": "1.2.0",
      "model_name": "LayoutModel",
      "state": {
       "_model_module": "@jupyter-widgets/base",
       "_model_module_version": "1.2.0",
       "_model_name": "LayoutModel",
       "_view_count": null,
       "_view_module": "@jupyter-widgets/base",
       "_view_module_version": "1.2.0",
       "_view_name": "LayoutView",
       "align_content": null,
       "align_items": null,
       "align_self": null,
       "border": null,
       "bottom": null,
       "display": "inline-flex",
       "flex": null,
       "flex_flow": "row wrap",
       "grid_area": null,
       "grid_auto_columns": null,
       "grid_auto_flow": null,
       "grid_auto_rows": null,
       "grid_column": null,
       "grid_gap": null,
       "grid_row": null,
       "grid_template_areas": null,
       "grid_template_columns": null,
       "grid_template_rows": null,
       "height": null,
       "justify_content": null,
       "justify_items": null,
       "left": null,
       "margin": null,
       "max_height": null,
       "max_width": null,
       "min_height": null,
       "min_width": null,
       "object_fit": null,
       "object_position": null,
       "order": null,
       "overflow": null,
       "overflow_x": null,
       "overflow_y": null,
       "padding": null,
       "right": null,
       "top": null,
       "visibility": "hidden",
       "width": "100%"
      }
     },
     "0492563dcc4a45f4988ef6983255ce0b": {
      "model_module": "@jupyter-widgets/controls",
      "model_module_version": "1.5.0",
      "model_name": "ProgressStyleModel",
      "state": {
       "_model_module": "@jupyter-widgets/controls",
       "_model_module_version": "1.5.0",
       "_model_name": "ProgressStyleModel",
       "_view_count": null,
       "_view_module": "@jupyter-widgets/base",
       "_view_module_version": "1.2.0",
       "_view_name": "StyleView",
       "bar_color": null,
       "description_width": ""
      }
     },
     "05e2add8106449deaf06651da7153310": {
      "model_module": "@jupyter-widgets/controls",
      "model_module_version": "1.5.0",
      "model_name": "HTMLModel",
      "state": {
       "_dom_classes": [],
       "_model_module": "@jupyter-widgets/controls",
       "_model_module_version": "1.5.0",
       "_model_name": "HTMLModel",
       "_view_count": null,
       "_view_module": "@jupyter-widgets/controls",
       "_view_module_version": "1.5.0",
       "_view_name": "HTMLView",
       "description": "",
       "description_tooltip": null,
       "layout": "IPY_MODEL_10d7a859715c497ea791e3ee9e14f217",
       "placeholder": "​",
       "style": "IPY_MODEL_e071b7df2c9c46748839b1535edebb59",
       "value": " 10/? [00:00&lt;00:00, 155.59it/s]"
      }
     },
     "05f5b511357345b29e337291dcac09b9": {
      "model_module": "@jupyter-widgets/base",
      "model_module_version": "1.2.0",
      "model_name": "LayoutModel",
      "state": {
       "_model_module": "@jupyter-widgets/base",
       "_model_module_version": "1.2.0",
       "_model_name": "LayoutModel",
       "_view_count": null,
       "_view_module": "@jupyter-widgets/base",
       "_view_module_version": "1.2.0",
       "_view_name": "LayoutView",
       "align_content": null,
       "align_items": null,
       "align_self": null,
       "border": null,
       "bottom": null,
       "display": "inline-flex",
       "flex": null,
       "flex_flow": "row wrap",
       "grid_area": null,
       "grid_auto_columns": null,
       "grid_auto_flow": null,
       "grid_auto_rows": null,
       "grid_column": null,
       "grid_gap": null,
       "grid_row": null,
       "grid_template_areas": null,
       "grid_template_columns": null,
       "grid_template_rows": null,
       "height": null,
       "justify_content": null,
       "justify_items": null,
       "left": null,
       "margin": null,
       "max_height": null,
       "max_width": null,
       "min_height": null,
       "min_width": null,
       "object_fit": null,
       "object_position": null,
       "order": null,
       "overflow": null,
       "overflow_x": null,
       "overflow_y": null,
       "padding": null,
       "right": null,
       "top": null,
       "visibility": "hidden",
       "width": "100%"
      }
     },
     "091dcf98af4942f4853c64f495083a60": {
      "model_module": "@jupyter-widgets/base",
      "model_module_version": "1.2.0",
      "model_name": "LayoutModel",
      "state": {
       "_model_module": "@jupyter-widgets/base",
       "_model_module_version": "1.2.0",
       "_model_name": "LayoutModel",
       "_view_count": null,
       "_view_module": "@jupyter-widgets/base",
       "_view_module_version": "1.2.0",
       "_view_name": "LayoutView",
       "align_content": null,
       "align_items": null,
       "align_self": null,
       "border": null,
       "bottom": null,
       "display": null,
       "flex": null,
       "flex_flow": null,
       "grid_area": null,
       "grid_auto_columns": null,
       "grid_auto_flow": null,
       "grid_auto_rows": null,
       "grid_column": null,
       "grid_gap": null,
       "grid_row": null,
       "grid_template_areas": null,
       "grid_template_columns": null,
       "grid_template_rows": null,
       "height": null,
       "justify_content": null,
       "justify_items": null,
       "left": null,
       "margin": null,
       "max_height": null,
       "max_width": null,
       "min_height": null,
       "min_width": null,
       "object_fit": null,
       "object_position": null,
       "order": null,
       "overflow": null,
       "overflow_x": null,
       "overflow_y": null,
       "padding": null,
       "right": null,
       "top": null,
       "visibility": null,
       "width": null
      }
     },
     "09416d4a7ddf4714ae1a10d68c5d814a": {
      "model_module": "@jupyter-widgets/base",
      "model_module_version": "1.2.0",
      "model_name": "LayoutModel",
      "state": {
       "_model_module": "@jupyter-widgets/base",
       "_model_module_version": "1.2.0",
       "_model_name": "LayoutModel",
       "_view_count": null,
       "_view_module": "@jupyter-widgets/base",
       "_view_module_version": "1.2.0",
       "_view_name": "LayoutView",
       "align_content": null,
       "align_items": null,
       "align_self": null,
       "border": null,
       "bottom": null,
       "display": null,
       "flex": "2",
       "flex_flow": null,
       "grid_area": null,
       "grid_auto_columns": null,
       "grid_auto_flow": null,
       "grid_auto_rows": null,
       "grid_column": null,
       "grid_gap": null,
       "grid_row": null,
       "grid_template_areas": null,
       "grid_template_columns": null,
       "grid_template_rows": null,
       "height": null,
       "justify_content": null,
       "justify_items": null,
       "left": null,
       "margin": null,
       "max_height": null,
       "max_width": null,
       "min_height": null,
       "min_width": null,
       "object_fit": null,
       "object_position": null,
       "order": null,
       "overflow": null,
       "overflow_x": null,
       "overflow_y": null,
       "padding": null,
       "right": null,
       "top": null,
       "visibility": null,
       "width": null
      }
     },
     "09cb9a2ca27942d1b658556b1f366635": {
      "model_module": "@jupyter-widgets/controls",
      "model_module_version": "1.5.0",
      "model_name": "ProgressStyleModel",
      "state": {
       "_model_module": "@jupyter-widgets/controls",
       "_model_module_version": "1.5.0",
       "_model_name": "ProgressStyleModel",
       "_view_count": null,
       "_view_module": "@jupyter-widgets/base",
       "_view_module_version": "1.2.0",
       "_view_name": "StyleView",
       "bar_color": null,
       "description_width": ""
      }
     },
     "09d1f42db4224ca488c463bfe298200c": {
      "model_module": "@jupyter-widgets/controls",
      "model_module_version": "1.5.0",
      "model_name": "HTMLModel",
      "state": {
       "_dom_classes": [],
       "_model_module": "@jupyter-widgets/controls",
       "_model_module_version": "1.5.0",
       "_model_name": "HTMLModel",
       "_view_count": null,
       "_view_module": "@jupyter-widgets/controls",
       "_view_module_version": "1.5.0",
       "_view_name": "HTMLView",
       "description": "",
       "description_tooltip": null,
       "layout": "IPY_MODEL_a30bd3747a36451c95fb14903e07fccb",
       "placeholder": "​",
       "style": "IPY_MODEL_46178ae8135447bfb628f32ad5706001",
       "value": " 10/? [00:00&lt;00:00, 154.11it/s]"
      }
     },
     "09e9ad4ac0634eb6ab0382293098c505": {
      "model_module": "@jupyter-widgets/base",
      "model_module_version": "1.2.0",
      "model_name": "LayoutModel",
      "state": {
       "_model_module": "@jupyter-widgets/base",
       "_model_module_version": "1.2.0",
       "_model_name": "LayoutModel",
       "_view_count": null,
       "_view_module": "@jupyter-widgets/base",
       "_view_module_version": "1.2.0",
       "_view_name": "LayoutView",
       "align_content": null,
       "align_items": null,
       "align_self": null,
       "border": null,
       "bottom": null,
       "display": null,
       "flex": null,
       "flex_flow": null,
       "grid_area": null,
       "grid_auto_columns": null,
       "grid_auto_flow": null,
       "grid_auto_rows": null,
       "grid_column": null,
       "grid_gap": null,
       "grid_row": null,
       "grid_template_areas": null,
       "grid_template_columns": null,
       "grid_template_rows": null,
       "height": null,
       "justify_content": null,
       "justify_items": null,
       "left": null,
       "margin": null,
       "max_height": null,
       "max_width": null,
       "min_height": null,
       "min_width": null,
       "object_fit": null,
       "object_position": null,
       "order": null,
       "overflow": null,
       "overflow_x": null,
       "overflow_y": null,
       "padding": null,
       "right": null,
       "top": null,
       "visibility": null,
       "width": null
      }
     },
     "0b578c8965c648bc874c272b46151003": {
      "model_module": "@jupyter-widgets/controls",
      "model_module_version": "1.5.0",
      "model_name": "HTMLModel",
      "state": {
       "_dom_classes": [],
       "_model_module": "@jupyter-widgets/controls",
       "_model_module_version": "1.5.0",
       "_model_name": "HTMLModel",
       "_view_count": null,
       "_view_module": "@jupyter-widgets/controls",
       "_view_module_version": "1.5.0",
       "_view_name": "HTMLView",
       "description": "",
       "description_tooltip": null,
       "layout": "IPY_MODEL_8135536fc44a4ce394fa923c177bf8f0",
       "placeholder": "​",
       "style": "IPY_MODEL_84fe45e1ce764f2bba295d37c9ccfd07",
       "value": " 15630/? [03:06&lt;00:00, 83.69it/s, loss=0.27, v_num=0, train_loss=0.296, val_loss=0.292]"
      }
     },
     "0c121954f1b2451f8a170465e2ac1547": {
      "model_module": "@jupyter-widgets/controls",
      "model_module_version": "1.5.0",
      "model_name": "DescriptionStyleModel",
      "state": {
       "_model_module": "@jupyter-widgets/controls",
       "_model_module_version": "1.5.0",
       "_model_name": "DescriptionStyleModel",
       "_view_count": null,
       "_view_module": "@jupyter-widgets/base",
       "_view_module_version": "1.2.0",
       "_view_name": "StyleView",
       "description_width": ""
      }
     },
     "0cce74c4736941dda84285112ea332b5": {
      "model_module": "@jupyter-widgets/controls",
      "model_module_version": "1.5.0",
      "model_name": "ProgressStyleModel",
      "state": {
       "_model_module": "@jupyter-widgets/controls",
       "_model_module_version": "1.5.0",
       "_model_name": "ProgressStyleModel",
       "_view_count": null,
       "_view_module": "@jupyter-widgets/base",
       "_view_module_version": "1.2.0",
       "_view_name": "StyleView",
       "bar_color": null,
       "description_width": ""
      }
     },
     "0cfb3c7466fb45498a90bf821844bcb7": {
      "model_module": "@jupyter-widgets/controls",
      "model_module_version": "1.5.0",
      "model_name": "DescriptionStyleModel",
      "state": {
       "_model_module": "@jupyter-widgets/controls",
       "_model_module_version": "1.5.0",
       "_model_name": "DescriptionStyleModel",
       "_view_count": null,
       "_view_module": "@jupyter-widgets/base",
       "_view_module_version": "1.2.0",
       "_view_name": "StyleView",
       "description_width": ""
      }
     },
     "0d069d57408c49f9b3fdf7c3c42f6710": {
      "model_module": "@jupyter-widgets/controls",
      "model_module_version": "1.5.0",
      "model_name": "HBoxModel",
      "state": {
       "_dom_classes": [],
       "_model_module": "@jupyter-widgets/controls",
       "_model_module_version": "1.5.0",
       "_model_name": "HBoxModel",
       "_view_count": null,
       "_view_module": "@jupyter-widgets/controls",
       "_view_module_version": "1.5.0",
       "_view_name": "HBoxView",
       "box_style": "",
       "children": [
        "IPY_MODEL_796d42e0e07a4c769a052d7d31f42e5d",
        "IPY_MODEL_7cf5b89b55584a87a9cb02f5f3116b82",
        "IPY_MODEL_f3b162bfacdb48bd84ab638b7c64b90d"
       ],
       "layout": "IPY_MODEL_7f3991e5d2174f18a39cbfd98b0f1d9c"
      }
     },
     "0e0b81955ec545ed86b422e1722b0cc5": {
      "model_module": "@jupyter-widgets/controls",
      "model_module_version": "1.5.0",
      "model_name": "DescriptionStyleModel",
      "state": {
       "_model_module": "@jupyter-widgets/controls",
       "_model_module_version": "1.5.0",
       "_model_name": "DescriptionStyleModel",
       "_view_count": null,
       "_view_module": "@jupyter-widgets/base",
       "_view_module_version": "1.2.0",
       "_view_name": "StyleView",
       "description_width": ""
      }
     },
     "0e818b09aea64ee3a9b8cb9cffecd5b6": {
      "model_module": "@jupyter-widgets/base",
      "model_module_version": "1.2.0",
      "model_name": "LayoutModel",
      "state": {
       "_model_module": "@jupyter-widgets/base",
       "_model_module_version": "1.2.0",
       "_model_name": "LayoutModel",
       "_view_count": null,
       "_view_module": "@jupyter-widgets/base",
       "_view_module_version": "1.2.0",
       "_view_name": "LayoutView",
       "align_content": null,
       "align_items": null,
       "align_self": null,
       "border": null,
       "bottom": null,
       "display": "inline-flex",
       "flex": null,
       "flex_flow": "row wrap",
       "grid_area": null,
       "grid_auto_columns": null,
       "grid_auto_flow": null,
       "grid_auto_rows": null,
       "grid_column": null,
       "grid_gap": null,
       "grid_row": null,
       "grid_template_areas": null,
       "grid_template_columns": null,
       "grid_template_rows": null,
       "height": null,
       "justify_content": null,
       "justify_items": null,
       "left": null,
       "margin": null,
       "max_height": null,
       "max_width": null,
       "min_height": null,
       "min_width": null,
       "object_fit": null,
       "object_position": null,
       "order": null,
       "overflow": null,
       "overflow_x": null,
       "overflow_y": null,
       "padding": null,
       "right": null,
       "top": null,
       "visibility": "hidden",
       "width": "100%"
      }
     },
     "0ed4299c6f304c1988024a5f2439e926": {
      "model_module": "@jupyter-widgets/base",
      "model_module_version": "1.2.0",
      "model_name": "LayoutModel",
      "state": {
       "_model_module": "@jupyter-widgets/base",
       "_model_module_version": "1.2.0",
       "_model_name": "LayoutModel",
       "_view_count": null,
       "_view_module": "@jupyter-widgets/base",
       "_view_module_version": "1.2.0",
       "_view_name": "LayoutView",
       "align_content": null,
       "align_items": null,
       "align_self": null,
       "border": null,
       "bottom": null,
       "display": null,
       "flex": "2",
       "flex_flow": null,
       "grid_area": null,
       "grid_auto_columns": null,
       "grid_auto_flow": null,
       "grid_auto_rows": null,
       "grid_column": null,
       "grid_gap": null,
       "grid_row": null,
       "grid_template_areas": null,
       "grid_template_columns": null,
       "grid_template_rows": null,
       "height": null,
       "justify_content": null,
       "justify_items": null,
       "left": null,
       "margin": null,
       "max_height": null,
       "max_width": null,
       "min_height": null,
       "min_width": null,
       "object_fit": null,
       "object_position": null,
       "order": null,
       "overflow": null,
       "overflow_x": null,
       "overflow_y": null,
       "padding": null,
       "right": null,
       "top": null,
       "visibility": null,
       "width": null
      }
     },
     "1085640b04694c4bb6cbb001d0acc3cd": {
      "model_module": "@jupyter-widgets/controls",
      "model_module_version": "1.5.0",
      "model_name": "HTMLModel",
      "state": {
       "_dom_classes": [],
       "_model_module": "@jupyter-widgets/controls",
       "_model_module_version": "1.5.0",
       "_model_name": "HTMLModel",
       "_view_count": null,
       "_view_module": "@jupyter-widgets/controls",
       "_view_module_version": "1.5.0",
       "_view_name": "HTMLView",
       "description": "",
       "description_tooltip": null,
       "layout": "IPY_MODEL_913f06213c974116ad8c845e6e229a9e",
       "placeholder": "​",
       "style": "IPY_MODEL_748b92ce913546e6bb8608a3ee9244b5",
       "value": "Validation DataLoader 0: "
      }
     },
     "10d7a859715c497ea791e3ee9e14f217": {
      "model_module": "@jupyter-widgets/base",
      "model_module_version": "1.2.0",
      "model_name": "LayoutModel",
      "state": {
       "_model_module": "@jupyter-widgets/base",
       "_model_module_version": "1.2.0",
       "_model_name": "LayoutModel",
       "_view_count": null,
       "_view_module": "@jupyter-widgets/base",
       "_view_module_version": "1.2.0",
       "_view_name": "LayoutView",
       "align_content": null,
       "align_items": null,
       "align_self": null,
       "border": null,
       "bottom": null,
       "display": null,
       "flex": null,
       "flex_flow": null,
       "grid_area": null,
       "grid_auto_columns": null,
       "grid_auto_flow": null,
       "grid_auto_rows": null,
       "grid_column": null,
       "grid_gap": null,
       "grid_row": null,
       "grid_template_areas": null,
       "grid_template_columns": null,
       "grid_template_rows": null,
       "height": null,
       "justify_content": null,
       "justify_items": null,
       "left": null,
       "margin": null,
       "max_height": null,
       "max_width": null,
       "min_height": null,
       "min_width": null,
       "object_fit": null,
       "object_position": null,
       "order": null,
       "overflow": null,
       "overflow_x": null,
       "overflow_y": null,
       "padding": null,
       "right": null,
       "top": null,
       "visibility": null,
       "width": null
      }
     },
     "12c8aa4846bb463a9713b990a1483791": {
      "model_module": "@jupyter-widgets/controls",
      "model_module_version": "1.5.0",
      "model_name": "HTMLModel",
      "state": {
       "_dom_classes": [],
       "_model_module": "@jupyter-widgets/controls",
       "_model_module_version": "1.5.0",
       "_model_name": "HTMLModel",
       "_view_count": null,
       "_view_module": "@jupyter-widgets/controls",
       "_view_module_version": "1.5.0",
       "_view_name": "HTMLView",
       "description": "",
       "description_tooltip": null,
       "layout": "IPY_MODEL_42ca7bb301af4c0ca175257b6f4ef403",
       "placeholder": "​",
       "style": "IPY_MODEL_3f80c82a0388447d8ccf6def183cdce4",
       "value": "Validation DataLoader 0: "
      }
     },
     "13058cbbd72c48cb8c569396d04d33a7": {
      "model_module": "@jupyter-widgets/controls",
      "model_module_version": "1.5.0",
      "model_name": "DescriptionStyleModel",
      "state": {
       "_model_module": "@jupyter-widgets/controls",
       "_model_module_version": "1.5.0",
       "_model_name": "DescriptionStyleModel",
       "_view_count": null,
       "_view_module": "@jupyter-widgets/base",
       "_view_module_version": "1.2.0",
       "_view_name": "StyleView",
       "description_width": ""
      }
     },
     "167dcbcc7a5d463ea20a252ef605f2dd": {
      "model_module": "@jupyter-widgets/base",
      "model_module_version": "1.2.0",
      "model_name": "LayoutModel",
      "state": {
       "_model_module": "@jupyter-widgets/base",
       "_model_module_version": "1.2.0",
       "_model_name": "LayoutModel",
       "_view_count": null,
       "_view_module": "@jupyter-widgets/base",
       "_view_module_version": "1.2.0",
       "_view_name": "LayoutView",
       "align_content": null,
       "align_items": null,
       "align_self": null,
       "border": null,
       "bottom": null,
       "display": null,
       "flex": "2",
       "flex_flow": null,
       "grid_area": null,
       "grid_auto_columns": null,
       "grid_auto_flow": null,
       "grid_auto_rows": null,
       "grid_column": null,
       "grid_gap": null,
       "grid_row": null,
       "grid_template_areas": null,
       "grid_template_columns": null,
       "grid_template_rows": null,
       "height": null,
       "justify_content": null,
       "justify_items": null,
       "left": null,
       "margin": null,
       "max_height": null,
       "max_width": null,
       "min_height": null,
       "min_width": null,
       "object_fit": null,
       "object_position": null,
       "order": null,
       "overflow": null,
       "overflow_x": null,
       "overflow_y": null,
       "padding": null,
       "right": null,
       "top": null,
       "visibility": null,
       "width": null
      }
     },
     "171cf53129264a2c8d12365006ac023c": {
      "model_module": "@jupyter-widgets/controls",
      "model_module_version": "1.5.0",
      "model_name": "ProgressStyleModel",
      "state": {
       "_model_module": "@jupyter-widgets/controls",
       "_model_module_version": "1.5.0",
       "_model_name": "ProgressStyleModel",
       "_view_count": null,
       "_view_module": "@jupyter-widgets/base",
       "_view_module_version": "1.2.0",
       "_view_name": "StyleView",
       "bar_color": null,
       "description_width": ""
      }
     },
     "1750fbae51f3419498a749dd5f762711": {
      "model_module": "@jupyter-widgets/controls",
      "model_module_version": "1.5.0",
      "model_name": "FloatProgressModel",
      "state": {
       "_dom_classes": [],
       "_model_module": "@jupyter-widgets/controls",
       "_model_module_version": "1.5.0",
       "_model_name": "FloatProgressModel",
       "_view_count": null,
       "_view_module": "@jupyter-widgets/controls",
       "_view_module_version": "1.5.0",
       "_view_name": "ProgressView",
       "bar_style": "",
       "description": "",
       "description_tooltip": null,
       "layout": "IPY_MODEL_2c4e73b76dab4330b3c74ed9340efe50",
       "max": 1.0,
       "min": 0.0,
       "orientation": "horizontal",
       "style": "IPY_MODEL_ddef3f4088af455b85319e433149349f",
       "value": 1.0
      }
     },
     "17cd798611d243e3a347b174e7bf654a": {
      "model_module": "@jupyter-widgets/controls",
      "model_module_version": "1.5.0",
      "model_name": "FloatProgressModel",
      "state": {
       "_dom_classes": [],
       "_model_module": "@jupyter-widgets/controls",
       "_model_module_version": "1.5.0",
       "_model_name": "FloatProgressModel",
       "_view_count": null,
       "_view_module": "@jupyter-widgets/controls",
       "_view_module_version": "1.5.0",
       "_view_name": "ProgressView",
       "bar_style": "",
       "description": "",
       "description_tooltip": null,
       "layout": "IPY_MODEL_596b339943a04afbb962b8a8c180d1d1",
       "max": 1.0,
       "min": 0.0,
       "orientation": "horizontal",
       "style": "IPY_MODEL_d9a436949a614baa8be6d23e3e4a1f3b",
       "value": 1.0
      }
     },
     "180f5b2b7fdf4c5faef5b002c55ec180": {
      "model_module": "@jupyter-widgets/base",
      "model_module_version": "1.2.0",
      "model_name": "LayoutModel",
      "state": {
       "_model_module": "@jupyter-widgets/base",
       "_model_module_version": "1.2.0",
       "_model_name": "LayoutModel",
       "_view_count": null,
       "_view_module": "@jupyter-widgets/base",
       "_view_module_version": "1.2.0",
       "_view_name": "LayoutView",
       "align_content": null,
       "align_items": null,
       "align_self": null,
       "border": null,
       "bottom": null,
       "display": null,
       "flex": null,
       "flex_flow": null,
       "grid_area": null,
       "grid_auto_columns": null,
       "grid_auto_flow": null,
       "grid_auto_rows": null,
       "grid_column": null,
       "grid_gap": null,
       "grid_row": null,
       "grid_template_areas": null,
       "grid_template_columns": null,
       "grid_template_rows": null,
       "height": null,
       "justify_content": null,
       "justify_items": null,
       "left": null,
       "margin": null,
       "max_height": null,
       "max_width": null,
       "min_height": null,
       "min_width": null,
       "object_fit": null,
       "object_position": null,
       "order": null,
       "overflow": null,
       "overflow_x": null,
       "overflow_y": null,
       "padding": null,
       "right": null,
       "top": null,
       "visibility": null,
       "width": null
      }
     },
     "1978218242a7496faf166be3d01ac19f": {
      "model_module": "@jupyter-widgets/controls",
      "model_module_version": "1.5.0",
      "model_name": "ProgressStyleModel",
      "state": {
       "_model_module": "@jupyter-widgets/controls",
       "_model_module_version": "1.5.0",
       "_model_name": "ProgressStyleModel",
       "_view_count": null,
       "_view_module": "@jupyter-widgets/base",
       "_view_module_version": "1.2.0",
       "_view_name": "StyleView",
       "bar_color": null,
       "description_width": ""
      }
     },
     "1bf9e87d7f27459c9c43c6c78999d23f": {
      "model_module": "@jupyter-widgets/controls",
      "model_module_version": "1.5.0",
      "model_name": "DescriptionStyleModel",
      "state": {
       "_model_module": "@jupyter-widgets/controls",
       "_model_module_version": "1.5.0",
       "_model_name": "DescriptionStyleModel",
       "_view_count": null,
       "_view_module": "@jupyter-widgets/base",
       "_view_module_version": "1.2.0",
       "_view_name": "StyleView",
       "description_width": ""
      }
     },
     "1d2bd9e8032349d687a1250a42ae8507": {
      "model_module": "@jupyter-widgets/controls",
      "model_module_version": "1.5.0",
      "model_name": "HTMLModel",
      "state": {
       "_dom_classes": [],
       "_model_module": "@jupyter-widgets/controls",
       "_model_module_version": "1.5.0",
       "_model_name": "HTMLModel",
       "_view_count": null,
       "_view_module": "@jupyter-widgets/controls",
       "_view_module_version": "1.5.0",
       "_view_name": "HTMLView",
       "description": "",
       "description_tooltip": null,
       "layout": "IPY_MODEL_914f39a37d1e48dbac0bb5293406fb92",
       "placeholder": "​",
       "style": "IPY_MODEL_693cfadfce6a448ca12abecb6c1a80e7",
       "value": "Validation DataLoader 0: "
      }
     },
     "1d6719551bc64f30b3d8b4f35d05058c": {
      "model_module": "@jupyter-widgets/base",
      "model_module_version": "1.2.0",
      "model_name": "LayoutModel",
      "state": {
       "_model_module": "@jupyter-widgets/base",
       "_model_module_version": "1.2.0",
       "_model_name": "LayoutModel",
       "_view_count": null,
       "_view_module": "@jupyter-widgets/base",
       "_view_module_version": "1.2.0",
       "_view_name": "LayoutView",
       "align_content": null,
       "align_items": null,
       "align_self": null,
       "border": null,
       "bottom": null,
       "display": null,
       "flex": null,
       "flex_flow": null,
       "grid_area": null,
       "grid_auto_columns": null,
       "grid_auto_flow": null,
       "grid_auto_rows": null,
       "grid_column": null,
       "grid_gap": null,
       "grid_row": null,
       "grid_template_areas": null,
       "grid_template_columns": null,
       "grid_template_rows": null,
       "height": null,
       "justify_content": null,
       "justify_items": null,
       "left": null,
       "margin": null,
       "max_height": null,
       "max_width": null,
       "min_height": null,
       "min_width": null,
       "object_fit": null,
       "object_position": null,
       "order": null,
       "overflow": null,
       "overflow_x": null,
       "overflow_y": null,
       "padding": null,
       "right": null,
       "top": null,
       "visibility": null,
       "width": null
      }
     },
     "1eb7a7c3d46945409715b497335cde04": {
      "model_module": "@jupyter-widgets/base",
      "model_module_version": "1.2.0",
      "model_name": "LayoutModel",
      "state": {
       "_model_module": "@jupyter-widgets/base",
       "_model_module_version": "1.2.0",
       "_model_name": "LayoutModel",
       "_view_count": null,
       "_view_module": "@jupyter-widgets/base",
       "_view_module_version": "1.2.0",
       "_view_name": "LayoutView",
       "align_content": null,
       "align_items": null,
       "align_self": null,
       "border": null,
       "bottom": null,
       "display": null,
       "flex": null,
       "flex_flow": null,
       "grid_area": null,
       "grid_auto_columns": null,
       "grid_auto_flow": null,
       "grid_auto_rows": null,
       "grid_column": null,
       "grid_gap": null,
       "grid_row": null,
       "grid_template_areas": null,
       "grid_template_columns": null,
       "grid_template_rows": null,
       "height": null,
       "justify_content": null,
       "justify_items": null,
       "left": null,
       "margin": null,
       "max_height": null,
       "max_width": null,
       "min_height": null,
       "min_width": null,
       "object_fit": null,
       "object_position": null,
       "order": null,
       "overflow": null,
       "overflow_x": null,
       "overflow_y": null,
       "padding": null,
       "right": null,
       "top": null,
       "visibility": null,
       "width": null
      }
     },
     "20327a5385134279a2b647de698c66fe": {
      "model_module": "@jupyter-widgets/base",
      "model_module_version": "1.2.0",
      "model_name": "LayoutModel",
      "state": {
       "_model_module": "@jupyter-widgets/base",
       "_model_module_version": "1.2.0",
       "_model_name": "LayoutModel",
       "_view_count": null,
       "_view_module": "@jupyter-widgets/base",
       "_view_module_version": "1.2.0",
       "_view_name": "LayoutView",
       "align_content": null,
       "align_items": null,
       "align_self": null,
       "border": null,
       "bottom": null,
       "display": "inline-flex",
       "flex": null,
       "flex_flow": "row wrap",
       "grid_area": null,
       "grid_auto_columns": null,
       "grid_auto_flow": null,
       "grid_auto_rows": null,
       "grid_column": null,
       "grid_gap": null,
       "grid_row": null,
       "grid_template_areas": null,
       "grid_template_columns": null,
       "grid_template_rows": null,
       "height": null,
       "justify_content": null,
       "justify_items": null,
       "left": null,
       "margin": null,
       "max_height": null,
       "max_width": null,
       "min_height": null,
       "min_width": null,
       "object_fit": null,
       "object_position": null,
       "order": null,
       "overflow": null,
       "overflow_x": null,
       "overflow_y": null,
       "padding": null,
       "right": null,
       "top": null,
       "visibility": "hidden",
       "width": "100%"
      }
     },
     "21b8a2696a9b4cb89d799f05bfc5cdcf": {
      "model_module": "@jupyter-widgets/base",
      "model_module_version": "1.2.0",
      "model_name": "LayoutModel",
      "state": {
       "_model_module": "@jupyter-widgets/base",
       "_model_module_version": "1.2.0",
       "_model_name": "LayoutModel",
       "_view_count": null,
       "_view_module": "@jupyter-widgets/base",
       "_view_module_version": "1.2.0",
       "_view_name": "LayoutView",
       "align_content": null,
       "align_items": null,
       "align_self": null,
       "border": null,
       "bottom": null,
       "display": null,
       "flex": null,
       "flex_flow": null,
       "grid_area": null,
       "grid_auto_columns": null,
       "grid_auto_flow": null,
       "grid_auto_rows": null,
       "grid_column": null,
       "grid_gap": null,
       "grid_row": null,
       "grid_template_areas": null,
       "grid_template_columns": null,
       "grid_template_rows": null,
       "height": null,
       "justify_content": null,
       "justify_items": null,
       "left": null,
       "margin": null,
       "max_height": null,
       "max_width": null,
       "min_height": null,
       "min_width": null,
       "object_fit": null,
       "object_position": null,
       "order": null,
       "overflow": null,
       "overflow_x": null,
       "overflow_y": null,
       "padding": null,
       "right": null,
       "top": null,
       "visibility": null,
       "width": null
      }
     },
     "21f7f30c25ba4971844bdc793a62d1e7": {
      "model_module": "@jupyter-widgets/base",
      "model_module_version": "1.2.0",
      "model_name": "LayoutModel",
      "state": {
       "_model_module": "@jupyter-widgets/base",
       "_model_module_version": "1.2.0",
       "_model_name": "LayoutModel",
       "_view_count": null,
       "_view_module": "@jupyter-widgets/base",
       "_view_module_version": "1.2.0",
       "_view_name": "LayoutView",
       "align_content": null,
       "align_items": null,
       "align_self": null,
       "border": null,
       "bottom": null,
       "display": null,
       "flex": null,
       "flex_flow": null,
       "grid_area": null,
       "grid_auto_columns": null,
       "grid_auto_flow": null,
       "grid_auto_rows": null,
       "grid_column": null,
       "grid_gap": null,
       "grid_row": null,
       "grid_template_areas": null,
       "grid_template_columns": null,
       "grid_template_rows": null,
       "height": null,
       "justify_content": null,
       "justify_items": null,
       "left": null,
       "margin": null,
       "max_height": null,
       "max_width": null,
       "min_height": null,
       "min_width": null,
       "object_fit": null,
       "object_position": null,
       "order": null,
       "overflow": null,
       "overflow_x": null,
       "overflow_y": null,
       "padding": null,
       "right": null,
       "top": null,
       "visibility": null,
       "width": null
      }
     },
     "228f99b2fbda46b1b7f2234a53f24bed": {
      "model_module": "@jupyter-widgets/controls",
      "model_module_version": "1.5.0",
      "model_name": "FloatProgressModel",
      "state": {
       "_dom_classes": [],
       "_model_module": "@jupyter-widgets/controls",
       "_model_module_version": "1.5.0",
       "_model_name": "FloatProgressModel",
       "_view_count": null,
       "_view_module": "@jupyter-widgets/controls",
       "_view_module_version": "1.5.0",
       "_view_name": "ProgressView",
       "bar_style": "",
       "description": "",
       "description_tooltip": null,
       "layout": "IPY_MODEL_2351517f57f84996af7f94e06671a824",
       "max": 1.0,
       "min": 0.0,
       "orientation": "horizontal",
       "style": "IPY_MODEL_3509e5481337408da0c99fa95e1fbb61",
       "value": 1.0
      }
     },
     "22d872f12fc34c59853772cc600ea5a2": {
      "model_module": "@jupyter-widgets/base",
      "model_module_version": "1.2.0",
      "model_name": "LayoutModel",
      "state": {
       "_model_module": "@jupyter-widgets/base",
       "_model_module_version": "1.2.0",
       "_model_name": "LayoutModel",
       "_view_count": null,
       "_view_module": "@jupyter-widgets/base",
       "_view_module_version": "1.2.0",
       "_view_name": "LayoutView",
       "align_content": null,
       "align_items": null,
       "align_self": null,
       "border": null,
       "bottom": null,
       "display": "inline-flex",
       "flex": null,
       "flex_flow": "row wrap",
       "grid_area": null,
       "grid_auto_columns": null,
       "grid_auto_flow": null,
       "grid_auto_rows": null,
       "grid_column": null,
       "grid_gap": null,
       "grid_row": null,
       "grid_template_areas": null,
       "grid_template_columns": null,
       "grid_template_rows": null,
       "height": null,
       "justify_content": null,
       "justify_items": null,
       "left": null,
       "margin": null,
       "max_height": null,
       "max_width": null,
       "min_height": null,
       "min_width": null,
       "object_fit": null,
       "object_position": null,
       "order": null,
       "overflow": null,
       "overflow_x": null,
       "overflow_y": null,
       "padding": null,
       "right": null,
       "top": null,
       "visibility": "hidden",
       "width": "100%"
      }
     },
     "2351517f57f84996af7f94e06671a824": {
      "model_module": "@jupyter-widgets/base",
      "model_module_version": "1.2.0",
      "model_name": "LayoutModel",
      "state": {
       "_model_module": "@jupyter-widgets/base",
       "_model_module_version": "1.2.0",
       "_model_name": "LayoutModel",
       "_view_count": null,
       "_view_module": "@jupyter-widgets/base",
       "_view_module_version": "1.2.0",
       "_view_name": "LayoutView",
       "align_content": null,
       "align_items": null,
       "align_self": null,
       "border": null,
       "bottom": null,
       "display": null,
       "flex": "2",
       "flex_flow": null,
       "grid_area": null,
       "grid_auto_columns": null,
       "grid_auto_flow": null,
       "grid_auto_rows": null,
       "grid_column": null,
       "grid_gap": null,
       "grid_row": null,
       "grid_template_areas": null,
       "grid_template_columns": null,
       "grid_template_rows": null,
       "height": null,
       "justify_content": null,
       "justify_items": null,
       "left": null,
       "margin": null,
       "max_height": null,
       "max_width": null,
       "min_height": null,
       "min_width": null,
       "object_fit": null,
       "object_position": null,
       "order": null,
       "overflow": null,
       "overflow_x": null,
       "overflow_y": null,
       "padding": null,
       "right": null,
       "top": null,
       "visibility": null,
       "width": null
      }
     },
     "239f846eaf204b2caf64bb3f39676447": {
      "model_module": "@jupyter-widgets/controls",
      "model_module_version": "1.5.0",
      "model_name": "HTMLModel",
      "state": {
       "_dom_classes": [],
       "_model_module": "@jupyter-widgets/controls",
       "_model_module_version": "1.5.0",
       "_model_name": "HTMLModel",
       "_view_count": null,
       "_view_module": "@jupyter-widgets/controls",
       "_view_module_version": "1.5.0",
       "_view_name": "HTMLView",
       "description": "",
       "description_tooltip": null,
       "layout": "IPY_MODEL_baaed052b5b343839b281009830a8c4b",
       "placeholder": "​",
       "style": "IPY_MODEL_9bc3421fcd82468b9ec2288d205f114c",
       "value": " 10/? [00:00&lt;00:00, 152.88it/s]"
      }
     },
     "23ce17bcbe0648e096a483a78debee1c": {
      "model_module": "@jupyter-widgets/controls",
      "model_module_version": "1.5.0",
      "model_name": "DescriptionStyleModel",
      "state": {
       "_model_module": "@jupyter-widgets/controls",
       "_model_module_version": "1.5.0",
       "_model_name": "DescriptionStyleModel",
       "_view_count": null,
       "_view_module": "@jupyter-widgets/base",
       "_view_module_version": "1.2.0",
       "_view_name": "StyleView",
       "description_width": ""
      }
     },
     "24764cc114cc4cdaadaec393e9e9ba8c": {
      "model_module": "@jupyter-widgets/controls",
      "model_module_version": "1.5.0",
      "model_name": "HBoxModel",
      "state": {
       "_dom_classes": [],
       "_model_module": "@jupyter-widgets/controls",
       "_model_module_version": "1.5.0",
       "_model_name": "HBoxModel",
       "_view_count": null,
       "_view_module": "@jupyter-widgets/controls",
       "_view_module_version": "1.5.0",
       "_view_name": "HBoxView",
       "box_style": "",
       "children": [
        "IPY_MODEL_61ac8a0efcb3406fa51ac060579b8219",
        "IPY_MODEL_420d226681af4370a71f50d101c745c2",
        "IPY_MODEL_5517f0420bed41a49ac9c289db07c863"
       ],
       "layout": "IPY_MODEL_cb374dfed36f45f1a7233044e9648e74"
      }
     },
     "274bdd9aa11847b195321ca7b95037ae": {
      "model_module": "@jupyter-widgets/controls",
      "model_module_version": "1.5.0",
      "model_name": "DescriptionStyleModel",
      "state": {
       "_model_module": "@jupyter-widgets/controls",
       "_model_module_version": "1.5.0",
       "_model_name": "DescriptionStyleModel",
       "_view_count": null,
       "_view_module": "@jupyter-widgets/base",
       "_view_module_version": "1.2.0",
       "_view_name": "StyleView",
       "description_width": ""
      }
     },
     "274cd60ccdfb4a2385a5ec841aafb2fc": {
      "model_module": "@jupyter-widgets/controls",
      "model_module_version": "1.5.0",
      "model_name": "ProgressStyleModel",
      "state": {
       "_model_module": "@jupyter-widgets/controls",
       "_model_module_version": "1.5.0",
       "_model_name": "ProgressStyleModel",
       "_view_count": null,
       "_view_module": "@jupyter-widgets/base",
       "_view_module_version": "1.2.0",
       "_view_name": "StyleView",
       "bar_color": null,
       "description_width": ""
      }
     },
     "2781500dd2f340498e71c3672ca6b312": {
      "model_module": "@jupyter-widgets/base",
      "model_module_version": "1.2.0",
      "model_name": "LayoutModel",
      "state": {
       "_model_module": "@jupyter-widgets/base",
       "_model_module_version": "1.2.0",
       "_model_name": "LayoutModel",
       "_view_count": null,
       "_view_module": "@jupyter-widgets/base",
       "_view_module_version": "1.2.0",
       "_view_name": "LayoutView",
       "align_content": null,
       "align_items": null,
       "align_self": null,
       "border": null,
       "bottom": null,
       "display": null,
       "flex": null,
       "flex_flow": null,
       "grid_area": null,
       "grid_auto_columns": null,
       "grid_auto_flow": null,
       "grid_auto_rows": null,
       "grid_column": null,
       "grid_gap": null,
       "grid_row": null,
       "grid_template_areas": null,
       "grid_template_columns": null,
       "grid_template_rows": null,
       "height": null,
       "justify_content": null,
       "justify_items": null,
       "left": null,
       "margin": null,
       "max_height": null,
       "max_width": null,
       "min_height": null,
       "min_width": null,
       "object_fit": null,
       "object_position": null,
       "order": null,
       "overflow": null,
       "overflow_x": null,
       "overflow_y": null,
       "padding": null,
       "right": null,
       "top": null,
       "visibility": null,
       "width": null
      }
     },
     "2825e471582d4bb6970893fa9190fe9b": {
      "model_module": "@jupyter-widgets/controls",
      "model_module_version": "1.5.0",
      "model_name": "DescriptionStyleModel",
      "state": {
       "_model_module": "@jupyter-widgets/controls",
       "_model_module_version": "1.5.0",
       "_model_name": "DescriptionStyleModel",
       "_view_count": null,
       "_view_module": "@jupyter-widgets/base",
       "_view_module_version": "1.2.0",
       "_view_name": "StyleView",
       "description_width": ""
      }
     },
     "284c8bc55b024871aca4c41ba91494cd": {
      "model_module": "@jupyter-widgets/controls",
      "model_module_version": "1.5.0",
      "model_name": "HTMLModel",
      "state": {
       "_dom_classes": [],
       "_model_module": "@jupyter-widgets/controls",
       "_model_module_version": "1.5.0",
       "_model_name": "HTMLModel",
       "_view_count": null,
       "_view_module": "@jupyter-widgets/controls",
       "_view_module_version": "1.5.0",
       "_view_name": "HTMLView",
       "description": "",
       "description_tooltip": null,
       "layout": "IPY_MODEL_c2297805bf0943c8bfef42ba6f3b23df",
       "placeholder": "​",
       "style": "IPY_MODEL_40e72bb63aac49b8b6d23d5ec6798cec",
       "value": " 10/? [00:00&lt;00:00, 159.68it/s]"
      }
     },
     "284d1c8bb26f43e7ab7b4e8d18bc70b7": {
      "model_module": "@jupyter-widgets/controls",
      "model_module_version": "1.5.0",
      "model_name": "ProgressStyleModel",
      "state": {
       "_model_module": "@jupyter-widgets/controls",
       "_model_module_version": "1.5.0",
       "_model_name": "ProgressStyleModel",
       "_view_count": null,
       "_view_module": "@jupyter-widgets/base",
       "_view_module_version": "1.2.0",
       "_view_name": "StyleView",
       "bar_color": null,
       "description_width": ""
      }
     },
     "284e8daf8eda418ea659c3433a3db284": {
      "model_module": "@jupyter-widgets/controls",
      "model_module_version": "1.5.0",
      "model_name": "HBoxModel",
      "state": {
       "_dom_classes": [],
       "_model_module": "@jupyter-widgets/controls",
       "_model_module_version": "1.5.0",
       "_model_name": "HBoxModel",
       "_view_count": null,
       "_view_module": "@jupyter-widgets/controls",
       "_view_module_version": "1.5.0",
       "_view_name": "HBoxView",
       "box_style": "",
       "children": [
        "IPY_MODEL_1d2bd9e8032349d687a1250a42ae8507",
        "IPY_MODEL_4054d69f76834af19c7cf37257dc730b",
        "IPY_MODEL_b41a07a6c6db40849f6abda129e16a3b"
       ],
       "layout": "IPY_MODEL_5fab2b62bbe84a9fb7278523ba97de60"
      }
     },
     "2989a75750c84233b85e83faa1cb8bd7": {
      "model_module": "@jupyter-widgets/base",
      "model_module_version": "1.2.0",
      "model_name": "LayoutModel",
      "state": {
       "_model_module": "@jupyter-widgets/base",
       "_model_module_version": "1.2.0",
       "_model_name": "LayoutModel",
       "_view_count": null,
       "_view_module": "@jupyter-widgets/base",
       "_view_module_version": "1.2.0",
       "_view_name": "LayoutView",
       "align_content": null,
       "align_items": null,
       "align_self": null,
       "border": null,
       "bottom": null,
       "display": null,
       "flex": null,
       "flex_flow": null,
       "grid_area": null,
       "grid_auto_columns": null,
       "grid_auto_flow": null,
       "grid_auto_rows": null,
       "grid_column": null,
       "grid_gap": null,
       "grid_row": null,
       "grid_template_areas": null,
       "grid_template_columns": null,
       "grid_template_rows": null,
       "height": null,
       "justify_content": null,
       "justify_items": null,
       "left": null,
       "margin": null,
       "max_height": null,
       "max_width": null,
       "min_height": null,
       "min_width": null,
       "object_fit": null,
       "object_position": null,
       "order": null,
       "overflow": null,
       "overflow_x": null,
       "overflow_y": null,
       "padding": null,
       "right": null,
       "top": null,
       "visibility": null,
       "width": null
      }
     },
     "2a120e3861ff494aa09a097dd97c56c2": {
      "model_module": "@jupyter-widgets/controls",
      "model_module_version": "1.5.0",
      "model_name": "HTMLModel",
      "state": {
       "_dom_classes": [],
       "_model_module": "@jupyter-widgets/controls",
       "_model_module_version": "1.5.0",
       "_model_name": "HTMLModel",
       "_view_count": null,
       "_view_module": "@jupyter-widgets/controls",
       "_view_module_version": "1.5.0",
       "_view_name": "HTMLView",
       "description": "",
       "description_tooltip": null,
       "layout": "IPY_MODEL_ff0372c19ddd49c78ab0b1043a13f24c",
       "placeholder": "​",
       "style": "IPY_MODEL_7134b533359849a1b29c2964266a91e2",
       "value": "Validation DataLoader 0: "
      }
     },
     "2a40fdc1348a42fdb31af99fcb07e239": {
      "model_module": "@jupyter-widgets/base",
      "model_module_version": "1.2.0",
      "model_name": "LayoutModel",
      "state": {
       "_model_module": "@jupyter-widgets/base",
       "_model_module_version": "1.2.0",
       "_model_name": "LayoutModel",
       "_view_count": null,
       "_view_module": "@jupyter-widgets/base",
       "_view_module_version": "1.2.0",
       "_view_name": "LayoutView",
       "align_content": null,
       "align_items": null,
       "align_self": null,
       "border": null,
       "bottom": null,
       "display": null,
       "flex": "2",
       "flex_flow": null,
       "grid_area": null,
       "grid_auto_columns": null,
       "grid_auto_flow": null,
       "grid_auto_rows": null,
       "grid_column": null,
       "grid_gap": null,
       "grid_row": null,
       "grid_template_areas": null,
       "grid_template_columns": null,
       "grid_template_rows": null,
       "height": null,
       "justify_content": null,
       "justify_items": null,
       "left": null,
       "margin": null,
       "max_height": null,
       "max_width": null,
       "min_height": null,
       "min_width": null,
       "object_fit": null,
       "object_position": null,
       "order": null,
       "overflow": null,
       "overflow_x": null,
       "overflow_y": null,
       "padding": null,
       "right": null,
       "top": null,
       "visibility": null,
       "width": null
      }
     },
     "2a6ed1ce56dc4062af9a61b404d9a2ed": {
      "model_module": "@jupyter-widgets/controls",
      "model_module_version": "1.5.0",
      "model_name": "FloatProgressModel",
      "state": {
       "_dom_classes": [],
       "_model_module": "@jupyter-widgets/controls",
       "_model_module_version": "1.5.0",
       "_model_name": "FloatProgressModel",
       "_view_count": null,
       "_view_module": "@jupyter-widgets/controls",
       "_view_module_version": "1.5.0",
       "_view_name": "ProgressView",
       "bar_style": "",
       "description": "",
       "description_tooltip": null,
       "layout": "IPY_MODEL_a9a0efeecf2549159270730b35d8c77a",
       "max": 1.0,
       "min": 0.0,
       "orientation": "horizontal",
       "style": "IPY_MODEL_c22cb705923347a3a1b0355c2a37b3da",
       "value": 1.0
      }
     },
     "2c4e73b76dab4330b3c74ed9340efe50": {
      "model_module": "@jupyter-widgets/base",
      "model_module_version": "1.2.0",
      "model_name": "LayoutModel",
      "state": {
       "_model_module": "@jupyter-widgets/base",
       "_model_module_version": "1.2.0",
       "_model_name": "LayoutModel",
       "_view_count": null,
       "_view_module": "@jupyter-widgets/base",
       "_view_module_version": "1.2.0",
       "_view_name": "LayoutView",
       "align_content": null,
       "align_items": null,
       "align_self": null,
       "border": null,
       "bottom": null,
       "display": null,
       "flex": "2",
       "flex_flow": null,
       "grid_area": null,
       "grid_auto_columns": null,
       "grid_auto_flow": null,
       "grid_auto_rows": null,
       "grid_column": null,
       "grid_gap": null,
       "grid_row": null,
       "grid_template_areas": null,
       "grid_template_columns": null,
       "grid_template_rows": null,
       "height": null,
       "justify_content": null,
       "justify_items": null,
       "left": null,
       "margin": null,
       "max_height": null,
       "max_width": null,
       "min_height": null,
       "min_width": null,
       "object_fit": null,
       "object_position": null,
       "order": null,
       "overflow": null,
       "overflow_x": null,
       "overflow_y": null,
       "padding": null,
       "right": null,
       "top": null,
       "visibility": null,
       "width": null
      }
     },
     "2ea689b508eb41d6bf31bc083816c457": {
      "model_module": "@jupyter-widgets/controls",
      "model_module_version": "1.5.0",
      "model_name": "ProgressStyleModel",
      "state": {
       "_model_module": "@jupyter-widgets/controls",
       "_model_module_version": "1.5.0",
       "_model_name": "ProgressStyleModel",
       "_view_count": null,
       "_view_module": "@jupyter-widgets/base",
       "_view_module_version": "1.2.0",
       "_view_name": "StyleView",
       "bar_color": null,
       "description_width": ""
      }
     },
     "31fce197414a4b8f989ddffff44fa515": {
      "model_module": "@jupyter-widgets/base",
      "model_module_version": "1.2.0",
      "model_name": "LayoutModel",
      "state": {
       "_model_module": "@jupyter-widgets/base",
       "_model_module_version": "1.2.0",
       "_model_name": "LayoutModel",
       "_view_count": null,
       "_view_module": "@jupyter-widgets/base",
       "_view_module_version": "1.2.0",
       "_view_name": "LayoutView",
       "align_content": null,
       "align_items": null,
       "align_self": null,
       "border": null,
       "bottom": null,
       "display": "inline-flex",
       "flex": null,
       "flex_flow": "row wrap",
       "grid_area": null,
       "grid_auto_columns": null,
       "grid_auto_flow": null,
       "grid_auto_rows": null,
       "grid_column": null,
       "grid_gap": null,
       "grid_row": null,
       "grid_template_areas": null,
       "grid_template_columns": null,
       "grid_template_rows": null,
       "height": null,
       "justify_content": null,
       "justify_items": null,
       "left": null,
       "margin": null,
       "max_height": null,
       "max_width": null,
       "min_height": null,
       "min_width": null,
       "object_fit": null,
       "object_position": null,
       "order": null,
       "overflow": null,
       "overflow_x": null,
       "overflow_y": null,
       "padding": null,
       "right": null,
       "top": null,
       "visibility": "hidden",
       "width": "100%"
      }
     },
     "32be4abaae5444cb88c54bc7049a3b60": {
      "model_module": "@jupyter-widgets/base",
      "model_module_version": "1.2.0",
      "model_name": "LayoutModel",
      "state": {
       "_model_module": "@jupyter-widgets/base",
       "_model_module_version": "1.2.0",
       "_model_name": "LayoutModel",
       "_view_count": null,
       "_view_module": "@jupyter-widgets/base",
       "_view_module_version": "1.2.0",
       "_view_name": "LayoutView",
       "align_content": null,
       "align_items": null,
       "align_self": null,
       "border": null,
       "bottom": null,
       "display": null,
       "flex": "2",
       "flex_flow": null,
       "grid_area": null,
       "grid_auto_columns": null,
       "grid_auto_flow": null,
       "grid_auto_rows": null,
       "grid_column": null,
       "grid_gap": null,
       "grid_row": null,
       "grid_template_areas": null,
       "grid_template_columns": null,
       "grid_template_rows": null,
       "height": null,
       "justify_content": null,
       "justify_items": null,
       "left": null,
       "margin": null,
       "max_height": null,
       "max_width": null,
       "min_height": null,
       "min_width": null,
       "object_fit": null,
       "object_position": null,
       "order": null,
       "overflow": null,
       "overflow_x": null,
       "overflow_y": null,
       "padding": null,
       "right": null,
       "top": null,
       "visibility": null,
       "width": null
      }
     },
     "3415184dd6b74233bd209a0274a798a8": {
      "model_module": "@jupyter-widgets/controls",
      "model_module_version": "1.5.0",
      "model_name": "HTMLModel",
      "state": {
       "_dom_classes": [],
       "_model_module": "@jupyter-widgets/controls",
       "_model_module_version": "1.5.0",
       "_model_name": "HTMLModel",
       "_view_count": null,
       "_view_module": "@jupyter-widgets/controls",
       "_view_module_version": "1.5.0",
       "_view_name": "HTMLView",
       "description": "",
       "description_tooltip": null,
       "layout": "IPY_MODEL_8af02ca03f9b492dae4fe6f4d964694d",
       "placeholder": "​",
       "style": "IPY_MODEL_9327c83a4e2744afade567d372dd4cc4",
       "value": "Validation DataLoader 0: "
      }
     },
     "3509e5481337408da0c99fa95e1fbb61": {
      "model_module": "@jupyter-widgets/controls",
      "model_module_version": "1.5.0",
      "model_name": "ProgressStyleModel",
      "state": {
       "_model_module": "@jupyter-widgets/controls",
       "_model_module_version": "1.5.0",
       "_model_name": "ProgressStyleModel",
       "_view_count": null,
       "_view_module": "@jupyter-widgets/base",
       "_view_module_version": "1.2.0",
       "_view_name": "StyleView",
       "bar_color": null,
       "description_width": ""
      }
     },
     "35fa795ba5814d4e95437e7871d697aa": {
      "model_module": "@jupyter-widgets/base",
      "model_module_version": "1.2.0",
      "model_name": "LayoutModel",
      "state": {
       "_model_module": "@jupyter-widgets/base",
       "_model_module_version": "1.2.0",
       "_model_name": "LayoutModel",
       "_view_count": null,
       "_view_module": "@jupyter-widgets/base",
       "_view_module_version": "1.2.0",
       "_view_name": "LayoutView",
       "align_content": null,
       "align_items": null,
       "align_self": null,
       "border": null,
       "bottom": null,
       "display": "inline-flex",
       "flex": null,
       "flex_flow": "row wrap",
       "grid_area": null,
       "grid_auto_columns": null,
       "grid_auto_flow": null,
       "grid_auto_rows": null,
       "grid_column": null,
       "grid_gap": null,
       "grid_row": null,
       "grid_template_areas": null,
       "grid_template_columns": null,
       "grid_template_rows": null,
       "height": null,
       "justify_content": null,
       "justify_items": null,
       "left": null,
       "margin": null,
       "max_height": null,
       "max_width": null,
       "min_height": null,
       "min_width": null,
       "object_fit": null,
       "object_position": null,
       "order": null,
       "overflow": null,
       "overflow_x": null,
       "overflow_y": null,
       "padding": null,
       "right": null,
       "top": null,
       "visibility": null,
       "width": "100%"
      }
     },
     "37624390c8284a87868166172f8e9422": {
      "model_module": "@jupyter-widgets/controls",
      "model_module_version": "1.5.0",
      "model_name": "DescriptionStyleModel",
      "state": {
       "_model_module": "@jupyter-widgets/controls",
       "_model_module_version": "1.5.0",
       "_model_name": "DescriptionStyleModel",
       "_view_count": null,
       "_view_module": "@jupyter-widgets/base",
       "_view_module_version": "1.2.0",
       "_view_name": "StyleView",
       "description_width": ""
      }
     },
     "37f670db7dbb4dd294026d2bbeb1da00": {
      "model_module": "@jupyter-widgets/controls",
      "model_module_version": "1.5.0",
      "model_name": "HTMLModel",
      "state": {
       "_dom_classes": [],
       "_model_module": "@jupyter-widgets/controls",
       "_model_module_version": "1.5.0",
       "_model_name": "HTMLModel",
       "_view_count": null,
       "_view_module": "@jupyter-widgets/controls",
       "_view_module_version": "1.5.0",
       "_view_name": "HTMLView",
       "description": "",
       "description_tooltip": null,
       "layout": "IPY_MODEL_745d0e11e9d44837940930f0336c57b5",
       "placeholder": "​",
       "style": "IPY_MODEL_f653227c4c5c400b9466940dfb45c7c4",
       "value": "Validation DataLoader 0: "
      }
     },
     "3913eb1924cf4deb89e0dcd359e9815a": {
      "model_module": "@jupyter-widgets/controls",
      "model_module_version": "1.5.0",
      "model_name": "FloatProgressModel",
      "state": {
       "_dom_classes": [],
       "_model_module": "@jupyter-widgets/controls",
       "_model_module_version": "1.5.0",
       "_model_name": "FloatProgressModel",
       "_view_count": null,
       "_view_module": "@jupyter-widgets/controls",
       "_view_module_version": "1.5.0",
       "_view_name": "ProgressView",
       "bar_style": "",
       "description": "",
       "description_tooltip": null,
       "layout": "IPY_MODEL_bc8f62581aba409a8fb9dea4e6663e6c",
       "max": 1.0,
       "min": 0.0,
       "orientation": "horizontal",
       "style": "IPY_MODEL_e2f49b61510e43518132b74e83926edc",
       "value": 1.0
      }
     },
     "3c2d4067f1114709a68037f180138b03": {
      "model_module": "@jupyter-widgets/controls",
      "model_module_version": "1.5.0",
      "model_name": "FloatProgressModel",
      "state": {
       "_dom_classes": [],
       "_model_module": "@jupyter-widgets/controls",
       "_model_module_version": "1.5.0",
       "_model_name": "FloatProgressModel",
       "_view_count": null,
       "_view_module": "@jupyter-widgets/controls",
       "_view_module_version": "1.5.0",
       "_view_name": "ProgressView",
       "bar_style": "",
       "description": "",
       "description_tooltip": null,
       "layout": "IPY_MODEL_a37e682689544969ae8e01325722d5d3",
       "max": 1.0,
       "min": 0.0,
       "orientation": "horizontal",
       "style": "IPY_MODEL_ffebbd76f3e34b20ab6363982acfe935",
       "value": 1.0
      }
     },
     "3e99ac6c06344d2f92fe79e949c77c2c": {
      "model_module": "@jupyter-widgets/controls",
      "model_module_version": "1.5.0",
      "model_name": "DescriptionStyleModel",
      "state": {
       "_model_module": "@jupyter-widgets/controls",
       "_model_module_version": "1.5.0",
       "_model_name": "DescriptionStyleModel",
       "_view_count": null,
       "_view_module": "@jupyter-widgets/base",
       "_view_module_version": "1.2.0",
       "_view_name": "StyleView",
       "description_width": ""
      }
     },
     "3ecf6e3e8d364821817002d16bbea937": {
      "model_module": "@jupyter-widgets/controls",
      "model_module_version": "1.5.0",
      "model_name": "DescriptionStyleModel",
      "state": {
       "_model_module": "@jupyter-widgets/controls",
       "_model_module_version": "1.5.0",
       "_model_name": "DescriptionStyleModel",
       "_view_count": null,
       "_view_module": "@jupyter-widgets/base",
       "_view_module_version": "1.2.0",
       "_view_name": "StyleView",
       "description_width": ""
      }
     },
     "3f6c6583ad9047d4aea9d562732317f8": {
      "model_module": "@jupyter-widgets/base",
      "model_module_version": "1.2.0",
      "model_name": "LayoutModel",
      "state": {
       "_model_module": "@jupyter-widgets/base",
       "_model_module_version": "1.2.0",
       "_model_name": "LayoutModel",
       "_view_count": null,
       "_view_module": "@jupyter-widgets/base",
       "_view_module_version": "1.2.0",
       "_view_name": "LayoutView",
       "align_content": null,
       "align_items": null,
       "align_self": null,
       "border": null,
       "bottom": null,
       "display": null,
       "flex": null,
       "flex_flow": null,
       "grid_area": null,
       "grid_auto_columns": null,
       "grid_auto_flow": null,
       "grid_auto_rows": null,
       "grid_column": null,
       "grid_gap": null,
       "grid_row": null,
       "grid_template_areas": null,
       "grid_template_columns": null,
       "grid_template_rows": null,
       "height": null,
       "justify_content": null,
       "justify_items": null,
       "left": null,
       "margin": null,
       "max_height": null,
       "max_width": null,
       "min_height": null,
       "min_width": null,
       "object_fit": null,
       "object_position": null,
       "order": null,
       "overflow": null,
       "overflow_x": null,
       "overflow_y": null,
       "padding": null,
       "right": null,
       "top": null,
       "visibility": null,
       "width": null
      }
     },
     "3f80c82a0388447d8ccf6def183cdce4": {
      "model_module": "@jupyter-widgets/controls",
      "model_module_version": "1.5.0",
      "model_name": "DescriptionStyleModel",
      "state": {
       "_model_module": "@jupyter-widgets/controls",
       "_model_module_version": "1.5.0",
       "_model_name": "DescriptionStyleModel",
       "_view_count": null,
       "_view_module": "@jupyter-widgets/base",
       "_view_module_version": "1.2.0",
       "_view_name": "StyleView",
       "description_width": ""
      }
     },
     "4054d69f76834af19c7cf37257dc730b": {
      "model_module": "@jupyter-widgets/controls",
      "model_module_version": "1.5.0",
      "model_name": "FloatProgressModel",
      "state": {
       "_dom_classes": [],
       "_model_module": "@jupyter-widgets/controls",
       "_model_module_version": "1.5.0",
       "_model_name": "FloatProgressModel",
       "_view_count": null,
       "_view_module": "@jupyter-widgets/controls",
       "_view_module_version": "1.5.0",
       "_view_name": "ProgressView",
       "bar_style": "",
       "description": "",
       "description_tooltip": null,
       "layout": "IPY_MODEL_7fc2e296abf94ae092bbb94f653eb9b0",
       "max": 1.0,
       "min": 0.0,
       "orientation": "horizontal",
       "style": "IPY_MODEL_0cce74c4736941dda84285112ea332b5",
       "value": 1.0
      }
     },
     "40e72bb63aac49b8b6d23d5ec6798cec": {
      "model_module": "@jupyter-widgets/controls",
      "model_module_version": "1.5.0",
      "model_name": "DescriptionStyleModel",
      "state": {
       "_model_module": "@jupyter-widgets/controls",
       "_model_module_version": "1.5.0",
       "_model_name": "DescriptionStyleModel",
       "_view_count": null,
       "_view_module": "@jupyter-widgets/base",
       "_view_module_version": "1.2.0",
       "_view_name": "StyleView",
       "description_width": ""
      }
     },
     "414a053f482d47d2af16536decd05520": {
      "model_module": "@jupyter-widgets/controls",
      "model_module_version": "1.5.0",
      "model_name": "HTMLModel",
      "state": {
       "_dom_classes": [],
       "_model_module": "@jupyter-widgets/controls",
       "_model_module_version": "1.5.0",
       "_model_name": "HTMLModel",
       "_view_count": null,
       "_view_module": "@jupyter-widgets/controls",
       "_view_module_version": "1.5.0",
       "_view_name": "HTMLView",
       "description": "",
       "description_tooltip": null,
       "layout": "IPY_MODEL_84fe2329265a4d7e8e2dd7654d5db37c",
       "placeholder": "​",
       "style": "IPY_MODEL_bc3385c164574a36bd5602efa7b361e0",
       "value": " 10/? [00:00&lt;00:00, 134.20it/s]"
      }
     },
     "420d226681af4370a71f50d101c745c2": {
      "model_module": "@jupyter-widgets/controls",
      "model_module_version": "1.5.0",
      "model_name": "FloatProgressModel",
      "state": {
       "_dom_classes": [],
       "_model_module": "@jupyter-widgets/controls",
       "_model_module_version": "1.5.0",
       "_model_name": "FloatProgressModel",
       "_view_count": null,
       "_view_module": "@jupyter-widgets/controls",
       "_view_module_version": "1.5.0",
       "_view_name": "ProgressView",
       "bar_style": "",
       "description": "",
       "description_tooltip": null,
       "layout": "IPY_MODEL_d2f78f279a824df3a72bf9c3bd30acd2",
       "max": 1.0,
       "min": 0.0,
       "orientation": "horizontal",
       "style": "IPY_MODEL_87dbfaceb7874b219f472834b0e27e92",
       "value": 1.0
      }
     },
     "42ca7bb301af4c0ca175257b6f4ef403": {
      "model_module": "@jupyter-widgets/base",
      "model_module_version": "1.2.0",
      "model_name": "LayoutModel",
      "state": {
       "_model_module": "@jupyter-widgets/base",
       "_model_module_version": "1.2.0",
       "_model_name": "LayoutModel",
       "_view_count": null,
       "_view_module": "@jupyter-widgets/base",
       "_view_module_version": "1.2.0",
       "_view_name": "LayoutView",
       "align_content": null,
       "align_items": null,
       "align_self": null,
       "border": null,
       "bottom": null,
       "display": null,
       "flex": null,
       "flex_flow": null,
       "grid_area": null,
       "grid_auto_columns": null,
       "grid_auto_flow": null,
       "grid_auto_rows": null,
       "grid_column": null,
       "grid_gap": null,
       "grid_row": null,
       "grid_template_areas": null,
       "grid_template_columns": null,
       "grid_template_rows": null,
       "height": null,
       "justify_content": null,
       "justify_items": null,
       "left": null,
       "margin": null,
       "max_height": null,
       "max_width": null,
       "min_height": null,
       "min_width": null,
       "object_fit": null,
       "object_position": null,
       "order": null,
       "overflow": null,
       "overflow_x": null,
       "overflow_y": null,
       "padding": null,
       "right": null,
       "top": null,
       "visibility": null,
       "width": null
      }
     },
     "42ec58b892564e62a737454518550800": {
      "model_module": "@jupyter-widgets/controls",
      "model_module_version": "1.5.0",
      "model_name": "DescriptionStyleModel",
      "state": {
       "_model_module": "@jupyter-widgets/controls",
       "_model_module_version": "1.5.0",
       "_model_name": "DescriptionStyleModel",
       "_view_count": null,
       "_view_module": "@jupyter-widgets/base",
       "_view_module_version": "1.2.0",
       "_view_name": "StyleView",
       "description_width": ""
      }
     },
     "433fbb76da7449ebb2460965470d0fbc": {
      "model_module": "@jupyter-widgets/controls",
      "model_module_version": "1.5.0",
      "model_name": "HTMLModel",
      "state": {
       "_dom_classes": [],
       "_model_module": "@jupyter-widgets/controls",
       "_model_module_version": "1.5.0",
       "_model_name": "HTMLModel",
       "_view_count": null,
       "_view_module": "@jupyter-widgets/controls",
       "_view_module_version": "1.5.0",
       "_view_name": "HTMLView",
       "description": "",
       "description_tooltip": null,
       "layout": "IPY_MODEL_03096c3f7071499fbf5385e49563c40e",
       "placeholder": "​",
       "style": "IPY_MODEL_1bf9e87d7f27459c9c43c6c78999d23f",
       "value": " 10/? [00:00&lt;00:00, 153.21it/s]"
      }
     },
     "45e5cbbe8bb24d5bb516cc52a37415d2": {
      "model_module": "@jupyter-widgets/base",
      "model_module_version": "1.2.0",
      "model_name": "LayoutModel",
      "state": {
       "_model_module": "@jupyter-widgets/base",
       "_model_module_version": "1.2.0",
       "_model_name": "LayoutModel",
       "_view_count": null,
       "_view_module": "@jupyter-widgets/base",
       "_view_module_version": "1.2.0",
       "_view_name": "LayoutView",
       "align_content": null,
       "align_items": null,
       "align_self": null,
       "border": null,
       "bottom": null,
       "display": "inline-flex",
       "flex": null,
       "flex_flow": "row wrap",
       "grid_area": null,
       "grid_auto_columns": null,
       "grid_auto_flow": null,
       "grid_auto_rows": null,
       "grid_column": null,
       "grid_gap": null,
       "grid_row": null,
       "grid_template_areas": null,
       "grid_template_columns": null,
       "grid_template_rows": null,
       "height": null,
       "justify_content": null,
       "justify_items": null,
       "left": null,
       "margin": null,
       "max_height": null,
       "max_width": null,
       "min_height": null,
       "min_width": null,
       "object_fit": null,
       "object_position": null,
       "order": null,
       "overflow": null,
       "overflow_x": null,
       "overflow_y": null,
       "padding": null,
       "right": null,
       "top": null,
       "visibility": "hidden",
       "width": "100%"
      }
     },
     "4609deb63cea47b5b6397d793e140a7b": {
      "model_module": "@jupyter-widgets/controls",
      "model_module_version": "1.5.0",
      "model_name": "ProgressStyleModel",
      "state": {
       "_model_module": "@jupyter-widgets/controls",
       "_model_module_version": "1.5.0",
       "_model_name": "ProgressStyleModel",
       "_view_count": null,
       "_view_module": "@jupyter-widgets/base",
       "_view_module_version": "1.2.0",
       "_view_name": "StyleView",
       "bar_color": null,
       "description_width": ""
      }
     },
     "46178ae8135447bfb628f32ad5706001": {
      "model_module": "@jupyter-widgets/controls",
      "model_module_version": "1.5.0",
      "model_name": "DescriptionStyleModel",
      "state": {
       "_model_module": "@jupyter-widgets/controls",
       "_model_module_version": "1.5.0",
       "_model_name": "DescriptionStyleModel",
       "_view_count": null,
       "_view_module": "@jupyter-widgets/base",
       "_view_module_version": "1.2.0",
       "_view_name": "StyleView",
       "description_width": ""
      }
     },
     "49a98ace3d87459b8b363222b0c87fc2": {
      "model_module": "@jupyter-widgets/controls",
      "model_module_version": "1.5.0",
      "model_name": "HTMLModel",
      "state": {
       "_dom_classes": [],
       "_model_module": "@jupyter-widgets/controls",
       "_model_module_version": "1.5.0",
       "_model_name": "HTMLModel",
       "_view_count": null,
       "_view_module": "@jupyter-widgets/controls",
       "_view_module_version": "1.5.0",
       "_view_name": "HTMLView",
       "description": "",
       "description_tooltip": null,
       "layout": "IPY_MODEL_fc00b97fabfb4d24b51ccbd1eabbdd17",
       "placeholder": "​",
       "style": "IPY_MODEL_e31fdcff642f46d78c841d194e158466",
       "value": "Validation DataLoader 0: "
      }
     },
     "4a3f0864a39144179fe435001201463d": {
      "model_module": "@jupyter-widgets/base",
      "model_module_version": "1.2.0",
      "model_name": "LayoutModel",
      "state": {
       "_model_module": "@jupyter-widgets/base",
       "_model_module_version": "1.2.0",
       "_model_name": "LayoutModel",
       "_view_count": null,
       "_view_module": "@jupyter-widgets/base",
       "_view_module_version": "1.2.0",
       "_view_name": "LayoutView",
       "align_content": null,
       "align_items": null,
       "align_self": null,
       "border": null,
       "bottom": null,
       "display": null,
       "flex": "2",
       "flex_flow": null,
       "grid_area": null,
       "grid_auto_columns": null,
       "grid_auto_flow": null,
       "grid_auto_rows": null,
       "grid_column": null,
       "grid_gap": null,
       "grid_row": null,
       "grid_template_areas": null,
       "grid_template_columns": null,
       "grid_template_rows": null,
       "height": null,
       "justify_content": null,
       "justify_items": null,
       "left": null,
       "margin": null,
       "max_height": null,
       "max_width": null,
       "min_height": null,
       "min_width": null,
       "object_fit": null,
       "object_position": null,
       "order": null,
       "overflow": null,
       "overflow_x": null,
       "overflow_y": null,
       "padding": null,
       "right": null,
       "top": null,
       "visibility": null,
       "width": null
      }
     },
     "4b42f6b176ef4c4085c5748080b2562b": {
      "model_module": "@jupyter-widgets/base",
      "model_module_version": "1.2.0",
      "model_name": "LayoutModel",
      "state": {
       "_model_module": "@jupyter-widgets/base",
       "_model_module_version": "1.2.0",
       "_model_name": "LayoutModel",
       "_view_count": null,
       "_view_module": "@jupyter-widgets/base",
       "_view_module_version": "1.2.0",
       "_view_name": "LayoutView",
       "align_content": null,
       "align_items": null,
       "align_self": null,
       "border": null,
       "bottom": null,
       "display": "inline-flex",
       "flex": null,
       "flex_flow": "row wrap",
       "grid_area": null,
       "grid_auto_columns": null,
       "grid_auto_flow": null,
       "grid_auto_rows": null,
       "grid_column": null,
       "grid_gap": null,
       "grid_row": null,
       "grid_template_areas": null,
       "grid_template_columns": null,
       "grid_template_rows": null,
       "height": null,
       "justify_content": null,
       "justify_items": null,
       "left": null,
       "margin": null,
       "max_height": null,
       "max_width": null,
       "min_height": null,
       "min_width": null,
       "object_fit": null,
       "object_position": null,
       "order": null,
       "overflow": null,
       "overflow_x": null,
       "overflow_y": null,
       "padding": null,
       "right": null,
       "top": null,
       "visibility": "hidden",
       "width": "100%"
      }
     },
     "4cbf647663494c9893cb7128822aa072": {
      "model_module": "@jupyter-widgets/base",
      "model_module_version": "1.2.0",
      "model_name": "LayoutModel",
      "state": {
       "_model_module": "@jupyter-widgets/base",
       "_model_module_version": "1.2.0",
       "_model_name": "LayoutModel",
       "_view_count": null,
       "_view_module": "@jupyter-widgets/base",
       "_view_module_version": "1.2.0",
       "_view_name": "LayoutView",
       "align_content": null,
       "align_items": null,
       "align_self": null,
       "border": null,
       "bottom": null,
       "display": null,
       "flex": "2",
       "flex_flow": null,
       "grid_area": null,
       "grid_auto_columns": null,
       "grid_auto_flow": null,
       "grid_auto_rows": null,
       "grid_column": null,
       "grid_gap": null,
       "grid_row": null,
       "grid_template_areas": null,
       "grid_template_columns": null,
       "grid_template_rows": null,
       "height": null,
       "justify_content": null,
       "justify_items": null,
       "left": null,
       "margin": null,
       "max_height": null,
       "max_width": null,
       "min_height": null,
       "min_width": null,
       "object_fit": null,
       "object_position": null,
       "order": null,
       "overflow": null,
       "overflow_x": null,
       "overflow_y": null,
       "padding": null,
       "right": null,
       "top": null,
       "visibility": null,
       "width": null
      }
     },
     "4d0eeaa06c3b4bee8fd11c304c9ca61b": {
      "model_module": "@jupyter-widgets/base",
      "model_module_version": "1.2.0",
      "model_name": "LayoutModel",
      "state": {
       "_model_module": "@jupyter-widgets/base",
       "_model_module_version": "1.2.0",
       "_model_name": "LayoutModel",
       "_view_count": null,
       "_view_module": "@jupyter-widgets/base",
       "_view_module_version": "1.2.0",
       "_view_name": "LayoutView",
       "align_content": null,
       "align_items": null,
       "align_self": null,
       "border": null,
       "bottom": null,
       "display": "inline-flex",
       "flex": null,
       "flex_flow": "row wrap",
       "grid_area": null,
       "grid_auto_columns": null,
       "grid_auto_flow": null,
       "grid_auto_rows": null,
       "grid_column": null,
       "grid_gap": null,
       "grid_row": null,
       "grid_template_areas": null,
       "grid_template_columns": null,
       "grid_template_rows": null,
       "height": null,
       "justify_content": null,
       "justify_items": null,
       "left": null,
       "margin": null,
       "max_height": null,
       "max_width": null,
       "min_height": null,
       "min_width": null,
       "object_fit": null,
       "object_position": null,
       "order": null,
       "overflow": null,
       "overflow_x": null,
       "overflow_y": null,
       "padding": null,
       "right": null,
       "top": null,
       "visibility": "hidden",
       "width": "100%"
      }
     },
     "4de78b0c1c73477ba4ad40c01eb2f0fd": {
      "model_module": "@jupyter-widgets/base",
      "model_module_version": "1.2.0",
      "model_name": "LayoutModel",
      "state": {
       "_model_module": "@jupyter-widgets/base",
       "_model_module_version": "1.2.0",
       "_model_name": "LayoutModel",
       "_view_count": null,
       "_view_module": "@jupyter-widgets/base",
       "_view_module_version": "1.2.0",
       "_view_name": "LayoutView",
       "align_content": null,
       "align_items": null,
       "align_self": null,
       "border": null,
       "bottom": null,
       "display": null,
       "flex": null,
       "flex_flow": null,
       "grid_area": null,
       "grid_auto_columns": null,
       "grid_auto_flow": null,
       "grid_auto_rows": null,
       "grid_column": null,
       "grid_gap": null,
       "grid_row": null,
       "grid_template_areas": null,
       "grid_template_columns": null,
       "grid_template_rows": null,
       "height": null,
       "justify_content": null,
       "justify_items": null,
       "left": null,
       "margin": null,
       "max_height": null,
       "max_width": null,
       "min_height": null,
       "min_width": null,
       "object_fit": null,
       "object_position": null,
       "order": null,
       "overflow": null,
       "overflow_x": null,
       "overflow_y": null,
       "padding": null,
       "right": null,
       "top": null,
       "visibility": null,
       "width": null
      }
     },
     "4fff495db4a342a38dd1d7beed9d19fa": {
      "model_module": "@jupyter-widgets/controls",
      "model_module_version": "1.5.0",
      "model_name": "ProgressStyleModel",
      "state": {
       "_model_module": "@jupyter-widgets/controls",
       "_model_module_version": "1.5.0",
       "_model_name": "ProgressStyleModel",
       "_view_count": null,
       "_view_module": "@jupyter-widgets/base",
       "_view_module_version": "1.2.0",
       "_view_name": "StyleView",
       "bar_color": null,
       "description_width": ""
      }
     },
     "51cf3db5a9e1461189f668a4995c27a7": {
      "model_module": "@jupyter-widgets/base",
      "model_module_version": "1.2.0",
      "model_name": "LayoutModel",
      "state": {
       "_model_module": "@jupyter-widgets/base",
       "_model_module_version": "1.2.0",
       "_model_name": "LayoutModel",
       "_view_count": null,
       "_view_module": "@jupyter-widgets/base",
       "_view_module_version": "1.2.0",
       "_view_name": "LayoutView",
       "align_content": null,
       "align_items": null,
       "align_self": null,
       "border": null,
       "bottom": null,
       "display": null,
       "flex": null,
       "flex_flow": null,
       "grid_area": null,
       "grid_auto_columns": null,
       "grid_auto_flow": null,
       "grid_auto_rows": null,
       "grid_column": null,
       "grid_gap": null,
       "grid_row": null,
       "grid_template_areas": null,
       "grid_template_columns": null,
       "grid_template_rows": null,
       "height": null,
       "justify_content": null,
       "justify_items": null,
       "left": null,
       "margin": null,
       "max_height": null,
       "max_width": null,
       "min_height": null,
       "min_width": null,
       "object_fit": null,
       "object_position": null,
       "order": null,
       "overflow": null,
       "overflow_x": null,
       "overflow_y": null,
       "padding": null,
       "right": null,
       "top": null,
       "visibility": null,
       "width": null
      }
     },
     "525c37370e5a45b6a8ee33a4d34a45cf": {
      "model_module": "@jupyter-widgets/base",
      "model_module_version": "1.2.0",
      "model_name": "LayoutModel",
      "state": {
       "_model_module": "@jupyter-widgets/base",
       "_model_module_version": "1.2.0",
       "_model_name": "LayoutModel",
       "_view_count": null,
       "_view_module": "@jupyter-widgets/base",
       "_view_module_version": "1.2.0",
       "_view_name": "LayoutView",
       "align_content": null,
       "align_items": null,
       "align_self": null,
       "border": null,
       "bottom": null,
       "display": null,
       "flex": "2",
       "flex_flow": null,
       "grid_area": null,
       "grid_auto_columns": null,
       "grid_auto_flow": null,
       "grid_auto_rows": null,
       "grid_column": null,
       "grid_gap": null,
       "grid_row": null,
       "grid_template_areas": null,
       "grid_template_columns": null,
       "grid_template_rows": null,
       "height": null,
       "justify_content": null,
       "justify_items": null,
       "left": null,
       "margin": null,
       "max_height": null,
       "max_width": null,
       "min_height": null,
       "min_width": null,
       "object_fit": null,
       "object_position": null,
       "order": null,
       "overflow": null,
       "overflow_x": null,
       "overflow_y": null,
       "padding": null,
       "right": null,
       "top": null,
       "visibility": null,
       "width": null
      }
     },
     "537496a92a20454bafb78abe3ef01991": {
      "model_module": "@jupyter-widgets/base",
      "model_module_version": "1.2.0",
      "model_name": "LayoutModel",
      "state": {
       "_model_module": "@jupyter-widgets/base",
       "_model_module_version": "1.2.0",
       "_model_name": "LayoutModel",
       "_view_count": null,
       "_view_module": "@jupyter-widgets/base",
       "_view_module_version": "1.2.0",
       "_view_name": "LayoutView",
       "align_content": null,
       "align_items": null,
       "align_self": null,
       "border": null,
       "bottom": null,
       "display": null,
       "flex": "2",
       "flex_flow": null,
       "grid_area": null,
       "grid_auto_columns": null,
       "grid_auto_flow": null,
       "grid_auto_rows": null,
       "grid_column": null,
       "grid_gap": null,
       "grid_row": null,
       "grid_template_areas": null,
       "grid_template_columns": null,
       "grid_template_rows": null,
       "height": null,
       "justify_content": null,
       "justify_items": null,
       "left": null,
       "margin": null,
       "max_height": null,
       "max_width": null,
       "min_height": null,
       "min_width": null,
       "object_fit": null,
       "object_position": null,
       "order": null,
       "overflow": null,
       "overflow_x": null,
       "overflow_y": null,
       "padding": null,
       "right": null,
       "top": null,
       "visibility": null,
       "width": null
      }
     },
     "53ab88c198de4698811aeba716e07c7b": {
      "model_module": "@jupyter-widgets/controls",
      "model_module_version": "1.5.0",
      "model_name": "ProgressStyleModel",
      "state": {
       "_model_module": "@jupyter-widgets/controls",
       "_model_module_version": "1.5.0",
       "_model_name": "ProgressStyleModel",
       "_view_count": null,
       "_view_module": "@jupyter-widgets/base",
       "_view_module_version": "1.2.0",
       "_view_name": "StyleView",
       "bar_color": null,
       "description_width": ""
      }
     },
     "543dfbe0365b42fa82f2e1ecd1f42c00": {
      "model_module": "@jupyter-widgets/base",
      "model_module_version": "1.2.0",
      "model_name": "LayoutModel",
      "state": {
       "_model_module": "@jupyter-widgets/base",
       "_model_module_version": "1.2.0",
       "_model_name": "LayoutModel",
       "_view_count": null,
       "_view_module": "@jupyter-widgets/base",
       "_view_module_version": "1.2.0",
       "_view_name": "LayoutView",
       "align_content": null,
       "align_items": null,
       "align_self": null,
       "border": null,
       "bottom": null,
       "display": "inline-flex",
       "flex": null,
       "flex_flow": "row wrap",
       "grid_area": null,
       "grid_auto_columns": null,
       "grid_auto_flow": null,
       "grid_auto_rows": null,
       "grid_column": null,
       "grid_gap": null,
       "grid_row": null,
       "grid_template_areas": null,
       "grid_template_columns": null,
       "grid_template_rows": null,
       "height": null,
       "justify_content": null,
       "justify_items": null,
       "left": null,
       "margin": null,
       "max_height": null,
       "max_width": null,
       "min_height": null,
       "min_width": null,
       "object_fit": null,
       "object_position": null,
       "order": null,
       "overflow": null,
       "overflow_x": null,
       "overflow_y": null,
       "padding": null,
       "right": null,
       "top": null,
       "visibility": "hidden",
       "width": "100%"
      }
     },
     "5517f0420bed41a49ac9c289db07c863": {
      "model_module": "@jupyter-widgets/controls",
      "model_module_version": "1.5.0",
      "model_name": "HTMLModel",
      "state": {
       "_dom_classes": [],
       "_model_module": "@jupyter-widgets/controls",
       "_model_module_version": "1.5.0",
       "_model_name": "HTMLModel",
       "_view_count": null,
       "_view_module": "@jupyter-widgets/controls",
       "_view_module_version": "1.5.0",
       "_view_name": "HTMLView",
       "description": "",
       "description_tooltip": null,
       "layout": "IPY_MODEL_aa00ee3f0f604404a4430bbcc10cdcf4",
       "placeholder": "​",
       "style": "IPY_MODEL_3e99ac6c06344d2f92fe79e949c77c2c",
       "value": " 10/? [00:00&lt;00:00, 157.24it/s]"
      }
     },
     "56547a55cf50405fad95c93bb1068d05": {
      "model_module": "@jupyter-widgets/controls",
      "model_module_version": "1.5.0",
      "model_name": "FloatProgressModel",
      "state": {
       "_dom_classes": [],
       "_model_module": "@jupyter-widgets/controls",
       "_model_module_version": "1.5.0",
       "_model_name": "FloatProgressModel",
       "_view_count": null,
       "_view_module": "@jupyter-widgets/controls",
       "_view_module_version": "1.5.0",
       "_view_name": "ProgressView",
       "bar_style": "",
       "description": "",
       "description_tooltip": null,
       "layout": "IPY_MODEL_a3466ad7df18474895b9ec20941bf719",
       "max": 1.0,
       "min": 0.0,
       "orientation": "horizontal",
       "style": "IPY_MODEL_7547f92a5d1f478b8fc7153ba1957939",
       "value": 1.0
      }
     },
     "577ef371a1cd44c9bb83a6d906972a2c": {
      "model_module": "@jupyter-widgets/base",
      "model_module_version": "1.2.0",
      "model_name": "LayoutModel",
      "state": {
       "_model_module": "@jupyter-widgets/base",
       "_model_module_version": "1.2.0",
       "_model_name": "LayoutModel",
       "_view_count": null,
       "_view_module": "@jupyter-widgets/base",
       "_view_module_version": "1.2.0",
       "_view_name": "LayoutView",
       "align_content": null,
       "align_items": null,
       "align_self": null,
       "border": null,
       "bottom": null,
       "display": "inline-flex",
       "flex": null,
       "flex_flow": "row wrap",
       "grid_area": null,
       "grid_auto_columns": null,
       "grid_auto_flow": null,
       "grid_auto_rows": null,
       "grid_column": null,
       "grid_gap": null,
       "grid_row": null,
       "grid_template_areas": null,
       "grid_template_columns": null,
       "grid_template_rows": null,
       "height": null,
       "justify_content": null,
       "justify_items": null,
       "left": null,
       "margin": null,
       "max_height": null,
       "max_width": null,
       "min_height": null,
       "min_width": null,
       "object_fit": null,
       "object_position": null,
       "order": null,
       "overflow": null,
       "overflow_x": null,
       "overflow_y": null,
       "padding": null,
       "right": null,
       "top": null,
       "visibility": "hidden",
       "width": "100%"
      }
     },
     "5877ea6395cb4053a04606b5f8443c6e": {
      "model_module": "@jupyter-widgets/controls",
      "model_module_version": "1.5.0",
      "model_name": "DescriptionStyleModel",
      "state": {
       "_model_module": "@jupyter-widgets/controls",
       "_model_module_version": "1.5.0",
       "_model_name": "DescriptionStyleModel",
       "_view_count": null,
       "_view_module": "@jupyter-widgets/base",
       "_view_module_version": "1.2.0",
       "_view_name": "StyleView",
       "description_width": ""
      }
     },
     "5925baba3b37465aa16b5ebcbcf0a5b9": {
      "model_module": "@jupyter-widgets/base",
      "model_module_version": "1.2.0",
      "model_name": "LayoutModel",
      "state": {
       "_model_module": "@jupyter-widgets/base",
       "_model_module_version": "1.2.0",
       "_model_name": "LayoutModel",
       "_view_count": null,
       "_view_module": "@jupyter-widgets/base",
       "_view_module_version": "1.2.0",
       "_view_name": "LayoutView",
       "align_content": null,
       "align_items": null,
       "align_self": null,
       "border": null,
       "bottom": null,
       "display": "inline-flex",
       "flex": null,
       "flex_flow": "row wrap",
       "grid_area": null,
       "grid_auto_columns": null,
       "grid_auto_flow": null,
       "grid_auto_rows": null,
       "grid_column": null,
       "grid_gap": null,
       "grid_row": null,
       "grid_template_areas": null,
       "grid_template_columns": null,
       "grid_template_rows": null,
       "height": null,
       "justify_content": null,
       "justify_items": null,
       "left": null,
       "margin": null,
       "max_height": null,
       "max_width": null,
       "min_height": null,
       "min_width": null,
       "object_fit": null,
       "object_position": null,
       "order": null,
       "overflow": null,
       "overflow_x": null,
       "overflow_y": null,
       "padding": null,
       "right": null,
       "top": null,
       "visibility": "hidden",
       "width": "100%"
      }
     },
     "5931ec3b858848f98ed3b78dfeeb2969": {
      "model_module": "@jupyter-widgets/base",
      "model_module_version": "1.2.0",
      "model_name": "LayoutModel",
      "state": {
       "_model_module": "@jupyter-widgets/base",
       "_model_module_version": "1.2.0",
       "_model_name": "LayoutModel",
       "_view_count": null,
       "_view_module": "@jupyter-widgets/base",
       "_view_module_version": "1.2.0",
       "_view_name": "LayoutView",
       "align_content": null,
       "align_items": null,
       "align_self": null,
       "border": null,
       "bottom": null,
       "display": null,
       "flex": null,
       "flex_flow": null,
       "grid_area": null,
       "grid_auto_columns": null,
       "grid_auto_flow": null,
       "grid_auto_rows": null,
       "grid_column": null,
       "grid_gap": null,
       "grid_row": null,
       "grid_template_areas": null,
       "grid_template_columns": null,
       "grid_template_rows": null,
       "height": null,
       "justify_content": null,
       "justify_items": null,
       "left": null,
       "margin": null,
       "max_height": null,
       "max_width": null,
       "min_height": null,
       "min_width": null,
       "object_fit": null,
       "object_position": null,
       "order": null,
       "overflow": null,
       "overflow_x": null,
       "overflow_y": null,
       "padding": null,
       "right": null,
       "top": null,
       "visibility": null,
       "width": null
      }
     },
     "596b339943a04afbb962b8a8c180d1d1": {
      "model_module": "@jupyter-widgets/base",
      "model_module_version": "1.2.0",
      "model_name": "LayoutModel",
      "state": {
       "_model_module": "@jupyter-widgets/base",
       "_model_module_version": "1.2.0",
       "_model_name": "LayoutModel",
       "_view_count": null,
       "_view_module": "@jupyter-widgets/base",
       "_view_module_version": "1.2.0",
       "_view_name": "LayoutView",
       "align_content": null,
       "align_items": null,
       "align_self": null,
       "border": null,
       "bottom": null,
       "display": null,
       "flex": "2",
       "flex_flow": null,
       "grid_area": null,
       "grid_auto_columns": null,
       "grid_auto_flow": null,
       "grid_auto_rows": null,
       "grid_column": null,
       "grid_gap": null,
       "grid_row": null,
       "grid_template_areas": null,
       "grid_template_columns": null,
       "grid_template_rows": null,
       "height": null,
       "justify_content": null,
       "justify_items": null,
       "left": null,
       "margin": null,
       "max_height": null,
       "max_width": null,
       "min_height": null,
       "min_width": null,
       "object_fit": null,
       "object_position": null,
       "order": null,
       "overflow": null,
       "overflow_x": null,
       "overflow_y": null,
       "padding": null,
       "right": null,
       "top": null,
       "visibility": null,
       "width": null
      }
     },
     "5bc0f2c48b724ecb82c4fe4a325fcc93": {
      "model_module": "@jupyter-widgets/controls",
      "model_module_version": "1.5.0",
      "model_name": "DescriptionStyleModel",
      "state": {
       "_model_module": "@jupyter-widgets/controls",
       "_model_module_version": "1.5.0",
       "_model_name": "DescriptionStyleModel",
       "_view_count": null,
       "_view_module": "@jupyter-widgets/base",
       "_view_module_version": "1.2.0",
       "_view_name": "StyleView",
       "description_width": ""
      }
     },
     "5bf86304d0d24f4f98d3d731093c8a69": {
      "model_module": "@jupyter-widgets/base",
      "model_module_version": "1.2.0",
      "model_name": "LayoutModel",
      "state": {
       "_model_module": "@jupyter-widgets/base",
       "_model_module_version": "1.2.0",
       "_model_name": "LayoutModel",
       "_view_count": null,
       "_view_module": "@jupyter-widgets/base",
       "_view_module_version": "1.2.0",
       "_view_name": "LayoutView",
       "align_content": null,
       "align_items": null,
       "align_self": null,
       "border": null,
       "bottom": null,
       "display": "inline-flex",
       "flex": null,
       "flex_flow": "row wrap",
       "grid_area": null,
       "grid_auto_columns": null,
       "grid_auto_flow": null,
       "grid_auto_rows": null,
       "grid_column": null,
       "grid_gap": null,
       "grid_row": null,
       "grid_template_areas": null,
       "grid_template_columns": null,
       "grid_template_rows": null,
       "height": null,
       "justify_content": null,
       "justify_items": null,
       "left": null,
       "margin": null,
       "max_height": null,
       "max_width": null,
       "min_height": null,
       "min_width": null,
       "object_fit": null,
       "object_position": null,
       "order": null,
       "overflow": null,
       "overflow_x": null,
       "overflow_y": null,
       "padding": null,
       "right": null,
       "top": null,
       "visibility": "hidden",
       "width": "100%"
      }
     },
     "5c2aa3d8c7804f2caf491946e06fd697": {
      "model_module": "@jupyter-widgets/base",
      "model_module_version": "1.2.0",
      "model_name": "LayoutModel",
      "state": {
       "_model_module": "@jupyter-widgets/base",
       "_model_module_version": "1.2.0",
       "_model_name": "LayoutModel",
       "_view_count": null,
       "_view_module": "@jupyter-widgets/base",
       "_view_module_version": "1.2.0",
       "_view_name": "LayoutView",
       "align_content": null,
       "align_items": null,
       "align_self": null,
       "border": null,
       "bottom": null,
       "display": null,
       "flex": null,
       "flex_flow": null,
       "grid_area": null,
       "grid_auto_columns": null,
       "grid_auto_flow": null,
       "grid_auto_rows": null,
       "grid_column": null,
       "grid_gap": null,
       "grid_row": null,
       "grid_template_areas": null,
       "grid_template_columns": null,
       "grid_template_rows": null,
       "height": null,
       "justify_content": null,
       "justify_items": null,
       "left": null,
       "margin": null,
       "max_height": null,
       "max_width": null,
       "min_height": null,
       "min_width": null,
       "object_fit": null,
       "object_position": null,
       "order": null,
       "overflow": null,
       "overflow_x": null,
       "overflow_y": null,
       "padding": null,
       "right": null,
       "top": null,
       "visibility": null,
       "width": null
      }
     },
     "5fab2b62bbe84a9fb7278523ba97de60": {
      "model_module": "@jupyter-widgets/base",
      "model_module_version": "1.2.0",
      "model_name": "LayoutModel",
      "state": {
       "_model_module": "@jupyter-widgets/base",
       "_model_module_version": "1.2.0",
       "_model_name": "LayoutModel",
       "_view_count": null,
       "_view_module": "@jupyter-widgets/base",
       "_view_module_version": "1.2.0",
       "_view_name": "LayoutView",
       "align_content": null,
       "align_items": null,
       "align_self": null,
       "border": null,
       "bottom": null,
       "display": "inline-flex",
       "flex": null,
       "flex_flow": "row wrap",
       "grid_area": null,
       "grid_auto_columns": null,
       "grid_auto_flow": null,
       "grid_auto_rows": null,
       "grid_column": null,
       "grid_gap": null,
       "grid_row": null,
       "grid_template_areas": null,
       "grid_template_columns": null,
       "grid_template_rows": null,
       "height": null,
       "justify_content": null,
       "justify_items": null,
       "left": null,
       "margin": null,
       "max_height": null,
       "max_width": null,
       "min_height": null,
       "min_width": null,
       "object_fit": null,
       "object_position": null,
       "order": null,
       "overflow": null,
       "overflow_x": null,
       "overflow_y": null,
       "padding": null,
       "right": null,
       "top": null,
       "visibility": "hidden",
       "width": "100%"
      }
     },
     "5fabacb4e2714c90a3e93b5a599b8a0a": {
      "model_module": "@jupyter-widgets/controls",
      "model_module_version": "1.5.0",
      "model_name": "FloatProgressModel",
      "state": {
       "_dom_classes": [],
       "_model_module": "@jupyter-widgets/controls",
       "_model_module_version": "1.5.0",
       "_model_name": "FloatProgressModel",
       "_view_count": null,
       "_view_module": "@jupyter-widgets/controls",
       "_view_module_version": "1.5.0",
       "_view_name": "ProgressView",
       "bar_style": "",
       "description": "",
       "description_tooltip": null,
       "layout": "IPY_MODEL_f577c483ecee49a6842a4d87ee040ef4",
       "max": 1.0,
       "min": 0.0,
       "orientation": "horizontal",
       "style": "IPY_MODEL_53ab88c198de4698811aeba716e07c7b",
       "value": 1.0
      }
     },
     "5feae8a523af490992611c1c3d47ad00": {
      "model_module": "@jupyter-widgets/controls",
      "model_module_version": "1.5.0",
      "model_name": "DescriptionStyleModel",
      "state": {
       "_model_module": "@jupyter-widgets/controls",
       "_model_module_version": "1.5.0",
       "_model_name": "DescriptionStyleModel",
       "_view_count": null,
       "_view_module": "@jupyter-widgets/base",
       "_view_module_version": "1.2.0",
       "_view_name": "StyleView",
       "description_width": ""
      }
     },
     "5ff3c34dc5bb43419d3d41ec4d514324": {
      "model_module": "@jupyter-widgets/base",
      "model_module_version": "1.2.0",
      "model_name": "LayoutModel",
      "state": {
       "_model_module": "@jupyter-widgets/base",
       "_model_module_version": "1.2.0",
       "_model_name": "LayoutModel",
       "_view_count": null,
       "_view_module": "@jupyter-widgets/base",
       "_view_module_version": "1.2.0",
       "_view_name": "LayoutView",
       "align_content": null,
       "align_items": null,
       "align_self": null,
       "border": null,
       "bottom": null,
       "display": "inline-flex",
       "flex": null,
       "flex_flow": "row wrap",
       "grid_area": null,
       "grid_auto_columns": null,
       "grid_auto_flow": null,
       "grid_auto_rows": null,
       "grid_column": null,
       "grid_gap": null,
       "grid_row": null,
       "grid_template_areas": null,
       "grid_template_columns": null,
       "grid_template_rows": null,
       "height": null,
       "justify_content": null,
       "justify_items": null,
       "left": null,
       "margin": null,
       "max_height": null,
       "max_width": null,
       "min_height": null,
       "min_width": null,
       "object_fit": null,
       "object_position": null,
       "order": null,
       "overflow": null,
       "overflow_x": null,
       "overflow_y": null,
       "padding": null,
       "right": null,
       "top": null,
       "visibility": "hidden",
       "width": "100%"
      }
     },
     "61ac8a0efcb3406fa51ac060579b8219": {
      "model_module": "@jupyter-widgets/controls",
      "model_module_version": "1.5.0",
      "model_name": "HTMLModel",
      "state": {
       "_dom_classes": [],
       "_model_module": "@jupyter-widgets/controls",
       "_model_module_version": "1.5.0",
       "_model_name": "HTMLModel",
       "_view_count": null,
       "_view_module": "@jupyter-widgets/controls",
       "_view_module_version": "1.5.0",
       "_view_name": "HTMLView",
       "description": "",
       "description_tooltip": null,
       "layout": "IPY_MODEL_651f28b354db442dbdf3090f8c988da2",
       "placeholder": "​",
       "style": "IPY_MODEL_a80c3df63a27484dbc2d5dea26435fc4",
       "value": "Validation DataLoader 0: "
      }
     },
     "637e06affdd5407391620f219ffb19a5": {
      "model_module": "@jupyter-widgets/controls",
      "model_module_version": "1.5.0",
      "model_name": "HTMLModel",
      "state": {
       "_dom_classes": [],
       "_model_module": "@jupyter-widgets/controls",
       "_model_module_version": "1.5.0",
       "_model_name": "HTMLModel",
       "_view_count": null,
       "_view_module": "@jupyter-widgets/controls",
       "_view_module_version": "1.5.0",
       "_view_name": "HTMLView",
       "description": "",
       "description_tooltip": null,
       "layout": "IPY_MODEL_d305aeaeb1b94754836b8b468a63fda0",
       "placeholder": "​",
       "style": "IPY_MODEL_0cfb3c7466fb45498a90bf821844bcb7",
       "value": "Validation DataLoader 0: "
      }
     },
     "642624695c1e4583b296441489bd7828": {
      "model_module": "@jupyter-widgets/controls",
      "model_module_version": "1.5.0",
      "model_name": "HTMLModel",
      "state": {
       "_dom_classes": [],
       "_model_module": "@jupyter-widgets/controls",
       "_model_module_version": "1.5.0",
       "_model_name": "HTMLModel",
       "_view_count": null,
       "_view_module": "@jupyter-widgets/controls",
       "_view_module_version": "1.5.0",
       "_view_name": "HTMLView",
       "description": "",
       "description_tooltip": null,
       "layout": "IPY_MODEL_6ffd4545d9fb46abaaa2bc83d99db676",
       "placeholder": "​",
       "style": "IPY_MODEL_37624390c8284a87868166172f8e9422",
       "value": " 10/? [00:00&lt;00:00, 157.13it/s]"
      }
     },
     "6463ac11f0d34cf785469e13a4a06e3e": {
      "model_module": "@jupyter-widgets/controls",
      "model_module_version": "1.5.0",
      "model_name": "FloatProgressModel",
      "state": {
       "_dom_classes": [],
       "_model_module": "@jupyter-widgets/controls",
       "_model_module_version": "1.5.0",
       "_model_name": "FloatProgressModel",
       "_view_count": null,
       "_view_module": "@jupyter-widgets/controls",
       "_view_module_version": "1.5.0",
       "_view_name": "ProgressView",
       "bar_style": "",
       "description": "",
       "description_tooltip": null,
       "layout": "IPY_MODEL_a977eb1be90540fd8b1393ba4d67a598",
       "max": 1.0,
       "min": 0.0,
       "orientation": "horizontal",
       "style": "IPY_MODEL_284d1c8bb26f43e7ab7b4e8d18bc70b7",
       "value": 1.0
      }
     },
     "651f28b354db442dbdf3090f8c988da2": {
      "model_module": "@jupyter-widgets/base",
      "model_module_version": "1.2.0",
      "model_name": "LayoutModel",
      "state": {
       "_model_module": "@jupyter-widgets/base",
       "_model_module_version": "1.2.0",
       "_model_name": "LayoutModel",
       "_view_count": null,
       "_view_module": "@jupyter-widgets/base",
       "_view_module_version": "1.2.0",
       "_view_name": "LayoutView",
       "align_content": null,
       "align_items": null,
       "align_self": null,
       "border": null,
       "bottom": null,
       "display": null,
       "flex": null,
       "flex_flow": null,
       "grid_area": null,
       "grid_auto_columns": null,
       "grid_auto_flow": null,
       "grid_auto_rows": null,
       "grid_column": null,
       "grid_gap": null,
       "grid_row": null,
       "grid_template_areas": null,
       "grid_template_columns": null,
       "grid_template_rows": null,
       "height": null,
       "justify_content": null,
       "justify_items": null,
       "left": null,
       "margin": null,
       "max_height": null,
       "max_width": null,
       "min_height": null,
       "min_width": null,
       "object_fit": null,
       "object_position": null,
       "order": null,
       "overflow": null,
       "overflow_x": null,
       "overflow_y": null,
       "padding": null,
       "right": null,
       "top": null,
       "visibility": null,
       "width": null
      }
     },
     "657298d92c424dabbb537dac0643f4dc": {
      "model_module": "@jupyter-widgets/controls",
      "model_module_version": "1.5.0",
      "model_name": "DescriptionStyleModel",
      "state": {
       "_model_module": "@jupyter-widgets/controls",
       "_model_module_version": "1.5.0",
       "_model_name": "DescriptionStyleModel",
       "_view_count": null,
       "_view_module": "@jupyter-widgets/base",
       "_view_module_version": "1.2.0",
       "_view_name": "StyleView",
       "description_width": ""
      }
     },
     "66825e367f434e69b35e74e0caecdab7": {
      "model_module": "@jupyter-widgets/base",
      "model_module_version": "1.2.0",
      "model_name": "LayoutModel",
      "state": {
       "_model_module": "@jupyter-widgets/base",
       "_model_module_version": "1.2.0",
       "_model_name": "LayoutModel",
       "_view_count": null,
       "_view_module": "@jupyter-widgets/base",
       "_view_module_version": "1.2.0",
       "_view_name": "LayoutView",
       "align_content": null,
       "align_items": null,
       "align_self": null,
       "border": null,
       "bottom": null,
       "display": null,
       "flex": "2",
       "flex_flow": null,
       "grid_area": null,
       "grid_auto_columns": null,
       "grid_auto_flow": null,
       "grid_auto_rows": null,
       "grid_column": null,
       "grid_gap": null,
       "grid_row": null,
       "grid_template_areas": null,
       "grid_template_columns": null,
       "grid_template_rows": null,
       "height": null,
       "justify_content": null,
       "justify_items": null,
       "left": null,
       "margin": null,
       "max_height": null,
       "max_width": null,
       "min_height": null,
       "min_width": null,
       "object_fit": null,
       "object_position": null,
       "order": null,
       "overflow": null,
       "overflow_x": null,
       "overflow_y": null,
       "padding": null,
       "right": null,
       "top": null,
       "visibility": null,
       "width": null
      }
     },
     "68afe79663b74828a94fd8f4a7e481f3": {
      "model_module": "@jupyter-widgets/controls",
      "model_module_version": "1.5.0",
      "model_name": "HBoxModel",
      "state": {
       "_dom_classes": [],
       "_model_module": "@jupyter-widgets/controls",
       "_model_module_version": "1.5.0",
       "_model_name": "HBoxModel",
       "_view_count": null,
       "_view_module": "@jupyter-widgets/controls",
       "_view_module_version": "1.5.0",
       "_view_name": "HBoxView",
       "box_style": "",
       "children": [
        "IPY_MODEL_81de05dcc87b46bdb36b2af385b51831",
        "IPY_MODEL_d1ccf51305404267a391448ef892799a",
        "IPY_MODEL_05e2add8106449deaf06651da7153310"
       ],
       "layout": "IPY_MODEL_20327a5385134279a2b647de698c66fe"
      }
     },
     "693cfadfce6a448ca12abecb6c1a80e7": {
      "model_module": "@jupyter-widgets/controls",
      "model_module_version": "1.5.0",
      "model_name": "DescriptionStyleModel",
      "state": {
       "_model_module": "@jupyter-widgets/controls",
       "_model_module_version": "1.5.0",
       "_model_name": "DescriptionStyleModel",
       "_view_count": null,
       "_view_module": "@jupyter-widgets/base",
       "_view_module_version": "1.2.0",
       "_view_name": "StyleView",
       "description_width": ""
      }
     },
     "6a9c2d9f695246d392542edb489de35c": {
      "model_module": "@jupyter-widgets/controls",
      "model_module_version": "1.5.0",
      "model_name": "FloatProgressModel",
      "state": {
       "_dom_classes": [],
       "_model_module": "@jupyter-widgets/controls",
       "_model_module_version": "1.5.0",
       "_model_name": "FloatProgressModel",
       "_view_count": null,
       "_view_module": "@jupyter-widgets/controls",
       "_view_module_version": "1.5.0",
       "_view_name": "ProgressView",
       "bar_style": "",
       "description": "",
       "description_tooltip": null,
       "layout": "IPY_MODEL_f21f01a5a16643c48ddbcdb69d63e818",
       "max": 1.0,
       "min": 0.0,
       "orientation": "horizontal",
       "style": "IPY_MODEL_4609deb63cea47b5b6397d793e140a7b",
       "value": 1.0
      }
     },
     "6aade09d6e8e4fcf835f7cafc8512b74": {
      "model_module": "@jupyter-widgets/controls",
      "model_module_version": "1.5.0",
      "model_name": "FloatProgressModel",
      "state": {
       "_dom_classes": [],
       "_model_module": "@jupyter-widgets/controls",
       "_model_module_version": "1.5.0",
       "_model_name": "FloatProgressModel",
       "_view_count": null,
       "_view_module": "@jupyter-widgets/controls",
       "_view_module_version": "1.5.0",
       "_view_name": "ProgressView",
       "bar_style": "",
       "description": "",
       "description_tooltip": null,
       "layout": "IPY_MODEL_0065b0b04d5a4fd9b407ac3e8dceaff4",
       "max": 1.0,
       "min": 0.0,
       "orientation": "horizontal",
       "style": "IPY_MODEL_1978218242a7496faf166be3d01ac19f",
       "value": 1.0
      }
     },
     "6afb8b2d5a544975a1599788fd297cae": {
      "model_module": "@jupyter-widgets/controls",
      "model_module_version": "1.5.0",
      "model_name": "DescriptionStyleModel",
      "state": {
       "_model_module": "@jupyter-widgets/controls",
       "_model_module_version": "1.5.0",
       "_model_name": "DescriptionStyleModel",
       "_view_count": null,
       "_view_module": "@jupyter-widgets/base",
       "_view_module_version": "1.2.0",
       "_view_name": "StyleView",
       "description_width": ""
      }
     },
     "6cdffeb3a7b0466f83be4ed98a455044": {
      "model_module": "@jupyter-widgets/controls",
      "model_module_version": "1.5.0",
      "model_name": "HTMLModel",
      "state": {
       "_dom_classes": [],
       "_model_module": "@jupyter-widgets/controls",
       "_model_module_version": "1.5.0",
       "_model_name": "HTMLModel",
       "_view_count": null,
       "_view_module": "@jupyter-widgets/controls",
       "_view_module_version": "1.5.0",
       "_view_name": "HTMLView",
       "description": "",
       "description_tooltip": null,
       "layout": "IPY_MODEL_ecb3c33e543d4280b5db5d9dbe0994b8",
       "placeholder": "​",
       "style": "IPY_MODEL_eee843df1de24b64b0b97243d442541a",
       "value": "Validation DataLoader 0: "
      }
     },
     "6d1817618a0a478989ca97ededcdd45c": {
      "model_module": "@jupyter-widgets/controls",
      "model_module_version": "1.5.0",
      "model_name": "HTMLModel",
      "state": {
       "_dom_classes": [],
       "_model_module": "@jupyter-widgets/controls",
       "_model_module_version": "1.5.0",
       "_model_name": "HTMLModel",
       "_view_count": null,
       "_view_module": "@jupyter-widgets/controls",
       "_view_module_version": "1.5.0",
       "_view_name": "HTMLView",
       "description": "",
       "description_tooltip": null,
       "layout": "IPY_MODEL_da627b59d1ff41c197f9ac76d846ba39",
       "placeholder": "​",
       "style": "IPY_MODEL_7d6a0687d3b34e299d43e8a13c1461ab",
       "value": " 10/? [00:00&lt;00:00, 149.57it/s]"
      }
     },
     "6e486883441346f9bf84b14095ab7c1d": {
      "model_module": "@jupyter-widgets/controls",
      "model_module_version": "1.5.0",
      "model_name": "DescriptionStyleModel",
      "state": {
       "_model_module": "@jupyter-widgets/controls",
       "_model_module_version": "1.5.0",
       "_model_name": "DescriptionStyleModel",
       "_view_count": null,
       "_view_module": "@jupyter-widgets/base",
       "_view_module_version": "1.2.0",
       "_view_name": "StyleView",
       "description_width": ""
      }
     },
     "6ffd4545d9fb46abaaa2bc83d99db676": {
      "model_module": "@jupyter-widgets/base",
      "model_module_version": "1.2.0",
      "model_name": "LayoutModel",
      "state": {
       "_model_module": "@jupyter-widgets/base",
       "_model_module_version": "1.2.0",
       "_model_name": "LayoutModel",
       "_view_count": null,
       "_view_module": "@jupyter-widgets/base",
       "_view_module_version": "1.2.0",
       "_view_name": "LayoutView",
       "align_content": null,
       "align_items": null,
       "align_self": null,
       "border": null,
       "bottom": null,
       "display": null,
       "flex": null,
       "flex_flow": null,
       "grid_area": null,
       "grid_auto_columns": null,
       "grid_auto_flow": null,
       "grid_auto_rows": null,
       "grid_column": null,
       "grid_gap": null,
       "grid_row": null,
       "grid_template_areas": null,
       "grid_template_columns": null,
       "grid_template_rows": null,
       "height": null,
       "justify_content": null,
       "justify_items": null,
       "left": null,
       "margin": null,
       "max_height": null,
       "max_width": null,
       "min_height": null,
       "min_width": null,
       "object_fit": null,
       "object_position": null,
       "order": null,
       "overflow": null,
       "overflow_x": null,
       "overflow_y": null,
       "padding": null,
       "right": null,
       "top": null,
       "visibility": null,
       "width": null
      }
     },
     "708a2606944846d88ef5081c51385275": {
      "model_module": "@jupyter-widgets/controls",
      "model_module_version": "1.5.0",
      "model_name": "HTMLModel",
      "state": {
       "_dom_classes": [],
       "_model_module": "@jupyter-widgets/controls",
       "_model_module_version": "1.5.0",
       "_model_name": "HTMLModel",
       "_view_count": null,
       "_view_module": "@jupyter-widgets/controls",
       "_view_module_version": "1.5.0",
       "_view_name": "HTMLView",
       "description": "",
       "description_tooltip": null,
       "layout": "IPY_MODEL_da58acdb6f9e4b46bae8109af6485f24",
       "placeholder": "​",
       "style": "IPY_MODEL_2825e471582d4bb6970893fa9190fe9b",
       "value": "Epoch 24: "
      }
     },
     "70f25b1d593c4a39a402e28deb0af58a": {
      "model_module": "@jupyter-widgets/controls",
      "model_module_version": "1.5.0",
      "model_name": "HBoxModel",
      "state": {
       "_dom_classes": [],
       "_model_module": "@jupyter-widgets/controls",
       "_model_module_version": "1.5.0",
       "_model_name": "HBoxModel",
       "_view_count": null,
       "_view_module": "@jupyter-widgets/controls",
       "_view_module_version": "1.5.0",
       "_view_name": "HBoxView",
       "box_style": "",
       "children": [
        "IPY_MODEL_2a120e3861ff494aa09a097dd97c56c2",
        "IPY_MODEL_3913eb1924cf4deb89e0dcd359e9815a",
        "IPY_MODEL_b547375ba130488cab3d537c9a6c0588"
       ],
       "layout": "IPY_MODEL_d2c4eb91bae248cda90e3c53c5f4b50e"
      }
     },
     "7106edc15435484ca80b64cfea51f627": {
      "model_module": "@jupyter-widgets/base",
      "model_module_version": "1.2.0",
      "model_name": "LayoutModel",
      "state": {
       "_model_module": "@jupyter-widgets/base",
       "_model_module_version": "1.2.0",
       "_model_name": "LayoutModel",
       "_view_count": null,
       "_view_module": "@jupyter-widgets/base",
       "_view_module_version": "1.2.0",
       "_view_name": "LayoutView",
       "align_content": null,
       "align_items": null,
       "align_self": null,
       "border": null,
       "bottom": null,
       "display": "inline-flex",
       "flex": null,
       "flex_flow": "row wrap",
       "grid_area": null,
       "grid_auto_columns": null,
       "grid_auto_flow": null,
       "grid_auto_rows": null,
       "grid_column": null,
       "grid_gap": null,
       "grid_row": null,
       "grid_template_areas": null,
       "grid_template_columns": null,
       "grid_template_rows": null,
       "height": null,
       "justify_content": null,
       "justify_items": null,
       "left": null,
       "margin": null,
       "max_height": null,
       "max_width": null,
       "min_height": null,
       "min_width": null,
       "object_fit": null,
       "object_position": null,
       "order": null,
       "overflow": null,
       "overflow_x": null,
       "overflow_y": null,
       "padding": null,
       "right": null,
       "top": null,
       "visibility": "hidden",
       "width": "100%"
      }
     },
     "7134b533359849a1b29c2964266a91e2": {
      "model_module": "@jupyter-widgets/controls",
      "model_module_version": "1.5.0",
      "model_name": "DescriptionStyleModel",
      "state": {
       "_model_module": "@jupyter-widgets/controls",
       "_model_module_version": "1.5.0",
       "_model_name": "DescriptionStyleModel",
       "_view_count": null,
       "_view_module": "@jupyter-widgets/base",
       "_view_module_version": "1.2.0",
       "_view_name": "StyleView",
       "description_width": ""
      }
     },
     "73f6d161bae44b84a6d21dc8141936a6": {
      "model_module": "@jupyter-widgets/controls",
      "model_module_version": "1.5.0",
      "model_name": "FloatProgressModel",
      "state": {
       "_dom_classes": [],
       "_model_module": "@jupyter-widgets/controls",
       "_model_module_version": "1.5.0",
       "_model_name": "FloatProgressModel",
       "_view_count": null,
       "_view_module": "@jupyter-widgets/controls",
       "_view_module_version": "1.5.0",
       "_view_name": "ProgressView",
       "bar_style": "",
       "description": "",
       "description_tooltip": null,
       "layout": "IPY_MODEL_66825e367f434e69b35e74e0caecdab7",
       "max": 1.0,
       "min": 0.0,
       "orientation": "horizontal",
       "style": "IPY_MODEL_d1873fbd38504ec482bb92ba06ede6d3",
       "value": 1.0
      }
     },
     "744bd722fd2d462cada633e054c8a78e": {
      "model_module": "@jupyter-widgets/controls",
      "model_module_version": "1.5.0",
      "model_name": "DescriptionStyleModel",
      "state": {
       "_model_module": "@jupyter-widgets/controls",
       "_model_module_version": "1.5.0",
       "_model_name": "DescriptionStyleModel",
       "_view_count": null,
       "_view_module": "@jupyter-widgets/base",
       "_view_module_version": "1.2.0",
       "_view_name": "StyleView",
       "description_width": ""
      }
     },
     "745d0e11e9d44837940930f0336c57b5": {
      "model_module": "@jupyter-widgets/base",
      "model_module_version": "1.2.0",
      "model_name": "LayoutModel",
      "state": {
       "_model_module": "@jupyter-widgets/base",
       "_model_module_version": "1.2.0",
       "_model_name": "LayoutModel",
       "_view_count": null,
       "_view_module": "@jupyter-widgets/base",
       "_view_module_version": "1.2.0",
       "_view_name": "LayoutView",
       "align_content": null,
       "align_items": null,
       "align_self": null,
       "border": null,
       "bottom": null,
       "display": null,
       "flex": null,
       "flex_flow": null,
       "grid_area": null,
       "grid_auto_columns": null,
       "grid_auto_flow": null,
       "grid_auto_rows": null,
       "grid_column": null,
       "grid_gap": null,
       "grid_row": null,
       "grid_template_areas": null,
       "grid_template_columns": null,
       "grid_template_rows": null,
       "height": null,
       "justify_content": null,
       "justify_items": null,
       "left": null,
       "margin": null,
       "max_height": null,
       "max_width": null,
       "min_height": null,
       "min_width": null,
       "object_fit": null,
       "object_position": null,
       "order": null,
       "overflow": null,
       "overflow_x": null,
       "overflow_y": null,
       "padding": null,
       "right": null,
       "top": null,
       "visibility": null,
       "width": null
      }
     },
     "748b92ce913546e6bb8608a3ee9244b5": {
      "model_module": "@jupyter-widgets/controls",
      "model_module_version": "1.5.0",
      "model_name": "DescriptionStyleModel",
      "state": {
       "_model_module": "@jupyter-widgets/controls",
       "_model_module_version": "1.5.0",
       "_model_name": "DescriptionStyleModel",
       "_view_count": null,
       "_view_module": "@jupyter-widgets/base",
       "_view_module_version": "1.2.0",
       "_view_name": "StyleView",
       "description_width": ""
      }
     },
     "752afe2d60824bb09726a52a6c591af2": {
      "model_module": "@jupyter-widgets/base",
      "model_module_version": "1.2.0",
      "model_name": "LayoutModel",
      "state": {
       "_model_module": "@jupyter-widgets/base",
       "_model_module_version": "1.2.0",
       "_model_name": "LayoutModel",
       "_view_count": null,
       "_view_module": "@jupyter-widgets/base",
       "_view_module_version": "1.2.0",
       "_view_name": "LayoutView",
       "align_content": null,
       "align_items": null,
       "align_self": null,
       "border": null,
       "bottom": null,
       "display": "inline-flex",
       "flex": null,
       "flex_flow": "row wrap",
       "grid_area": null,
       "grid_auto_columns": null,
       "grid_auto_flow": null,
       "grid_auto_rows": null,
       "grid_column": null,
       "grid_gap": null,
       "grid_row": null,
       "grid_template_areas": null,
       "grid_template_columns": null,
       "grid_template_rows": null,
       "height": null,
       "justify_content": null,
       "justify_items": null,
       "left": null,
       "margin": null,
       "max_height": null,
       "max_width": null,
       "min_height": null,
       "min_width": null,
       "object_fit": null,
       "object_position": null,
       "order": null,
       "overflow": null,
       "overflow_x": null,
       "overflow_y": null,
       "padding": null,
       "right": null,
       "top": null,
       "visibility": "hidden",
       "width": "100%"
      }
     },
     "7547f92a5d1f478b8fc7153ba1957939": {
      "model_module": "@jupyter-widgets/controls",
      "model_module_version": "1.5.0",
      "model_name": "ProgressStyleModel",
      "state": {
       "_model_module": "@jupyter-widgets/controls",
       "_model_module_version": "1.5.0",
       "_model_name": "ProgressStyleModel",
       "_view_count": null,
       "_view_module": "@jupyter-widgets/base",
       "_view_module_version": "1.2.0",
       "_view_name": "StyleView",
       "bar_color": null,
       "description_width": ""
      }
     },
     "7633deb69d56489286c2a62f12bf2e06": {
      "model_module": "@jupyter-widgets/controls",
      "model_module_version": "1.5.0",
      "model_name": "ProgressStyleModel",
      "state": {
       "_model_module": "@jupyter-widgets/controls",
       "_model_module_version": "1.5.0",
       "_model_name": "ProgressStyleModel",
       "_view_count": null,
       "_view_module": "@jupyter-widgets/base",
       "_view_module_version": "1.2.0",
       "_view_name": "StyleView",
       "bar_color": null,
       "description_width": ""
      }
     },
     "769ffc35145244cfb7bd794f59244de4": {
      "model_module": "@jupyter-widgets/controls",
      "model_module_version": "1.5.0",
      "model_name": "DescriptionStyleModel",
      "state": {
       "_model_module": "@jupyter-widgets/controls",
       "_model_module_version": "1.5.0",
       "_model_name": "DescriptionStyleModel",
       "_view_count": null,
       "_view_module": "@jupyter-widgets/base",
       "_view_module_version": "1.2.0",
       "_view_name": "StyleView",
       "description_width": ""
      }
     },
     "779f74be3ed94af896ce96637c853fe8": {
      "model_module": "@jupyter-widgets/base",
      "model_module_version": "1.2.0",
      "model_name": "LayoutModel",
      "state": {
       "_model_module": "@jupyter-widgets/base",
       "_model_module_version": "1.2.0",
       "_model_name": "LayoutModel",
       "_view_count": null,
       "_view_module": "@jupyter-widgets/base",
       "_view_module_version": "1.2.0",
       "_view_name": "LayoutView",
       "align_content": null,
       "align_items": null,
       "align_self": null,
       "border": null,
       "bottom": null,
       "display": "inline-flex",
       "flex": null,
       "flex_flow": "row wrap",
       "grid_area": null,
       "grid_auto_columns": null,
       "grid_auto_flow": null,
       "grid_auto_rows": null,
       "grid_column": null,
       "grid_gap": null,
       "grid_row": null,
       "grid_template_areas": null,
       "grid_template_columns": null,
       "grid_template_rows": null,
       "height": null,
       "justify_content": null,
       "justify_items": null,
       "left": null,
       "margin": null,
       "max_height": null,
       "max_width": null,
       "min_height": null,
       "min_width": null,
       "object_fit": null,
       "object_position": null,
       "order": null,
       "overflow": null,
       "overflow_x": null,
       "overflow_y": null,
       "padding": null,
       "right": null,
       "top": null,
       "visibility": "hidden",
       "width": "100%"
      }
     },
     "77b1f21c941f4a87a1894a7517cd1388": {
      "model_module": "@jupyter-widgets/controls",
      "model_module_version": "1.5.0",
      "model_name": "HTMLModel",
      "state": {
       "_dom_classes": [],
       "_model_module": "@jupyter-widgets/controls",
       "_model_module_version": "1.5.0",
       "_model_name": "HTMLModel",
       "_view_count": null,
       "_view_module": "@jupyter-widgets/controls",
       "_view_module_version": "1.5.0",
       "_view_name": "HTMLView",
       "description": "",
       "description_tooltip": null,
       "layout": "IPY_MODEL_ee6734969fa4410b811aadf9d2cbfd9b",
       "placeholder": "​",
       "style": "IPY_MODEL_cbc850c025a843378bed110165ef95db",
       "value": " 10/? [00:00&lt;00:00, 148.12it/s]"
      }
     },
     "78187e90feef48d3b3349be152ef6887": {
      "model_module": "@jupyter-widgets/controls",
      "model_module_version": "1.5.0",
      "model_name": "FloatProgressModel",
      "state": {
       "_dom_classes": [],
       "_model_module": "@jupyter-widgets/controls",
       "_model_module_version": "1.5.0",
       "_model_name": "FloatProgressModel",
       "_view_count": null,
       "_view_module": "@jupyter-widgets/controls",
       "_view_module_version": "1.5.0",
       "_view_name": "ProgressView",
       "bar_style": "",
       "description": "",
       "description_tooltip": null,
       "layout": "IPY_MODEL_4cbf647663494c9893cb7128822aa072",
       "max": 1.0,
       "min": 0.0,
       "orientation": "horizontal",
       "style": "IPY_MODEL_0492563dcc4a45f4988ef6983255ce0b",
       "value": 1.0
      }
     },
     "7960b2a537094b2cad1b6ac04aa19cd4": {
      "model_module": "@jupyter-widgets/controls",
      "model_module_version": "1.5.0",
      "model_name": "DescriptionStyleModel",
      "state": {
       "_model_module": "@jupyter-widgets/controls",
       "_model_module_version": "1.5.0",
       "_model_name": "DescriptionStyleModel",
       "_view_count": null,
       "_view_module": "@jupyter-widgets/base",
       "_view_module_version": "1.2.0",
       "_view_name": "StyleView",
       "description_width": ""
      }
     },
     "796d42e0e07a4c769a052d7d31f42e5d": {
      "model_module": "@jupyter-widgets/controls",
      "model_module_version": "1.5.0",
      "model_name": "HTMLModel",
      "state": {
       "_dom_classes": [],
       "_model_module": "@jupyter-widgets/controls",
       "_model_module_version": "1.5.0",
       "_model_name": "HTMLModel",
       "_view_count": null,
       "_view_module": "@jupyter-widgets/controls",
       "_view_module_version": "1.5.0",
       "_view_name": "HTMLView",
       "description": "",
       "description_tooltip": null,
       "layout": "IPY_MODEL_091dcf98af4942f4853c64f495083a60",
       "placeholder": "​",
       "style": "IPY_MODEL_42ec58b892564e62a737454518550800",
       "value": "Validation DataLoader 0: "
      }
     },
     "79f73e3509bf4f26aec96e48bc210639": {
      "model_module": "@jupyter-widgets/controls",
      "model_module_version": "1.5.0",
      "model_name": "HTMLModel",
      "state": {
       "_dom_classes": [],
       "_model_module": "@jupyter-widgets/controls",
       "_model_module_version": "1.5.0",
       "_model_name": "HTMLModel",
       "_view_count": null,
       "_view_module": "@jupyter-widgets/controls",
       "_view_module_version": "1.5.0",
       "_view_name": "HTMLView",
       "description": "",
       "description_tooltip": null,
       "layout": "IPY_MODEL_8c37dc9b111048b2ae5fb4886916de99",
       "placeholder": "​",
       "style": "IPY_MODEL_3ecf6e3e8d364821817002d16bbea937",
       "value": "Sanity Checking DataLoader 0: 100%"
      }
     },
     "79fbe7bbf11c486f97f207bcbd2b90d5": {
      "model_module": "@jupyter-widgets/base",
      "model_module_version": "1.2.0",
      "model_name": "LayoutModel",
      "state": {
       "_model_module": "@jupyter-widgets/base",
       "_model_module_version": "1.2.0",
       "_model_name": "LayoutModel",
       "_view_count": null,
       "_view_module": "@jupyter-widgets/base",
       "_view_module_version": "1.2.0",
       "_view_name": "LayoutView",
       "align_content": null,
       "align_items": null,
       "align_self": null,
       "border": null,
       "bottom": null,
       "display": null,
       "flex": null,
       "flex_flow": null,
       "grid_area": null,
       "grid_auto_columns": null,
       "grid_auto_flow": null,
       "grid_auto_rows": null,
       "grid_column": null,
       "grid_gap": null,
       "grid_row": null,
       "grid_template_areas": null,
       "grid_template_columns": null,
       "grid_template_rows": null,
       "height": null,
       "justify_content": null,
       "justify_items": null,
       "left": null,
       "margin": null,
       "max_height": null,
       "max_width": null,
       "min_height": null,
       "min_width": null,
       "object_fit": null,
       "object_position": null,
       "order": null,
       "overflow": null,
       "overflow_x": null,
       "overflow_y": null,
       "padding": null,
       "right": null,
       "top": null,
       "visibility": null,
       "width": null
      }
     },
     "7a816b8e47e54cc88f91399c6b22246b": {
      "model_module": "@jupyter-widgets/controls",
      "model_module_version": "1.5.0",
      "model_name": "FloatProgressModel",
      "state": {
       "_dom_classes": [],
       "_model_module": "@jupyter-widgets/controls",
       "_model_module_version": "1.5.0",
       "_model_name": "FloatProgressModel",
       "_view_count": null,
       "_view_module": "@jupyter-widgets/controls",
       "_view_module_version": "1.5.0",
       "_view_name": "ProgressView",
       "bar_style": "",
       "description": "",
       "description_tooltip": null,
       "layout": "IPY_MODEL_09416d4a7ddf4714ae1a10d68c5d814a",
       "max": 1.0,
       "min": 0.0,
       "orientation": "horizontal",
       "style": "IPY_MODEL_09cb9a2ca27942d1b658556b1f366635",
       "value": 1.0
      }
     },
     "7ab14644cbd64386959aed5261d4a192": {
      "model_module": "@jupyter-widgets/controls",
      "model_module_version": "1.5.0",
      "model_name": "HTMLModel",
      "state": {
       "_dom_classes": [],
       "_model_module": "@jupyter-widgets/controls",
       "_model_module_version": "1.5.0",
       "_model_name": "HTMLModel",
       "_view_count": null,
       "_view_module": "@jupyter-widgets/controls",
       "_view_module_version": "1.5.0",
       "_view_name": "HTMLView",
       "description": "",
       "description_tooltip": null,
       "layout": "IPY_MODEL_21f7f30c25ba4971844bdc793a62d1e7",
       "placeholder": "​",
       "style": "IPY_MODEL_cc3a76997372474aa62fd0ed7f93a028",
       "value": "Validation DataLoader 0: "
      }
     },
     "7b586605e703499f87d9a01bcd23065a": {
      "model_module": "@jupyter-widgets/controls",
      "model_module_version": "1.5.0",
      "model_name": "ProgressStyleModel",
      "state": {
       "_model_module": "@jupyter-widgets/controls",
       "_model_module_version": "1.5.0",
       "_model_name": "ProgressStyleModel",
       "_view_count": null,
       "_view_module": "@jupyter-widgets/base",
       "_view_module_version": "1.2.0",
       "_view_name": "StyleView",
       "bar_color": null,
       "description_width": ""
      }
     },
     "7c5755afdb7643e1a8e9e3e807d7f928": {
      "model_module": "@jupyter-widgets/controls",
      "model_module_version": "1.5.0",
      "model_name": "HTMLModel",
      "state": {
       "_dom_classes": [],
       "_model_module": "@jupyter-widgets/controls",
       "_model_module_version": "1.5.0",
       "_model_name": "HTMLModel",
       "_view_count": null,
       "_view_module": "@jupyter-widgets/controls",
       "_view_module_version": "1.5.0",
       "_view_name": "HTMLView",
       "description": "",
       "description_tooltip": null,
       "layout": "IPY_MODEL_b4fd2d7fbabb4603a6a79b38b617f590",
       "placeholder": "​",
       "style": "IPY_MODEL_6e486883441346f9bf84b14095ab7c1d",
       "value": " 10/? [00:00&lt;00:00, 156.89it/s]"
      }
     },
     "7cf5b89b55584a87a9cb02f5f3116b82": {
      "model_module": "@jupyter-widgets/controls",
      "model_module_version": "1.5.0",
      "model_name": "FloatProgressModel",
      "state": {
       "_dom_classes": [],
       "_model_module": "@jupyter-widgets/controls",
       "_model_module_version": "1.5.0",
       "_model_name": "FloatProgressModel",
       "_view_count": null,
       "_view_module": "@jupyter-widgets/controls",
       "_view_module_version": "1.5.0",
       "_view_name": "ProgressView",
       "bar_style": "",
       "description": "",
       "description_tooltip": null,
       "layout": "IPY_MODEL_4a3f0864a39144179fe435001201463d",
       "max": 1.0,
       "min": 0.0,
       "orientation": "horizontal",
       "style": "IPY_MODEL_d253409a96f646558eee45a8730d032b",
       "value": 1.0
      }
     },
     "7d6a0687d3b34e299d43e8a13c1461ab": {
      "model_module": "@jupyter-widgets/controls",
      "model_module_version": "1.5.0",
      "model_name": "DescriptionStyleModel",
      "state": {
       "_model_module": "@jupyter-widgets/controls",
       "_model_module_version": "1.5.0",
       "_model_name": "DescriptionStyleModel",
       "_view_count": null,
       "_view_module": "@jupyter-widgets/base",
       "_view_module_version": "1.2.0",
       "_view_name": "StyleView",
       "description_width": ""
      }
     },
     "7dd0adfe475d4016b623efb4a8937f6b": {
      "model_module": "@jupyter-widgets/controls",
      "model_module_version": "1.5.0",
      "model_name": "HTMLModel",
      "state": {
       "_dom_classes": [],
       "_model_module": "@jupyter-widgets/controls",
       "_model_module_version": "1.5.0",
       "_model_name": "HTMLModel",
       "_view_count": null,
       "_view_module": "@jupyter-widgets/controls",
       "_view_module_version": "1.5.0",
       "_view_name": "HTMLView",
       "description": "",
       "description_tooltip": null,
       "layout": "IPY_MODEL_cc28b51e52be42f68720796a2d237574",
       "placeholder": "​",
       "style": "IPY_MODEL_7960b2a537094b2cad1b6ac04aa19cd4",
       "value": " 10/? [00:00&lt;00:00, 151.93it/s]"
      }
     },
     "7f3991e5d2174f18a39cbfd98b0f1d9c": {
      "model_module": "@jupyter-widgets/base",
      "model_module_version": "1.2.0",
      "model_name": "LayoutModel",
      "state": {
       "_model_module": "@jupyter-widgets/base",
       "_model_module_version": "1.2.0",
       "_model_name": "LayoutModel",
       "_view_count": null,
       "_view_module": "@jupyter-widgets/base",
       "_view_module_version": "1.2.0",
       "_view_name": "LayoutView",
       "align_content": null,
       "align_items": null,
       "align_self": null,
       "border": null,
       "bottom": null,
       "display": "inline-flex",
       "flex": null,
       "flex_flow": "row wrap",
       "grid_area": null,
       "grid_auto_columns": null,
       "grid_auto_flow": null,
       "grid_auto_rows": null,
       "grid_column": null,
       "grid_gap": null,
       "grid_row": null,
       "grid_template_areas": null,
       "grid_template_columns": null,
       "grid_template_rows": null,
       "height": null,
       "justify_content": null,
       "justify_items": null,
       "left": null,
       "margin": null,
       "max_height": null,
       "max_width": null,
       "min_height": null,
       "min_width": null,
       "object_fit": null,
       "object_position": null,
       "order": null,
       "overflow": null,
       "overflow_x": null,
       "overflow_y": null,
       "padding": null,
       "right": null,
       "top": null,
       "visibility": "hidden",
       "width": "100%"
      }
     },
     "7fc2e296abf94ae092bbb94f653eb9b0": {
      "model_module": "@jupyter-widgets/base",
      "model_module_version": "1.2.0",
      "model_name": "LayoutModel",
      "state": {
       "_model_module": "@jupyter-widgets/base",
       "_model_module_version": "1.2.0",
       "_model_name": "LayoutModel",
       "_view_count": null,
       "_view_module": "@jupyter-widgets/base",
       "_view_module_version": "1.2.0",
       "_view_name": "LayoutView",
       "align_content": null,
       "align_items": null,
       "align_self": null,
       "border": null,
       "bottom": null,
       "display": null,
       "flex": "2",
       "flex_flow": null,
       "grid_area": null,
       "grid_auto_columns": null,
       "grid_auto_flow": null,
       "grid_auto_rows": null,
       "grid_column": null,
       "grid_gap": null,
       "grid_row": null,
       "grid_template_areas": null,
       "grid_template_columns": null,
       "grid_template_rows": null,
       "height": null,
       "justify_content": null,
       "justify_items": null,
       "left": null,
       "margin": null,
       "max_height": null,
       "max_width": null,
       "min_height": null,
       "min_width": null,
       "object_fit": null,
       "object_position": null,
       "order": null,
       "overflow": null,
       "overflow_x": null,
       "overflow_y": null,
       "padding": null,
       "right": null,
       "top": null,
       "visibility": null,
       "width": null
      }
     },
     "80384c8245454c4192b054564a02ed8d": {
      "model_module": "@jupyter-widgets/controls",
      "model_module_version": "1.5.0",
      "model_name": "DescriptionStyleModel",
      "state": {
       "_model_module": "@jupyter-widgets/controls",
       "_model_module_version": "1.5.0",
       "_model_name": "DescriptionStyleModel",
       "_view_count": null,
       "_view_module": "@jupyter-widgets/base",
       "_view_module_version": "1.2.0",
       "_view_name": "StyleView",
       "description_width": ""
      }
     },
     "80b5dabaeba74826af9d4451badd50fa": {
      "model_module": "@jupyter-widgets/controls",
      "model_module_version": "1.5.0",
      "model_name": "HTMLModel",
      "state": {
       "_dom_classes": [],
       "_model_module": "@jupyter-widgets/controls",
       "_model_module_version": "1.5.0",
       "_model_name": "HTMLModel",
       "_view_count": null,
       "_view_module": "@jupyter-widgets/controls",
       "_view_module_version": "1.5.0",
       "_view_name": "HTMLView",
       "description": "",
       "description_tooltip": null,
       "layout": "IPY_MODEL_2989a75750c84233b85e83faa1cb8bd7",
       "placeholder": "​",
       "style": "IPY_MODEL_80384c8245454c4192b054564a02ed8d",
       "value": " 2/2 [00:04&lt;00:00,  2.15s/it]"
      }
     },
     "8135536fc44a4ce394fa923c177bf8f0": {
      "model_module": "@jupyter-widgets/base",
      "model_module_version": "1.2.0",
      "model_name": "LayoutModel",
      "state": {
       "_model_module": "@jupyter-widgets/base",
       "_model_module_version": "1.2.0",
       "_model_name": "LayoutModel",
       "_view_count": null,
       "_view_module": "@jupyter-widgets/base",
       "_view_module_version": "1.2.0",
       "_view_name": "LayoutView",
       "align_content": null,
       "align_items": null,
       "align_self": null,
       "border": null,
       "bottom": null,
       "display": null,
       "flex": null,
       "flex_flow": null,
       "grid_area": null,
       "grid_auto_columns": null,
       "grid_auto_flow": null,
       "grid_auto_rows": null,
       "grid_column": null,
       "grid_gap": null,
       "grid_row": null,
       "grid_template_areas": null,
       "grid_template_columns": null,
       "grid_template_rows": null,
       "height": null,
       "justify_content": null,
       "justify_items": null,
       "left": null,
       "margin": null,
       "max_height": null,
       "max_width": null,
       "min_height": null,
       "min_width": null,
       "object_fit": null,
       "object_position": null,
       "order": null,
       "overflow": null,
       "overflow_x": null,
       "overflow_y": null,
       "padding": null,
       "right": null,
       "top": null,
       "visibility": null,
       "width": null
      }
     },
     "81de05dcc87b46bdb36b2af385b51831": {
      "model_module": "@jupyter-widgets/controls",
      "model_module_version": "1.5.0",
      "model_name": "HTMLModel",
      "state": {
       "_dom_classes": [],
       "_model_module": "@jupyter-widgets/controls",
       "_model_module_version": "1.5.0",
       "_model_name": "HTMLModel",
       "_view_count": null,
       "_view_module": "@jupyter-widgets/controls",
       "_view_module_version": "1.5.0",
       "_view_name": "HTMLView",
       "description": "",
       "description_tooltip": null,
       "layout": "IPY_MODEL_09e9ad4ac0634eb6ab0382293098c505",
       "placeholder": "​",
       "style": "IPY_MODEL_23ce17bcbe0648e096a483a78debee1c",
       "value": "Validation DataLoader 0: "
      }
     },
     "81f47a8cf01240259554c981a842daae": {
      "model_module": "@jupyter-widgets/controls",
      "model_module_version": "1.5.0",
      "model_name": "FloatProgressModel",
      "state": {
       "_dom_classes": [],
       "_model_module": "@jupyter-widgets/controls",
       "_model_module_version": "1.5.0",
       "_model_name": "FloatProgressModel",
       "_view_count": null,
       "_view_module": "@jupyter-widgets/controls",
       "_view_module_version": "1.5.0",
       "_view_name": "ProgressView",
       "bar_style": "",
       "description": "",
       "description_tooltip": null,
       "layout": "IPY_MODEL_537496a92a20454bafb78abe3ef01991",
       "max": 2.0,
       "min": 0.0,
       "orientation": "horizontal",
       "style": "IPY_MODEL_b10c0efae9124b1291eb59ca4489c907",
       "value": 2.0
      }
     },
     "82fca35c64f548ab93af4b551186f34e": {
      "model_module": "@jupyter-widgets/base",
      "model_module_version": "1.2.0",
      "model_name": "LayoutModel",
      "state": {
       "_model_module": "@jupyter-widgets/base",
       "_model_module_version": "1.2.0",
       "_model_name": "LayoutModel",
       "_view_count": null,
       "_view_module": "@jupyter-widgets/base",
       "_view_module_version": "1.2.0",
       "_view_name": "LayoutView",
       "align_content": null,
       "align_items": null,
       "align_self": null,
       "border": null,
       "bottom": null,
       "display": null,
       "flex": null,
       "flex_flow": null,
       "grid_area": null,
       "grid_auto_columns": null,
       "grid_auto_flow": null,
       "grid_auto_rows": null,
       "grid_column": null,
       "grid_gap": null,
       "grid_row": null,
       "grid_template_areas": null,
       "grid_template_columns": null,
       "grid_template_rows": null,
       "height": null,
       "justify_content": null,
       "justify_items": null,
       "left": null,
       "margin": null,
       "max_height": null,
       "max_width": null,
       "min_height": null,
       "min_width": null,
       "object_fit": null,
       "object_position": null,
       "order": null,
       "overflow": null,
       "overflow_x": null,
       "overflow_y": null,
       "padding": null,
       "right": null,
       "top": null,
       "visibility": null,
       "width": null
      }
     },
     "83ea9ad4509847699008cb5166092ab4": {
      "model_module": "@jupyter-widgets/controls",
      "model_module_version": "1.5.0",
      "model_name": "HBoxModel",
      "state": {
       "_dom_classes": [],
       "_model_module": "@jupyter-widgets/controls",
       "_model_module_version": "1.5.0",
       "_model_name": "HBoxModel",
       "_view_count": null,
       "_view_module": "@jupyter-widgets/controls",
       "_view_module_version": "1.5.0",
       "_view_name": "HBoxView",
       "box_style": "",
       "children": [
        "IPY_MODEL_49a98ace3d87459b8b363222b0c87fc2",
        "IPY_MODEL_73f6d161bae44b84a6d21dc8141936a6",
        "IPY_MODEL_284c8bc55b024871aca4c41ba91494cd"
       ],
       "layout": "IPY_MODEL_05f5b511357345b29e337291dcac09b9"
      }
     },
     "83f1d9d820124a698d60e952fbd4a25c": {
      "model_module": "@jupyter-widgets/base",
      "model_module_version": "1.2.0",
      "model_name": "LayoutModel",
      "state": {
       "_model_module": "@jupyter-widgets/base",
       "_model_module_version": "1.2.0",
       "_model_name": "LayoutModel",
       "_view_count": null,
       "_view_module": "@jupyter-widgets/base",
       "_view_module_version": "1.2.0",
       "_view_name": "LayoutView",
       "align_content": null,
       "align_items": null,
       "align_self": null,
       "border": null,
       "bottom": null,
       "display": null,
       "flex": "2",
       "flex_flow": null,
       "grid_area": null,
       "grid_auto_columns": null,
       "grid_auto_flow": null,
       "grid_auto_rows": null,
       "grid_column": null,
       "grid_gap": null,
       "grid_row": null,
       "grid_template_areas": null,
       "grid_template_columns": null,
       "grid_template_rows": null,
       "height": null,
       "justify_content": null,
       "justify_items": null,
       "left": null,
       "margin": null,
       "max_height": null,
       "max_width": null,
       "min_height": null,
       "min_width": null,
       "object_fit": null,
       "object_position": null,
       "order": null,
       "overflow": null,
       "overflow_x": null,
       "overflow_y": null,
       "padding": null,
       "right": null,
       "top": null,
       "visibility": null,
       "width": null
      }
     },
     "84c86e396dab4dbd8e60f919d75d1a88": {
      "model_module": "@jupyter-widgets/controls",
      "model_module_version": "1.5.0",
      "model_name": "ProgressStyleModel",
      "state": {
       "_model_module": "@jupyter-widgets/controls",
       "_model_module_version": "1.5.0",
       "_model_name": "ProgressStyleModel",
       "_view_count": null,
       "_view_module": "@jupyter-widgets/base",
       "_view_module_version": "1.2.0",
       "_view_name": "StyleView",
       "bar_color": null,
       "description_width": ""
      }
     },
     "84fe2329265a4d7e8e2dd7654d5db37c": {
      "model_module": "@jupyter-widgets/base",
      "model_module_version": "1.2.0",
      "model_name": "LayoutModel",
      "state": {
       "_model_module": "@jupyter-widgets/base",
       "_model_module_version": "1.2.0",
       "_model_name": "LayoutModel",
       "_view_count": null,
       "_view_module": "@jupyter-widgets/base",
       "_view_module_version": "1.2.0",
       "_view_name": "LayoutView",
       "align_content": null,
       "align_items": null,
       "align_self": null,
       "border": null,
       "bottom": null,
       "display": null,
       "flex": null,
       "flex_flow": null,
       "grid_area": null,
       "grid_auto_columns": null,
       "grid_auto_flow": null,
       "grid_auto_rows": null,
       "grid_column": null,
       "grid_gap": null,
       "grid_row": null,
       "grid_template_areas": null,
       "grid_template_columns": null,
       "grid_template_rows": null,
       "height": null,
       "justify_content": null,
       "justify_items": null,
       "left": null,
       "margin": null,
       "max_height": null,
       "max_width": null,
       "min_height": null,
       "min_width": null,
       "object_fit": null,
       "object_position": null,
       "order": null,
       "overflow": null,
       "overflow_x": null,
       "overflow_y": null,
       "padding": null,
       "right": null,
       "top": null,
       "visibility": null,
       "width": null
      }
     },
     "84fe45e1ce764f2bba295d37c9ccfd07": {
      "model_module": "@jupyter-widgets/controls",
      "model_module_version": "1.5.0",
      "model_name": "DescriptionStyleModel",
      "state": {
       "_model_module": "@jupyter-widgets/controls",
       "_model_module_version": "1.5.0",
       "_model_name": "DescriptionStyleModel",
       "_view_count": null,
       "_view_module": "@jupyter-widgets/base",
       "_view_module_version": "1.2.0",
       "_view_name": "StyleView",
       "description_width": ""
      }
     },
     "8522edd10975486a9b408c71f5ce27bb": {
      "model_module": "@jupyter-widgets/base",
      "model_module_version": "1.2.0",
      "model_name": "LayoutModel",
      "state": {
       "_model_module": "@jupyter-widgets/base",
       "_model_module_version": "1.2.0",
       "_model_name": "LayoutModel",
       "_view_count": null,
       "_view_module": "@jupyter-widgets/base",
       "_view_module_version": "1.2.0",
       "_view_name": "LayoutView",
       "align_content": null,
       "align_items": null,
       "align_self": null,
       "border": null,
       "bottom": null,
       "display": null,
       "flex": null,
       "flex_flow": null,
       "grid_area": null,
       "grid_auto_columns": null,
       "grid_auto_flow": null,
       "grid_auto_rows": null,
       "grid_column": null,
       "grid_gap": null,
       "grid_row": null,
       "grid_template_areas": null,
       "grid_template_columns": null,
       "grid_template_rows": null,
       "height": null,
       "justify_content": null,
       "justify_items": null,
       "left": null,
       "margin": null,
       "max_height": null,
       "max_width": null,
       "min_height": null,
       "min_width": null,
       "object_fit": null,
       "object_position": null,
       "order": null,
       "overflow": null,
       "overflow_x": null,
       "overflow_y": null,
       "padding": null,
       "right": null,
       "top": null,
       "visibility": null,
       "width": null
      }
     },
     "85993ee86c2c4ba3b7b07e892020790d": {
      "model_module": "@jupyter-widgets/controls",
      "model_module_version": "1.5.0",
      "model_name": "HBoxModel",
      "state": {
       "_dom_classes": [],
       "_model_module": "@jupyter-widgets/controls",
       "_model_module_version": "1.5.0",
       "_model_name": "HBoxModel",
       "_view_count": null,
       "_view_module": "@jupyter-widgets/controls",
       "_view_module_version": "1.5.0",
       "_view_name": "HBoxView",
       "box_style": "",
       "children": [
        "IPY_MODEL_37f670db7dbb4dd294026d2bbeb1da00",
        "IPY_MODEL_78187e90feef48d3b3349be152ef6887",
        "IPY_MODEL_239f846eaf204b2caf64bb3f39676447"
       ],
       "layout": "IPY_MODEL_543dfbe0365b42fa82f2e1ecd1f42c00"
      }
     },
     "866ee9449d9c4b16bf48a720725d5dc0": {
      "model_module": "@jupyter-widgets/controls",
      "model_module_version": "1.5.0",
      "model_name": "HTMLModel",
      "state": {
       "_dom_classes": [],
       "_model_module": "@jupyter-widgets/controls",
       "_model_module_version": "1.5.0",
       "_model_name": "HTMLModel",
       "_view_count": null,
       "_view_module": "@jupyter-widgets/controls",
       "_view_module_version": "1.5.0",
       "_view_name": "HTMLView",
       "description": "",
       "description_tooltip": null,
       "layout": "IPY_MODEL_038bbdca18ed44928509f2d08bfc996a",
       "placeholder": "​",
       "style": "IPY_MODEL_769ffc35145244cfb7bd794f59244de4",
       "value": "Validation DataLoader 0: "
      }
     },
     "872b96c97bab429393ec58f644f67383": {
      "model_module": "@jupyter-widgets/controls",
      "model_module_version": "1.5.0",
      "model_name": "HBoxModel",
      "state": {
       "_dom_classes": [],
       "_model_module": "@jupyter-widgets/controls",
       "_model_module_version": "1.5.0",
       "_model_name": "HBoxModel",
       "_view_count": null,
       "_view_module": "@jupyter-widgets/controls",
       "_view_module_version": "1.5.0",
       "_view_name": "HBoxView",
       "box_style": "",
       "children": [
        "IPY_MODEL_79f73e3509bf4f26aec96e48bc210639",
        "IPY_MODEL_81f47a8cf01240259554c981a842daae",
        "IPY_MODEL_80b5dabaeba74826af9d4451badd50fa"
       ],
       "layout": "IPY_MODEL_5bf86304d0d24f4f98d3d731093c8a69"
      }
     },
     "87dbfaceb7874b219f472834b0e27e92": {
      "model_module": "@jupyter-widgets/controls",
      "model_module_version": "1.5.0",
      "model_name": "ProgressStyleModel",
      "state": {
       "_model_module": "@jupyter-widgets/controls",
       "_model_module_version": "1.5.0",
       "_model_name": "ProgressStyleModel",
       "_view_count": null,
       "_view_module": "@jupyter-widgets/base",
       "_view_module_version": "1.2.0",
       "_view_name": "StyleView",
       "bar_color": null,
       "description_width": ""
      }
     },
     "88266a29137b4dbf967f34adf729da31": {
      "model_module": "@jupyter-widgets/controls",
      "model_module_version": "1.5.0",
      "model_name": "HBoxModel",
      "state": {
       "_dom_classes": [],
       "_model_module": "@jupyter-widgets/controls",
       "_model_module_version": "1.5.0",
       "_model_name": "HBoxModel",
       "_view_count": null,
       "_view_module": "@jupyter-widgets/controls",
       "_view_module_version": "1.5.0",
       "_view_name": "HBoxView",
       "box_style": "",
       "children": [
        "IPY_MODEL_6cdffeb3a7b0466f83be4ed98a455044",
        "IPY_MODEL_af724b299eb04b42ae02aff29f3adafe",
        "IPY_MODEL_ac2bfdde70cc4d95a43c8b8b581f196f"
       ],
       "layout": "IPY_MODEL_0e818b09aea64ee3a9b8cb9cffecd5b6"
      }
     },
     "888a1ea0d4c34d39ae8c20b9f13a4ec9": {
      "model_module": "@jupyter-widgets/controls",
      "model_module_version": "1.5.0",
      "model_name": "DescriptionStyleModel",
      "state": {
       "_model_module": "@jupyter-widgets/controls",
       "_model_module_version": "1.5.0",
       "_model_name": "DescriptionStyleModel",
       "_view_count": null,
       "_view_module": "@jupyter-widgets/base",
       "_view_module_version": "1.2.0",
       "_view_name": "StyleView",
       "description_width": ""
      }
     },
     "8a9ba17716904b23a979d8d6f3baf5b7": {
      "model_module": "@jupyter-widgets/controls",
      "model_module_version": "1.5.0",
      "model_name": "DescriptionStyleModel",
      "state": {
       "_model_module": "@jupyter-widgets/controls",
       "_model_module_version": "1.5.0",
       "_model_name": "DescriptionStyleModel",
       "_view_count": null,
       "_view_module": "@jupyter-widgets/base",
       "_view_module_version": "1.2.0",
       "_view_name": "StyleView",
       "description_width": ""
      }
     },
     "8af02ca03f9b492dae4fe6f4d964694d": {
      "model_module": "@jupyter-widgets/base",
      "model_module_version": "1.2.0",
      "model_name": "LayoutModel",
      "state": {
       "_model_module": "@jupyter-widgets/base",
       "_model_module_version": "1.2.0",
       "_model_name": "LayoutModel",
       "_view_count": null,
       "_view_module": "@jupyter-widgets/base",
       "_view_module_version": "1.2.0",
       "_view_name": "LayoutView",
       "align_content": null,
       "align_items": null,
       "align_self": null,
       "border": null,
       "bottom": null,
       "display": null,
       "flex": null,
       "flex_flow": null,
       "grid_area": null,
       "grid_auto_columns": null,
       "grid_auto_flow": null,
       "grid_auto_rows": null,
       "grid_column": null,
       "grid_gap": null,
       "grid_row": null,
       "grid_template_areas": null,
       "grid_template_columns": null,
       "grid_template_rows": null,
       "height": null,
       "justify_content": null,
       "justify_items": null,
       "left": null,
       "margin": null,
       "max_height": null,
       "max_width": null,
       "min_height": null,
       "min_width": null,
       "object_fit": null,
       "object_position": null,
       "order": null,
       "overflow": null,
       "overflow_x": null,
       "overflow_y": null,
       "padding": null,
       "right": null,
       "top": null,
       "visibility": null,
       "width": null
      }
     },
     "8c37dc9b111048b2ae5fb4886916de99": {
      "model_module": "@jupyter-widgets/base",
      "model_module_version": "1.2.0",
      "model_name": "LayoutModel",
      "state": {
       "_model_module": "@jupyter-widgets/base",
       "_model_module_version": "1.2.0",
       "_model_name": "LayoutModel",
       "_view_count": null,
       "_view_module": "@jupyter-widgets/base",
       "_view_module_version": "1.2.0",
       "_view_name": "LayoutView",
       "align_content": null,
       "align_items": null,
       "align_self": null,
       "border": null,
       "bottom": null,
       "display": null,
       "flex": null,
       "flex_flow": null,
       "grid_area": null,
       "grid_auto_columns": null,
       "grid_auto_flow": null,
       "grid_auto_rows": null,
       "grid_column": null,
       "grid_gap": null,
       "grid_row": null,
       "grid_template_areas": null,
       "grid_template_columns": null,
       "grid_template_rows": null,
       "height": null,
       "justify_content": null,
       "justify_items": null,
       "left": null,
       "margin": null,
       "max_height": null,
       "max_width": null,
       "min_height": null,
       "min_width": null,
       "object_fit": null,
       "object_position": null,
       "order": null,
       "overflow": null,
       "overflow_x": null,
       "overflow_y": null,
       "padding": null,
       "right": null,
       "top": null,
       "visibility": null,
       "width": null
      }
     },
     "8cb71b17766f45898b3de1eb08723c97": {
      "model_module": "@jupyter-widgets/controls",
      "model_module_version": "1.5.0",
      "model_name": "HBoxModel",
      "state": {
       "_dom_classes": [],
       "_model_module": "@jupyter-widgets/controls",
       "_model_module_version": "1.5.0",
       "_model_name": "HBoxModel",
       "_view_count": null,
       "_view_module": "@jupyter-widgets/controls",
       "_view_module_version": "1.5.0",
       "_view_name": "HBoxView",
       "box_style": "",
       "children": [
        "IPY_MODEL_9a646da2c8c342d98124fd367b95d6da",
        "IPY_MODEL_3c2d4067f1114709a68037f180138b03",
        "IPY_MODEL_414a053f482d47d2af16536decd05520"
       ],
       "layout": "IPY_MODEL_c6a0c13559bb483c82f6edcd6972db20"
      }
     },
     "8cfeea12526c44339db16a0eb6bf7f64": {
      "model_module": "@jupyter-widgets/controls",
      "model_module_version": "1.5.0",
      "model_name": "DescriptionStyleModel",
      "state": {
       "_model_module": "@jupyter-widgets/controls",
       "_model_module_version": "1.5.0",
       "_model_name": "DescriptionStyleModel",
       "_view_count": null,
       "_view_module": "@jupyter-widgets/base",
       "_view_module_version": "1.2.0",
       "_view_name": "StyleView",
       "description_width": ""
      }
     },
     "8db08ba9fc20418fb8efbffaa4e70449": {
      "model_module": "@jupyter-widgets/controls",
      "model_module_version": "1.5.0",
      "model_name": "HBoxModel",
      "state": {
       "_dom_classes": [],
       "_model_module": "@jupyter-widgets/controls",
       "_model_module_version": "1.5.0",
       "_model_name": "HBoxModel",
       "_view_count": null,
       "_view_module": "@jupyter-widgets/controls",
       "_view_module_version": "1.5.0",
       "_view_name": "HBoxView",
       "box_style": "",
       "children": [
        "IPY_MODEL_12c8aa4846bb463a9713b990a1483791",
        "IPY_MODEL_6a9c2d9f695246d392542edb489de35c",
        "IPY_MODEL_7c5755afdb7643e1a8e9e3e807d7f928"
       ],
       "layout": "IPY_MODEL_31fce197414a4b8f989ddffff44fa515"
      }
     },
     "8e9df6810bf04da1b4267798bb397d33": {
      "model_module": "@jupyter-widgets/base",
      "model_module_version": "1.2.0",
      "model_name": "LayoutModel",
      "state": {
       "_model_module": "@jupyter-widgets/base",
       "_model_module_version": "1.2.0",
       "_model_name": "LayoutModel",
       "_view_count": null,
       "_view_module": "@jupyter-widgets/base",
       "_view_module_version": "1.2.0",
       "_view_name": "LayoutView",
       "align_content": null,
       "align_items": null,
       "align_self": null,
       "border": null,
       "bottom": null,
       "display": null,
       "flex": null,
       "flex_flow": null,
       "grid_area": null,
       "grid_auto_columns": null,
       "grid_auto_flow": null,
       "grid_auto_rows": null,
       "grid_column": null,
       "grid_gap": null,
       "grid_row": null,
       "grid_template_areas": null,
       "grid_template_columns": null,
       "grid_template_rows": null,
       "height": null,
       "justify_content": null,
       "justify_items": null,
       "left": null,
       "margin": null,
       "max_height": null,
       "max_width": null,
       "min_height": null,
       "min_width": null,
       "object_fit": null,
       "object_position": null,
       "order": null,
       "overflow": null,
       "overflow_x": null,
       "overflow_y": null,
       "padding": null,
       "right": null,
       "top": null,
       "visibility": null,
       "width": null
      }
     },
     "912e543148c448a6b915f6af289b57c9": {
      "model_module": "@jupyter-widgets/base",
      "model_module_version": "1.2.0",
      "model_name": "LayoutModel",
      "state": {
       "_model_module": "@jupyter-widgets/base",
       "_model_module_version": "1.2.0",
       "_model_name": "LayoutModel",
       "_view_count": null,
       "_view_module": "@jupyter-widgets/base",
       "_view_module_version": "1.2.0",
       "_view_name": "LayoutView",
       "align_content": null,
       "align_items": null,
       "align_self": null,
       "border": null,
       "bottom": null,
       "display": "inline-flex",
       "flex": null,
       "flex_flow": "row wrap",
       "grid_area": null,
       "grid_auto_columns": null,
       "grid_auto_flow": null,
       "grid_auto_rows": null,
       "grid_column": null,
       "grid_gap": null,
       "grid_row": null,
       "grid_template_areas": null,
       "grid_template_columns": null,
       "grid_template_rows": null,
       "height": null,
       "justify_content": null,
       "justify_items": null,
       "left": null,
       "margin": null,
       "max_height": null,
       "max_width": null,
       "min_height": null,
       "min_width": null,
       "object_fit": null,
       "object_position": null,
       "order": null,
       "overflow": null,
       "overflow_x": null,
       "overflow_y": null,
       "padding": null,
       "right": null,
       "top": null,
       "visibility": "hidden",
       "width": "100%"
      }
     },
     "913f06213c974116ad8c845e6e229a9e": {
      "model_module": "@jupyter-widgets/base",
      "model_module_version": "1.2.0",
      "model_name": "LayoutModel",
      "state": {
       "_model_module": "@jupyter-widgets/base",
       "_model_module_version": "1.2.0",
       "_model_name": "LayoutModel",
       "_view_count": null,
       "_view_module": "@jupyter-widgets/base",
       "_view_module_version": "1.2.0",
       "_view_name": "LayoutView",
       "align_content": null,
       "align_items": null,
       "align_self": null,
       "border": null,
       "bottom": null,
       "display": null,
       "flex": null,
       "flex_flow": null,
       "grid_area": null,
       "grid_auto_columns": null,
       "grid_auto_flow": null,
       "grid_auto_rows": null,
       "grid_column": null,
       "grid_gap": null,
       "grid_row": null,
       "grid_template_areas": null,
       "grid_template_columns": null,
       "grid_template_rows": null,
       "height": null,
       "justify_content": null,
       "justify_items": null,
       "left": null,
       "margin": null,
       "max_height": null,
       "max_width": null,
       "min_height": null,
       "min_width": null,
       "object_fit": null,
       "object_position": null,
       "order": null,
       "overflow": null,
       "overflow_x": null,
       "overflow_y": null,
       "padding": null,
       "right": null,
       "top": null,
       "visibility": null,
       "width": null
      }
     },
     "914f39a37d1e48dbac0bb5293406fb92": {
      "model_module": "@jupyter-widgets/base",
      "model_module_version": "1.2.0",
      "model_name": "LayoutModel",
      "state": {
       "_model_module": "@jupyter-widgets/base",
       "_model_module_version": "1.2.0",
       "_model_name": "LayoutModel",
       "_view_count": null,
       "_view_module": "@jupyter-widgets/base",
       "_view_module_version": "1.2.0",
       "_view_name": "LayoutView",
       "align_content": null,
       "align_items": null,
       "align_self": null,
       "border": null,
       "bottom": null,
       "display": null,
       "flex": null,
       "flex_flow": null,
       "grid_area": null,
       "grid_auto_columns": null,
       "grid_auto_flow": null,
       "grid_auto_rows": null,
       "grid_column": null,
       "grid_gap": null,
       "grid_row": null,
       "grid_template_areas": null,
       "grid_template_columns": null,
       "grid_template_rows": null,
       "height": null,
       "justify_content": null,
       "justify_items": null,
       "left": null,
       "margin": null,
       "max_height": null,
       "max_width": null,
       "min_height": null,
       "min_width": null,
       "object_fit": null,
       "object_position": null,
       "order": null,
       "overflow": null,
       "overflow_x": null,
       "overflow_y": null,
       "padding": null,
       "right": null,
       "top": null,
       "visibility": null,
       "width": null
      }
     },
     "926da40d0fe4415782271caf6680de95": {
      "model_module": "@jupyter-widgets/controls",
      "model_module_version": "1.5.0",
      "model_name": "HBoxModel",
      "state": {
       "_dom_classes": [],
       "_model_module": "@jupyter-widgets/controls",
       "_model_module_version": "1.5.0",
       "_model_name": "HBoxModel",
       "_view_count": null,
       "_view_module": "@jupyter-widgets/controls",
       "_view_module_version": "1.5.0",
       "_view_name": "HBoxView",
       "box_style": "",
       "children": [
        "IPY_MODEL_637e06affdd5407391620f219ffb19a5",
        "IPY_MODEL_56547a55cf50405fad95c93bb1068d05",
        "IPY_MODEL_77b1f21c941f4a87a1894a7517cd1388"
       ],
       "layout": "IPY_MODEL_93ce3e419f8f428d916a14fbebe02448"
      }
     },
     "930bfb36d87d4a0bb5829e958a26929d": {
      "model_module": "@jupyter-widgets/controls",
      "model_module_version": "1.5.0",
      "model_name": "HBoxModel",
      "state": {
       "_dom_classes": [],
       "_model_module": "@jupyter-widgets/controls",
       "_model_module_version": "1.5.0",
       "_model_name": "HBoxModel",
       "_view_count": null,
       "_view_module": "@jupyter-widgets/controls",
       "_view_module_version": "1.5.0",
       "_view_name": "HBoxView",
       "box_style": "",
       "children": [
        "IPY_MODEL_708a2606944846d88ef5081c51385275",
        "IPY_MODEL_e99df61d4c9c44fea4535a741b4ac78c",
        "IPY_MODEL_0b578c8965c648bc874c272b46151003"
       ],
       "layout": "IPY_MODEL_d00813d2fa5e4c579de6b18bc72f9634"
      }
     },
     "9327c83a4e2744afade567d372dd4cc4": {
      "model_module": "@jupyter-widgets/controls",
      "model_module_version": "1.5.0",
      "model_name": "DescriptionStyleModel",
      "state": {
       "_model_module": "@jupyter-widgets/controls",
       "_model_module_version": "1.5.0",
       "_model_name": "DescriptionStyleModel",
       "_view_count": null,
       "_view_module": "@jupyter-widgets/base",
       "_view_module_version": "1.2.0",
       "_view_name": "StyleView",
       "description_width": ""
      }
     },
     "93ce3e419f8f428d916a14fbebe02448": {
      "model_module": "@jupyter-widgets/base",
      "model_module_version": "1.2.0",
      "model_name": "LayoutModel",
      "state": {
       "_model_module": "@jupyter-widgets/base",
       "_model_module_version": "1.2.0",
       "_model_name": "LayoutModel",
       "_view_count": null,
       "_view_module": "@jupyter-widgets/base",
       "_view_module_version": "1.2.0",
       "_view_name": "LayoutView",
       "align_content": null,
       "align_items": null,
       "align_self": null,
       "border": null,
       "bottom": null,
       "display": "inline-flex",
       "flex": null,
       "flex_flow": "row wrap",
       "grid_area": null,
       "grid_auto_columns": null,
       "grid_auto_flow": null,
       "grid_auto_rows": null,
       "grid_column": null,
       "grid_gap": null,
       "grid_row": null,
       "grid_template_areas": null,
       "grid_template_columns": null,
       "grid_template_rows": null,
       "height": null,
       "justify_content": null,
       "justify_items": null,
       "left": null,
       "margin": null,
       "max_height": null,
       "max_width": null,
       "min_height": null,
       "min_width": null,
       "object_fit": null,
       "object_position": null,
       "order": null,
       "overflow": null,
       "overflow_x": null,
       "overflow_y": null,
       "padding": null,
       "right": null,
       "top": null,
       "visibility": "hidden",
       "width": "100%"
      }
     },
     "94769bc60a5948a69e8144a330fb9518": {
      "model_module": "@jupyter-widgets/controls",
      "model_module_version": "1.5.0",
      "model_name": "HBoxModel",
      "state": {
       "_dom_classes": [],
       "_model_module": "@jupyter-widgets/controls",
       "_model_module_version": "1.5.0",
       "_model_name": "HBoxModel",
       "_view_count": null,
       "_view_module": "@jupyter-widgets/controls",
       "_view_module_version": "1.5.0",
       "_view_name": "HBoxView",
       "box_style": "",
       "children": [
        "IPY_MODEL_a90daa33a72f46afa3ef16ac05ebe069",
        "IPY_MODEL_5fabacb4e2714c90a3e93b5a599b8a0a",
        "IPY_MODEL_9f88b6e869d8413f993512e8648fcd4c"
       ],
       "layout": "IPY_MODEL_b58d004939ea4071803245435494c43c"
      }
     },
     "96b0c3d50b634e1f81129ce0327c5993": {
      "model_module": "@jupyter-widgets/controls",
      "model_module_version": "1.5.0",
      "model_name": "ProgressStyleModel",
      "state": {
       "_model_module": "@jupyter-widgets/controls",
       "_model_module_version": "1.5.0",
       "_model_name": "ProgressStyleModel",
       "_view_count": null,
       "_view_module": "@jupyter-widgets/base",
       "_view_module_version": "1.2.0",
       "_view_name": "StyleView",
       "bar_color": null,
       "description_width": ""
      }
     },
     "97be6982723746e1a81b6dd38d413687": {
      "model_module": "@jupyter-widgets/base",
      "model_module_version": "1.2.0",
      "model_name": "LayoutModel",
      "state": {
       "_model_module": "@jupyter-widgets/base",
       "_model_module_version": "1.2.0",
       "_model_name": "LayoutModel",
       "_view_count": null,
       "_view_module": "@jupyter-widgets/base",
       "_view_module_version": "1.2.0",
       "_view_name": "LayoutView",
       "align_content": null,
       "align_items": null,
       "align_self": null,
       "border": null,
       "bottom": null,
       "display": null,
       "flex": null,
       "flex_flow": null,
       "grid_area": null,
       "grid_auto_columns": null,
       "grid_auto_flow": null,
       "grid_auto_rows": null,
       "grid_column": null,
       "grid_gap": null,
       "grid_row": null,
       "grid_template_areas": null,
       "grid_template_columns": null,
       "grid_template_rows": null,
       "height": null,
       "justify_content": null,
       "justify_items": null,
       "left": null,
       "margin": null,
       "max_height": null,
       "max_width": null,
       "min_height": null,
       "min_width": null,
       "object_fit": null,
       "object_position": null,
       "order": null,
       "overflow": null,
       "overflow_x": null,
       "overflow_y": null,
       "padding": null,
       "right": null,
       "top": null,
       "visibility": null,
       "width": null
      }
     },
     "9804cb20317341ac98a9f68938f8fea3": {
      "model_module": "@jupyter-widgets/controls",
      "model_module_version": "1.5.0",
      "model_name": "HTMLModel",
      "state": {
       "_dom_classes": [],
       "_model_module": "@jupyter-widgets/controls",
       "_model_module_version": "1.5.0",
       "_model_name": "HTMLModel",
       "_view_count": null,
       "_view_module": "@jupyter-widgets/controls",
       "_view_module_version": "1.5.0",
       "_view_name": "HTMLView",
       "description": "",
       "description_tooltip": null,
       "layout": "IPY_MODEL_ece411ddf02540fdbeff30f4ebd39682",
       "placeholder": "​",
       "style": "IPY_MODEL_bd21bd1ec76546c0bcf9210433cb084f",
       "value": " 10/? [00:00&lt;00:00, 139.27it/s]"
      }
     },
     "99b53d44993546ee9d4c121d025aa1ff": {
      "model_module": "@jupyter-widgets/controls",
      "model_module_version": "1.5.0",
      "model_name": "HTMLModel",
      "state": {
       "_dom_classes": [],
       "_model_module": "@jupyter-widgets/controls",
       "_model_module_version": "1.5.0",
       "_model_name": "HTMLModel",
       "_view_count": null,
       "_view_module": "@jupyter-widgets/controls",
       "_view_module_version": "1.5.0",
       "_view_name": "HTMLView",
       "description": "",
       "description_tooltip": null,
       "layout": "IPY_MODEL_9bc2329edf53483eab4bc622688e158b",
       "placeholder": "​",
       "style": "IPY_MODEL_13058cbbd72c48cb8c569396d04d33a7",
       "value": "Validation DataLoader 0: "
      }
     },
     "9a646da2c8c342d98124fd367b95d6da": {
      "model_module": "@jupyter-widgets/controls",
      "model_module_version": "1.5.0",
      "model_name": "HTMLModel",
      "state": {
       "_dom_classes": [],
       "_model_module": "@jupyter-widgets/controls",
       "_model_module_version": "1.5.0",
       "_model_name": "HTMLModel",
       "_view_count": null,
       "_view_module": "@jupyter-widgets/controls",
       "_view_module_version": "1.5.0",
       "_view_name": "HTMLView",
       "description": "",
       "description_tooltip": null,
       "layout": "IPY_MODEL_2781500dd2f340498e71c3672ca6b312",
       "placeholder": "​",
       "style": "IPY_MODEL_274bdd9aa11847b195321ca7b95037ae",
       "value": "Validation DataLoader 0: "
      }
     },
     "9b34da0e65d44a4aad95fe0ede6cedea": {
      "model_module": "@jupyter-widgets/controls",
      "model_module_version": "1.5.0",
      "model_name": "ProgressStyleModel",
      "state": {
       "_model_module": "@jupyter-widgets/controls",
       "_model_module_version": "1.5.0",
       "_model_name": "ProgressStyleModel",
       "_view_count": null,
       "_view_module": "@jupyter-widgets/base",
       "_view_module_version": "1.2.0",
       "_view_name": "StyleView",
       "bar_color": null,
       "description_width": ""
      }
     },
     "9b64c4427d6142e3aae8b4bb240fecbd": {
      "model_module": "@jupyter-widgets/base",
      "model_module_version": "1.2.0",
      "model_name": "LayoutModel",
      "state": {
       "_model_module": "@jupyter-widgets/base",
       "_model_module_version": "1.2.0",
       "_model_name": "LayoutModel",
       "_view_count": null,
       "_view_module": "@jupyter-widgets/base",
       "_view_module_version": "1.2.0",
       "_view_name": "LayoutView",
       "align_content": null,
       "align_items": null,
       "align_self": null,
       "border": null,
       "bottom": null,
       "display": null,
       "flex": null,
       "flex_flow": null,
       "grid_area": null,
       "grid_auto_columns": null,
       "grid_auto_flow": null,
       "grid_auto_rows": null,
       "grid_column": null,
       "grid_gap": null,
       "grid_row": null,
       "grid_template_areas": null,
       "grid_template_columns": null,
       "grid_template_rows": null,
       "height": null,
       "justify_content": null,
       "justify_items": null,
       "left": null,
       "margin": null,
       "max_height": null,
       "max_width": null,
       "min_height": null,
       "min_width": null,
       "object_fit": null,
       "object_position": null,
       "order": null,
       "overflow": null,
       "overflow_x": null,
       "overflow_y": null,
       "padding": null,
       "right": null,
       "top": null,
       "visibility": null,
       "width": null
      }
     },
     "9bc2329edf53483eab4bc622688e158b": {
      "model_module": "@jupyter-widgets/base",
      "model_module_version": "1.2.0",
      "model_name": "LayoutModel",
      "state": {
       "_model_module": "@jupyter-widgets/base",
       "_model_module_version": "1.2.0",
       "_model_name": "LayoutModel",
       "_view_count": null,
       "_view_module": "@jupyter-widgets/base",
       "_view_module_version": "1.2.0",
       "_view_name": "LayoutView",
       "align_content": null,
       "align_items": null,
       "align_self": null,
       "border": null,
       "bottom": null,
       "display": null,
       "flex": null,
       "flex_flow": null,
       "grid_area": null,
       "grid_auto_columns": null,
       "grid_auto_flow": null,
       "grid_auto_rows": null,
       "grid_column": null,
       "grid_gap": null,
       "grid_row": null,
       "grid_template_areas": null,
       "grid_template_columns": null,
       "grid_template_rows": null,
       "height": null,
       "justify_content": null,
       "justify_items": null,
       "left": null,
       "margin": null,
       "max_height": null,
       "max_width": null,
       "min_height": null,
       "min_width": null,
       "object_fit": null,
       "object_position": null,
       "order": null,
       "overflow": null,
       "overflow_x": null,
       "overflow_y": null,
       "padding": null,
       "right": null,
       "top": null,
       "visibility": null,
       "width": null
      }
     },
     "9bc3421fcd82468b9ec2288d205f114c": {
      "model_module": "@jupyter-widgets/controls",
      "model_module_version": "1.5.0",
      "model_name": "DescriptionStyleModel",
      "state": {
       "_model_module": "@jupyter-widgets/controls",
       "_model_module_version": "1.5.0",
       "_model_name": "DescriptionStyleModel",
       "_view_count": null,
       "_view_module": "@jupyter-widgets/base",
       "_view_module_version": "1.2.0",
       "_view_name": "StyleView",
       "description_width": ""
      }
     },
     "9f4ffa8b295643e2b615977d67fa4920": {
      "model_module": "@jupyter-widgets/controls",
      "model_module_version": "1.5.0",
      "model_name": "FloatProgressModel",
      "state": {
       "_dom_classes": [],
       "_model_module": "@jupyter-widgets/controls",
       "_model_module_version": "1.5.0",
       "_model_name": "FloatProgressModel",
       "_view_count": null,
       "_view_module": "@jupyter-widgets/controls",
       "_view_module_version": "1.5.0",
       "_view_name": "ProgressView",
       "bar_style": "",
       "description": "",
       "description_tooltip": null,
       "layout": "IPY_MODEL_dc2d8fde7e59478b8fbcf533ac3dce9e",
       "max": 1.0,
       "min": 0.0,
       "orientation": "horizontal",
       "style": "IPY_MODEL_d6c2bb83e9de49e3ac0c51415b16c2a3",
       "value": 1.0
      }
     },
     "9f88b6e869d8413f993512e8648fcd4c": {
      "model_module": "@jupyter-widgets/controls",
      "model_module_version": "1.5.0",
      "model_name": "HTMLModel",
      "state": {
       "_dom_classes": [],
       "_model_module": "@jupyter-widgets/controls",
       "_model_module_version": "1.5.0",
       "_model_name": "HTMLModel",
       "_view_count": null,
       "_view_module": "@jupyter-widgets/controls",
       "_view_module_version": "1.5.0",
       "_view_name": "HTMLView",
       "description": "",
       "description_tooltip": null,
       "layout": "IPY_MODEL_79fbe7bbf11c486f97f207bcbd2b90d5",
       "placeholder": "​",
       "style": "IPY_MODEL_d3bfef66b0aa478bbfed15aca9286d16",
       "value": " 10/? [00:00&lt;00:00, 159.35it/s]"
      }
     },
     "a30bd3747a36451c95fb14903e07fccb": {
      "model_module": "@jupyter-widgets/base",
      "model_module_version": "1.2.0",
      "model_name": "LayoutModel",
      "state": {
       "_model_module": "@jupyter-widgets/base",
       "_model_module_version": "1.2.0",
       "_model_name": "LayoutModel",
       "_view_count": null,
       "_view_module": "@jupyter-widgets/base",
       "_view_module_version": "1.2.0",
       "_view_name": "LayoutView",
       "align_content": null,
       "align_items": null,
       "align_self": null,
       "border": null,
       "bottom": null,
       "display": null,
       "flex": null,
       "flex_flow": null,
       "grid_area": null,
       "grid_auto_columns": null,
       "grid_auto_flow": null,
       "grid_auto_rows": null,
       "grid_column": null,
       "grid_gap": null,
       "grid_row": null,
       "grid_template_areas": null,
       "grid_template_columns": null,
       "grid_template_rows": null,
       "height": null,
       "justify_content": null,
       "justify_items": null,
       "left": null,
       "margin": null,
       "max_height": null,
       "max_width": null,
       "min_height": null,
       "min_width": null,
       "object_fit": null,
       "object_position": null,
       "order": null,
       "overflow": null,
       "overflow_x": null,
       "overflow_y": null,
       "padding": null,
       "right": null,
       "top": null,
       "visibility": null,
       "width": null
      }
     },
     "a3466ad7df18474895b9ec20941bf719": {
      "model_module": "@jupyter-widgets/base",
      "model_module_version": "1.2.0",
      "model_name": "LayoutModel",
      "state": {
       "_model_module": "@jupyter-widgets/base",
       "_model_module_version": "1.2.0",
       "_model_name": "LayoutModel",
       "_view_count": null,
       "_view_module": "@jupyter-widgets/base",
       "_view_module_version": "1.2.0",
       "_view_name": "LayoutView",
       "align_content": null,
       "align_items": null,
       "align_self": null,
       "border": null,
       "bottom": null,
       "display": null,
       "flex": "2",
       "flex_flow": null,
       "grid_area": null,
       "grid_auto_columns": null,
       "grid_auto_flow": null,
       "grid_auto_rows": null,
       "grid_column": null,
       "grid_gap": null,
       "grid_row": null,
       "grid_template_areas": null,
       "grid_template_columns": null,
       "grid_template_rows": null,
       "height": null,
       "justify_content": null,
       "justify_items": null,
       "left": null,
       "margin": null,
       "max_height": null,
       "max_width": null,
       "min_height": null,
       "min_width": null,
       "object_fit": null,
       "object_position": null,
       "order": null,
       "overflow": null,
       "overflow_x": null,
       "overflow_y": null,
       "padding": null,
       "right": null,
       "top": null,
       "visibility": null,
       "width": null
      }
     },
     "a37e682689544969ae8e01325722d5d3": {
      "model_module": "@jupyter-widgets/base",
      "model_module_version": "1.2.0",
      "model_name": "LayoutModel",
      "state": {
       "_model_module": "@jupyter-widgets/base",
       "_model_module_version": "1.2.0",
       "_model_name": "LayoutModel",
       "_view_count": null,
       "_view_module": "@jupyter-widgets/base",
       "_view_module_version": "1.2.0",
       "_view_name": "LayoutView",
       "align_content": null,
       "align_items": null,
       "align_self": null,
       "border": null,
       "bottom": null,
       "display": null,
       "flex": "2",
       "flex_flow": null,
       "grid_area": null,
       "grid_auto_columns": null,
       "grid_auto_flow": null,
       "grid_auto_rows": null,
       "grid_column": null,
       "grid_gap": null,
       "grid_row": null,
       "grid_template_areas": null,
       "grid_template_columns": null,
       "grid_template_rows": null,
       "height": null,
       "justify_content": null,
       "justify_items": null,
       "left": null,
       "margin": null,
       "max_height": null,
       "max_width": null,
       "min_height": null,
       "min_width": null,
       "object_fit": null,
       "object_position": null,
       "order": null,
       "overflow": null,
       "overflow_x": null,
       "overflow_y": null,
       "padding": null,
       "right": null,
       "top": null,
       "visibility": null,
       "width": null
      }
     },
     "a548d9ee6b8147fbabb8ab91d9ea9c85": {
      "model_module": "@jupyter-widgets/controls",
      "model_module_version": "1.5.0",
      "model_name": "HBoxModel",
      "state": {
       "_dom_classes": [],
       "_model_module": "@jupyter-widgets/controls",
       "_model_module_version": "1.5.0",
       "_model_name": "HBoxModel",
       "_view_count": null,
       "_view_module": "@jupyter-widgets/controls",
       "_view_module_version": "1.5.0",
       "_view_name": "HBoxView",
       "box_style": "",
       "children": [
        "IPY_MODEL_99b53d44993546ee9d4c121d025aa1ff",
        "IPY_MODEL_ee7b180dcf8142e3ac73f90004e6c966",
        "IPY_MODEL_a74a1440c08c411ca47a78df1e499efb"
       ],
       "layout": "IPY_MODEL_4b42f6b176ef4c4085c5748080b2562b"
      }
     },
     "a74a1440c08c411ca47a78df1e499efb": {
      "model_module": "@jupyter-widgets/controls",
      "model_module_version": "1.5.0",
      "model_name": "HTMLModel",
      "state": {
       "_dom_classes": [],
       "_model_module": "@jupyter-widgets/controls",
       "_model_module_version": "1.5.0",
       "_model_name": "HTMLModel",
       "_view_count": null,
       "_view_module": "@jupyter-widgets/controls",
       "_view_module_version": "1.5.0",
       "_view_name": "HTMLView",
       "description": "",
       "description_tooltip": null,
       "layout": "IPY_MODEL_8522edd10975486a9b408c71f5ce27bb",
       "placeholder": "​",
       "style": "IPY_MODEL_b0101f98224e41ac95d4e2ebb1aaa572",
       "value": " 10/? [00:00&lt;00:00, 154.36it/s]"
      }
     },
     "a79334bfc50a48b8ab183c03ef540056": {
      "model_module": "@jupyter-widgets/controls",
      "model_module_version": "1.5.0",
      "model_name": "HBoxModel",
      "state": {
       "_dom_classes": [],
       "_model_module": "@jupyter-widgets/controls",
       "_model_module_version": "1.5.0",
       "_model_name": "HBoxModel",
       "_view_count": null,
       "_view_module": "@jupyter-widgets/controls",
       "_view_module_version": "1.5.0",
       "_view_name": "HBoxView",
       "box_style": "",
       "children": [
        "IPY_MODEL_e4e005831b2b4aa4847c404036e132b0",
        "IPY_MODEL_7a816b8e47e54cc88f91399c6b22246b",
        "IPY_MODEL_cc0d93252efe4de095ad3c79d901ec47"
       ],
       "layout": "IPY_MODEL_0484f245a1e844928c2982e8e0587b9a"
      }
     },
     "a80c3df63a27484dbc2d5dea26435fc4": {
      "model_module": "@jupyter-widgets/controls",
      "model_module_version": "1.5.0",
      "model_name": "DescriptionStyleModel",
      "state": {
       "_model_module": "@jupyter-widgets/controls",
       "_model_module_version": "1.5.0",
       "_model_name": "DescriptionStyleModel",
       "_view_count": null,
       "_view_module": "@jupyter-widgets/base",
       "_view_module_version": "1.2.0",
       "_view_name": "StyleView",
       "description_width": ""
      }
     },
     "a90daa33a72f46afa3ef16ac05ebe069": {
      "model_module": "@jupyter-widgets/controls",
      "model_module_version": "1.5.0",
      "model_name": "HTMLModel",
      "state": {
       "_dom_classes": [],
       "_model_module": "@jupyter-widgets/controls",
       "_model_module_version": "1.5.0",
       "_model_name": "HTMLModel",
       "_view_count": null,
       "_view_module": "@jupyter-widgets/controls",
       "_view_module_version": "1.5.0",
       "_view_name": "HTMLView",
       "description": "",
       "description_tooltip": null,
       "layout": "IPY_MODEL_3f6c6583ad9047d4aea9d562732317f8",
       "placeholder": "​",
       "style": "IPY_MODEL_d5f07c0824d048d78cfb3ed74d3da5c1",
       "value": "Validation DataLoader 0: "
      }
     },
     "a977eb1be90540fd8b1393ba4d67a598": {
      "model_module": "@jupyter-widgets/base",
      "model_module_version": "1.2.0",
      "model_name": "LayoutModel",
      "state": {
       "_model_module": "@jupyter-widgets/base",
       "_model_module_version": "1.2.0",
       "_model_name": "LayoutModel",
       "_view_count": null,
       "_view_module": "@jupyter-widgets/base",
       "_view_module_version": "1.2.0",
       "_view_name": "LayoutView",
       "align_content": null,
       "align_items": null,
       "align_self": null,
       "border": null,
       "bottom": null,
       "display": null,
       "flex": "2",
       "flex_flow": null,
       "grid_area": null,
       "grid_auto_columns": null,
       "grid_auto_flow": null,
       "grid_auto_rows": null,
       "grid_column": null,
       "grid_gap": null,
       "grid_row": null,
       "grid_template_areas": null,
       "grid_template_columns": null,
       "grid_template_rows": null,
       "height": null,
       "justify_content": null,
       "justify_items": null,
       "left": null,
       "margin": null,
       "max_height": null,
       "max_width": null,
       "min_height": null,
       "min_width": null,
       "object_fit": null,
       "object_position": null,
       "order": null,
       "overflow": null,
       "overflow_x": null,
       "overflow_y": null,
       "padding": null,
       "right": null,
       "top": null,
       "visibility": null,
       "width": null
      }
     },
     "a9a0efeecf2549159270730b35d8c77a": {
      "model_module": "@jupyter-widgets/base",
      "model_module_version": "1.2.0",
      "model_name": "LayoutModel",
      "state": {
       "_model_module": "@jupyter-widgets/base",
       "_model_module_version": "1.2.0",
       "_model_name": "LayoutModel",
       "_view_count": null,
       "_view_module": "@jupyter-widgets/base",
       "_view_module_version": "1.2.0",
       "_view_name": "LayoutView",
       "align_content": null,
       "align_items": null,
       "align_self": null,
       "border": null,
       "bottom": null,
       "display": null,
       "flex": "2",
       "flex_flow": null,
       "grid_area": null,
       "grid_auto_columns": null,
       "grid_auto_flow": null,
       "grid_auto_rows": null,
       "grid_column": null,
       "grid_gap": null,
       "grid_row": null,
       "grid_template_areas": null,
       "grid_template_columns": null,
       "grid_template_rows": null,
       "height": null,
       "justify_content": null,
       "justify_items": null,
       "left": null,
       "margin": null,
       "max_height": null,
       "max_width": null,
       "min_height": null,
       "min_width": null,
       "object_fit": null,
       "object_position": null,
       "order": null,
       "overflow": null,
       "overflow_x": null,
       "overflow_y": null,
       "padding": null,
       "right": null,
       "top": null,
       "visibility": null,
       "width": null
      }
     },
     "aa00ee3f0f604404a4430bbcc10cdcf4": {
      "model_module": "@jupyter-widgets/base",
      "model_module_version": "1.2.0",
      "model_name": "LayoutModel",
      "state": {
       "_model_module": "@jupyter-widgets/base",
       "_model_module_version": "1.2.0",
       "_model_name": "LayoutModel",
       "_view_count": null,
       "_view_module": "@jupyter-widgets/base",
       "_view_module_version": "1.2.0",
       "_view_name": "LayoutView",
       "align_content": null,
       "align_items": null,
       "align_self": null,
       "border": null,
       "bottom": null,
       "display": null,
       "flex": null,
       "flex_flow": null,
       "grid_area": null,
       "grid_auto_columns": null,
       "grid_auto_flow": null,
       "grid_auto_rows": null,
       "grid_column": null,
       "grid_gap": null,
       "grid_row": null,
       "grid_template_areas": null,
       "grid_template_columns": null,
       "grid_template_rows": null,
       "height": null,
       "justify_content": null,
       "justify_items": null,
       "left": null,
       "margin": null,
       "max_height": null,
       "max_width": null,
       "min_height": null,
       "min_width": null,
       "object_fit": null,
       "object_position": null,
       "order": null,
       "overflow": null,
       "overflow_x": null,
       "overflow_y": null,
       "padding": null,
       "right": null,
       "top": null,
       "visibility": null,
       "width": null
      }
     },
     "aac83cd683f7445780374417ef557f96": {
      "model_module": "@jupyter-widgets/controls",
      "model_module_version": "1.5.0",
      "model_name": "DescriptionStyleModel",
      "state": {
       "_model_module": "@jupyter-widgets/controls",
       "_model_module_version": "1.5.0",
       "_model_name": "DescriptionStyleModel",
       "_view_count": null,
       "_view_module": "@jupyter-widgets/base",
       "_view_module_version": "1.2.0",
       "_view_name": "StyleView",
       "description_width": ""
      }
     },
     "ac2bfdde70cc4d95a43c8b8b581f196f": {
      "model_module": "@jupyter-widgets/controls",
      "model_module_version": "1.5.0",
      "model_name": "HTMLModel",
      "state": {
       "_dom_classes": [],
       "_model_module": "@jupyter-widgets/controls",
       "_model_module_version": "1.5.0",
       "_model_name": "HTMLModel",
       "_view_count": null,
       "_view_module": "@jupyter-widgets/controls",
       "_view_module_version": "1.5.0",
       "_view_name": "HTMLView",
       "description": "",
       "description_tooltip": null,
       "layout": "IPY_MODEL_82fca35c64f548ab93af4b551186f34e",
       "placeholder": "​",
       "style": "IPY_MODEL_0c121954f1b2451f8a170465e2ac1547",
       "value": " 10/? [00:00&lt;00:00, 152.46it/s]"
      }
     },
     "ad38f855c8f04664a07436aad8a2d0f9": {
      "model_module": "@jupyter-widgets/controls",
      "model_module_version": "1.5.0",
      "model_name": "FloatProgressModel",
      "state": {
       "_dom_classes": [],
       "_model_module": "@jupyter-widgets/controls",
       "_model_module_version": "1.5.0",
       "_model_name": "FloatProgressModel",
       "_view_count": null,
       "_view_module": "@jupyter-widgets/controls",
       "_view_module_version": "1.5.0",
       "_view_name": "ProgressView",
       "bar_style": "success",
       "description": "",
       "description_tooltip": null,
       "layout": "IPY_MODEL_d16c9f0339774434a7126970cbbb0c56",
       "max": 1.0,
       "min": 0.0,
       "orientation": "horizontal",
       "style": "IPY_MODEL_7633deb69d56489286c2a62f12bf2e06",
       "value": 1.0
      }
     },
     "ad3a2f7c9f984804863aad2973da7d78": {
      "model_module": "@jupyter-widgets/controls",
      "model_module_version": "1.5.0",
      "model_name": "DescriptionStyleModel",
      "state": {
       "_model_module": "@jupyter-widgets/controls",
       "_model_module_version": "1.5.0",
       "_model_name": "DescriptionStyleModel",
       "_view_count": null,
       "_view_module": "@jupyter-widgets/base",
       "_view_module_version": "1.2.0",
       "_view_name": "StyleView",
       "description_width": ""
      }
     },
     "ad76e48be9534b5f9af07dde52c96c79": {
      "model_module": "@jupyter-widgets/controls",
      "model_module_version": "1.5.0",
      "model_name": "HBoxModel",
      "state": {
       "_dom_classes": [],
       "_model_module": "@jupyter-widgets/controls",
       "_model_module_version": "1.5.0",
       "_model_name": "HBoxModel",
       "_view_count": null,
       "_view_module": "@jupyter-widgets/controls",
       "_view_module_version": "1.5.0",
       "_view_name": "HBoxView",
       "box_style": "",
       "children": [
        "IPY_MODEL_1085640b04694c4bb6cbb001d0acc3cd",
        "IPY_MODEL_d3078d676e9c44d0a715f40d0d88e778",
        "IPY_MODEL_ce4231481cab4a6ea088c5ee2d632869"
       ],
       "layout": "IPY_MODEL_7106edc15435484ca80b64cfea51f627"
      }
     },
     "af724b299eb04b42ae02aff29f3adafe": {
      "model_module": "@jupyter-widgets/controls",
      "model_module_version": "1.5.0",
      "model_name": "FloatProgressModel",
      "state": {
       "_dom_classes": [],
       "_model_module": "@jupyter-widgets/controls",
       "_model_module_version": "1.5.0",
       "_model_name": "FloatProgressModel",
       "_view_count": null,
       "_view_module": "@jupyter-widgets/controls",
       "_view_module_version": "1.5.0",
       "_view_name": "ProgressView",
       "bar_style": "",
       "description": "",
       "description_tooltip": null,
       "layout": "IPY_MODEL_167dcbcc7a5d463ea20a252ef605f2dd",
       "max": 1.0,
       "min": 0.0,
       "orientation": "horizontal",
       "style": "IPY_MODEL_2ea689b508eb41d6bf31bc083816c457",
       "value": 1.0
      }
     },
     "b0101f98224e41ac95d4e2ebb1aaa572": {
      "model_module": "@jupyter-widgets/controls",
      "model_module_version": "1.5.0",
      "model_name": "DescriptionStyleModel",
      "state": {
       "_model_module": "@jupyter-widgets/controls",
       "_model_module_version": "1.5.0",
       "_model_name": "DescriptionStyleModel",
       "_view_count": null,
       "_view_module": "@jupyter-widgets/base",
       "_view_module_version": "1.2.0",
       "_view_name": "StyleView",
       "description_width": ""
      }
     },
     "b10c0efae9124b1291eb59ca4489c907": {
      "model_module": "@jupyter-widgets/controls",
      "model_module_version": "1.5.0",
      "model_name": "ProgressStyleModel",
      "state": {
       "_model_module": "@jupyter-widgets/controls",
       "_model_module_version": "1.5.0",
       "_model_name": "ProgressStyleModel",
       "_view_count": null,
       "_view_module": "@jupyter-widgets/base",
       "_view_module_version": "1.2.0",
       "_view_name": "StyleView",
       "bar_color": null,
       "description_width": ""
      }
     },
     "b11ed13bb4be42ce81173976a2db1282": {
      "model_module": "@jupyter-widgets/controls",
      "model_module_version": "1.5.0",
      "model_name": "HTMLModel",
      "state": {
       "_dom_classes": [],
       "_model_module": "@jupyter-widgets/controls",
       "_model_module_version": "1.5.0",
       "_model_name": "HTMLModel",
       "_view_count": null,
       "_view_module": "@jupyter-widgets/controls",
       "_view_module_version": "1.5.0",
       "_view_name": "HTMLView",
       "description": "",
       "description_tooltip": null,
       "layout": "IPY_MODEL_5c2aa3d8c7804f2caf491946e06fd697",
       "placeholder": "​",
       "style": "IPY_MODEL_03f33cf773ba411d925248fdde29f5a3",
       "value": "Validation DataLoader 0: "
      }
     },
     "b266a78459a64fe5be12bdaeb6de2503": {
      "model_module": "@jupyter-widgets/base",
      "model_module_version": "1.2.0",
      "model_name": "LayoutModel",
      "state": {
       "_model_module": "@jupyter-widgets/base",
       "_model_module_version": "1.2.0",
       "_model_name": "LayoutModel",
       "_view_count": null,
       "_view_module": "@jupyter-widgets/base",
       "_view_module_version": "1.2.0",
       "_view_name": "LayoutView",
       "align_content": null,
       "align_items": null,
       "align_self": null,
       "border": null,
       "bottom": null,
       "display": null,
       "flex": "2",
       "flex_flow": null,
       "grid_area": null,
       "grid_auto_columns": null,
       "grid_auto_flow": null,
       "grid_auto_rows": null,
       "grid_column": null,
       "grid_gap": null,
       "grid_row": null,
       "grid_template_areas": null,
       "grid_template_columns": null,
       "grid_template_rows": null,
       "height": null,
       "justify_content": null,
       "justify_items": null,
       "left": null,
       "margin": null,
       "max_height": null,
       "max_width": null,
       "min_height": null,
       "min_width": null,
       "object_fit": null,
       "object_position": null,
       "order": null,
       "overflow": null,
       "overflow_x": null,
       "overflow_y": null,
       "padding": null,
       "right": null,
       "top": null,
       "visibility": null,
       "width": null
      }
     },
     "b31c13db1fbc4bd0a4cf82e6e5d022ff": {
      "model_module": "@jupyter-widgets/controls",
      "model_module_version": "1.5.0",
      "model_name": "HBoxModel",
      "state": {
       "_dom_classes": [],
       "_model_module": "@jupyter-widgets/controls",
       "_model_module_version": "1.5.0",
       "_model_name": "HBoxModel",
       "_view_count": null,
       "_view_module": "@jupyter-widgets/controls",
       "_view_module_version": "1.5.0",
       "_view_name": "HBoxView",
       "box_style": "",
       "children": [
        "IPY_MODEL_b11ed13bb4be42ce81173976a2db1282",
        "IPY_MODEL_d03346f464394665a0b2e9a8c7583430",
        "IPY_MODEL_b397fcc0f05f4d33b28eb4bce9539ff6"
       ],
       "layout": "IPY_MODEL_be609339866c457483c289513a7b5324"
      }
     },
     "b397fcc0f05f4d33b28eb4bce9539ff6": {
      "model_module": "@jupyter-widgets/controls",
      "model_module_version": "1.5.0",
      "model_name": "HTMLModel",
      "state": {
       "_dom_classes": [],
       "_model_module": "@jupyter-widgets/controls",
       "_model_module_version": "1.5.0",
       "_model_name": "HTMLModel",
       "_view_count": null,
       "_view_module": "@jupyter-widgets/controls",
       "_view_module_version": "1.5.0",
       "_view_name": "HTMLView",
       "description": "",
       "description_tooltip": null,
       "layout": "IPY_MODEL_1eb7a7c3d46945409715b497335cde04",
       "placeholder": "​",
       "style": "IPY_MODEL_f9bebf0624ba440da4d701fc3375eb91",
       "value": " 10/? [00:00&lt;00:00, 149.57it/s]"
      }
     },
     "b39a1067c88a4d8180ab508212b5f7d7": {
      "model_module": "@jupyter-widgets/controls",
      "model_module_version": "1.5.0",
      "model_name": "DescriptionStyleModel",
      "state": {
       "_model_module": "@jupyter-widgets/controls",
       "_model_module_version": "1.5.0",
       "_model_name": "DescriptionStyleModel",
       "_view_count": null,
       "_view_module": "@jupyter-widgets/base",
       "_view_module_version": "1.2.0",
       "_view_name": "StyleView",
       "description_width": ""
      }
     },
     "b41a07a6c6db40849f6abda129e16a3b": {
      "model_module": "@jupyter-widgets/controls",
      "model_module_version": "1.5.0",
      "model_name": "HTMLModel",
      "state": {
       "_dom_classes": [],
       "_model_module": "@jupyter-widgets/controls",
       "_model_module_version": "1.5.0",
       "_model_name": "HTMLModel",
       "_view_count": null,
       "_view_module": "@jupyter-widgets/controls",
       "_view_module_version": "1.5.0",
       "_view_name": "HTMLView",
       "description": "",
       "description_tooltip": null,
       "layout": "IPY_MODEL_4de78b0c1c73477ba4ad40c01eb2f0fd",
       "placeholder": "​",
       "style": "IPY_MODEL_888a1ea0d4c34d39ae8c20b9f13a4ec9",
       "value": " 10/? [00:00&lt;00:00, 97.77it/s]"
      }
     },
     "b4fd2d7fbabb4603a6a79b38b617f590": {
      "model_module": "@jupyter-widgets/base",
      "model_module_version": "1.2.0",
      "model_name": "LayoutModel",
      "state": {
       "_model_module": "@jupyter-widgets/base",
       "_model_module_version": "1.2.0",
       "_model_name": "LayoutModel",
       "_view_count": null,
       "_view_module": "@jupyter-widgets/base",
       "_view_module_version": "1.2.0",
       "_view_name": "LayoutView",
       "align_content": null,
       "align_items": null,
       "align_self": null,
       "border": null,
       "bottom": null,
       "display": null,
       "flex": null,
       "flex_flow": null,
       "grid_area": null,
       "grid_auto_columns": null,
       "grid_auto_flow": null,
       "grid_auto_rows": null,
       "grid_column": null,
       "grid_gap": null,
       "grid_row": null,
       "grid_template_areas": null,
       "grid_template_columns": null,
       "grid_template_rows": null,
       "height": null,
       "justify_content": null,
       "justify_items": null,
       "left": null,
       "margin": null,
       "max_height": null,
       "max_width": null,
       "min_height": null,
       "min_width": null,
       "object_fit": null,
       "object_position": null,
       "order": null,
       "overflow": null,
       "overflow_x": null,
       "overflow_y": null,
       "padding": null,
       "right": null,
       "top": null,
       "visibility": null,
       "width": null
      }
     },
     "b547375ba130488cab3d537c9a6c0588": {
      "model_module": "@jupyter-widgets/controls",
      "model_module_version": "1.5.0",
      "model_name": "HTMLModel",
      "state": {
       "_dom_classes": [],
       "_model_module": "@jupyter-widgets/controls",
       "_model_module_version": "1.5.0",
       "_model_name": "HTMLModel",
       "_view_count": null,
       "_view_module": "@jupyter-widgets/controls",
       "_view_module_version": "1.5.0",
       "_view_name": "HTMLView",
       "description": "",
       "description_tooltip": null,
       "layout": "IPY_MODEL_8e9df6810bf04da1b4267798bb397d33",
       "placeholder": "​",
       "style": "IPY_MODEL_6afb8b2d5a544975a1599788fd297cae",
       "value": " 10/? [00:00&lt;00:00, 154.31it/s]"
      }
     },
     "b58d004939ea4071803245435494c43c": {
      "model_module": "@jupyter-widgets/base",
      "model_module_version": "1.2.0",
      "model_name": "LayoutModel",
      "state": {
       "_model_module": "@jupyter-widgets/base",
       "_model_module_version": "1.2.0",
       "_model_name": "LayoutModel",
       "_view_count": null,
       "_view_module": "@jupyter-widgets/base",
       "_view_module_version": "1.2.0",
       "_view_name": "LayoutView",
       "align_content": null,
       "align_items": null,
       "align_self": null,
       "border": null,
       "bottom": null,
       "display": "inline-flex",
       "flex": null,
       "flex_flow": "row wrap",
       "grid_area": null,
       "grid_auto_columns": null,
       "grid_auto_flow": null,
       "grid_auto_rows": null,
       "grid_column": null,
       "grid_gap": null,
       "grid_row": null,
       "grid_template_areas": null,
       "grid_template_columns": null,
       "grid_template_rows": null,
       "height": null,
       "justify_content": null,
       "justify_items": null,
       "left": null,
       "margin": null,
       "max_height": null,
       "max_width": null,
       "min_height": null,
       "min_width": null,
       "object_fit": null,
       "object_position": null,
       "order": null,
       "overflow": null,
       "overflow_x": null,
       "overflow_y": null,
       "padding": null,
       "right": null,
       "top": null,
       "visibility": "hidden",
       "width": "100%"
      }
     },
     "b5bead593dac475aa6c029ff83f76ff4": {
      "model_module": "@jupyter-widgets/controls",
      "model_module_version": "1.5.0",
      "model_name": "HBoxModel",
      "state": {
       "_dom_classes": [],
       "_model_module": "@jupyter-widgets/controls",
       "_model_module_version": "1.5.0",
       "_model_name": "HBoxModel",
       "_view_count": null,
       "_view_module": "@jupyter-widgets/controls",
       "_view_module_version": "1.5.0",
       "_view_name": "HBoxView",
       "box_style": "",
       "children": [
        "IPY_MODEL_da827d42a3b64d738cf7a354e55767fa",
        "IPY_MODEL_1750fbae51f3419498a749dd5f762711",
        "IPY_MODEL_433fbb76da7449ebb2460965470d0fbc"
       ],
       "layout": "IPY_MODEL_752afe2d60824bb09726a52a6c591af2"
      }
     },
     "b841c0537feb4cb285f7af349f02f549": {
      "model_module": "@jupyter-widgets/controls",
      "model_module_version": "1.5.0",
      "model_name": "HTMLModel",
      "state": {
       "_dom_classes": [],
       "_model_module": "@jupyter-widgets/controls",
       "_model_module_version": "1.5.0",
       "_model_name": "HTMLModel",
       "_view_count": null,
       "_view_module": "@jupyter-widgets/controls",
       "_view_module_version": "1.5.0",
       "_view_name": "HTMLView",
       "description": "",
       "description_tooltip": null,
       "layout": "IPY_MODEL_21b8a2696a9b4cb89d799f05bfc5cdcf",
       "placeholder": "​",
       "style": "IPY_MODEL_b39a1067c88a4d8180ab508212b5f7d7",
       "value": "Validation DataLoader 0: "
      }
     },
     "b9b6f6371ff241f59f94ca3d1e2a2853": {
      "model_module": "@jupyter-widgets/base",
      "model_module_version": "1.2.0",
      "model_name": "LayoutModel",
      "state": {
       "_model_module": "@jupyter-widgets/base",
       "_model_module_version": "1.2.0",
       "_model_name": "LayoutModel",
       "_view_count": null,
       "_view_module": "@jupyter-widgets/base",
       "_view_module_version": "1.2.0",
       "_view_name": "LayoutView",
       "align_content": null,
       "align_items": null,
       "align_self": null,
       "border": null,
       "bottom": null,
       "display": null,
       "flex": null,
       "flex_flow": null,
       "grid_area": null,
       "grid_auto_columns": null,
       "grid_auto_flow": null,
       "grid_auto_rows": null,
       "grid_column": null,
       "grid_gap": null,
       "grid_row": null,
       "grid_template_areas": null,
       "grid_template_columns": null,
       "grid_template_rows": null,
       "height": null,
       "justify_content": null,
       "justify_items": null,
       "left": null,
       "margin": null,
       "max_height": null,
       "max_width": null,
       "min_height": null,
       "min_width": null,
       "object_fit": null,
       "object_position": null,
       "order": null,
       "overflow": null,
       "overflow_x": null,
       "overflow_y": null,
       "padding": null,
       "right": null,
       "top": null,
       "visibility": null,
       "width": null
      }
     },
     "baaed052b5b343839b281009830a8c4b": {
      "model_module": "@jupyter-widgets/base",
      "model_module_version": "1.2.0",
      "model_name": "LayoutModel",
      "state": {
       "_model_module": "@jupyter-widgets/base",
       "_model_module_version": "1.2.0",
       "_model_name": "LayoutModel",
       "_view_count": null,
       "_view_module": "@jupyter-widgets/base",
       "_view_module_version": "1.2.0",
       "_view_name": "LayoutView",
       "align_content": null,
       "align_items": null,
       "align_self": null,
       "border": null,
       "bottom": null,
       "display": null,
       "flex": null,
       "flex_flow": null,
       "grid_area": null,
       "grid_auto_columns": null,
       "grid_auto_flow": null,
       "grid_auto_rows": null,
       "grid_column": null,
       "grid_gap": null,
       "grid_row": null,
       "grid_template_areas": null,
       "grid_template_columns": null,
       "grid_template_rows": null,
       "height": null,
       "justify_content": null,
       "justify_items": null,
       "left": null,
       "margin": null,
       "max_height": null,
       "max_width": null,
       "min_height": null,
       "min_width": null,
       "object_fit": null,
       "object_position": null,
       "order": null,
       "overflow": null,
       "overflow_x": null,
       "overflow_y": null,
       "padding": null,
       "right": null,
       "top": null,
       "visibility": null,
       "width": null
      }
     },
     "bc3385c164574a36bd5602efa7b361e0": {
      "model_module": "@jupyter-widgets/controls",
      "model_module_version": "1.5.0",
      "model_name": "DescriptionStyleModel",
      "state": {
       "_model_module": "@jupyter-widgets/controls",
       "_model_module_version": "1.5.0",
       "_model_name": "DescriptionStyleModel",
       "_view_count": null,
       "_view_module": "@jupyter-widgets/base",
       "_view_module_version": "1.2.0",
       "_view_name": "StyleView",
       "description_width": ""
      }
     },
     "bc8f62581aba409a8fb9dea4e6663e6c": {
      "model_module": "@jupyter-widgets/base",
      "model_module_version": "1.2.0",
      "model_name": "LayoutModel",
      "state": {
       "_model_module": "@jupyter-widgets/base",
       "_model_module_version": "1.2.0",
       "_model_name": "LayoutModel",
       "_view_count": null,
       "_view_module": "@jupyter-widgets/base",
       "_view_module_version": "1.2.0",
       "_view_name": "LayoutView",
       "align_content": null,
       "align_items": null,
       "align_self": null,
       "border": null,
       "bottom": null,
       "display": null,
       "flex": "2",
       "flex_flow": null,
       "grid_area": null,
       "grid_auto_columns": null,
       "grid_auto_flow": null,
       "grid_auto_rows": null,
       "grid_column": null,
       "grid_gap": null,
       "grid_row": null,
       "grid_template_areas": null,
       "grid_template_columns": null,
       "grid_template_rows": null,
       "height": null,
       "justify_content": null,
       "justify_items": null,
       "left": null,
       "margin": null,
       "max_height": null,
       "max_width": null,
       "min_height": null,
       "min_width": null,
       "object_fit": null,
       "object_position": null,
       "order": null,
       "overflow": null,
       "overflow_x": null,
       "overflow_y": null,
       "padding": null,
       "right": null,
       "top": null,
       "visibility": null,
       "width": null
      }
     },
     "bc9ba4901d3a419f99e61d4976d85744": {
      "model_module": "@jupyter-widgets/controls",
      "model_module_version": "1.5.0",
      "model_name": "HTMLModel",
      "state": {
       "_dom_classes": [],
       "_model_module": "@jupyter-widgets/controls",
       "_model_module_version": "1.5.0",
       "_model_name": "HTMLModel",
       "_view_count": null,
       "_view_module": "@jupyter-widgets/controls",
       "_view_module_version": "1.5.0",
       "_view_name": "HTMLView",
       "description": "",
       "description_tooltip": null,
       "layout": "IPY_MODEL_c27ddc5b87144462bd974a0670338337",
       "placeholder": "​",
       "style": "IPY_MODEL_5feae8a523af490992611c1c3d47ad00",
       "value": " 10/? [00:00&lt;00:00, 154.76it/s]"
      }
     },
     "bd21bd1ec76546c0bcf9210433cb084f": {
      "model_module": "@jupyter-widgets/controls",
      "model_module_version": "1.5.0",
      "model_name": "DescriptionStyleModel",
      "state": {
       "_model_module": "@jupyter-widgets/controls",
       "_model_module_version": "1.5.0",
       "_model_name": "DescriptionStyleModel",
       "_view_count": null,
       "_view_module": "@jupyter-widgets/base",
       "_view_module_version": "1.2.0",
       "_view_name": "StyleView",
       "description_width": ""
      }
     },
     "be10f497efc549908cbdca233868ecb0": {
      "model_module": "@jupyter-widgets/controls",
      "model_module_version": "1.5.0",
      "model_name": "HBoxModel",
      "state": {
       "_dom_classes": [],
       "_model_module": "@jupyter-widgets/controls",
       "_model_module_version": "1.5.0",
       "_model_name": "HBoxModel",
       "_view_count": null,
       "_view_module": "@jupyter-widgets/controls",
       "_view_module_version": "1.5.0",
       "_view_name": "HBoxView",
       "box_style": "",
       "children": [
        "IPY_MODEL_c472bedcf65b4061a9f6a92864cba428",
        "IPY_MODEL_6463ac11f0d34cf785469e13a4a06e3e",
        "IPY_MODEL_642624695c1e4583b296441489bd7828"
       ],
       "layout": "IPY_MODEL_779f74be3ed94af896ce96637c853fe8"
      }
     },
     "be4fe191809b472896ff2044775553ff": {
      "model_module": "@jupyter-widgets/controls",
      "model_module_version": "1.5.0",
      "model_name": "DescriptionStyleModel",
      "state": {
       "_model_module": "@jupyter-widgets/controls",
       "_model_module_version": "1.5.0",
       "_model_name": "DescriptionStyleModel",
       "_view_count": null,
       "_view_module": "@jupyter-widgets/base",
       "_view_module_version": "1.2.0",
       "_view_name": "StyleView",
       "description_width": ""
      }
     },
     "be609339866c457483c289513a7b5324": {
      "model_module": "@jupyter-widgets/base",
      "model_module_version": "1.2.0",
      "model_name": "LayoutModel",
      "state": {
       "_model_module": "@jupyter-widgets/base",
       "_model_module_version": "1.2.0",
       "_model_name": "LayoutModel",
       "_view_count": null,
       "_view_module": "@jupyter-widgets/base",
       "_view_module_version": "1.2.0",
       "_view_name": "LayoutView",
       "align_content": null,
       "align_items": null,
       "align_self": null,
       "border": null,
       "bottom": null,
       "display": "inline-flex",
       "flex": null,
       "flex_flow": "row wrap",
       "grid_area": null,
       "grid_auto_columns": null,
       "grid_auto_flow": null,
       "grid_auto_rows": null,
       "grid_column": null,
       "grid_gap": null,
       "grid_row": null,
       "grid_template_areas": null,
       "grid_template_columns": null,
       "grid_template_rows": null,
       "height": null,
       "justify_content": null,
       "justify_items": null,
       "left": null,
       "margin": null,
       "max_height": null,
       "max_width": null,
       "min_height": null,
       "min_width": null,
       "object_fit": null,
       "object_position": null,
       "order": null,
       "overflow": null,
       "overflow_x": null,
       "overflow_y": null,
       "padding": null,
       "right": null,
       "top": null,
       "visibility": "hidden",
       "width": "100%"
      }
     },
     "be62a044fb854ddc997adbe7391e2ffd": {
      "model_module": "@jupyter-widgets/controls",
      "model_module_version": "1.5.0",
      "model_name": "HBoxModel",
      "state": {
       "_dom_classes": [],
       "_model_module": "@jupyter-widgets/controls",
       "_model_module_version": "1.5.0",
       "_model_name": "HBoxModel",
       "_view_count": null,
       "_view_module": "@jupyter-widgets/controls",
       "_view_module_version": "1.5.0",
       "_view_name": "HBoxView",
       "box_style": "",
       "children": [
        "IPY_MODEL_d4ef289192714f3d9b547c773a6d7109",
        "IPY_MODEL_fed05d7d6d384244b5653912b667a3c1",
        "IPY_MODEL_9804cb20317341ac98a9f68938f8fea3"
       ],
       "layout": "IPY_MODEL_4d0eeaa06c3b4bee8fd11c304c9ca61b"
      }
     },
     "bf4844f74dd94554a6e1e679a6b095a2": {
      "model_module": "@jupyter-widgets/controls",
      "model_module_version": "1.5.0",
      "model_name": "HBoxModel",
      "state": {
       "_dom_classes": [],
       "_model_module": "@jupyter-widgets/controls",
       "_model_module_version": "1.5.0",
       "_model_name": "HBoxModel",
       "_view_count": null,
       "_view_module": "@jupyter-widgets/controls",
       "_view_module_version": "1.5.0",
       "_view_name": "HBoxView",
       "box_style": "",
       "children": [
        "IPY_MODEL_df02c70d635d43ca9a43a87bc56febb5",
        "IPY_MODEL_2a6ed1ce56dc4062af9a61b404d9a2ed",
        "IPY_MODEL_f0cf4aa6d9284c05851519ad7dbf4a35"
       ],
       "layout": "IPY_MODEL_22d872f12fc34c59853772cc600ea5a2"
      }
     },
     "c2297805bf0943c8bfef42ba6f3b23df": {
      "model_module": "@jupyter-widgets/base",
      "model_module_version": "1.2.0",
      "model_name": "LayoutModel",
      "state": {
       "_model_module": "@jupyter-widgets/base",
       "_model_module_version": "1.2.0",
       "_model_name": "LayoutModel",
       "_view_count": null,
       "_view_module": "@jupyter-widgets/base",
       "_view_module_version": "1.2.0",
       "_view_name": "LayoutView",
       "align_content": null,
       "align_items": null,
       "align_self": null,
       "border": null,
       "bottom": null,
       "display": null,
       "flex": null,
       "flex_flow": null,
       "grid_area": null,
       "grid_auto_columns": null,
       "grid_auto_flow": null,
       "grid_auto_rows": null,
       "grid_column": null,
       "grid_gap": null,
       "grid_row": null,
       "grid_template_areas": null,
       "grid_template_columns": null,
       "grid_template_rows": null,
       "height": null,
       "justify_content": null,
       "justify_items": null,
       "left": null,
       "margin": null,
       "max_height": null,
       "max_width": null,
       "min_height": null,
       "min_width": null,
       "object_fit": null,
       "object_position": null,
       "order": null,
       "overflow": null,
       "overflow_x": null,
       "overflow_y": null,
       "padding": null,
       "right": null,
       "top": null,
       "visibility": null,
       "width": null
      }
     },
     "c22cb705923347a3a1b0355c2a37b3da": {
      "model_module": "@jupyter-widgets/controls",
      "model_module_version": "1.5.0",
      "model_name": "ProgressStyleModel",
      "state": {
       "_model_module": "@jupyter-widgets/controls",
       "_model_module_version": "1.5.0",
       "_model_name": "ProgressStyleModel",
       "_view_count": null,
       "_view_module": "@jupyter-widgets/base",
       "_view_module_version": "1.2.0",
       "_view_name": "StyleView",
       "bar_color": null,
       "description_width": ""
      }
     },
     "c27ddc5b87144462bd974a0670338337": {
      "model_module": "@jupyter-widgets/base",
      "model_module_version": "1.2.0",
      "model_name": "LayoutModel",
      "state": {
       "_model_module": "@jupyter-widgets/base",
       "_model_module_version": "1.2.0",
       "_model_name": "LayoutModel",
       "_view_count": null,
       "_view_module": "@jupyter-widgets/base",
       "_view_module_version": "1.2.0",
       "_view_name": "LayoutView",
       "align_content": null,
       "align_items": null,
       "align_self": null,
       "border": null,
       "bottom": null,
       "display": null,
       "flex": null,
       "flex_flow": null,
       "grid_area": null,
       "grid_auto_columns": null,
       "grid_auto_flow": null,
       "grid_auto_rows": null,
       "grid_column": null,
       "grid_gap": null,
       "grid_row": null,
       "grid_template_areas": null,
       "grid_template_columns": null,
       "grid_template_rows": null,
       "height": null,
       "justify_content": null,
       "justify_items": null,
       "left": null,
       "margin": null,
       "max_height": null,
       "max_width": null,
       "min_height": null,
       "min_width": null,
       "object_fit": null,
       "object_position": null,
       "order": null,
       "overflow": null,
       "overflow_x": null,
       "overflow_y": null,
       "padding": null,
       "right": null,
       "top": null,
       "visibility": null,
       "width": null
      }
     },
     "c2dc0228bcda4b2eb6242c9626b48bd9": {
      "model_module": "@jupyter-widgets/base",
      "model_module_version": "1.2.0",
      "model_name": "LayoutModel",
      "state": {
       "_model_module": "@jupyter-widgets/base",
       "_model_module_version": "1.2.0",
       "_model_name": "LayoutModel",
       "_view_count": null,
       "_view_module": "@jupyter-widgets/base",
       "_view_module_version": "1.2.0",
       "_view_name": "LayoutView",
       "align_content": null,
       "align_items": null,
       "align_self": null,
       "border": null,
       "bottom": null,
       "display": null,
       "flex": null,
       "flex_flow": null,
       "grid_area": null,
       "grid_auto_columns": null,
       "grid_auto_flow": null,
       "grid_auto_rows": null,
       "grid_column": null,
       "grid_gap": null,
       "grid_row": null,
       "grid_template_areas": null,
       "grid_template_columns": null,
       "grid_template_rows": null,
       "height": null,
       "justify_content": null,
       "justify_items": null,
       "left": null,
       "margin": null,
       "max_height": null,
       "max_width": null,
       "min_height": null,
       "min_width": null,
       "object_fit": null,
       "object_position": null,
       "order": null,
       "overflow": null,
       "overflow_x": null,
       "overflow_y": null,
       "padding": null,
       "right": null,
       "top": null,
       "visibility": null,
       "width": null
      }
     },
     "c2e989c7e08e4c93b556b4b829b56c8c": {
      "model_module": "@jupyter-widgets/controls",
      "model_module_version": "1.5.0",
      "model_name": "HTMLModel",
      "state": {
       "_dom_classes": [],
       "_model_module": "@jupyter-widgets/controls",
       "_model_module_version": "1.5.0",
       "_model_name": "HTMLModel",
       "_view_count": null,
       "_view_module": "@jupyter-widgets/controls",
       "_view_module_version": "1.5.0",
       "_view_name": "HTMLView",
       "description": "",
       "description_tooltip": null,
       "layout": "IPY_MODEL_c2dc0228bcda4b2eb6242c9626b48bd9",
       "placeholder": "​",
       "style": "IPY_MODEL_5877ea6395cb4053a04606b5f8443c6e",
       "value": "Validation DataLoader 0: "
      }
     },
     "c472bedcf65b4061a9f6a92864cba428": {
      "model_module": "@jupyter-widgets/controls",
      "model_module_version": "1.5.0",
      "model_name": "HTMLModel",
      "state": {
       "_dom_classes": [],
       "_model_module": "@jupyter-widgets/controls",
       "_model_module_version": "1.5.0",
       "_model_name": "HTMLModel",
       "_view_count": null,
       "_view_module": "@jupyter-widgets/controls",
       "_view_module_version": "1.5.0",
       "_view_name": "HTMLView",
       "description": "",
       "description_tooltip": null,
       "layout": "IPY_MODEL_c4bd71f6cbfa4ce0bfe31797ff915096",
       "placeholder": "​",
       "style": "IPY_MODEL_8a9ba17716904b23a979d8d6f3baf5b7",
       "value": "Validation DataLoader 0: "
      }
     },
     "c4bd71f6cbfa4ce0bfe31797ff915096": {
      "model_module": "@jupyter-widgets/base",
      "model_module_version": "1.2.0",
      "model_name": "LayoutModel",
      "state": {
       "_model_module": "@jupyter-widgets/base",
       "_model_module_version": "1.2.0",
       "_model_name": "LayoutModel",
       "_view_count": null,
       "_view_module": "@jupyter-widgets/base",
       "_view_module_version": "1.2.0",
       "_view_name": "LayoutView",
       "align_content": null,
       "align_items": null,
       "align_self": null,
       "border": null,
       "bottom": null,
       "display": null,
       "flex": null,
       "flex_flow": null,
       "grid_area": null,
       "grid_auto_columns": null,
       "grid_auto_flow": null,
       "grid_auto_rows": null,
       "grid_column": null,
       "grid_gap": null,
       "grid_row": null,
       "grid_template_areas": null,
       "grid_template_columns": null,
       "grid_template_rows": null,
       "height": null,
       "justify_content": null,
       "justify_items": null,
       "left": null,
       "margin": null,
       "max_height": null,
       "max_width": null,
       "min_height": null,
       "min_width": null,
       "object_fit": null,
       "object_position": null,
       "order": null,
       "overflow": null,
       "overflow_x": null,
       "overflow_y": null,
       "padding": null,
       "right": null,
       "top": null,
       "visibility": null,
       "width": null
      }
     },
     "c55aaed584fc4532b9dd8cc49b899c42": {
      "model_module": "@jupyter-widgets/controls",
      "model_module_version": "1.5.0",
      "model_name": "HTMLModel",
      "state": {
       "_dom_classes": [],
       "_model_module": "@jupyter-widgets/controls",
       "_model_module_version": "1.5.0",
       "_model_name": "HTMLModel",
       "_view_count": null,
       "_view_module": "@jupyter-widgets/controls",
       "_view_module_version": "1.5.0",
       "_view_name": "HTMLView",
       "description": "",
       "description_tooltip": null,
       "layout": "IPY_MODEL_9b64c4427d6142e3aae8b4bb240fecbd",
       "placeholder": "​",
       "style": "IPY_MODEL_744bd722fd2d462cada633e054c8a78e",
       "value": " 10/? [00:00&lt;00:00, 128.68it/s]"
      }
     },
     "c604d09995c04079a9de9278d0765f88": {
      "model_module": "@jupyter-widgets/controls",
      "model_module_version": "1.5.0",
      "model_name": "HBoxModel",
      "state": {
       "_dom_classes": [],
       "_model_module": "@jupyter-widgets/controls",
       "_model_module_version": "1.5.0",
       "_model_name": "HBoxModel",
       "_view_count": null,
       "_view_module": "@jupyter-widgets/controls",
       "_view_module_version": "1.5.0",
       "_view_name": "HBoxView",
       "box_style": "",
       "children": [
        "IPY_MODEL_c2e989c7e08e4c93b556b4b829b56c8c",
        "IPY_MODEL_d011b4cca75a4f34924e5986f3a0d07e",
        "IPY_MODEL_bc9ba4901d3a419f99e61d4976d85744"
       ],
       "layout": "IPY_MODEL_5ff3c34dc5bb43419d3d41ec4d514324"
      }
     },
     "c6a0c13559bb483c82f6edcd6972db20": {
      "model_module": "@jupyter-widgets/base",
      "model_module_version": "1.2.0",
      "model_name": "LayoutModel",
      "state": {
       "_model_module": "@jupyter-widgets/base",
       "_model_module_version": "1.2.0",
       "_model_name": "LayoutModel",
       "_view_count": null,
       "_view_module": "@jupyter-widgets/base",
       "_view_module_version": "1.2.0",
       "_view_name": "LayoutView",
       "align_content": null,
       "align_items": null,
       "align_self": null,
       "border": null,
       "bottom": null,
       "display": "inline-flex",
       "flex": null,
       "flex_flow": "row wrap",
       "grid_area": null,
       "grid_auto_columns": null,
       "grid_auto_flow": null,
       "grid_auto_rows": null,
       "grid_column": null,
       "grid_gap": null,
       "grid_row": null,
       "grid_template_areas": null,
       "grid_template_columns": null,
       "grid_template_rows": null,
       "height": null,
       "justify_content": null,
       "justify_items": null,
       "left": null,
       "margin": null,
       "max_height": null,
       "max_width": null,
       "min_height": null,
       "min_width": null,
       "object_fit": null,
       "object_position": null,
       "order": null,
       "overflow": null,
       "overflow_x": null,
       "overflow_y": null,
       "padding": null,
       "right": null,
       "top": null,
       "visibility": "hidden",
       "width": "100%"
      }
     },
     "ca2108e47f3a4a46beef3cdccfd6621f": {
      "model_module": "@jupyter-widgets/controls",
      "model_module_version": "1.5.0",
      "model_name": "DescriptionStyleModel",
      "state": {
       "_model_module": "@jupyter-widgets/controls",
       "_model_module_version": "1.5.0",
       "_model_name": "DescriptionStyleModel",
       "_view_count": null,
       "_view_module": "@jupyter-widgets/base",
       "_view_module_version": "1.2.0",
       "_view_name": "StyleView",
       "description_width": ""
      }
     },
     "cb374dfed36f45f1a7233044e9648e74": {
      "model_module": "@jupyter-widgets/base",
      "model_module_version": "1.2.0",
      "model_name": "LayoutModel",
      "state": {
       "_model_module": "@jupyter-widgets/base",
       "_model_module_version": "1.2.0",
       "_model_name": "LayoutModel",
       "_view_count": null,
       "_view_module": "@jupyter-widgets/base",
       "_view_module_version": "1.2.0",
       "_view_name": "LayoutView",
       "align_content": null,
       "align_items": null,
       "align_self": null,
       "border": null,
       "bottom": null,
       "display": "inline-flex",
       "flex": null,
       "flex_flow": "row wrap",
       "grid_area": null,
       "grid_auto_columns": null,
       "grid_auto_flow": null,
       "grid_auto_rows": null,
       "grid_column": null,
       "grid_gap": null,
       "grid_row": null,
       "grid_template_areas": null,
       "grid_template_columns": null,
       "grid_template_rows": null,
       "height": null,
       "justify_content": null,
       "justify_items": null,
       "left": null,
       "margin": null,
       "max_height": null,
       "max_width": null,
       "min_height": null,
       "min_width": null,
       "object_fit": null,
       "object_position": null,
       "order": null,
       "overflow": null,
       "overflow_x": null,
       "overflow_y": null,
       "padding": null,
       "right": null,
       "top": null,
       "visibility": "hidden",
       "width": "100%"
      }
     },
     "cbc850c025a843378bed110165ef95db": {
      "model_module": "@jupyter-widgets/controls",
      "model_module_version": "1.5.0",
      "model_name": "DescriptionStyleModel",
      "state": {
       "_model_module": "@jupyter-widgets/controls",
       "_model_module_version": "1.5.0",
       "_model_name": "DescriptionStyleModel",
       "_view_count": null,
       "_view_module": "@jupyter-widgets/base",
       "_view_module_version": "1.2.0",
       "_view_name": "StyleView",
       "description_width": ""
      }
     },
     "cc0d93252efe4de095ad3c79d901ec47": {
      "model_module": "@jupyter-widgets/controls",
      "model_module_version": "1.5.0",
      "model_name": "HTMLModel",
      "state": {
       "_dom_classes": [],
       "_model_module": "@jupyter-widgets/controls",
       "_model_module_version": "1.5.0",
       "_model_name": "HTMLModel",
       "_view_count": null,
       "_view_module": "@jupyter-widgets/controls",
       "_view_module_version": "1.5.0",
       "_view_name": "HTMLView",
       "description": "",
       "description_tooltip": null,
       "layout": "IPY_MODEL_51cf3db5a9e1461189f668a4995c27a7",
       "placeholder": "​",
       "style": "IPY_MODEL_0e0b81955ec545ed86b422e1722b0cc5",
       "value": " 10/? [00:00&lt;00:00, 152.99it/s]"
      }
     },
     "cc28b51e52be42f68720796a2d237574": {
      "model_module": "@jupyter-widgets/base",
      "model_module_version": "1.2.0",
      "model_name": "LayoutModel",
      "state": {
       "_model_module": "@jupyter-widgets/base",
       "_model_module_version": "1.2.0",
       "_model_name": "LayoutModel",
       "_view_count": null,
       "_view_module": "@jupyter-widgets/base",
       "_view_module_version": "1.2.0",
       "_view_name": "LayoutView",
       "align_content": null,
       "align_items": null,
       "align_self": null,
       "border": null,
       "bottom": null,
       "display": null,
       "flex": null,
       "flex_flow": null,
       "grid_area": null,
       "grid_auto_columns": null,
       "grid_auto_flow": null,
       "grid_auto_rows": null,
       "grid_column": null,
       "grid_gap": null,
       "grid_row": null,
       "grid_template_areas": null,
       "grid_template_columns": null,
       "grid_template_rows": null,
       "height": null,
       "justify_content": null,
       "justify_items": null,
       "left": null,
       "margin": null,
       "max_height": null,
       "max_width": null,
       "min_height": null,
       "min_width": null,
       "object_fit": null,
       "object_position": null,
       "order": null,
       "overflow": null,
       "overflow_x": null,
       "overflow_y": null,
       "padding": null,
       "right": null,
       "top": null,
       "visibility": null,
       "width": null
      }
     },
     "cc3a76997372474aa62fd0ed7f93a028": {
      "model_module": "@jupyter-widgets/controls",
      "model_module_version": "1.5.0",
      "model_name": "DescriptionStyleModel",
      "state": {
       "_model_module": "@jupyter-widgets/controls",
       "_model_module_version": "1.5.0",
       "_model_name": "DescriptionStyleModel",
       "_view_count": null,
       "_view_module": "@jupyter-widgets/base",
       "_view_module_version": "1.2.0",
       "_view_name": "StyleView",
       "description_width": ""
      }
     },
     "cd37967d5d1b46a08fbb1fc7a698594a": {
      "model_module": "@jupyter-widgets/base",
      "model_module_version": "1.2.0",
      "model_name": "LayoutModel",
      "state": {
       "_model_module": "@jupyter-widgets/base",
       "_model_module_version": "1.2.0",
       "_model_name": "LayoutModel",
       "_view_count": null,
       "_view_module": "@jupyter-widgets/base",
       "_view_module_version": "1.2.0",
       "_view_name": "LayoutView",
       "align_content": null,
       "align_items": null,
       "align_self": null,
       "border": null,
       "bottom": null,
       "display": null,
       "flex": null,
       "flex_flow": null,
       "grid_area": null,
       "grid_auto_columns": null,
       "grid_auto_flow": null,
       "grid_auto_rows": null,
       "grid_column": null,
       "grid_gap": null,
       "grid_row": null,
       "grid_template_areas": null,
       "grid_template_columns": null,
       "grid_template_rows": null,
       "height": null,
       "justify_content": null,
       "justify_items": null,
       "left": null,
       "margin": null,
       "max_height": null,
       "max_width": null,
       "min_height": null,
       "min_width": null,
       "object_fit": null,
       "object_position": null,
       "order": null,
       "overflow": null,
       "overflow_x": null,
       "overflow_y": null,
       "padding": null,
       "right": null,
       "top": null,
       "visibility": null,
       "width": null
      }
     },
     "ce4231481cab4a6ea088c5ee2d632869": {
      "model_module": "@jupyter-widgets/controls",
      "model_module_version": "1.5.0",
      "model_name": "HTMLModel",
      "state": {
       "_dom_classes": [],
       "_model_module": "@jupyter-widgets/controls",
       "_model_module_version": "1.5.0",
       "_model_name": "HTMLModel",
       "_view_count": null,
       "_view_module": "@jupyter-widgets/controls",
       "_view_module_version": "1.5.0",
       "_view_name": "HTMLView",
       "description": "",
       "description_tooltip": null,
       "layout": "IPY_MODEL_f613353b1c5746c49fbdea899f58b668",
       "placeholder": "​",
       "style": "IPY_MODEL_ad3a2f7c9f984804863aad2973da7d78",
       "value": " 10/? [00:00&lt;00:00, 157.57it/s]"
      }
     },
     "d00813d2fa5e4c579de6b18bc72f9634": {
      "model_module": "@jupyter-widgets/base",
      "model_module_version": "1.2.0",
      "model_name": "LayoutModel",
      "state": {
       "_model_module": "@jupyter-widgets/base",
       "_model_module_version": "1.2.0",
       "_model_name": "LayoutModel",
       "_view_count": null,
       "_view_module": "@jupyter-widgets/base",
       "_view_module_version": "1.2.0",
       "_view_name": "LayoutView",
       "align_content": null,
       "align_items": null,
       "align_self": null,
       "border": null,
       "bottom": null,
       "display": "inline-flex",
       "flex": null,
       "flex_flow": "row wrap",
       "grid_area": null,
       "grid_auto_columns": null,
       "grid_auto_flow": null,
       "grid_auto_rows": null,
       "grid_column": null,
       "grid_gap": null,
       "grid_row": null,
       "grid_template_areas": null,
       "grid_template_columns": null,
       "grid_template_rows": null,
       "height": null,
       "justify_content": null,
       "justify_items": null,
       "left": null,
       "margin": null,
       "max_height": null,
       "max_width": null,
       "min_height": null,
       "min_width": null,
       "object_fit": null,
       "object_position": null,
       "order": null,
       "overflow": null,
       "overflow_x": null,
       "overflow_y": null,
       "padding": null,
       "right": null,
       "top": null,
       "visibility": null,
       "width": "100%"
      }
     },
     "d011b4cca75a4f34924e5986f3a0d07e": {
      "model_module": "@jupyter-widgets/controls",
      "model_module_version": "1.5.0",
      "model_name": "FloatProgressModel",
      "state": {
       "_dom_classes": [],
       "_model_module": "@jupyter-widgets/controls",
       "_model_module_version": "1.5.0",
       "_model_name": "FloatProgressModel",
       "_view_count": null,
       "_view_module": "@jupyter-widgets/controls",
       "_view_module_version": "1.5.0",
       "_view_name": "ProgressView",
       "bar_style": "",
       "description": "",
       "description_tooltip": null,
       "layout": "IPY_MODEL_525c37370e5a45b6a8ee33a4d34a45cf",
       "max": 1.0,
       "min": 0.0,
       "orientation": "horizontal",
       "style": "IPY_MODEL_96b0c3d50b634e1f81129ce0327c5993",
       "value": 1.0
      }
     },
     "d03346f464394665a0b2e9a8c7583430": {
      "model_module": "@jupyter-widgets/controls",
      "model_module_version": "1.5.0",
      "model_name": "FloatProgressModel",
      "state": {
       "_dom_classes": [],
       "_model_module": "@jupyter-widgets/controls",
       "_model_module_version": "1.5.0",
       "_model_name": "FloatProgressModel",
       "_view_count": null,
       "_view_module": "@jupyter-widgets/controls",
       "_view_module_version": "1.5.0",
       "_view_name": "ProgressView",
       "bar_style": "",
       "description": "",
       "description_tooltip": null,
       "layout": "IPY_MODEL_0ed4299c6f304c1988024a5f2439e926",
       "max": 1.0,
       "min": 0.0,
       "orientation": "horizontal",
       "style": "IPY_MODEL_84c86e396dab4dbd8e60f919d75d1a88",
       "value": 1.0
      }
     },
     "d16c9f0339774434a7126970cbbb0c56": {
      "model_module": "@jupyter-widgets/base",
      "model_module_version": "1.2.0",
      "model_name": "LayoutModel",
      "state": {
       "_model_module": "@jupyter-widgets/base",
       "_model_module_version": "1.2.0",
       "_model_name": "LayoutModel",
       "_view_count": null,
       "_view_module": "@jupyter-widgets/base",
       "_view_module_version": "1.2.0",
       "_view_name": "LayoutView",
       "align_content": null,
       "align_items": null,
       "align_self": null,
       "border": null,
       "bottom": null,
       "display": null,
       "flex": "2",
       "flex_flow": null,
       "grid_area": null,
       "grid_auto_columns": null,
       "grid_auto_flow": null,
       "grid_auto_rows": null,
       "grid_column": null,
       "grid_gap": null,
       "grid_row": null,
       "grid_template_areas": null,
       "grid_template_columns": null,
       "grid_template_rows": null,
       "height": null,
       "justify_content": null,
       "justify_items": null,
       "left": null,
       "margin": null,
       "max_height": null,
       "max_width": null,
       "min_height": null,
       "min_width": null,
       "object_fit": null,
       "object_position": null,
       "order": null,
       "overflow": null,
       "overflow_x": null,
       "overflow_y": null,
       "padding": null,
       "right": null,
       "top": null,
       "visibility": null,
       "width": null
      }
     },
     "d1873fbd38504ec482bb92ba06ede6d3": {
      "model_module": "@jupyter-widgets/controls",
      "model_module_version": "1.5.0",
      "model_name": "ProgressStyleModel",
      "state": {
       "_model_module": "@jupyter-widgets/controls",
       "_model_module_version": "1.5.0",
       "_model_name": "ProgressStyleModel",
       "_view_count": null,
       "_view_module": "@jupyter-widgets/base",
       "_view_module_version": "1.2.0",
       "_view_name": "StyleView",
       "bar_color": null,
       "description_width": ""
      }
     },
     "d1ccf51305404267a391448ef892799a": {
      "model_module": "@jupyter-widgets/controls",
      "model_module_version": "1.5.0",
      "model_name": "FloatProgressModel",
      "state": {
       "_dom_classes": [],
       "_model_module": "@jupyter-widgets/controls",
       "_model_module_version": "1.5.0",
       "_model_name": "FloatProgressModel",
       "_view_count": null,
       "_view_module": "@jupyter-widgets/controls",
       "_view_module_version": "1.5.0",
       "_view_name": "ProgressView",
       "bar_style": "",
       "description": "",
       "description_tooltip": null,
       "layout": "IPY_MODEL_ef866a6973124ed796d3c2eab3eb7da4",
       "max": 1.0,
       "min": 0.0,
       "orientation": "horizontal",
       "style": "IPY_MODEL_4fff495db4a342a38dd1d7beed9d19fa",
       "value": 1.0
      }
     },
     "d253409a96f646558eee45a8730d032b": {
      "model_module": "@jupyter-widgets/controls",
      "model_module_version": "1.5.0",
      "model_name": "ProgressStyleModel",
      "state": {
       "_model_module": "@jupyter-widgets/controls",
       "_model_module_version": "1.5.0",
       "_model_name": "ProgressStyleModel",
       "_view_count": null,
       "_view_module": "@jupyter-widgets/base",
       "_view_module_version": "1.2.0",
       "_view_name": "StyleView",
       "bar_color": null,
       "description_width": ""
      }
     },
     "d2c4eb91bae248cda90e3c53c5f4b50e": {
      "model_module": "@jupyter-widgets/base",
      "model_module_version": "1.2.0",
      "model_name": "LayoutModel",
      "state": {
       "_model_module": "@jupyter-widgets/base",
       "_model_module_version": "1.2.0",
       "_model_name": "LayoutModel",
       "_view_count": null,
       "_view_module": "@jupyter-widgets/base",
       "_view_module_version": "1.2.0",
       "_view_name": "LayoutView",
       "align_content": null,
       "align_items": null,
       "align_self": null,
       "border": null,
       "bottom": null,
       "display": "inline-flex",
       "flex": null,
       "flex_flow": "row wrap",
       "grid_area": null,
       "grid_auto_columns": null,
       "grid_auto_flow": null,
       "grid_auto_rows": null,
       "grid_column": null,
       "grid_gap": null,
       "grid_row": null,
       "grid_template_areas": null,
       "grid_template_columns": null,
       "grid_template_rows": null,
       "height": null,
       "justify_content": null,
       "justify_items": null,
       "left": null,
       "margin": null,
       "max_height": null,
       "max_width": null,
       "min_height": null,
       "min_width": null,
       "object_fit": null,
       "object_position": null,
       "order": null,
       "overflow": null,
       "overflow_x": null,
       "overflow_y": null,
       "padding": null,
       "right": null,
       "top": null,
       "visibility": "hidden",
       "width": "100%"
      }
     },
     "d2f78f279a824df3a72bf9c3bd30acd2": {
      "model_module": "@jupyter-widgets/base",
      "model_module_version": "1.2.0",
      "model_name": "LayoutModel",
      "state": {
       "_model_module": "@jupyter-widgets/base",
       "_model_module_version": "1.2.0",
       "_model_name": "LayoutModel",
       "_view_count": null,
       "_view_module": "@jupyter-widgets/base",
       "_view_module_version": "1.2.0",
       "_view_name": "LayoutView",
       "align_content": null,
       "align_items": null,
       "align_self": null,
       "border": null,
       "bottom": null,
       "display": null,
       "flex": "2",
       "flex_flow": null,
       "grid_area": null,
       "grid_auto_columns": null,
       "grid_auto_flow": null,
       "grid_auto_rows": null,
       "grid_column": null,
       "grid_gap": null,
       "grid_row": null,
       "grid_template_areas": null,
       "grid_template_columns": null,
       "grid_template_rows": null,
       "height": null,
       "justify_content": null,
       "justify_items": null,
       "left": null,
       "margin": null,
       "max_height": null,
       "max_width": null,
       "min_height": null,
       "min_width": null,
       "object_fit": null,
       "object_position": null,
       "order": null,
       "overflow": null,
       "overflow_x": null,
       "overflow_y": null,
       "padding": null,
       "right": null,
       "top": null,
       "visibility": null,
       "width": null
      }
     },
     "d305aeaeb1b94754836b8b468a63fda0": {
      "model_module": "@jupyter-widgets/base",
      "model_module_version": "1.2.0",
      "model_name": "LayoutModel",
      "state": {
       "_model_module": "@jupyter-widgets/base",
       "_model_module_version": "1.2.0",
       "_model_name": "LayoutModel",
       "_view_count": null,
       "_view_module": "@jupyter-widgets/base",
       "_view_module_version": "1.2.0",
       "_view_name": "LayoutView",
       "align_content": null,
       "align_items": null,
       "align_self": null,
       "border": null,
       "bottom": null,
       "display": null,
       "flex": null,
       "flex_flow": null,
       "grid_area": null,
       "grid_auto_columns": null,
       "grid_auto_flow": null,
       "grid_auto_rows": null,
       "grid_column": null,
       "grid_gap": null,
       "grid_row": null,
       "grid_template_areas": null,
       "grid_template_columns": null,
       "grid_template_rows": null,
       "height": null,
       "justify_content": null,
       "justify_items": null,
       "left": null,
       "margin": null,
       "max_height": null,
       "max_width": null,
       "min_height": null,
       "min_width": null,
       "object_fit": null,
       "object_position": null,
       "order": null,
       "overflow": null,
       "overflow_x": null,
       "overflow_y": null,
       "padding": null,
       "right": null,
       "top": null,
       "visibility": null,
       "width": null
      }
     },
     "d3078d676e9c44d0a715f40d0d88e778": {
      "model_module": "@jupyter-widgets/controls",
      "model_module_version": "1.5.0",
      "model_name": "FloatProgressModel",
      "state": {
       "_dom_classes": [],
       "_model_module": "@jupyter-widgets/controls",
       "_model_module_version": "1.5.0",
       "_model_name": "FloatProgressModel",
       "_view_count": null,
       "_view_module": "@jupyter-widgets/controls",
       "_view_module_version": "1.5.0",
       "_view_name": "ProgressView",
       "bar_style": "",
       "description": "",
       "description_tooltip": null,
       "layout": "IPY_MODEL_b266a78459a64fe5be12bdaeb6de2503",
       "max": 1.0,
       "min": 0.0,
       "orientation": "horizontal",
       "style": "IPY_MODEL_7b586605e703499f87d9a01bcd23065a",
       "value": 1.0
      }
     },
     "d3bfef66b0aa478bbfed15aca9286d16": {
      "model_module": "@jupyter-widgets/controls",
      "model_module_version": "1.5.0",
      "model_name": "DescriptionStyleModel",
      "state": {
       "_model_module": "@jupyter-widgets/controls",
       "_model_module_version": "1.5.0",
       "_model_name": "DescriptionStyleModel",
       "_view_count": null,
       "_view_module": "@jupyter-widgets/base",
       "_view_module_version": "1.2.0",
       "_view_name": "StyleView",
       "description_width": ""
      }
     },
     "d4ef289192714f3d9b547c773a6d7109": {
      "model_module": "@jupyter-widgets/controls",
      "model_module_version": "1.5.0",
      "model_name": "HTMLModel",
      "state": {
       "_dom_classes": [],
       "_model_module": "@jupyter-widgets/controls",
       "_model_module_version": "1.5.0",
       "_model_name": "HTMLModel",
       "_view_count": null,
       "_view_module": "@jupyter-widgets/controls",
       "_view_module_version": "1.5.0",
       "_view_name": "HTMLView",
       "description": "",
       "description_tooltip": null,
       "layout": "IPY_MODEL_fa0bf3522bfc4605b4fb739d8f05a393",
       "placeholder": "​",
       "style": "IPY_MODEL_f54f1b72f4de4df29d03723b04364fda",
       "value": "Validation DataLoader 0: "
      }
     },
     "d57108ff4500456899f6e05ebc67ad5e": {
      "model_module": "@jupyter-widgets/controls",
      "model_module_version": "1.5.0",
      "model_name": "HTMLModel",
      "state": {
       "_dom_classes": [],
       "_model_module": "@jupyter-widgets/controls",
       "_model_module_version": "1.5.0",
       "_model_name": "HTMLModel",
       "_view_count": null,
       "_view_module": "@jupyter-widgets/controls",
       "_view_module_version": "1.5.0",
       "_view_name": "HTMLView",
       "description": "",
       "description_tooltip": null,
       "layout": "IPY_MODEL_b9b6f6371ff241f59f94ca3d1e2a2853",
       "placeholder": "​",
       "style": "IPY_MODEL_5bc0f2c48b724ecb82c4fe4a325fcc93",
       "value": " 10/? [00:00&lt;00:00, 158.37it/s]"
      }
     },
     "d5a824781bab44aa9fc014be0622cd52": {
      "model_module": "@jupyter-widgets/controls",
      "model_module_version": "1.5.0",
      "model_name": "HBoxModel",
      "state": {
       "_dom_classes": [],
       "_model_module": "@jupyter-widgets/controls",
       "_model_module_version": "1.5.0",
       "_model_name": "HBoxModel",
       "_view_count": null,
       "_view_module": "@jupyter-widgets/controls",
       "_view_module_version": "1.5.0",
       "_view_name": "HBoxView",
       "box_style": "",
       "children": [
        "IPY_MODEL_7ab14644cbd64386959aed5261d4a192",
        "IPY_MODEL_228f99b2fbda46b1b7f2234a53f24bed",
        "IPY_MODEL_d57108ff4500456899f6e05ebc67ad5e"
       ],
       "layout": "IPY_MODEL_45e5cbbe8bb24d5bb516cc52a37415d2"
      }
     },
     "d5f07c0824d048d78cfb3ed74d3da5c1": {
      "model_module": "@jupyter-widgets/controls",
      "model_module_version": "1.5.0",
      "model_name": "DescriptionStyleModel",
      "state": {
       "_model_module": "@jupyter-widgets/controls",
       "_model_module_version": "1.5.0",
       "_model_name": "DescriptionStyleModel",
       "_view_count": null,
       "_view_module": "@jupyter-widgets/base",
       "_view_module_version": "1.2.0",
       "_view_name": "StyleView",
       "description_width": ""
      }
     },
     "d6c2bb83e9de49e3ac0c51415b16c2a3": {
      "model_module": "@jupyter-widgets/controls",
      "model_module_version": "1.5.0",
      "model_name": "ProgressStyleModel",
      "state": {
       "_model_module": "@jupyter-widgets/controls",
       "_model_module_version": "1.5.0",
       "_model_name": "ProgressStyleModel",
       "_view_count": null,
       "_view_module": "@jupyter-widgets/base",
       "_view_module_version": "1.2.0",
       "_view_name": "StyleView",
       "bar_color": null,
       "description_width": ""
      }
     },
     "d9a436949a614baa8be6d23e3e4a1f3b": {
      "model_module": "@jupyter-widgets/controls",
      "model_module_version": "1.5.0",
      "model_name": "ProgressStyleModel",
      "state": {
       "_model_module": "@jupyter-widgets/controls",
       "_model_module_version": "1.5.0",
       "_model_name": "ProgressStyleModel",
       "_view_count": null,
       "_view_module": "@jupyter-widgets/base",
       "_view_module_version": "1.2.0",
       "_view_name": "StyleView",
       "bar_color": null,
       "description_width": ""
      }
     },
     "da58acdb6f9e4b46bae8109af6485f24": {
      "model_module": "@jupyter-widgets/base",
      "model_module_version": "1.2.0",
      "model_name": "LayoutModel",
      "state": {
       "_model_module": "@jupyter-widgets/base",
       "_model_module_version": "1.2.0",
       "_model_name": "LayoutModel",
       "_view_count": null,
       "_view_module": "@jupyter-widgets/base",
       "_view_module_version": "1.2.0",
       "_view_name": "LayoutView",
       "align_content": null,
       "align_items": null,
       "align_self": null,
       "border": null,
       "bottom": null,
       "display": null,
       "flex": null,
       "flex_flow": null,
       "grid_area": null,
       "grid_auto_columns": null,
       "grid_auto_flow": null,
       "grid_auto_rows": null,
       "grid_column": null,
       "grid_gap": null,
       "grid_row": null,
       "grid_template_areas": null,
       "grid_template_columns": null,
       "grid_template_rows": null,
       "height": null,
       "justify_content": null,
       "justify_items": null,
       "left": null,
       "margin": null,
       "max_height": null,
       "max_width": null,
       "min_height": null,
       "min_width": null,
       "object_fit": null,
       "object_position": null,
       "order": null,
       "overflow": null,
       "overflow_x": null,
       "overflow_y": null,
       "padding": null,
       "right": null,
       "top": null,
       "visibility": null,
       "width": null
      }
     },
     "da627b59d1ff41c197f9ac76d846ba39": {
      "model_module": "@jupyter-widgets/base",
      "model_module_version": "1.2.0",
      "model_name": "LayoutModel",
      "state": {
       "_model_module": "@jupyter-widgets/base",
       "_model_module_version": "1.2.0",
       "_model_name": "LayoutModel",
       "_view_count": null,
       "_view_module": "@jupyter-widgets/base",
       "_view_module_version": "1.2.0",
       "_view_name": "LayoutView",
       "align_content": null,
       "align_items": null,
       "align_self": null,
       "border": null,
       "bottom": null,
       "display": null,
       "flex": null,
       "flex_flow": null,
       "grid_area": null,
       "grid_auto_columns": null,
       "grid_auto_flow": null,
       "grid_auto_rows": null,
       "grid_column": null,
       "grid_gap": null,
       "grid_row": null,
       "grid_template_areas": null,
       "grid_template_columns": null,
       "grid_template_rows": null,
       "height": null,
       "justify_content": null,
       "justify_items": null,
       "left": null,
       "margin": null,
       "max_height": null,
       "max_width": null,
       "min_height": null,
       "min_width": null,
       "object_fit": null,
       "object_position": null,
       "order": null,
       "overflow": null,
       "overflow_x": null,
       "overflow_y": null,
       "padding": null,
       "right": null,
       "top": null,
       "visibility": null,
       "width": null
      }
     },
     "da827d42a3b64d738cf7a354e55767fa": {
      "model_module": "@jupyter-widgets/controls",
      "model_module_version": "1.5.0",
      "model_name": "HTMLModel",
      "state": {
       "_dom_classes": [],
       "_model_module": "@jupyter-widgets/controls",
       "_model_module_version": "1.5.0",
       "_model_name": "HTMLModel",
       "_view_count": null,
       "_view_module": "@jupyter-widgets/controls",
       "_view_module_version": "1.5.0",
       "_view_name": "HTMLView",
       "description": "",
       "description_tooltip": null,
       "layout": "IPY_MODEL_97be6982723746e1a81b6dd38d413687",
       "placeholder": "​",
       "style": "IPY_MODEL_8cfeea12526c44339db16a0eb6bf7f64",
       "value": "Validation DataLoader 0: "
      }
     },
     "dc03fd9bb63349849b99370f0e97c008": {
      "model_module": "@jupyter-widgets/controls",
      "model_module_version": "1.5.0",
      "model_name": "DescriptionStyleModel",
      "state": {
       "_model_module": "@jupyter-widgets/controls",
       "_model_module_version": "1.5.0",
       "_model_name": "DescriptionStyleModel",
       "_view_count": null,
       "_view_module": "@jupyter-widgets/base",
       "_view_module_version": "1.2.0",
       "_view_name": "StyleView",
       "description_width": ""
      }
     },
     "dc2d8fde7e59478b8fbcf533ac3dce9e": {
      "model_module": "@jupyter-widgets/base",
      "model_module_version": "1.2.0",
      "model_name": "LayoutModel",
      "state": {
       "_model_module": "@jupyter-widgets/base",
       "_model_module_version": "1.2.0",
       "_model_name": "LayoutModel",
       "_view_count": null,
       "_view_module": "@jupyter-widgets/base",
       "_view_module_version": "1.2.0",
       "_view_name": "LayoutView",
       "align_content": null,
       "align_items": null,
       "align_self": null,
       "border": null,
       "bottom": null,
       "display": null,
       "flex": "2",
       "flex_flow": null,
       "grid_area": null,
       "grid_auto_columns": null,
       "grid_auto_flow": null,
       "grid_auto_rows": null,
       "grid_column": null,
       "grid_gap": null,
       "grid_row": null,
       "grid_template_areas": null,
       "grid_template_columns": null,
       "grid_template_rows": null,
       "height": null,
       "justify_content": null,
       "justify_items": null,
       "left": null,
       "margin": null,
       "max_height": null,
       "max_width": null,
       "min_height": null,
       "min_width": null,
       "object_fit": null,
       "object_position": null,
       "order": null,
       "overflow": null,
       "overflow_x": null,
       "overflow_y": null,
       "padding": null,
       "right": null,
       "top": null,
       "visibility": null,
       "width": null
      }
     },
     "ddef3f4088af455b85319e433149349f": {
      "model_module": "@jupyter-widgets/controls",
      "model_module_version": "1.5.0",
      "model_name": "ProgressStyleModel",
      "state": {
       "_model_module": "@jupyter-widgets/controls",
       "_model_module_version": "1.5.0",
       "_model_name": "ProgressStyleModel",
       "_view_count": null,
       "_view_module": "@jupyter-widgets/base",
       "_view_module_version": "1.2.0",
       "_view_name": "StyleView",
       "bar_color": null,
       "description_width": ""
      }
     },
     "df02c70d635d43ca9a43a87bc56febb5": {
      "model_module": "@jupyter-widgets/controls",
      "model_module_version": "1.5.0",
      "model_name": "HTMLModel",
      "state": {
       "_dom_classes": [],
       "_model_module": "@jupyter-widgets/controls",
       "_model_module_version": "1.5.0",
       "_model_name": "HTMLModel",
       "_view_count": null,
       "_view_module": "@jupyter-widgets/controls",
       "_view_module_version": "1.5.0",
       "_view_name": "HTMLView",
       "description": "",
       "description_tooltip": null,
       "layout": "IPY_MODEL_cd37967d5d1b46a08fbb1fc7a698594a",
       "placeholder": "​",
       "style": "IPY_MODEL_aac83cd683f7445780374417ef557f96",
       "value": "Validation DataLoader 0: "
      }
     },
     "e071b7df2c9c46748839b1535edebb59": {
      "model_module": "@jupyter-widgets/controls",
      "model_module_version": "1.5.0",
      "model_name": "DescriptionStyleModel",
      "state": {
       "_model_module": "@jupyter-widgets/controls",
       "_model_module_version": "1.5.0",
       "_model_name": "DescriptionStyleModel",
       "_view_count": null,
       "_view_module": "@jupyter-widgets/base",
       "_view_module_version": "1.2.0",
       "_view_name": "StyleView",
       "description_width": ""
      }
     },
     "e2f49b61510e43518132b74e83926edc": {
      "model_module": "@jupyter-widgets/controls",
      "model_module_version": "1.5.0",
      "model_name": "ProgressStyleModel",
      "state": {
       "_model_module": "@jupyter-widgets/controls",
       "_model_module_version": "1.5.0",
       "_model_name": "ProgressStyleModel",
       "_view_count": null,
       "_view_module": "@jupyter-widgets/base",
       "_view_module_version": "1.2.0",
       "_view_name": "StyleView",
       "bar_color": null,
       "description_width": ""
      }
     },
     "e31fdcff642f46d78c841d194e158466": {
      "model_module": "@jupyter-widgets/controls",
      "model_module_version": "1.5.0",
      "model_name": "DescriptionStyleModel",
      "state": {
       "_model_module": "@jupyter-widgets/controls",
       "_model_module_version": "1.5.0",
       "_model_name": "DescriptionStyleModel",
       "_view_count": null,
       "_view_module": "@jupyter-widgets/base",
       "_view_module_version": "1.2.0",
       "_view_name": "StyleView",
       "description_width": ""
      }
     },
     "e4e005831b2b4aa4847c404036e132b0": {
      "model_module": "@jupyter-widgets/controls",
      "model_module_version": "1.5.0",
      "model_name": "HTMLModel",
      "state": {
       "_dom_classes": [],
       "_model_module": "@jupyter-widgets/controls",
       "_model_module_version": "1.5.0",
       "_model_name": "HTMLModel",
       "_view_count": null,
       "_view_module": "@jupyter-widgets/controls",
       "_view_module_version": "1.5.0",
       "_view_name": "HTMLView",
       "description": "",
       "description_tooltip": null,
       "layout": "IPY_MODEL_ed918026be9b45b5ae8a09c3dddb3ae4",
       "placeholder": "​",
       "style": "IPY_MODEL_657298d92c424dabbb537dac0643f4dc",
       "value": "Validation DataLoader 0: "
      }
     },
     "e99df61d4c9c44fea4535a741b4ac78c": {
      "model_module": "@jupyter-widgets/controls",
      "model_module_version": "1.5.0",
      "model_name": "FloatProgressModel",
      "state": {
       "_dom_classes": [],
       "_model_module": "@jupyter-widgets/controls",
       "_model_module_version": "1.5.0",
       "_model_name": "FloatProgressModel",
       "_view_count": null,
       "_view_module": "@jupyter-widgets/controls",
       "_view_module_version": "1.5.0",
       "_view_name": "ProgressView",
       "bar_style": "success",
       "description": "",
       "description_tooltip": null,
       "layout": "IPY_MODEL_83f1d9d820124a698d60e952fbd4a25c",
       "max": 1.0,
       "min": 0.0,
       "orientation": "horizontal",
       "style": "IPY_MODEL_9b34da0e65d44a4aad95fe0ede6cedea",
       "value": 1.0
      }
     },
     "e9b9cf9b3cac4b48abf94874d4693187": {
      "model_module": "@jupyter-widgets/controls",
      "model_module_version": "1.5.0",
      "model_name": "HBoxModel",
      "state": {
       "_dom_classes": [],
       "_model_module": "@jupyter-widgets/controls",
       "_model_module_version": "1.5.0",
       "_model_name": "HBoxModel",
       "_view_count": null,
       "_view_module": "@jupyter-widgets/controls",
       "_view_module_version": "1.5.0",
       "_view_name": "HBoxView",
       "box_style": "",
       "children": [
        "IPY_MODEL_b841c0537feb4cb285f7af349f02f549",
        "IPY_MODEL_ad38f855c8f04664a07436aad8a2d0f9",
        "IPY_MODEL_7dd0adfe475d4016b623efb4a8937f6b"
       ],
       "layout": "IPY_MODEL_35fa795ba5814d4e95437e7871d697aa"
      }
     },
     "ecb3c33e543d4280b5db5d9dbe0994b8": {
      "model_module": "@jupyter-widgets/base",
      "model_module_version": "1.2.0",
      "model_name": "LayoutModel",
      "state": {
       "_model_module": "@jupyter-widgets/base",
       "_model_module_version": "1.2.0",
       "_model_name": "LayoutModel",
       "_view_count": null,
       "_view_module": "@jupyter-widgets/base",
       "_view_module_version": "1.2.0",
       "_view_name": "LayoutView",
       "align_content": null,
       "align_items": null,
       "align_self": null,
       "border": null,
       "bottom": null,
       "display": null,
       "flex": null,
       "flex_flow": null,
       "grid_area": null,
       "grid_auto_columns": null,
       "grid_auto_flow": null,
       "grid_auto_rows": null,
       "grid_column": null,
       "grid_gap": null,
       "grid_row": null,
       "grid_template_areas": null,
       "grid_template_columns": null,
       "grid_template_rows": null,
       "height": null,
       "justify_content": null,
       "justify_items": null,
       "left": null,
       "margin": null,
       "max_height": null,
       "max_width": null,
       "min_height": null,
       "min_width": null,
       "object_fit": null,
       "object_position": null,
       "order": null,
       "overflow": null,
       "overflow_x": null,
       "overflow_y": null,
       "padding": null,
       "right": null,
       "top": null,
       "visibility": null,
       "width": null
      }
     },
     "ece411ddf02540fdbeff30f4ebd39682": {
      "model_module": "@jupyter-widgets/base",
      "model_module_version": "1.2.0",
      "model_name": "LayoutModel",
      "state": {
       "_model_module": "@jupyter-widgets/base",
       "_model_module_version": "1.2.0",
       "_model_name": "LayoutModel",
       "_view_count": null,
       "_view_module": "@jupyter-widgets/base",
       "_view_module_version": "1.2.0",
       "_view_name": "LayoutView",
       "align_content": null,
       "align_items": null,
       "align_self": null,
       "border": null,
       "bottom": null,
       "display": null,
       "flex": null,
       "flex_flow": null,
       "grid_area": null,
       "grid_auto_columns": null,
       "grid_auto_flow": null,
       "grid_auto_rows": null,
       "grid_column": null,
       "grid_gap": null,
       "grid_row": null,
       "grid_template_areas": null,
       "grid_template_columns": null,
       "grid_template_rows": null,
       "height": null,
       "justify_content": null,
       "justify_items": null,
       "left": null,
       "margin": null,
       "max_height": null,
       "max_width": null,
       "min_height": null,
       "min_width": null,
       "object_fit": null,
       "object_position": null,
       "order": null,
       "overflow": null,
       "overflow_x": null,
       "overflow_y": null,
       "padding": null,
       "right": null,
       "top": null,
       "visibility": null,
       "width": null
      }
     },
     "ed918026be9b45b5ae8a09c3dddb3ae4": {
      "model_module": "@jupyter-widgets/base",
      "model_module_version": "1.2.0",
      "model_name": "LayoutModel",
      "state": {
       "_model_module": "@jupyter-widgets/base",
       "_model_module_version": "1.2.0",
       "_model_name": "LayoutModel",
       "_view_count": null,
       "_view_module": "@jupyter-widgets/base",
       "_view_module_version": "1.2.0",
       "_view_name": "LayoutView",
       "align_content": null,
       "align_items": null,
       "align_self": null,
       "border": null,
       "bottom": null,
       "display": null,
       "flex": null,
       "flex_flow": null,
       "grid_area": null,
       "grid_auto_columns": null,
       "grid_auto_flow": null,
       "grid_auto_rows": null,
       "grid_column": null,
       "grid_gap": null,
       "grid_row": null,
       "grid_template_areas": null,
       "grid_template_columns": null,
       "grid_template_rows": null,
       "height": null,
       "justify_content": null,
       "justify_items": null,
       "left": null,
       "margin": null,
       "max_height": null,
       "max_width": null,
       "min_height": null,
       "min_width": null,
       "object_fit": null,
       "object_position": null,
       "order": null,
       "overflow": null,
       "overflow_x": null,
       "overflow_y": null,
       "padding": null,
       "right": null,
       "top": null,
       "visibility": null,
       "width": null
      }
     },
     "ee4869cdbb474e0fa36406d3e2733d52": {
      "model_module": "@jupyter-widgets/controls",
      "model_module_version": "1.5.0",
      "model_name": "HBoxModel",
      "state": {
       "_dom_classes": [],
       "_model_module": "@jupyter-widgets/controls",
       "_model_module_version": "1.5.0",
       "_model_name": "HBoxModel",
       "_view_count": null,
       "_view_module": "@jupyter-widgets/controls",
       "_view_module_version": "1.5.0",
       "_view_name": "HBoxView",
       "box_style": "",
       "children": [
        "IPY_MODEL_3415184dd6b74233bd209a0274a798a8",
        "IPY_MODEL_9f4ffa8b295643e2b615977d67fa4920",
        "IPY_MODEL_09d1f42db4224ca488c463bfe298200c"
       ],
       "layout": "IPY_MODEL_912e543148c448a6b915f6af289b57c9"
      }
     },
     "ee6734969fa4410b811aadf9d2cbfd9b": {
      "model_module": "@jupyter-widgets/base",
      "model_module_version": "1.2.0",
      "model_name": "LayoutModel",
      "state": {
       "_model_module": "@jupyter-widgets/base",
       "_model_module_version": "1.2.0",
       "_model_name": "LayoutModel",
       "_view_count": null,
       "_view_module": "@jupyter-widgets/base",
       "_view_module_version": "1.2.0",
       "_view_name": "LayoutView",
       "align_content": null,
       "align_items": null,
       "align_self": null,
       "border": null,
       "bottom": null,
       "display": null,
       "flex": null,
       "flex_flow": null,
       "grid_area": null,
       "grid_auto_columns": null,
       "grid_auto_flow": null,
       "grid_auto_rows": null,
       "grid_column": null,
       "grid_gap": null,
       "grid_row": null,
       "grid_template_areas": null,
       "grid_template_columns": null,
       "grid_template_rows": null,
       "height": null,
       "justify_content": null,
       "justify_items": null,
       "left": null,
       "margin": null,
       "max_height": null,
       "max_width": null,
       "min_height": null,
       "min_width": null,
       "object_fit": null,
       "object_position": null,
       "order": null,
       "overflow": null,
       "overflow_x": null,
       "overflow_y": null,
       "padding": null,
       "right": null,
       "top": null,
       "visibility": null,
       "width": null
      }
     },
     "ee7b180dcf8142e3ac73f90004e6c966": {
      "model_module": "@jupyter-widgets/controls",
      "model_module_version": "1.5.0",
      "model_name": "FloatProgressModel",
      "state": {
       "_dom_classes": [],
       "_model_module": "@jupyter-widgets/controls",
       "_model_module_version": "1.5.0",
       "_model_name": "FloatProgressModel",
       "_view_count": null,
       "_view_module": "@jupyter-widgets/controls",
       "_view_module_version": "1.5.0",
       "_view_name": "ProgressView",
       "bar_style": "",
       "description": "",
       "description_tooltip": null,
       "layout": "IPY_MODEL_2a40fdc1348a42fdb31af99fcb07e239",
       "max": 1.0,
       "min": 0.0,
       "orientation": "horizontal",
       "style": "IPY_MODEL_171cf53129264a2c8d12365006ac023c",
       "value": 1.0
      }
     },
     "ee91d2f6356042c4a34a191278f0ab71": {
      "model_module": "@jupyter-widgets/controls",
      "model_module_version": "1.5.0",
      "model_name": "HBoxModel",
      "state": {
       "_dom_classes": [],
       "_model_module": "@jupyter-widgets/controls",
       "_model_module_version": "1.5.0",
       "_model_name": "HBoxModel",
       "_view_count": null,
       "_view_module": "@jupyter-widgets/controls",
       "_view_module_version": "1.5.0",
       "_view_name": "HBoxView",
       "box_style": "",
       "children": [
        "IPY_MODEL_fdcdbba9fae247aa8161634834b6879f",
        "IPY_MODEL_6aade09d6e8e4fcf835f7cafc8512b74",
        "IPY_MODEL_c55aaed584fc4532b9dd8cc49b899c42"
       ],
       "layout": "IPY_MODEL_577ef371a1cd44c9bb83a6d906972a2c"
      }
     },
     "eee843df1de24b64b0b97243d442541a": {
      "model_module": "@jupyter-widgets/controls",
      "model_module_version": "1.5.0",
      "model_name": "DescriptionStyleModel",
      "state": {
       "_model_module": "@jupyter-widgets/controls",
       "_model_module_version": "1.5.0",
       "_model_name": "DescriptionStyleModel",
       "_view_count": null,
       "_view_module": "@jupyter-widgets/base",
       "_view_module_version": "1.2.0",
       "_view_name": "StyleView",
       "description_width": ""
      }
     },
     "ef866a6973124ed796d3c2eab3eb7da4": {
      "model_module": "@jupyter-widgets/base",
      "model_module_version": "1.2.0",
      "model_name": "LayoutModel",
      "state": {
       "_model_module": "@jupyter-widgets/base",
       "_model_module_version": "1.2.0",
       "_model_name": "LayoutModel",
       "_view_count": null,
       "_view_module": "@jupyter-widgets/base",
       "_view_module_version": "1.2.0",
       "_view_name": "LayoutView",
       "align_content": null,
       "align_items": null,
       "align_self": null,
       "border": null,
       "bottom": null,
       "display": null,
       "flex": "2",
       "flex_flow": null,
       "grid_area": null,
       "grid_auto_columns": null,
       "grid_auto_flow": null,
       "grid_auto_rows": null,
       "grid_column": null,
       "grid_gap": null,
       "grid_row": null,
       "grid_template_areas": null,
       "grid_template_columns": null,
       "grid_template_rows": null,
       "height": null,
       "justify_content": null,
       "justify_items": null,
       "left": null,
       "margin": null,
       "max_height": null,
       "max_width": null,
       "min_height": null,
       "min_width": null,
       "object_fit": null,
       "object_position": null,
       "order": null,
       "overflow": null,
       "overflow_x": null,
       "overflow_y": null,
       "padding": null,
       "right": null,
       "top": null,
       "visibility": null,
       "width": null
      }
     },
     "f0cf4aa6d9284c05851519ad7dbf4a35": {
      "model_module": "@jupyter-widgets/controls",
      "model_module_version": "1.5.0",
      "model_name": "HTMLModel",
      "state": {
       "_dom_classes": [],
       "_model_module": "@jupyter-widgets/controls",
       "_model_module_version": "1.5.0",
       "_model_name": "HTMLModel",
       "_view_count": null,
       "_view_module": "@jupyter-widgets/controls",
       "_view_module_version": "1.5.0",
       "_view_name": "HTMLView",
       "description": "",
       "description_tooltip": null,
       "layout": "IPY_MODEL_5931ec3b858848f98ed3b78dfeeb2969",
       "placeholder": "​",
       "style": "IPY_MODEL_dc03fd9bb63349849b99370f0e97c008",
       "value": " 10/? [00:00&lt;00:00, 153.51it/s]"
      }
     },
     "f21f01a5a16643c48ddbcdb69d63e818": {
      "model_module": "@jupyter-widgets/base",
      "model_module_version": "1.2.0",
      "model_name": "LayoutModel",
      "state": {
       "_model_module": "@jupyter-widgets/base",
       "_model_module_version": "1.2.0",
       "_model_name": "LayoutModel",
       "_view_count": null,
       "_view_module": "@jupyter-widgets/base",
       "_view_module_version": "1.2.0",
       "_view_name": "LayoutView",
       "align_content": null,
       "align_items": null,
       "align_self": null,
       "border": null,
       "bottom": null,
       "display": null,
       "flex": "2",
       "flex_flow": null,
       "grid_area": null,
       "grid_auto_columns": null,
       "grid_auto_flow": null,
       "grid_auto_rows": null,
       "grid_column": null,
       "grid_gap": null,
       "grid_row": null,
       "grid_template_areas": null,
       "grid_template_columns": null,
       "grid_template_rows": null,
       "height": null,
       "justify_content": null,
       "justify_items": null,
       "left": null,
       "margin": null,
       "max_height": null,
       "max_width": null,
       "min_height": null,
       "min_width": null,
       "object_fit": null,
       "object_position": null,
       "order": null,
       "overflow": null,
       "overflow_x": null,
       "overflow_y": null,
       "padding": null,
       "right": null,
       "top": null,
       "visibility": null,
       "width": null
      }
     },
     "f3b162bfacdb48bd84ab638b7c64b90d": {
      "model_module": "@jupyter-widgets/controls",
      "model_module_version": "1.5.0",
      "model_name": "HTMLModel",
      "state": {
       "_dom_classes": [],
       "_model_module": "@jupyter-widgets/controls",
       "_model_module_version": "1.5.0",
       "_model_name": "HTMLModel",
       "_view_count": null,
       "_view_module": "@jupyter-widgets/controls",
       "_view_module_version": "1.5.0",
       "_view_name": "HTMLView",
       "description": "",
       "description_tooltip": null,
       "layout": "IPY_MODEL_1d6719551bc64f30b3d8b4f35d05058c",
       "placeholder": "​",
       "style": "IPY_MODEL_ca2108e47f3a4a46beef3cdccfd6621f",
       "value": " 10/? [00:00&lt;00:00, 147.75it/s]"
      }
     },
     "f54f1b72f4de4df29d03723b04364fda": {
      "model_module": "@jupyter-widgets/controls",
      "model_module_version": "1.5.0",
      "model_name": "DescriptionStyleModel",
      "state": {
       "_model_module": "@jupyter-widgets/controls",
       "_model_module_version": "1.5.0",
       "_model_name": "DescriptionStyleModel",
       "_view_count": null,
       "_view_module": "@jupyter-widgets/base",
       "_view_module_version": "1.2.0",
       "_view_name": "StyleView",
       "description_width": ""
      }
     },
     "f577c483ecee49a6842a4d87ee040ef4": {
      "model_module": "@jupyter-widgets/base",
      "model_module_version": "1.2.0",
      "model_name": "LayoutModel",
      "state": {
       "_model_module": "@jupyter-widgets/base",
       "_model_module_version": "1.2.0",
       "_model_name": "LayoutModel",
       "_view_count": null,
       "_view_module": "@jupyter-widgets/base",
       "_view_module_version": "1.2.0",
       "_view_name": "LayoutView",
       "align_content": null,
       "align_items": null,
       "align_self": null,
       "border": null,
       "bottom": null,
       "display": null,
       "flex": "2",
       "flex_flow": null,
       "grid_area": null,
       "grid_auto_columns": null,
       "grid_auto_flow": null,
       "grid_auto_rows": null,
       "grid_column": null,
       "grid_gap": null,
       "grid_row": null,
       "grid_template_areas": null,
       "grid_template_columns": null,
       "grid_template_rows": null,
       "height": null,
       "justify_content": null,
       "justify_items": null,
       "left": null,
       "margin": null,
       "max_height": null,
       "max_width": null,
       "min_height": null,
       "min_width": null,
       "object_fit": null,
       "object_position": null,
       "order": null,
       "overflow": null,
       "overflow_x": null,
       "overflow_y": null,
       "padding": null,
       "right": null,
       "top": null,
       "visibility": null,
       "width": null
      }
     },
     "f613353b1c5746c49fbdea899f58b668": {
      "model_module": "@jupyter-widgets/base",
      "model_module_version": "1.2.0",
      "model_name": "LayoutModel",
      "state": {
       "_model_module": "@jupyter-widgets/base",
       "_model_module_version": "1.2.0",
       "_model_name": "LayoutModel",
       "_view_count": null,
       "_view_module": "@jupyter-widgets/base",
       "_view_module_version": "1.2.0",
       "_view_name": "LayoutView",
       "align_content": null,
       "align_items": null,
       "align_self": null,
       "border": null,
       "bottom": null,
       "display": null,
       "flex": null,
       "flex_flow": null,
       "grid_area": null,
       "grid_auto_columns": null,
       "grid_auto_flow": null,
       "grid_auto_rows": null,
       "grid_column": null,
       "grid_gap": null,
       "grid_row": null,
       "grid_template_areas": null,
       "grid_template_columns": null,
       "grid_template_rows": null,
       "height": null,
       "justify_content": null,
       "justify_items": null,
       "left": null,
       "margin": null,
       "max_height": null,
       "max_width": null,
       "min_height": null,
       "min_width": null,
       "object_fit": null,
       "object_position": null,
       "order": null,
       "overflow": null,
       "overflow_x": null,
       "overflow_y": null,
       "padding": null,
       "right": null,
       "top": null,
       "visibility": null,
       "width": null
      }
     },
     "f653227c4c5c400b9466940dfb45c7c4": {
      "model_module": "@jupyter-widgets/controls",
      "model_module_version": "1.5.0",
      "model_name": "DescriptionStyleModel",
      "state": {
       "_model_module": "@jupyter-widgets/controls",
       "_model_module_version": "1.5.0",
       "_model_name": "DescriptionStyleModel",
       "_view_count": null,
       "_view_module": "@jupyter-widgets/base",
       "_view_module_version": "1.2.0",
       "_view_name": "StyleView",
       "description_width": ""
      }
     },
     "f9bebf0624ba440da4d701fc3375eb91": {
      "model_module": "@jupyter-widgets/controls",
      "model_module_version": "1.5.0",
      "model_name": "DescriptionStyleModel",
      "state": {
       "_model_module": "@jupyter-widgets/controls",
       "_model_module_version": "1.5.0",
       "_model_name": "DescriptionStyleModel",
       "_view_count": null,
       "_view_module": "@jupyter-widgets/base",
       "_view_module_version": "1.2.0",
       "_view_name": "StyleView",
       "description_width": ""
      }
     },
     "fa0bf3522bfc4605b4fb739d8f05a393": {
      "model_module": "@jupyter-widgets/base",
      "model_module_version": "1.2.0",
      "model_name": "LayoutModel",
      "state": {
       "_model_module": "@jupyter-widgets/base",
       "_model_module_version": "1.2.0",
       "_model_name": "LayoutModel",
       "_view_count": null,
       "_view_module": "@jupyter-widgets/base",
       "_view_module_version": "1.2.0",
       "_view_name": "LayoutView",
       "align_content": null,
       "align_items": null,
       "align_self": null,
       "border": null,
       "bottom": null,
       "display": null,
       "flex": null,
       "flex_flow": null,
       "grid_area": null,
       "grid_auto_columns": null,
       "grid_auto_flow": null,
       "grid_auto_rows": null,
       "grid_column": null,
       "grid_gap": null,
       "grid_row": null,
       "grid_template_areas": null,
       "grid_template_columns": null,
       "grid_template_rows": null,
       "height": null,
       "justify_content": null,
       "justify_items": null,
       "left": null,
       "margin": null,
       "max_height": null,
       "max_width": null,
       "min_height": null,
       "min_width": null,
       "object_fit": null,
       "object_position": null,
       "order": null,
       "overflow": null,
       "overflow_x": null,
       "overflow_y": null,
       "padding": null,
       "right": null,
       "top": null,
       "visibility": null,
       "width": null
      }
     },
     "fc00b97fabfb4d24b51ccbd1eabbdd17": {
      "model_module": "@jupyter-widgets/base",
      "model_module_version": "1.2.0",
      "model_name": "LayoutModel",
      "state": {
       "_model_module": "@jupyter-widgets/base",
       "_model_module_version": "1.2.0",
       "_model_name": "LayoutModel",
       "_view_count": null,
       "_view_module": "@jupyter-widgets/base",
       "_view_module_version": "1.2.0",
       "_view_name": "LayoutView",
       "align_content": null,
       "align_items": null,
       "align_self": null,
       "border": null,
       "bottom": null,
       "display": null,
       "flex": null,
       "flex_flow": null,
       "grid_area": null,
       "grid_auto_columns": null,
       "grid_auto_flow": null,
       "grid_auto_rows": null,
       "grid_column": null,
       "grid_gap": null,
       "grid_row": null,
       "grid_template_areas": null,
       "grid_template_columns": null,
       "grid_template_rows": null,
       "height": null,
       "justify_content": null,
       "justify_items": null,
       "left": null,
       "margin": null,
       "max_height": null,
       "max_width": null,
       "min_height": null,
       "min_width": null,
       "object_fit": null,
       "object_position": null,
       "order": null,
       "overflow": null,
       "overflow_x": null,
       "overflow_y": null,
       "padding": null,
       "right": null,
       "top": null,
       "visibility": null,
       "width": null
      }
     },
     "fdcdbba9fae247aa8161634834b6879f": {
      "model_module": "@jupyter-widgets/controls",
      "model_module_version": "1.5.0",
      "model_name": "HTMLModel",
      "state": {
       "_dom_classes": [],
       "_model_module": "@jupyter-widgets/controls",
       "_model_module_version": "1.5.0",
       "_model_name": "HTMLModel",
       "_view_count": null,
       "_view_module": "@jupyter-widgets/controls",
       "_view_module_version": "1.5.0",
       "_view_name": "HTMLView",
       "description": "",
       "description_tooltip": null,
       "layout": "IPY_MODEL_180f5b2b7fdf4c5faef5b002c55ec180",
       "placeholder": "​",
       "style": "IPY_MODEL_be4fe191809b472896ff2044775553ff",
       "value": "Validation DataLoader 0: "
      }
     },
     "fe073b34a26244e4b0973af8163e2043": {
      "model_module": "@jupyter-widgets/controls",
      "model_module_version": "1.5.0",
      "model_name": "HBoxModel",
      "state": {
       "_dom_classes": [],
       "_model_module": "@jupyter-widgets/controls",
       "_model_module_version": "1.5.0",
       "_model_name": "HBoxModel",
       "_view_count": null,
       "_view_module": "@jupyter-widgets/controls",
       "_view_module_version": "1.5.0",
       "_view_name": "HBoxView",
       "box_style": "",
       "children": [
        "IPY_MODEL_866ee9449d9c4b16bf48a720725d5dc0",
        "IPY_MODEL_17cd798611d243e3a347b174e7bf654a",
        "IPY_MODEL_6d1817618a0a478989ca97ededcdd45c"
       ],
       "layout": "IPY_MODEL_5925baba3b37465aa16b5ebcbcf0a5b9"
      }
     },
     "fed05d7d6d384244b5653912b667a3c1": {
      "model_module": "@jupyter-widgets/controls",
      "model_module_version": "1.5.0",
      "model_name": "FloatProgressModel",
      "state": {
       "_dom_classes": [],
       "_model_module": "@jupyter-widgets/controls",
       "_model_module_version": "1.5.0",
       "_model_name": "FloatProgressModel",
       "_view_count": null,
       "_view_module": "@jupyter-widgets/controls",
       "_view_module_version": "1.5.0",
       "_view_name": "ProgressView",
       "bar_style": "",
       "description": "",
       "description_tooltip": null,
       "layout": "IPY_MODEL_32be4abaae5444cb88c54bc7049a3b60",
       "max": 1.0,
       "min": 0.0,
       "orientation": "horizontal",
       "style": "IPY_MODEL_274cd60ccdfb4a2385a5ec841aafb2fc",
       "value": 1.0
      }
     },
     "ff0372c19ddd49c78ab0b1043a13f24c": {
      "model_module": "@jupyter-widgets/base",
      "model_module_version": "1.2.0",
      "model_name": "LayoutModel",
      "state": {
       "_model_module": "@jupyter-widgets/base",
       "_model_module_version": "1.2.0",
       "_model_name": "LayoutModel",
       "_view_count": null,
       "_view_module": "@jupyter-widgets/base",
       "_view_module_version": "1.2.0",
       "_view_name": "LayoutView",
       "align_content": null,
       "align_items": null,
       "align_self": null,
       "border": null,
       "bottom": null,
       "display": null,
       "flex": null,
       "flex_flow": null,
       "grid_area": null,
       "grid_auto_columns": null,
       "grid_auto_flow": null,
       "grid_auto_rows": null,
       "grid_column": null,
       "grid_gap": null,
       "grid_row": null,
       "grid_template_areas": null,
       "grid_template_columns": null,
       "grid_template_rows": null,
       "height": null,
       "justify_content": null,
       "justify_items": null,
       "left": null,
       "margin": null,
       "max_height": null,
       "max_width": null,
       "min_height": null,
       "min_width": null,
       "object_fit": null,
       "object_position": null,
       "order": null,
       "overflow": null,
       "overflow_x": null,
       "overflow_y": null,
       "padding": null,
       "right": null,
       "top": null,
       "visibility": null,
       "width": null
      }
     },
     "ffebbd76f3e34b20ab6363982acfe935": {
      "model_module": "@jupyter-widgets/controls",
      "model_module_version": "1.5.0",
      "model_name": "ProgressStyleModel",
      "state": {
       "_model_module": "@jupyter-widgets/controls",
       "_model_module_version": "1.5.0",
       "_model_name": "ProgressStyleModel",
       "_view_count": null,
       "_view_module": "@jupyter-widgets/base",
       "_view_module_version": "1.2.0",
       "_view_name": "StyleView",
       "bar_color": null,
       "description_width": ""
      }
     }
    },
    "version_major": 2,
    "version_minor": 0
   }
  }
 },
 "nbformat": 4,
 "nbformat_minor": 5
}
